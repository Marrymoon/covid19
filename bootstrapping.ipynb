{
 "cells": [
  {
   "cell_type": "code",
   "execution_count": 1,
   "metadata": {},
   "outputs": [],
   "source": [
    "import random\n",
    "import numpy as np"
   ]
  },
  {
   "cell_type": "code",
   "execution_count": 2,
   "metadata": {},
   "outputs": [],
   "source": [
    "import pandas as pd"
   ]
  },
  {
   "cell_type": "code",
   "execution_count": 3,
   "metadata": {},
   "outputs": [],
   "source": [
    "from bokeh.io import show\n",
    "from bokeh.plotting import figure\n",
    "from bokeh.io import output_notebook\n",
    "from bokeh.layouts import gridplot\n"
   ]
  },
  {
   "cell_type": "code",
   "execution_count": 199,
   "metadata": {},
   "outputs": [
    {
     "name": "stdout",
     "output_type": "stream",
     "text": [
      "true diff is 1.843017996537867\n"
     ]
    },
    {
     "data": {
      "text/html": [
       "\n",
       "\n",
       "\n",
       "\n",
       "\n",
       "\n",
       "  <div class=\"bk-root\" id=\"5b0e0805-ce50-4e0a-a1ac-690220abd854\" data-root-id=\"204097\"></div>\n"
      ]
     },
     "metadata": {},
     "output_type": "display_data"
    },
    {
     "data": {
      "application/javascript": [
       "(function(root) {\n",
       "  function embed_document(root) {\n",
       "    \n",
       "  var docs_json = {\"8a264a89-7f50-4459-b116-2fd11222cde1\":{\"roots\":{\"references\":[{\"attributes\":{\"children\":[{\"id\":\"204096\"},{\"id\":\"204094\"}]},\"id\":\"204097\",\"type\":\"Column\"},{\"attributes\":{\"formatter\":{\"id\":\"204088\"},\"ticker\":{\"id\":\"204050\"}},\"id\":\"204049\",\"type\":\"LinearAxis\"},{\"attributes\":{\"overlay\":{\"id\":\"204025\"}},\"id\":\"204021\",\"type\":\"BoxZoomTool\"},{\"attributes\":{\"bottom_units\":\"screen\",\"fill_alpha\":0.5,\"fill_color\":\"lightgrey\",\"left_units\":\"screen\",\"level\":\"overlay\",\"line_alpha\":1.0,\"line_color\":\"black\",\"line_dash\":[4,4],\"line_width\":2,\"render_mode\":\"css\",\"right_units\":\"screen\",\"top_units\":\"screen\"},\"id\":\"204063\",\"type\":\"BoxAnnotation\"},{\"attributes\":{\"data\":{\"left\":{\"__ndarray__\":\"chOzS7EIOEBxR/j6eTE4QG97PapCWjhAbq+CWQuDOEBt48cI1Ks4QGwXDbic1DhAaktSZ2X9OEBpf5cWLiY5QGiz3MX2TjlAZuchdb93OUA=\",\"dtype\":\"float64\",\"shape\":[10]},\"right\":{\"__ndarray__\":\"cUf4+nkxOEBvez2qQlo4QG6vglkLgzhAbePHCNSrOEBsFw24nNQ4QGpLUmdl/ThAaX+XFi4mOUBos9zF9k45QGbnIXW/dzlAZRtnJIigOUA=\",\"dtype\":\"float64\",\"shape\":[10]},\"top\":{\"__ndarray__\":\"XOk9ZKHsvD/fHSQlXt/QPweeQRtesOQ/2bGm3uQT8j8u/aInKFD6P6Bytdlk/PM/y2ggbqEb6T8Fby4LebHVP/Bh1+TJ47Q//LLhyuS1mT8=\",\"dtype\":\"float64\",\"shape\":[10]}},\"selected\":{\"id\":\"204083\"},\"selection_policy\":{\"id\":\"204082\"}},\"id\":\"204033\",\"type\":\"ColumnDataSource\"},{\"attributes\":{},\"id\":\"204050\",\"type\":\"BasicTicker\"},{\"attributes\":{},\"id\":\"204022\",\"type\":\"SaveTool\"},{\"attributes\":{\"bottom\":{\"value\":0},\"fill_alpha\":{\"value\":0.4},\"fill_color\":{\"value\":\"#1f77b4\"},\"left\":{\"field\":\"left\"},\"line_alpha\":{\"value\":0.4},\"line_color\":{\"value\":\"#1f77b4\"},\"right\":{\"field\":\"right\"},\"top\":{\"field\":\"top\"}},\"id\":\"204034\",\"type\":\"Quad\"},{\"attributes\":{\"axis\":{\"id\":\"204049\"},\"ticker\":null},\"id\":\"204052\",\"type\":\"Grid\"},{\"attributes\":{},\"id\":\"204023\",\"type\":\"ResetTool\"},{\"attributes\":{},\"id\":\"204003\",\"type\":\"DataRange1d\"},{\"attributes\":{\"source\":{\"id\":\"204071\"}},\"id\":\"204075\",\"type\":\"CDSView\"},{\"attributes\":{\"text\":\"Reample 1 with mean of 25.4\"},\"id\":\"204001\",\"type\":\"Title\"},{\"attributes\":{\"formatter\":{\"id\":\"204086\"},\"ticker\":{\"id\":\"204054\"}},\"id\":\"204053\",\"type\":\"LinearAxis\"},{\"attributes\":{},\"id\":\"204024\",\"type\":\"HelpTool\"},{\"attributes\":{\"data_source\":{\"id\":\"204071\"},\"glyph\":{\"id\":\"204072\"},\"hover_glyph\":null,\"muted_glyph\":null,\"nonselection_glyph\":{\"id\":\"204073\"},\"selection_glyph\":null,\"view\":{\"id\":\"204075\"}},\"id\":\"204074\",\"type\":\"GlyphRenderer\"},{\"attributes\":{},\"id\":\"204054\",\"type\":\"BasicTicker\"},{\"attributes\":{\"toolbar\":{\"id\":\"204095\"},\"toolbar_location\":\"above\"},\"id\":\"204096\",\"type\":\"ToolbarBox\"},{\"attributes\":{},\"id\":\"204005\",\"type\":\"DataRange1d\"},{\"attributes\":{\"active_drag\":\"auto\",\"active_inspect\":\"auto\",\"active_multi\":null,\"active_scroll\":\"auto\",\"active_tap\":\"auto\",\"tools\":[{\"id\":\"204019\"},{\"id\":\"204020\"},{\"id\":\"204021\"},{\"id\":\"204022\"},{\"id\":\"204023\"},{\"id\":\"204024\"}]},\"id\":\"204026\",\"type\":\"Toolbar\"},{\"attributes\":{\"axis\":{\"id\":\"204053\"},\"dimension\":1,\"ticker\":null},\"id\":\"204056\",\"type\":\"Grid\"},{\"attributes\":{},\"id\":\"204007\",\"type\":\"LinearScale\"},{\"attributes\":{\"toolbars\":[{\"id\":\"204026\"},{\"id\":\"204064\"}],\"tools\":[{\"id\":\"204019\"},{\"id\":\"204020\"},{\"id\":\"204021\"},{\"id\":\"204022\"},{\"id\":\"204023\"},{\"id\":\"204024\"},{\"id\":\"204057\"},{\"id\":\"204058\"},{\"id\":\"204059\"},{\"id\":\"204060\"},{\"id\":\"204061\"},{\"id\":\"204062\"}]},\"id\":\"204095\",\"type\":\"ProxyToolbar\"},{\"attributes\":{},\"id\":\"204077\",\"type\":\"BasicTickFormatter\"},{\"attributes\":{\"bottom\":{\"value\":0},\"fill_alpha\":{\"value\":0.1},\"fill_color\":{\"value\":\"#1f77b4\"},\"left\":{\"field\":\"left\"},\"line_alpha\":{\"value\":0.1},\"line_color\":{\"value\":\"#1f77b4\"},\"right\":{\"field\":\"right\"},\"top\":{\"field\":\"top\"}},\"id\":\"204073\",\"type\":\"Quad\"},{\"attributes\":{},\"id\":\"204009\",\"type\":\"LinearScale\"},{\"attributes\":{},\"id\":\"204079\",\"type\":\"BasicTickFormatter\"},{\"attributes\":{},\"id\":\"204092\",\"type\":\"Selection\"},{\"attributes\":{\"children\":[[{\"id\":\"204000\"},0,0],[{\"id\":\"204038\"},0,1]]},\"id\":\"204094\",\"type\":\"GridBox\"},{\"attributes\":{\"formatter\":{\"id\":\"204079\"},\"ticker\":{\"id\":\"204012\"}},\"id\":\"204011\",\"type\":\"LinearAxis\"},{\"attributes\":{},\"id\":\"204082\",\"type\":\"UnionRenderers\"},{\"attributes\":{},\"id\":\"204091\",\"type\":\"UnionRenderers\"},{\"attributes\":{\"bottom_units\":\"screen\",\"fill_alpha\":0.5,\"fill_color\":\"lightgrey\",\"left_units\":\"screen\",\"level\":\"overlay\",\"line_alpha\":1.0,\"line_color\":\"black\",\"line_dash\":[4,4],\"line_width\":2,\"render_mode\":\"css\",\"right_units\":\"screen\",\"top_units\":\"screen\"},\"id\":\"204025\",\"type\":\"BoxAnnotation\"},{\"attributes\":{},\"id\":\"204057\",\"type\":\"PanTool\"},{\"attributes\":{},\"id\":\"204012\",\"type\":\"BasicTicker\"},{\"attributes\":{},\"id\":\"204083\",\"type\":\"Selection\"},{\"attributes\":{},\"id\":\"204058\",\"type\":\"WheelZoomTool\"},{\"attributes\":{\"axis\":{\"id\":\"204011\"},\"ticker\":null},\"id\":\"204014\",\"type\":\"Grid\"},{\"attributes\":{\"data_source\":{\"id\":\"204033\"},\"glyph\":{\"id\":\"204034\"},\"hover_glyph\":null,\"muted_glyph\":null,\"nonselection_glyph\":{\"id\":\"204035\"},\"selection_glyph\":null,\"view\":{\"id\":\"204037\"}},\"id\":\"204036\",\"type\":\"GlyphRenderer\"},{\"attributes\":{\"overlay\":{\"id\":\"204063\"}},\"id\":\"204059\",\"type\":\"BoxZoomTool\"},{\"attributes\":{\"formatter\":{\"id\":\"204077\"},\"ticker\":{\"id\":\"204016\"}},\"id\":\"204015\",\"type\":\"LinearAxis\"},{\"attributes\":{\"source\":{\"id\":\"204033\"}},\"id\":\"204037\",\"type\":\"CDSView\"},{\"attributes\":{},\"id\":\"204060\",\"type\":\"SaveTool\"},{\"attributes\":{},\"id\":\"204016\",\"type\":\"BasicTicker\"},{\"attributes\":{\"bottom\":{\"value\":0},\"fill_alpha\":{\"value\":0.4},\"fill_color\":{\"value\":\"#1f77b4\"},\"left\":{\"field\":\"left\"},\"line_alpha\":{\"value\":0.4},\"line_color\":{\"value\":\"#1f77b4\"},\"right\":{\"field\":\"right\"},\"top\":{\"field\":\"top\"}},\"id\":\"204072\",\"type\":\"Quad\"},{\"attributes\":{\"below\":[{\"id\":\"204011\"}],\"center\":[{\"id\":\"204014\"},{\"id\":\"204018\"}],\"left\":[{\"id\":\"204015\"}],\"plot_height\":350,\"plot_width\":350,\"renderers\":[{\"id\":\"204036\"}],\"title\":{\"id\":\"204001\"},\"toolbar\":{\"id\":\"204026\"},\"toolbar_location\":null,\"x_range\":{\"id\":\"204003\"},\"x_scale\":{\"id\":\"204007\"},\"y_range\":{\"id\":\"204005\"},\"y_scale\":{\"id\":\"204009\"}},\"id\":\"204000\",\"subtype\":\"Figure\",\"type\":\"Plot\"},{\"attributes\":{\"below\":[{\"id\":\"204049\"}],\"center\":[{\"id\":\"204052\"},{\"id\":\"204056\"}],\"left\":[{\"id\":\"204053\"}],\"plot_height\":350,\"plot_width\":350,\"renderers\":[{\"id\":\"204074\"}],\"title\":{\"id\":\"204039\"},\"toolbar\":{\"id\":\"204064\"},\"toolbar_location\":null,\"x_range\":{\"id\":\"204041\"},\"x_scale\":{\"id\":\"204045\"},\"y_range\":{\"id\":\"204043\"},\"y_scale\":{\"id\":\"204047\"}},\"id\":\"204038\",\"subtype\":\"Figure\",\"type\":\"Plot\"},{\"attributes\":{},\"id\":\"204061\",\"type\":\"ResetTool\"},{\"attributes\":{\"axis\":{\"id\":\"204015\"},\"dimension\":1,\"ticker\":null},\"id\":\"204018\",\"type\":\"Grid\"},{\"attributes\":{\"text\":\"Resample 2 with mean of 23.5\"},\"id\":\"204039\",\"type\":\"Title\"},{\"attributes\":{},\"id\":\"204062\",\"type\":\"HelpTool\"},{\"attributes\":{\"bottom\":{\"value\":0},\"fill_alpha\":{\"value\":0.1},\"fill_color\":{\"value\":\"#1f77b4\"},\"left\":{\"field\":\"left\"},\"line_alpha\":{\"value\":0.1},\"line_color\":{\"value\":\"#1f77b4\"},\"right\":{\"field\":\"right\"},\"top\":{\"field\":\"top\"}},\"id\":\"204035\",\"type\":\"Quad\"},{\"attributes\":{},\"id\":\"204041\",\"type\":\"DataRange1d\"},{\"attributes\":{\"data\":{\"left\":{\"__ndarray__\":\"BhQ4VUYQN0AEfMKz12E3QAHkTBJpszdA/kvXcPoEOED8s2HPi1Y4QPob7C0dqDhA94N2jK75OED06wDrP0s5QPJTi0nRnDlA8LsVqGLuOUA=\",\"dtype\":\"float64\",\"shape\":[10]},\"right\":{\"__ndarray__\":\"BHzCs9dhN0AB5EwSabM3QP5L13D6BDhA/LNhz4tWOED6G+wtHag4QPeDdoyu+ThA9OsA6z9LOUDyU4tJ0Zw5QPC7Fahi7jlA7SOgBvQ/OkA=\",\"dtype\":\"float64\",\"shape\":[10]},\"top\":{\"__ndarray__\":\"/LLhyuS1iT+uYdfkyeOkP0lvLgt5scU/y2ggbqEb2T8icrXZZPzjP4H9oicoUOo/ErKm3uQT4j8HnkEbXrDUP3YdJCVe38A/tuk9ZKHsrD8=\",\"dtype\":\"float64\",\"shape\":[10]}},\"selected\":{\"id\":\"204092\"},\"selection_policy\":{\"id\":\"204091\"}},\"id\":\"204071\",\"type\":\"ColumnDataSource\"},{\"attributes\":{},\"id\":\"204043\",\"type\":\"DataRange1d\"},{\"attributes\":{\"active_drag\":\"auto\",\"active_inspect\":\"auto\",\"active_multi\":null,\"active_scroll\":\"auto\",\"active_tap\":\"auto\",\"tools\":[{\"id\":\"204057\"},{\"id\":\"204058\"},{\"id\":\"204059\"},{\"id\":\"204060\"},{\"id\":\"204061\"},{\"id\":\"204062\"}]},\"id\":\"204064\",\"type\":\"Toolbar\"},{\"attributes\":{},\"id\":\"204086\",\"type\":\"BasicTickFormatter\"},{\"attributes\":{},\"id\":\"204019\",\"type\":\"PanTool\"},{\"attributes\":{},\"id\":\"204045\",\"type\":\"LinearScale\"},{\"attributes\":{},\"id\":\"204088\",\"type\":\"BasicTickFormatter\"},{\"attributes\":{},\"id\":\"204020\",\"type\":\"WheelZoomTool\"},{\"attributes\":{},\"id\":\"204047\",\"type\":\"LinearScale\"}],\"root_ids\":[\"204097\"]},\"title\":\"Bokeh Application\",\"version\":\"2.0.2\"}};\n",
       "  var render_items = [{\"docid\":\"8a264a89-7f50-4459-b116-2fd11222cde1\",\"root_ids\":[\"204097\"],\"roots\":{\"204097\":\"5b0e0805-ce50-4e0a-a1ac-690220abd854\"}}];\n",
       "  root.Bokeh.embed.embed_items_notebook(docs_json, render_items);\n",
       "\n",
       "  }\n",
       "  if (root.Bokeh !== undefined) {\n",
       "    embed_document(root);\n",
       "  } else {\n",
       "    var attempts = 0;\n",
       "    var timer = setInterval(function(root) {\n",
       "      if (root.Bokeh !== undefined) {\n",
       "        clearInterval(timer);\n",
       "        embed_document(root);\n",
       "      } else {\n",
       "        attempts++;\n",
       "        if (attempts > 100) {\n",
       "          clearInterval(timer);\n",
       "          console.log(\"Bokeh: ERROR: Unable to run BokehJS code because BokehJS library is missing\");\n",
       "        }\n",
       "      }\n",
       "    }, 10, root)\n",
       "  }\n",
       "})(window);"
      ],
      "application/vnd.bokehjs_exec.v0+json": ""
     },
     "metadata": {
      "application/vnd.bokehjs_exec.v0+json": {
       "id": "204097"
      }
     },
     "output_type": "display_data"
    }
   ],
   "source": [
    "\"\"\"This compares two samples. If the samples are drawn from the same population, they will have\n",
    "the same parameters\"\"\"\n",
    "#create first population\n",
    "mean1 = 25\n",
    "sd1 = 3\n",
    "size1 = 40\n",
    "pop1 = [random.gauss(mean1, sd1) for x in range(size1)]\n",
    "\n",
    "# create a second population\n",
    "mean2 = 23\n",
    "sd2 = 3\n",
    "size2 = 20\n",
    "pop2 = [random.gauss(mean2, sd2) for x in range(size2)]\n",
    "# true difference between the two\n",
    "true_diff = np.mean(pop1) - np.mean(pop2)\n",
    "print('true diff is {t}'.format(t = true_diff))\n",
    "# now do sampling\n",
    "\n",
    "# we need to keep track of both statistics\n",
    "mean_sample1 = []\n",
    "mean_sample2 = []\n",
    "both = pop1 + pop2\n",
    "#shuffle things. \n",
    "for i in range(1000):\n",
    "    random.shuffle(both) # randomly shuffle\n",
    "    new_1 = both[0:size1] # new_1 will be a random sample\n",
    "    new_2 = both[size1:] #new_2 will be a random sample\n",
    "    mean_sample1.append(np.mean(new_1)) #add the mean to the list\n",
    "    mean_sample2.append(np.mean(new_2)) #add the mean to the list\n",
    "\n",
    "# make a histogram of our first resampling\n",
    "hist, edges = np.histogram(mean_sample1, bins = 10, density=True)\n",
    "p1 = figure(title = 'Reample 1 with mean of {m}'.format(m = \n",
    "    str(round(np.mean(pop1),1))), width = 350, height = 350)\n",
    "p1.quad(top = hist, bottom=0, left=edges[:-1], right=edges[1:], alpha = .4)\n",
    "# make a historgram of our second resampling\n",
    "hist, edges = np.histogram(mean_sample2, bins = 10, density=True)\n",
    "p2 = figure(title = 'Resample 2 with mean of {m}'.format(\n",
    "    m = str(round(np.mean(pop2),1))), width = 350, height = 350)\n",
    "p2.quad(top = hist, bottom=0, left=edges[:-1], right=edges[1:], alpha = .4)\n",
    "grid = gridplot([p1, p2], ncols = 2)\n",
    "show(grid)"
   ]
  },
  {
   "cell_type": "code",
   "execution_count": 200,
   "metadata": {},
   "outputs": [
    {
     "name": "stdout",
     "output_type": "stream",
     "text": [
      "If the two samples came from the same population, then the samples would have the \n",
      "same parameters. The first sample should have a mean of 25. But it does not. The second sample\n",
      "should have a mean of 23. It does not.\n",
      "\n",
      "In fact, both means are outside what we would expect (calculated below), so we reject the \n",
      "null hypothesis that the samples came from the same population. The differences in means \n",
      "are not due to randomness.\n",
      "\n"
     ]
    }
   ],
   "source": [
    "print(\"\"\"If the two samples came from the same population, then the samples would have the \n",
    "same parameters. The first sample should have a mean of 25. But it does not. The second sample\n",
    "should have a mean of 23. It does not.\n",
    "\n",
    "In fact, both means are outside what we would expect (calculated below), so we reject the \n",
    "null hypothesis that the samples came from the same population. The differences in means \n",
    "are not due to randomness.\n",
    "\"\"\")"
   ]
  },
  {
   "cell_type": "code",
   "execution_count": 201,
   "metadata": {},
   "outputs": [
    {
     "data": {
      "text/html": [
       "\n",
       "\n",
       "\n",
       "\n",
       "\n",
       "\n",
       "  <div class=\"bk-root\" id=\"ae0a06d6-b1ba-4ffe-95cd-d768e22e0ac3\" data-root-id=\"206646\"></div>\n"
      ]
     },
     "metadata": {},
     "output_type": "display_data"
    },
    {
     "data": {
      "application/javascript": [
       "(function(root) {\n",
       "  function embed_document(root) {\n",
       "    \n",
       "  var docs_json = {\"6f7d40d1-91a6-4a0e-8c31-350ced39929d\":{\"roots\":{\"references\":[{\"attributes\":{\"children\":[{\"id\":\"206645\"},{\"id\":\"206643\"}]},\"id\":\"206646\",\"type\":\"Column\"},{\"attributes\":{},\"id\":\"206552\",\"type\":\"DataRange1d\"},{\"attributes\":{},\"id\":\"206607\",\"type\":\"WheelZoomTool\"},{\"attributes\":{},\"id\":\"206571\",\"type\":\"SaveTool\"},{\"attributes\":{\"overlay\":{\"id\":\"206612\"}},\"id\":\"206608\",\"type\":\"BoxZoomTool\"},{\"attributes\":{},\"id\":\"206609\",\"type\":\"SaveTool\"},{\"attributes\":{\"active_drag\":\"auto\",\"active_inspect\":\"auto\",\"active_multi\":null,\"active_scroll\":\"auto\",\"active_tap\":\"auto\",\"tools\":[{\"id\":\"206568\"},{\"id\":\"206569\"},{\"id\":\"206570\"},{\"id\":\"206571\"},{\"id\":\"206572\"},{\"id\":\"206573\"}]},\"id\":\"206575\",\"type\":\"Toolbar\"},{\"attributes\":{\"data_source\":{\"id\":\"206582\"},\"glyph\":{\"id\":\"206583\"},\"hover_glyph\":null,\"muted_glyph\":null,\"nonselection_glyph\":{\"id\":\"206584\"},\"selection_glyph\":null,\"view\":{\"id\":\"206586\"}},\"id\":\"206585\",\"type\":\"GlyphRenderer\"},{\"attributes\":{\"text\":\"Resamaple Pop 1\"},\"id\":\"206550\",\"type\":\"Title\"},{\"attributes\":{\"source\":{\"id\":\"206582\"}},\"id\":\"206586\",\"type\":\"CDSView\"},{\"attributes\":{},\"id\":\"206637\",\"type\":\"BasicTickFormatter\"},{\"attributes\":{\"children\":[[{\"id\":\"206549\"},0,0],[{\"id\":\"206587\"},0,1]]},\"id\":\"206643\",\"type\":\"GridBox\"},{\"attributes\":{\"formatter\":{\"id\":\"206628\"},\"ticker\":{\"id\":\"206561\"}},\"id\":\"206560\",\"type\":\"LinearAxis\"},{\"attributes\":{\"bottom\":{\"value\":0},\"fill_alpha\":{\"value\":0.4},\"fill_color\":{\"value\":\"#1f77b4\"},\"left\":{\"field\":\"left\"},\"line_alpha\":{\"value\":0.4},\"line_color\":{\"value\":\"#1f77b4\"},\"right\":{\"field\":\"right\"},\"top\":{\"field\":\"top\"}},\"id\":\"206621\",\"type\":\"Quad\"},{\"attributes\":{\"data_source\":{\"id\":\"206620\"},\"glyph\":{\"id\":\"206621\"},\"hover_glyph\":null,\"muted_glyph\":null,\"nonselection_glyph\":{\"id\":\"206622\"},\"selection_glyph\":null,\"view\":{\"id\":\"206624\"}},\"id\":\"206623\",\"type\":\"GlyphRenderer\"},{\"attributes\":{\"formatter\":{\"id\":\"206635\"},\"ticker\":{\"id\":\"206603\"}},\"id\":\"206602\",\"type\":\"LinearAxis\"},{\"attributes\":{\"source\":{\"id\":\"206620\"}},\"id\":\"206624\",\"type\":\"CDSView\"},{\"attributes\":{},\"id\":\"206554\",\"type\":\"DataRange1d\"},{\"attributes\":{},\"id\":\"206569\",\"type\":\"WheelZoomTool\"},{\"attributes\":{\"toolbars\":[{\"id\":\"206575\"},{\"id\":\"206613\"}],\"tools\":[{\"id\":\"206568\"},{\"id\":\"206569\"},{\"id\":\"206570\"},{\"id\":\"206571\"},{\"id\":\"206572\"},{\"id\":\"206573\"},{\"id\":\"206606\"},{\"id\":\"206607\"},{\"id\":\"206608\"},{\"id\":\"206609\"},{\"id\":\"206610\"},{\"id\":\"206611\"}]},\"id\":\"206644\",\"type\":\"ProxyToolbar\"},{\"attributes\":{\"text\":\"Resample Pop 2\"},\"id\":\"206588\",\"type\":\"Title\"},{\"attributes\":{\"formatter\":{\"id\":\"206626\"},\"ticker\":{\"id\":\"206565\"}},\"id\":\"206564\",\"type\":\"LinearAxis\"},{\"attributes\":{},\"id\":\"206590\",\"type\":\"DataRange1d\"},{\"attributes\":{\"bottom_units\":\"screen\",\"fill_alpha\":0.5,\"fill_color\":\"lightgrey\",\"left_units\":\"screen\",\"level\":\"overlay\",\"line_alpha\":1.0,\"line_color\":\"black\",\"line_dash\":[4,4],\"line_width\":2,\"render_mode\":\"css\",\"right_units\":\"screen\",\"top_units\":\"screen\"},\"id\":\"206612\",\"type\":\"BoxAnnotation\"},{\"attributes\":{\"data\":{\"left\":{\"__ndarray__\":\"gJdTXKG9zr9MMHNzk7K0v2jOwNEbFrQ/jmZ6i2Vvzj/0MgqX3mnZP1CZKzQFzuE/JxnSHBvn5j/+mHgFMQDsP2qMD3ejjPA/Vcxiay4Z8z8=\",\"dtype\":\"float64\",\"shape\":[10]},\"right\":{\"__ndarray__\":\"TDBzc5OytL9ozsDRGxa0P45meotlb84/9DIKl95p2T9QmSs0Bc7hPycZ0hwb5+Y//ph4BTEA7D9qjA93o4zwP1XMYmsuGfM/QAy2X7ml9T8=\",\"dtype\":\"float64\",\"shape\":[10]},\"top\":{\"__ndarray__\":\"LLPhyuS1mT+TYdfkyeO0Py1vLgt5sdU/+WggbqEb6T9KcrXZZPzzP1z9oicoUPo/+bGm3uQT8j8vnkEbXrDkP5cdJCVe39A/lOk9ZKHsvD8=\",\"dtype\":\"float64\",\"shape\":[10]}},\"selected\":{\"id\":\"206632\"},\"selection_policy\":{\"id\":\"206631\"}},\"id\":\"206582\",\"type\":\"ColumnDataSource\"},{\"attributes\":{},\"id\":\"206592\",\"type\":\"DataRange1d\"},{\"attributes\":{},\"id\":\"206596\",\"type\":\"LinearScale\"},{\"attributes\":{\"below\":[{\"id\":\"206560\"}],\"center\":[{\"id\":\"206563\"},{\"id\":\"206567\"}],\"left\":[{\"id\":\"206564\"}],\"plot_height\":350,\"plot_width\":350,\"renderers\":[{\"id\":\"206585\"}],\"title\":{\"id\":\"206550\"},\"toolbar\":{\"id\":\"206575\"},\"toolbar_location\":null,\"x_range\":{\"id\":\"206552\"},\"x_scale\":{\"id\":\"206556\"},\"y_range\":{\"id\":\"206554\"},\"y_scale\":{\"id\":\"206558\"}},\"id\":\"206549\",\"subtype\":\"Figure\",\"type\":\"Plot\"},{\"attributes\":{\"bottom\":{\"value\":0},\"fill_alpha\":{\"value\":0.1},\"fill_color\":{\"value\":\"#1f77b4\"},\"left\":{\"field\":\"left\"},\"line_alpha\":{\"value\":0.1},\"line_color\":{\"value\":\"#1f77b4\"},\"right\":{\"field\":\"right\"},\"top\":{\"field\":\"top\"}},\"id\":\"206584\",\"type\":\"Quad\"},{\"attributes\":{},\"id\":\"206594\",\"type\":\"LinearScale\"},{\"attributes\":{},\"id\":\"206565\",\"type\":\"BasicTicker\"},{\"attributes\":{\"formatter\":{\"id\":\"206637\"},\"ticker\":{\"id\":\"206599\"}},\"id\":\"206598\",\"type\":\"LinearAxis\"},{\"attributes\":{},\"id\":\"206561\",\"type\":\"BasicTicker\"},{\"attributes\":{},\"id\":\"206641\",\"type\":\"Selection\"},{\"attributes\":{},\"id\":\"206635\",\"type\":\"BasicTickFormatter\"},{\"attributes\":{},\"id\":\"206599\",\"type\":\"BasicTicker\"},{\"attributes\":{},\"id\":\"206568\",\"type\":\"PanTool\"},{\"attributes\":{},\"id\":\"206558\",\"type\":\"LinearScale\"},{\"attributes\":{\"toolbar\":{\"id\":\"206644\"},\"toolbar_location\":\"above\"},\"id\":\"206645\",\"type\":\"ToolbarBox\"},{\"attributes\":{\"overlay\":{\"id\":\"206574\"}},\"id\":\"206570\",\"type\":\"BoxZoomTool\"},{\"attributes\":{\"axis\":{\"id\":\"206598\"},\"ticker\":null},\"id\":\"206601\",\"type\":\"Grid\"},{\"attributes\":{},\"id\":\"206603\",\"type\":\"BasicTicker\"},{\"attributes\":{},\"id\":\"206632\",\"type\":\"Selection\"},{\"attributes\":{},\"id\":\"206626\",\"type\":\"BasicTickFormatter\"},{\"attributes\":{},\"id\":\"206611\",\"type\":\"HelpTool\"},{\"attributes\":{},\"id\":\"206573\",\"type\":\"HelpTool\"},{\"attributes\":{\"active_drag\":\"auto\",\"active_inspect\":\"auto\",\"active_multi\":null,\"active_scroll\":\"auto\",\"active_tap\":\"auto\",\"tools\":[{\"id\":\"206606\"},{\"id\":\"206607\"},{\"id\":\"206608\"},{\"id\":\"206609\"},{\"id\":\"206610\"},{\"id\":\"206611\"}]},\"id\":\"206613\",\"type\":\"Toolbar\"},{\"attributes\":{},\"id\":\"206556\",\"type\":\"LinearScale\"},{\"attributes\":{},\"id\":\"206628\",\"type\":\"BasicTickFormatter\"},{\"attributes\":{\"data\":{\"left\":{\"__ndarray__\":\"OAy2X7mlBcBMzGJrLhkDwGCMD3ejjADA6Jh4BTEA/L8QGdIcG+f2vziZKzQFzvG/wDIKl95p6b8gZnqLZW/ev4DNwNEbFsS/QDFzc5OyxD8=\",\"dtype\":\"float64\",\"shape\":[10]},\"right\":{\"__ndarray__\":\"TMxiay4ZA8BgjA93o4wAwOiYeAUxAPy/EBnSHBvn9r84mSs0Bc7xv8AyCpfeaem/IGZ6i2Vv3r+AzcDRGxbEv0Axc3OTssQ/AJhTXKG93j8=\",\"dtype\":\"float64\",\"shape\":[10]},\"top\":{\"__ndarray__\":\"iek9ZKHsrD+QHSQlXt/APyieQRtesNQ/9rGm3uQT4j9X/aInKFDqP0Jytdlk/OM/8mggbqEb2T8nby4LebHFP41h1+TJ46Q/JbPhyuS1iT8=\",\"dtype\":\"float64\",\"shape\":[10]}},\"selected\":{\"id\":\"206641\"},\"selection_policy\":{\"id\":\"206640\"}},\"id\":\"206620\",\"type\":\"ColumnDataSource\"},{\"attributes\":{\"bottom\":{\"value\":0},\"fill_alpha\":{\"value\":0.1},\"fill_color\":{\"value\":\"#1f77b4\"},\"left\":{\"field\":\"left\"},\"line_alpha\":{\"value\":0.1},\"line_color\":{\"value\":\"#1f77b4\"},\"right\":{\"field\":\"right\"},\"top\":{\"field\":\"top\"}},\"id\":\"206622\",\"type\":\"Quad\"},{\"attributes\":{\"axis\":{\"id\":\"206560\"},\"ticker\":null},\"id\":\"206563\",\"type\":\"Grid\"},{\"attributes\":{},\"id\":\"206640\",\"type\":\"UnionRenderers\"},{\"attributes\":{\"bottom_units\":\"screen\",\"fill_alpha\":0.5,\"fill_color\":\"lightgrey\",\"left_units\":\"screen\",\"level\":\"overlay\",\"line_alpha\":1.0,\"line_color\":\"black\",\"line_dash\":[4,4],\"line_width\":2,\"render_mode\":\"css\",\"right_units\":\"screen\",\"top_units\":\"screen\"},\"id\":\"206574\",\"type\":\"BoxAnnotation\"},{\"attributes\":{\"axis\":{\"id\":\"206564\"},\"dimension\":1,\"ticker\":null},\"id\":\"206567\",\"type\":\"Grid\"},{\"attributes\":{},\"id\":\"206572\",\"type\":\"ResetTool\"},{\"attributes\":{\"bottom\":{\"value\":0},\"fill_alpha\":{\"value\":0.4},\"fill_color\":{\"value\":\"#1f77b4\"},\"left\":{\"field\":\"left\"},\"line_alpha\":{\"value\":0.4},\"line_color\":{\"value\":\"#1f77b4\"},\"right\":{\"field\":\"right\"},\"top\":{\"field\":\"top\"}},\"id\":\"206583\",\"type\":\"Quad\"},{\"attributes\":{\"below\":[{\"id\":\"206598\"}],\"center\":[{\"id\":\"206601\"},{\"id\":\"206605\"}],\"left\":[{\"id\":\"206602\"}],\"plot_height\":350,\"plot_width\":350,\"renderers\":[{\"id\":\"206623\"}],\"title\":{\"id\":\"206588\"},\"toolbar\":{\"id\":\"206613\"},\"toolbar_location\":null,\"x_range\":{\"id\":\"206590\"},\"x_scale\":{\"id\":\"206594\"},\"y_range\":{\"id\":\"206592\"},\"y_scale\":{\"id\":\"206596\"}},\"id\":\"206587\",\"subtype\":\"Figure\",\"type\":\"Plot\"},{\"attributes\":{\"axis\":{\"id\":\"206602\"},\"dimension\":1,\"ticker\":null},\"id\":\"206605\",\"type\":\"Grid\"},{\"attributes\":{},\"id\":\"206610\",\"type\":\"ResetTool\"},{\"attributes\":{},\"id\":\"206631\",\"type\":\"UnionRenderers\"},{\"attributes\":{},\"id\":\"206606\",\"type\":\"PanTool\"}],\"root_ids\":[\"206646\"]},\"title\":\"Bokeh Application\",\"version\":\"2.0.2\"}};\n",
       "  var render_items = [{\"docid\":\"6f7d40d1-91a6-4a0e-8c31-350ced39929d\",\"root_ids\":[\"206646\"],\"roots\":{\"206646\":\"ae0a06d6-b1ba-4ffe-95cd-d768e22e0ac3\"}}];\n",
       "  root.Bokeh.embed.embed_items_notebook(docs_json, render_items);\n",
       "\n",
       "  }\n",
       "  if (root.Bokeh !== undefined) {\n",
       "    embed_document(root);\n",
       "  } else {\n",
       "    var attempts = 0;\n",
       "    var timer = setInterval(function(root) {\n",
       "      if (root.Bokeh !== undefined) {\n",
       "        clearInterval(timer);\n",
       "        embed_document(root);\n",
       "      } else {\n",
       "        attempts++;\n",
       "        if (attempts > 100) {\n",
       "          clearInterval(timer);\n",
       "          console.log(\"Bokeh: ERROR: Unable to run BokehJS code because BokehJS library is missing\");\n",
       "        }\n",
       "      }\n",
       "    }, 10, root)\n",
       "  }\n",
       "})(window);"
      ],
      "application/vnd.bokehjs_exec.v0+json": ""
     },
     "metadata": {
      "application/vnd.bokehjs_exec.v0+json": {
       "id": "206646"
      }
     },
     "output_type": "display_data"
    },
    {
     "name": "stdout",
     "output_type": "stream",
     "text": [
      "We have refactored the same data to show the differences between the sample\n",
      "mean, and the resample mean. The shape of the histograms is exactly the same\n",
      "as above, but with the X axis showing the difference between the mean and the \n",
      "means we got from resampling.\n",
      "\n",
      "Note that in both cases, the differences from 0 is very rare, showing we should reject\n",
      "the null hypothesis.\n",
      "\n"
     ]
    }
   ],
   "source": [
    "#calculate difference of population and resample\n",
    "diff1 = [np.mean(pop1 )- x for x in mean_sample1]\n",
    "diff2 = [np.mean(pop2) - x for x in mean_sample2]\n",
    "p1 = do_hist(diff1, title = 'Resamaple Pop 1')\n",
    "p2 = do_hist(diff2, title = 'Resample Pop 2')\n",
    "grid = gridplot([p1, p2], ncols = 2)\n",
    "show(grid)\n",
    "print(\"\"\"We have refactored the same data to show the differences between the sample\n",
    "mean, and the resample mean. The shape of the histograms is exactly the same\n",
    "as above, but with the X axis showing the difference between the mean and the \n",
    "means we got from resampling.\n",
    "\n",
    "Note that in both cases, the differences from 0 is very rare, showing we should reject\n",
    "the null hypothesis.\n",
    "\"\"\")"
   ]
  },
  {
   "cell_type": "code",
   "execution_count": 202,
   "metadata": {},
   "outputs": [
    {
     "name": "stdout",
     "output_type": "stream",
     "text": [
      "0.007 0.007 0.007 0.007\n",
      "\n",
      "P Value is the probability that the data would occurr, if the null hypothesis\n",
      "were true. We see low P Values. So the probability that these two samples \n",
      "were drawn from the same population is low. \n"
     ]
    }
   ],
   "source": [
    "#p valaues\n",
    "# calculate how many times the mean in the resample exceeds or is less than the \n",
    "# sample mean\n",
    "# number of times resample1 greater than sample mean 1\n",
    "p_value1 = len([x for x in mean_sample1 if x > np.mean(pop1)])/len(mean_sample1)\n",
    "# number of times resample 2 is greater than sample mean 2\n",
    "p_value2 = len([x for x in mean_sample2 if x < np.mean(pop2)])/len(mean_sample1)\n",
    "# number of times difference between resample 1 and mean 1 is greater than 0\n",
    "p_value3 = len([x for x in diff1 if x < 0])/len(diff1)\n",
    "# number of times difference between resample 2 and mean 2 is less than 0\n",
    "p_value4 = len([x for x in diff2 if x > 0])/len(diff2)\n",
    "\n",
    "print(p_value1, p_value2, p_value3, p_value4)\n",
    "print(\"\"\"\\nP Value is the probability that the data would occurr, if the null hypothesis\n",
    "were true. We see low P Values. So the probability that these two samples \n",
    "were drawn from the same population is low. \"\"\")\n"
   ]
  },
  {
   "cell_type": "code",
   "execution_count": 203,
   "metadata": {},
   "outputs": [
    {
     "data": {
      "text/html": [
       "\n",
       "\n",
       "\n",
       "\n",
       "\n",
       "\n",
       "  <div class=\"bk-root\" id=\"6d0fe3f2-9170-4d66-b603-23bfcf3d858b\" data-root-id=\"209114\"></div>\n"
      ]
     },
     "metadata": {},
     "output_type": "display_data"
    },
    {
     "data": {
      "application/javascript": [
       "(function(root) {\n",
       "  function embed_document(root) {\n",
       "    \n",
       "  var docs_json = {\"5f3e2fd8-c39d-423b-bab0-30e28b1d2760\":{\"roots\":{\"references\":[{\"attributes\":{\"below\":[{\"id\":\"209124\"}],\"center\":[{\"id\":\"209127\"},{\"id\":\"209131\"}],\"left\":[{\"id\":\"209128\"}],\"plot_height\":350,\"plot_width\":350,\"renderers\":[{\"id\":\"209149\"}],\"title\":null,\"toolbar\":{\"id\":\"209139\"},\"x_range\":{\"id\":\"209116\"},\"x_scale\":{\"id\":\"209120\"},\"y_range\":{\"id\":\"209118\"},\"y_scale\":{\"id\":\"209122\"}},\"id\":\"209114\",\"subtype\":\"Figure\",\"type\":\"Plot\"},{\"attributes\":{},\"id\":\"209132\",\"type\":\"PanTool\"},{\"attributes\":{},\"id\":\"211525\",\"type\":\"BasicTickFormatter\"},{\"attributes\":{},\"id\":\"211528\",\"type\":\"UnionRenderers\"},{\"attributes\":{},\"id\":\"211529\",\"type\":\"Selection\"},{\"attributes\":{\"data\":{\"left\":{\"__ndarray__\":\"4LE+BTkO579mySwt3QvPv7Q0obopIc4/tMybKIzT5j8dpkfxZg/zP+BlQc4Htfo/0pKdVVQtAUCzchrEJAAFQJVSlzL10ghAdjIUocWlDEA=\",\"dtype\":\"float64\",\"shape\":[10]},\"right\":{\"__ndarray__\":\"ZsksLd0Lz7+0NKG6KSHOP7TMmyiM0+Y/HaZH8WYP8z/gZUHOB7X6P9KSnVVULQFAs3IaxCQABUCVUpcy9dIIQHYyFKHFpQxALInIB0s8EEA=\",\"dtype\":\"float64\",\"shape\":[10]},\"top\":{\"__ndarray__\":\"cHeW3O0jgT8WgnSGYtqbP4vpPWSh7Lw/pPBqSRa90D+w7fHM26XaPzr+wW/FiuE/+ZczfoYa2D80KALP0pXLP8Z8hTEof7Y/W0YpmGtIoz8=\",\"dtype\":\"float64\",\"shape\":[10]}},\"selected\":{\"id\":\"211529\"},\"selection_policy\":{\"id\":\"211528\"}},\"id\":\"209146\",\"type\":\"ColumnDataSource\"},{\"attributes\":{\"formatter\":{\"id\":\"211525\"},\"ticker\":{\"id\":\"209125\"}},\"id\":\"209124\",\"type\":\"LinearAxis\"},{\"attributes\":{\"bottom\":{\"value\":0},\"fill_alpha\":{\"value\":0.4},\"fill_color\":{\"value\":\"#1f77b4\"},\"left\":{\"field\":\"left\"},\"line_alpha\":{\"value\":0.4},\"line_color\":{\"value\":\"#1f77b4\"},\"right\":{\"field\":\"right\"},\"top\":{\"field\":\"top\"}},\"id\":\"209147\",\"type\":\"Quad\"},{\"attributes\":{\"overlay\":{\"id\":\"209138\"}},\"id\":\"209134\",\"type\":\"BoxZoomTool\"},{\"attributes\":{\"bottom\":{\"value\":0},\"fill_alpha\":{\"value\":0.1},\"fill_color\":{\"value\":\"#1f77b4\"},\"left\":{\"field\":\"left\"},\"line_alpha\":{\"value\":0.1},\"line_color\":{\"value\":\"#1f77b4\"},\"right\":{\"field\":\"right\"},\"top\":{\"field\":\"top\"}},\"id\":\"209148\",\"type\":\"Quad\"},{\"attributes\":{\"axis\":{\"id\":\"209128\"},\"dimension\":1,\"ticker\":null},\"id\":\"209131\",\"type\":\"Grid\"},{\"attributes\":{},\"id\":\"209122\",\"type\":\"LinearScale\"},{\"attributes\":{},\"id\":\"209120\",\"type\":\"LinearScale\"},{\"attributes\":{\"axis\":{\"id\":\"209124\"},\"ticker\":null},\"id\":\"209127\",\"type\":\"Grid\"},{\"attributes\":{},\"id\":\"209116\",\"type\":\"DataRange1d\"},{\"attributes\":{},\"id\":\"211523\",\"type\":\"BasicTickFormatter\"},{\"attributes\":{},\"id\":\"209118\",\"type\":\"DataRange1d\"},{\"attributes\":{\"formatter\":{\"id\":\"211523\"},\"ticker\":{\"id\":\"209129\"}},\"id\":\"209128\",\"type\":\"LinearAxis\"},{\"attributes\":{},\"id\":\"209136\",\"type\":\"ResetTool\"},{\"attributes\":{\"data_source\":{\"id\":\"209146\"},\"glyph\":{\"id\":\"209147\"},\"hover_glyph\":null,\"muted_glyph\":null,\"nonselection_glyph\":{\"id\":\"209148\"},\"selection_glyph\":null,\"view\":{\"id\":\"209150\"}},\"id\":\"209149\",\"type\":\"GlyphRenderer\"},{\"attributes\":{},\"id\":\"209129\",\"type\":\"BasicTicker\"},{\"attributes\":{},\"id\":\"209135\",\"type\":\"SaveTool\"},{\"attributes\":{},\"id\":\"209133\",\"type\":\"WheelZoomTool\"},{\"attributes\":{\"bottom_units\":\"screen\",\"fill_alpha\":0.5,\"fill_color\":\"lightgrey\",\"left_units\":\"screen\",\"level\":\"overlay\",\"line_alpha\":1.0,\"line_color\":\"black\",\"line_dash\":[4,4],\"line_width\":2,\"render_mode\":\"css\",\"right_units\":\"screen\",\"top_units\":\"screen\"},\"id\":\"209138\",\"type\":\"BoxAnnotation\"},{\"attributes\":{\"source\":{\"id\":\"209146\"}},\"id\":\"209150\",\"type\":\"CDSView\"},{\"attributes\":{},\"id\":\"209137\",\"type\":\"HelpTool\"},{\"attributes\":{},\"id\":\"209125\",\"type\":\"BasicTicker\"},{\"attributes\":{\"active_drag\":\"auto\",\"active_inspect\":\"auto\",\"active_multi\":null,\"active_scroll\":\"auto\",\"active_tap\":\"auto\",\"tools\":[{\"id\":\"209132\"},{\"id\":\"209133\"},{\"id\":\"209134\"},{\"id\":\"209135\"},{\"id\":\"209136\"},{\"id\":\"209137\"}]},\"id\":\"209139\",\"type\":\"Toolbar\"}],\"root_ids\":[\"209114\"]},\"title\":\"Bokeh Application\",\"version\":\"2.0.2\"}};\n",
       "  var render_items = [{\"docid\":\"5f3e2fd8-c39d-423b-bab0-30e28b1d2760\",\"root_ids\":[\"209114\"],\"roots\":{\"209114\":\"6d0fe3f2-9170-4d66-b603-23bfcf3d858b\"}}];\n",
       "  root.Bokeh.embed.embed_items_notebook(docs_json, render_items);\n",
       "\n",
       "  }\n",
       "  if (root.Bokeh !== undefined) {\n",
       "    embed_document(root);\n",
       "  } else {\n",
       "    var attempts = 0;\n",
       "    var timer = setInterval(function(root) {\n",
       "      if (root.Bokeh !== undefined) {\n",
       "        clearInterval(timer);\n",
       "        embed_document(root);\n",
       "      } else {\n",
       "        attempts++;\n",
       "        if (attempts > 100) {\n",
       "          clearInterval(timer);\n",
       "          console.log(\"Bokeh: ERROR: Unable to run BokehJS code because BokehJS library is missing\");\n",
       "        }\n",
       "      }\n",
       "    }, 10, root)\n",
       "  }\n",
       "})(window);"
      ],
      "application/vnd.bokehjs_exec.v0+json": ""
     },
     "metadata": {
      "application/vnd.bokehjs_exec.v0+json": {
       "id": "209114"
      }
     },
     "output_type": "display_data"
    },
    {
     "name": "stdout",
     "output_type": "stream",
     "text": [
      "The P(A > B) is 0.993\n"
     ]
    }
   ],
   "source": [
    "#do together\n",
    "both = np.array(diff1) - np.array(diff2)\n",
    "# the p value that sample a > sample b\n",
    "p_both = len([x for x in both if x > 0])/len(both)\n",
    "show(do_hist(both))\n",
    "print(\"The P(A > B) is {p}\".format(p = p_both))"
   ]
  },
  {
   "cell_type": "code",
   "execution_count": 240,
   "metadata": {},
   "outputs": [
    {
     "data": {
      "text/plain": [
       "1.0"
      ]
     },
     "execution_count": 240,
     "metadata": {},
     "output_type": "execute_result"
    }
   ],
   "source": [
    "\"\"\"Make  functiond\"\"\"\n",
    "def resample_two_samples(sample1, sample2, num_iterations = 100):\n",
    "    both = sample1 + sample2\n",
    "    mean1 = []\n",
    "    mean2 = []\n",
    "    for i in range(num_iterations):\n",
    "        random.shuffle(both) \n",
    "        new_1 = both[0:len(sample1)] \n",
    "        new_2 = both[len(sample1):] \n",
    "        mean1.append(np.mean(new_1)) \n",
    "        mean2.append(np.mean(new_2)) \n",
    "    return mean1, mean2\n",
    "\n",
    "def combine_resamples(sample1, sample2, resample1, resample2):\n",
    "    \"\"\"\n",
    "    combines the results of the resampling into an numpy array \n",
    "    that represents the differences between the sample means \n",
    "    and resample means.\n",
    "    parameters:\n",
    "       sample1: list of the original sample 1\n",
    "       sample2: list of the original sample 2\n",
    "       resample1: results of resampling sample 1\n",
    "       resample2: result of resampling sample2\n",
    "    returns:\n",
    "        numpy array of the differences. the if loop makes sure that \n",
    "        the resulting array is always positive, so you can calculate the\n",
    "        probability of the differences being > 0\n",
    "    \n",
    "    Example:\n",
    "       sample1 is a sample in inches of students, [60, 59, 61.....]\n",
    "       sample2 is a sample in inches of students, [72, 71, 70]\n",
    "       resample1 is [63, 61, 60...]\n",
    "       resamle2 is [63, 60, 59..]\n",
    "       \n",
    "       return [1, 2, 1, .5....]\n",
    "       \n",
    "       \n",
    "    \"\"\"\n",
    "    diff1 = [np.mean(sample1 )- x for x in resample1]\n",
    "    diff2 = [np.mean(sample2)- x for x in resample2]\n",
    "    if np.mean(diff1) > np.mean(diff2):\n",
    "        both = np.array(diff1) - np.array(diff2)\n",
    "    elif np.mean(diff1) < np.mean(diff2):\n",
    "        both = np.array(diff2) - np.array(diff1)\n",
    "    else:\n",
    "        #seriously? The same??\n",
    "        both = np.array(diff2) - np.array(diff1)\n",
    "    return both\n",
    "\n",
    "def get_p_value(l, v = 0):\n",
    "    p = 1 - len([x for x in l if x > v])/len(l)\n",
    "    return p\n",
    "    \n",
    "\n",
    "# let's test\n",
    "a, b = resample_two_samples(pop1, pop2)\n",
    "# want to combine\n",
    "both = combine_resamples(pop1, pop2, a, b)\n",
    "get_p_value(both, 5)"
   ]
  },
  {
   "cell_type": "code",
   "execution_count": 231,
   "metadata": {},
   "outputs": [
    {
     "name": "stdout",
     "output_type": "stream",
     "text": [
      "mean of pop3 is 60.07979882302005\n"
     ]
    },
    {
     "data": {
      "text/html": [
       "\n",
       "\n",
       "\n",
       "\n",
       "\n",
       "\n",
       "  <div class=\"bk-root\" id=\"373e6875-e835-4f36-a7fa-1a46e5b7266a\" data-root-id=\"238181\"></div>\n"
      ]
     },
     "metadata": {},
     "output_type": "display_data"
    },
    {
     "data": {
      "application/javascript": [
       "(function(root) {\n",
       "  function embed_document(root) {\n",
       "    \n",
       "  var docs_json = {\"62c368d2-8b3b-4a99-8301-f8f9b7df46b2\":{\"roots\":{\"references\":[{\"attributes\":{\"children\":[{\"id\":\"238180\"},{\"id\":\"238178\"}]},\"id\":\"238181\",\"type\":\"Column\"},{\"attributes\":{\"axis\":{\"id\":\"238095\"},\"ticker\":null},\"id\":\"238098\",\"type\":\"Grid\"},{\"attributes\":{\"bottom\":{\"value\":0},\"fill_alpha\":{\"value\":0.1},\"fill_color\":{\"value\":\"#1f77b4\"},\"left\":{\"field\":\"left\"},\"line_alpha\":{\"value\":0.1},\"line_color\":{\"value\":\"#1f77b4\"},\"right\":{\"field\":\"right\"},\"top\":{\"field\":\"top\"}},\"id\":\"238157\",\"type\":\"Quad\"},{\"attributes\":{\"formatter\":{\"id\":\"238172\"},\"ticker\":{\"id\":\"238134\"}},\"id\":\"238133\",\"type\":\"LinearAxis\"},{\"attributes\":{},\"id\":\"238103\",\"type\":\"PanTool\"},{\"attributes\":{\"bottom_units\":\"screen\",\"fill_alpha\":0.5,\"fill_color\":\"lightgrey\",\"left_units\":\"screen\",\"level\":\"overlay\",\"line_alpha\":1.0,\"line_color\":\"black\",\"line_dash\":[4,4],\"line_width\":2,\"render_mode\":\"css\",\"right_units\":\"screen\",\"top_units\":\"screen\"},\"id\":\"238147\",\"type\":\"BoxAnnotation\"},{\"attributes\":{\"axis\":{\"id\":\"238099\"},\"dimension\":1,\"ticker\":null},\"id\":\"238102\",\"type\":\"Grid\"},{\"attributes\":{},\"id\":\"238134\",\"type\":\"BasicTicker\"},{\"attributes\":{},\"id\":\"238161\",\"type\":\"BasicTickFormatter\"},{\"attributes\":{},\"id\":\"238131\",\"type\":\"LinearScale\"},{\"attributes\":{\"axis\":{\"id\":\"238133\"},\"ticker\":null},\"id\":\"238136\",\"type\":\"Grid\"},{\"attributes\":{},\"id\":\"238163\",\"type\":\"BasicTickFormatter\"},{\"attributes\":{\"children\":[[{\"id\":\"238084\"},0,0],[{\"id\":\"238122\"},0,1]]},\"id\":\"238178\",\"type\":\"GridBox\"},{\"attributes\":{\"formatter\":{\"id\":\"238170\"},\"ticker\":{\"id\":\"238138\"}},\"id\":\"238137\",\"type\":\"LinearAxis\"},{\"attributes\":{\"below\":[{\"id\":\"238095\"}],\"center\":[{\"id\":\"238098\"},{\"id\":\"238102\"}],\"left\":[{\"id\":\"238099\"}],\"plot_height\":350,\"plot_width\":350,\"renderers\":[{\"id\":\"238120\"}],\"title\":{\"id\":\"238085\"},\"toolbar\":{\"id\":\"238110\"},\"toolbar_location\":null,\"x_range\":{\"id\":\"238087\"},\"x_scale\":{\"id\":\"238091\"},\"y_range\":{\"id\":\"238089\"},\"y_scale\":{\"id\":\"238093\"}},\"id\":\"238084\",\"subtype\":\"Figure\",\"type\":\"Plot\"},{\"attributes\":{\"source\":{\"id\":\"238117\"}},\"id\":\"238121\",\"type\":\"CDSView\"},{\"attributes\":{},\"id\":\"238087\",\"type\":\"DataRange1d\"},{\"attributes\":{},\"id\":\"238166\",\"type\":\"UnionRenderers\"},{\"attributes\":{\"bottom_units\":\"screen\",\"fill_alpha\":0.5,\"fill_color\":\"lightgrey\",\"left_units\":\"screen\",\"level\":\"overlay\",\"line_alpha\":1.0,\"line_color\":\"black\",\"line_dash\":[4,4],\"line_width\":2,\"render_mode\":\"css\",\"right_units\":\"screen\",\"top_units\":\"screen\"},\"id\":\"238109\",\"type\":\"BoxAnnotation\"},{\"attributes\":{},\"id\":\"238138\",\"type\":\"BasicTicker\"},{\"attributes\":{},\"id\":\"238100\",\"type\":\"BasicTicker\"},{\"attributes\":{},\"id\":\"238167\",\"type\":\"Selection\"},{\"attributes\":{},\"id\":\"238089\",\"type\":\"DataRange1d\"},{\"attributes\":{\"data_source\":{\"id\":\"238117\"},\"glyph\":{\"id\":\"238118\"},\"hover_glyph\":null,\"muted_glyph\":null,\"nonselection_glyph\":{\"id\":\"238119\"},\"selection_glyph\":null,\"view\":{\"id\":\"238121\"}},\"id\":\"238120\",\"type\":\"GlyphRenderer\"},{\"attributes\":{\"axis\":{\"id\":\"238137\"},\"dimension\":1,\"ticker\":null},\"id\":\"238140\",\"type\":\"Grid\"},{\"attributes\":{\"below\":[{\"id\":\"238133\"}],\"center\":[{\"id\":\"238136\"},{\"id\":\"238140\"}],\"left\":[{\"id\":\"238137\"}],\"plot_height\":350,\"plot_width\":350,\"renderers\":[{\"id\":\"238158\"}],\"title\":{\"id\":\"238123\"},\"toolbar\":{\"id\":\"238148\"},\"toolbar_location\":null,\"x_range\":{\"id\":\"238125\"},\"x_scale\":{\"id\":\"238129\"},\"y_range\":{\"id\":\"238127\"},\"y_scale\":{\"id\":\"238131\"}},\"id\":\"238122\",\"subtype\":\"Figure\",\"type\":\"Plot\"},{\"attributes\":{},\"id\":\"238170\",\"type\":\"BasicTickFormatter\"},{\"attributes\":{},\"id\":\"238129\",\"type\":\"LinearScale\"},{\"attributes\":{\"text\":\"average students\"},\"id\":\"238085\",\"type\":\"Title\"},{\"attributes\":{},\"id\":\"238104\",\"type\":\"WheelZoomTool\"},{\"attributes\":{\"text\":\"tall students\"},\"id\":\"238123\",\"type\":\"Title\"},{\"attributes\":{},\"id\":\"238172\",\"type\":\"BasicTickFormatter\"},{\"attributes\":{\"data\":{\"left\":{\"__ndarray__\":\"PtlETiE0TkAZK64bZkROQPR8F+mqVE5Azs6Atu9kTkCpIOqDNHVOQIRyU1F5hU5AX8S8Hr6VTkA6FibsAqZOQBRoj7lHtk5A77n4hozGTkA=\",\"dtype\":\"float64\",\"shape\":[10]},\"right\":{\"__ndarray__\":\"GSuuG2ZETkD0fBfpqlROQM7OgLbvZE5AqSDqgzR1TkCEclNReYVOQF/EvB6+lU5AOhYm7AKmTkAUaI+5R7ZOQO+5+IaMxk5AygtiVNHWTkA=\",\"dtype\":\"float64\",\"shape\":[10]},\"top\":{\"__ndarray__\":\"v8TbYcYyrD+/xNthxjKsP2k8c3iFK7g/VcI3rCyl5D/oKhg2anHrP0knoqUDHeA/DI5H5w0/8T8CgFUSWWgGQAFukWLXyvc/bX2DN4yh0j8=\",\"dtype\":\"float64\",\"shape\":[10]}},\"selected\":{\"id\":\"238167\"},\"selection_policy\":{\"id\":\"238166\"}},\"id\":\"238117\",\"type\":\"ColumnDataSource\"},{\"attributes\":{\"data_source\":{\"id\":\"238155\"},\"glyph\":{\"id\":\"238156\"},\"hover_glyph\":null,\"muted_glyph\":null,\"nonselection_glyph\":{\"id\":\"238157\"},\"selection_glyph\":null,\"view\":{\"id\":\"238159\"}},\"id\":\"238158\",\"type\":\"GlyphRenderer\"},{\"attributes\":{},\"id\":\"238106\",\"type\":\"SaveTool\"},{\"attributes\":{},\"id\":\"238125\",\"type\":\"DataRange1d\"},{\"attributes\":{},\"id\":\"238175\",\"type\":\"UnionRenderers\"},{\"attributes\":{},\"id\":\"238108\",\"type\":\"HelpTool\"},{\"attributes\":{\"overlay\":{\"id\":\"238109\"}},\"id\":\"238105\",\"type\":\"BoxZoomTool\"},{\"attributes\":{},\"id\":\"238176\",\"type\":\"Selection\"},{\"attributes\":{},\"id\":\"238141\",\"type\":\"PanTool\"},{\"attributes\":{},\"id\":\"238127\",\"type\":\"DataRange1d\"},{\"attributes\":{\"toolbars\":[{\"id\":\"238110\"},{\"id\":\"238148\"}],\"tools\":[{\"id\":\"238103\"},{\"id\":\"238104\"},{\"id\":\"238105\"},{\"id\":\"238106\"},{\"id\":\"238107\"},{\"id\":\"238108\"},{\"id\":\"238141\"},{\"id\":\"238142\"},{\"id\":\"238143\"},{\"id\":\"238144\"},{\"id\":\"238145\"},{\"id\":\"238146\"}]},\"id\":\"238179\",\"type\":\"ProxyToolbar\"},{\"attributes\":{},\"id\":\"238107\",\"type\":\"ResetTool\"},{\"attributes\":{},\"id\":\"238142\",\"type\":\"WheelZoomTool\"},{\"attributes\":{\"active_drag\":\"auto\",\"active_inspect\":\"auto\",\"active_multi\":null,\"active_scroll\":\"auto\",\"active_tap\":\"auto\",\"tools\":[{\"id\":\"238103\"},{\"id\":\"238104\"},{\"id\":\"238105\"},{\"id\":\"238106\"},{\"id\":\"238107\"},{\"id\":\"238108\"}]},\"id\":\"238110\",\"type\":\"Toolbar\"},{\"attributes\":{\"toolbar\":{\"id\":\"238179\"},\"toolbar_location\":\"above\"},\"id\":\"238180\",\"type\":\"ToolbarBox\"},{\"attributes\":{\"overlay\":{\"id\":\"238147\"}},\"id\":\"238143\",\"type\":\"BoxZoomTool\"},{\"attributes\":{\"bottom\":{\"value\":0},\"fill_alpha\":{\"value\":0.4},\"fill_color\":{\"value\":\"#1f77b4\"},\"left\":{\"field\":\"left\"},\"line_alpha\":{\"value\":0.4},\"line_color\":{\"value\":\"#1f77b4\"},\"right\":{\"field\":\"right\"},\"top\":{\"field\":\"top\"}},\"id\":\"238156\",\"type\":\"Quad\"},{\"attributes\":{},\"id\":\"238144\",\"type\":\"SaveTool\"},{\"attributes\":{\"bottom\":{\"value\":0},\"fill_alpha\":{\"value\":0.1},\"fill_color\":{\"value\":\"#1f77b4\"},\"left\":{\"field\":\"left\"},\"line_alpha\":{\"value\":0.1},\"line_color\":{\"value\":\"#1f77b4\"},\"right\":{\"field\":\"right\"},\"top\":{\"field\":\"top\"}},\"id\":\"238119\",\"type\":\"Quad\"},{\"attributes\":{},\"id\":\"238145\",\"type\":\"ResetTool\"},{\"attributes\":{\"data\":{\"left\":{\"__ndarray__\":\"6dZuGrSATEB2CYwgZCNNQAI8qSYUxk1Aj27GLMRoTkAcoeMydAtPQKjTADkkrk9AGwOPH2ooUEBhnJ0iwnlQQKc1rCUay1BA7s66KHIcUUA=\",\"dtype\":\"float64\",\"shape\":[10]},\"right\":{\"__ndarray__\":\"dgmMIGQjTUACPKkmFMZNQI9uxizEaE5AHKHjMnQLT0Co0wA5JK5PQBsDjx9qKFBAYZydIsJ5UECnNawlGstQQO7OuihyHFFANGjJK8ptUUA=\",\"dtype\":\"float64\",\"shape\":[10]},\"top\":{\"__ndarray__\":\"3Mg4v0bPnT+kvtpOrAjDP9HLqg4U7dE/cuPYPhaYuz8sP9DVBcipP4ZVE/hU9LU/eGj5vCOEsD9hL1xgBFaDPwA3FhsFj3Y/RzcWGwWPdj8=\",\"dtype\":\"float64\",\"shape\":[10]}},\"selected\":{\"id\":\"238176\"},\"selection_policy\":{\"id\":\"238175\"}},\"id\":\"238155\",\"type\":\"ColumnDataSource\"},{\"attributes\":{},\"id\":\"238146\",\"type\":\"HelpTool\"},{\"attributes\":{},\"id\":\"238096\",\"type\":\"BasicTicker\"},{\"attributes\":{\"formatter\":{\"id\":\"238163\"},\"ticker\":{\"id\":\"238096\"}},\"id\":\"238095\",\"type\":\"LinearAxis\"},{\"attributes\":{\"bottom\":{\"value\":0},\"fill_alpha\":{\"value\":0.4},\"fill_color\":{\"value\":\"#1f77b4\"},\"left\":{\"field\":\"left\"},\"line_alpha\":{\"value\":0.4},\"line_color\":{\"value\":\"#1f77b4\"},\"right\":{\"field\":\"right\"},\"top\":{\"field\":\"top\"}},\"id\":\"238118\",\"type\":\"Quad\"},{\"attributes\":{\"source\":{\"id\":\"238155\"}},\"id\":\"238159\",\"type\":\"CDSView\"},{\"attributes\":{\"active_drag\":\"auto\",\"active_inspect\":\"auto\",\"active_multi\":null,\"active_scroll\":\"auto\",\"active_tap\":\"auto\",\"tools\":[{\"id\":\"238141\"},{\"id\":\"238142\"},{\"id\":\"238143\"},{\"id\":\"238144\"},{\"id\":\"238145\"},{\"id\":\"238146\"}]},\"id\":\"238148\",\"type\":\"Toolbar\"},{\"attributes\":{\"formatter\":{\"id\":\"238161\"},\"ticker\":{\"id\":\"238100\"}},\"id\":\"238099\",\"type\":\"LinearAxis\"},{\"attributes\":{},\"id\":\"238091\",\"type\":\"LinearScale\"},{\"attributes\":{},\"id\":\"238093\",\"type\":\"LinearScale\"}],\"root_ids\":[\"238181\"]},\"title\":\"Bokeh Application\",\"version\":\"2.0.2\"}};\n",
       "  var render_items = [{\"docid\":\"62c368d2-8b3b-4a99-8301-f8f9b7df46b2\",\"root_ids\":[\"238181\"],\"roots\":{\"238181\":\"373e6875-e835-4f36-a7fa-1a46e5b7266a\"}}];\n",
       "  root.Bokeh.embed.embed_items_notebook(docs_json, render_items);\n",
       "\n",
       "  }\n",
       "  if (root.Bokeh !== undefined) {\n",
       "    embed_document(root);\n",
       "  } else {\n",
       "    var attempts = 0;\n",
       "    var timer = setInterval(function(root) {\n",
       "      if (root.Bokeh !== undefined) {\n",
       "        clearInterval(timer);\n",
       "        embed_document(root);\n",
       "      } else {\n",
       "        attempts++;\n",
       "        if (attempts > 100) {\n",
       "          clearInterval(timer);\n",
       "          console.log(\"Bokeh: ERROR: Unable to run BokehJS code because BokehJS library is missing\");\n",
       "        }\n",
       "      }\n",
       "    }, 10, root)\n",
       "  }\n",
       "})(window);"
      ],
      "application/vnd.bokehjs_exec.v0+json": ""
     },
     "metadata": {
      "application/vnd.bokehjs_exec.v0+json": {
       "id": "238181"
      }
     },
     "output_type": "display_data"
    }
   ],
   "source": [
    "pop3 = [random.gauss(60, 2) for x in range(30)]\n",
    "pop4 = [random.gauss(72, 2) for x in range(3)]\n",
    "a,b = resample_two_samples(pop3, pop4, num_iterations = 1000)\n",
    "p1 = do_hist(a, title = 'average students')\n",
    "p2 = do_hist(b, title = 'tall students')\n",
    "grid = gridplot([p1, p2], ncols = 2)\n",
    "print('mean of pop3 is {m}'.format(m = np.mean(pop3)))\n",
    "show(grid)\n"
   ]
  },
  {
   "cell_type": "code",
   "execution_count": 300,
   "metadata": {},
   "outputs": [
    {
     "data": {
      "text/html": [
       "\n",
       "\n",
       "\n",
       "\n",
       "\n",
       "\n",
       "  <div class=\"bk-root\" id=\"ad90d395-0f3f-45dc-b1b1-2000476f1d2b\" data-root-id=\"267460\"></div>\n"
      ]
     },
     "metadata": {},
     "output_type": "display_data"
    },
    {
     "data": {
      "application/javascript": [
       "(function(root) {\n",
       "  function embed_document(root) {\n",
       "    \n",
       "  var docs_json = {\"b8f90d6b-33cd-4628-bb06-310d2ea90438\":{\"roots\":{\"references\":[{\"attributes\":{\"below\":[{\"id\":\"267471\"}],\"center\":[{\"id\":\"267474\"},{\"id\":\"267478\"}],\"left\":[{\"id\":\"267475\"}],\"plot_height\":350,\"plot_width\":350,\"renderers\":[{\"id\":\"267496\"}],\"title\":{\"id\":\"267461\"},\"toolbar\":{\"id\":\"267486\"},\"x_range\":{\"id\":\"267463\"},\"x_scale\":{\"id\":\"267467\"},\"y_range\":{\"id\":\"267465\"},\"y_scale\":{\"id\":\"267469\"}},\"id\":\"267460\",\"subtype\":\"Figure\",\"type\":\"Plot\"},{\"attributes\":{\"axis\":{\"id\":\"267471\"},\"ticker\":null},\"id\":\"267474\",\"type\":\"Grid\"},{\"attributes\":{},\"id\":\"270116\",\"type\":\"Selection\"},{\"attributes\":{\"source\":{\"id\":\"267493\"}},\"id\":\"267497\",\"type\":\"CDSView\"},{\"attributes\":{},\"id\":\"270110\",\"type\":\"BasicTickFormatter\"},{\"attributes\":{},\"id\":\"267482\",\"type\":\"SaveTool\"},{\"attributes\":{\"formatter\":{\"id\":\"270112\"},\"ticker\":{\"id\":\"267472\"}},\"id\":\"267471\",\"type\":\"LinearAxis\"},{\"attributes\":{\"axis\":{\"id\":\"267475\"},\"dimension\":1,\"ticker\":null},\"id\":\"267478\",\"type\":\"Grid\"},{\"attributes\":{},\"id\":\"267476\",\"type\":\"BasicTicker\"},{\"attributes\":{},\"id\":\"267472\",\"type\":\"BasicTicker\"},{\"attributes\":{},\"id\":\"267483\",\"type\":\"ResetTool\"},{\"attributes\":{},\"id\":\"267479\",\"type\":\"PanTool\"},{\"attributes\":{},\"id\":\"267469\",\"type\":\"LinearScale\"},{\"attributes\":{},\"id\":\"267480\",\"type\":\"WheelZoomTool\"},{\"attributes\":{\"overlay\":{\"id\":\"267485\"}},\"id\":\"267481\",\"type\":\"BoxZoomTool\"},{\"attributes\":{},\"id\":\"267467\",\"type\":\"LinearScale\"},{\"attributes\":{\"text\":\"Difference\"},\"id\":\"267461\",\"type\":\"Title\"},{\"attributes\":{},\"id\":\"267465\",\"type\":\"DataRange1d\"},{\"attributes\":{},\"id\":\"267484\",\"type\":\"HelpTool\"},{\"attributes\":{},\"id\":\"270115\",\"type\":\"UnionRenderers\"},{\"attributes\":{},\"id\":\"267463\",\"type\":\"DataRange1d\"},{\"attributes\":{\"active_drag\":\"auto\",\"active_inspect\":\"auto\",\"active_multi\":null,\"active_scroll\":\"auto\",\"active_tap\":\"auto\",\"tools\":[{\"id\":\"267479\"},{\"id\":\"267480\"},{\"id\":\"267481\"},{\"id\":\"267482\"},{\"id\":\"267483\"},{\"id\":\"267484\"}]},\"id\":\"267486\",\"type\":\"Toolbar\"},{\"attributes\":{\"data_source\":{\"id\":\"267493\"},\"glyph\":{\"id\":\"267494\"},\"hover_glyph\":null,\"muted_glyph\":null,\"nonselection_glyph\":{\"id\":\"267495\"},\"selection_glyph\":null,\"view\":{\"id\":\"267497\"}},\"id\":\"267496\",\"type\":\"GlyphRenderer\"},{\"attributes\":{\"bottom_units\":\"screen\",\"fill_alpha\":0.5,\"fill_color\":\"lightgrey\",\"left_units\":\"screen\",\"level\":\"overlay\",\"line_alpha\":1.0,\"line_color\":\"black\",\"line_dash\":[4,4],\"line_width\":2,\"render_mode\":\"css\",\"right_units\":\"screen\",\"top_units\":\"screen\"},\"id\":\"267485\",\"type\":\"BoxAnnotation\"},{\"attributes\":{\"formatter\":{\"id\":\"270110\"},\"ticker\":{\"id\":\"267476\"}},\"id\":\"267475\",\"type\":\"LinearAxis\"},{\"attributes\":{\"bottom\":{\"value\":0},\"fill_alpha\":{\"value\":0.1},\"fill_color\":{\"value\":\"#1f77b4\"},\"left\":{\"field\":\"left\"},\"line_alpha\":{\"value\":0.1},\"line_color\":{\"value\":\"#1f77b4\"},\"right\":{\"field\":\"right\"},\"top\":{\"field\":\"top\"}},\"id\":\"267495\",\"type\":\"Quad\"},{\"attributes\":{},\"id\":\"270112\",\"type\":\"BasicTickFormatter\"},{\"attributes\":{\"bottom\":{\"value\":0},\"fill_alpha\":{\"value\":0.4},\"fill_color\":{\"value\":\"#1f77b4\"},\"left\":{\"field\":\"left\"},\"line_alpha\":{\"value\":0.4},\"line_color\":{\"value\":\"#1f77b4\"},\"right\":{\"field\":\"right\"},\"top\":{\"field\":\"top\"}},\"id\":\"267494\",\"type\":\"Quad\"},{\"attributes\":{\"data\":{\"left\":{\"__ndarray__\":\"1NN9yMIE/L8S+9LlEvH0v55EUAbGuuu/MCb1gcwm27+AzWOLMH+SP+CfYZOydt0/eIEGD7ni7D9+GS5qDIX1P0Dy2Ey8mPw/geXBFzbWAUA=\",\"dtype\":\"float64\",\"shape\":[10]},\"right\":{\"__ndarray__\":\"EvvS5RLx9L+eRFAGxrrrvzAm9YHMJtu/gM1jizB/kj/gn2GTsnbdP3iBBg+54uw/fhkuagyF9T9A8thMvJj8P4HlwRc21gFA4lEXCQ5gBUA=\",\"dtype\":\"float64\",\"shape\":[10]},\"top\":{\"__ndarray__\":\"WXVhdBPWlD+Ps3GyFk+oP/ju6q2q3MY/++7qrarc1j8ZVMXyT4HcP59jScKQX90/SJcAVgR+2z94IA5f3GLOPwYwki4dQa8/ph13HG13mT8=\",\"dtype\":\"float64\",\"shape\":[10]}},\"selected\":{\"id\":\"270116\"},\"selection_policy\":{\"id\":\"270115\"}},\"id\":\"267493\",\"type\":\"ColumnDataSource\"}],\"root_ids\":[\"267460\"]},\"title\":\"Bokeh Application\",\"version\":\"2.0.2\"}};\n",
       "  var render_items = [{\"docid\":\"b8f90d6b-33cd-4628-bb06-310d2ea90438\",\"root_ids\":[\"267460\"],\"roots\":{\"267460\":\"ad90d395-0f3f-45dc-b1b1-2000476f1d2b\"}}];\n",
       "  root.Bokeh.embed.embed_items_notebook(docs_json, render_items);\n",
       "\n",
       "  }\n",
       "  if (root.Bokeh !== undefined) {\n",
       "    embed_document(root);\n",
       "  } else {\n",
       "    var attempts = 0;\n",
       "    var timer = setInterval(function(root) {\n",
       "      if (root.Bokeh !== undefined) {\n",
       "        clearInterval(timer);\n",
       "        embed_document(root);\n",
       "      } else {\n",
       "        attempts++;\n",
       "        if (attempts > 100) {\n",
       "          clearInterval(timer);\n",
       "          console.log(\"Bokeh: ERROR: Unable to run BokehJS code because BokehJS library is missing\");\n",
       "        }\n",
       "      }\n",
       "    }, 10, root)\n",
       "  }\n",
       "})(window);"
      ],
      "application/vnd.bokehjs_exec.v0+json": ""
     },
     "metadata": {
      "application/vnd.bokehjs_exec.v0+json": {
       "id": "267460"
      }
     },
     "output_type": "display_data"
    },
    {
     "data": {
      "text/plain": [
       "0.258"
      ]
     },
     "execution_count": 300,
     "metadata": {},
     "output_type": "execute_result"
    }
   ],
   "source": [
    "pop3 = [random.gauss(6, 3) for x in range(30)]\n",
    "#testit1(m1 = 6, m2 = 7, s1 = 3, s2 = 3)\n",
    "\n",
    "pop4 = [random.gauss(7, 3) for x in range(30)]\n",
    "a,b = resample_two_samples(pop3, pop4, num_iterations = 1000)\n",
    "both = combine_resamples(pop3, pop4, a, b)\n",
    "show(do_hist(both, title = 'Difference'))\n",
    "get_p_value(both)\n"
   ]
  },
  {
   "cell_type": "code",
   "execution_count": 294,
   "metadata": {},
   "outputs": [],
   "source": [
    "def do_hist(x, bins=10, width = 350, height = 350, title = None):\n",
    "  hist, edges = np.histogram(x, bins = bins, density=True)\n",
    "  p_hist = figure(width = width, height = height, title = title)\n",
    "  p_hist.quad(top = hist, bottom=0, left=edges[:-1], right=edges[1:], alpha = .4)\n",
    "  return p_hist"
   ]
  },
  {
   "cell_type": "code",
   "execution_count": 311,
   "metadata": {},
   "outputs": [
    {
     "name": "stdout",
     "output_type": "stream",
     "text": [
      "theoretical is 0.23 and resample is 0.24\n"
     ]
    }
   ],
   "source": [
    "\"\"\"Want to test this using traditonals stats\"\"\"\n",
    "from scipy import stats\n",
    "def testit1(m1, m2, s1, s2, size1 = 30, size = 30):\n",
    "    pop1 = [random.gauss(m1, s1) for x in range(size1)]\n",
    "    pop2 = [random.gauss(m2, s2) for x in range(size2)]\n",
    "    p_theory = stats.ttest_ind(pop1,pop2)[1]\n",
    "    a,b = resample_two_samples(pop1, pop2, num_iterations=1000)\n",
    "    both = combine_resamples(pop1, pop2, a, b)\n",
    "    p_resample = get_p_value(both)\n",
    "    print('theoretical is {t} and resample is {r}'.format(\n",
    "        t = round(p_theory/2,2), r = round(p_resample,2)))\n",
    "\n",
    "testit1(m1 = 6, m2 = 7, s1 = 3, s2 = 3)\n",
    "    "
   ]
  },
  {
   "cell_type": "code",
   "execution_count": 303,
   "metadata": {},
   "outputs": [],
   "source": [
    "path = 'data/states.csv'\n",
    "DF = pd.read_csv(path)"
   ]
  },
  {
   "cell_type": "code",
   "execution_count": 314,
   "metadata": {},
   "outputs": [
    {
     "name": "stdout",
     "output_type": "stream",
     "text": [
      "Alabama 13.0 10.0 0.28\n",
      "Alaska 0.0 0.0 0.68\n",
      "Arizona 20.0 22.0 0.35\n",
      "Arkansas 3.0 1.0 0.1\n",
      "California 75.0 71.0 0.37\n",
      "Colorado 21.0 34.0 0.02\n",
      "Connecticut 68.0 58.0 0.31\n",
      "Delaware 7.0 9.0 0.24\n",
      "District of Columbia 10.0 8.0 0.15\n",
      "Florida 44.0 38.0 0.31\n",
      "Georgia 29.0 25.0 0.38\n",
      "Guam 0.0 0.0 1.0\n",
      "Hawaii 0.0 0.0 0.7\n",
      "Idaho 1.0 1.0 0.27\n",
      "Illinois 114.0 105.0 0.32\n",
      "Indiana 40.0 35.0 0.31\n",
      "Iowa 11.0 13.0 0.31\n",
      "Kansas 3.0 3.0 0.29\n",
      "Kentucky 7.0 7.0 0.43\n",
      "Louisiana 38.0 32.0 0.21\n",
      "Maine 1.0 1.0 0.59\n",
      "Maryland 52.0 45.0 0.14\n",
      "Massachusetts 136.0 107.0 0.13\n",
      "Michigan 75.0 49.0 0.12\n",
      "Minnesota 23.0 21.0 0.31\n",
      "Mississippi 15.0 15.0 0.49\n",
      "Missouri 16.0 14.0 0.32\n",
      "Montana 0.0 0.0 1.0\n",
      "Nebraska 3.0 5.0 0.04\n",
      "Nevada 7.0 7.0 0.5\n",
      "New Hampshire 6.0 6.0 0.5\n",
      "New Jersey 209.0 149.0 0.14\n",
      "New Mexico 8.0 7.0 0.27\n",
      "New York 297.0 156.0 0.0\n",
      "North Carolina 18.0 15.0 0.23\n",
      "North Dakota 2.0 1.0 0.51\n",
      "Northern Mariana Islands 0.0 0.0 1.0\n",
      "Ohio 39.0 43.0 0.38\n",
      "Oklahoma 5.0 3.0 0.17\n",
      "Oregon 2.0 1.0 0.16\n",
      "Pennsylvania 122.0 99.0 0.29\n",
      "Puerto Rico 2.0 1.0 0.19\n",
      "Rhode Island 15.0 11.0 0.04\n",
      "South Carolina 9.0 6.0 0.06\n",
      "South Dakota 2.0 1.0 0.21\n",
      "Tennessee 5.0 5.0 0.45\n",
      "Texas 31.0 33.0 0.31\n",
      "Utah 2.0 2.0 0.53\n",
      "Vermont 0.0 0.0 0.25\n",
      "Virgin Islands 0.0 0.0 0.51\n",
      "Virginia 29.0 21.0 0.13\n",
      "Washington 12.0 10.0 0.28\n",
      "West Virginia 1.0 1.0 0.51\n",
      "Wisconsin 8.0 9.0 0.42\n",
      "Wyoming 0.0 1.0 0.03\n"
     ]
    }
   ],
   "source": [
    "def diff_week(df, last_index = -14):\n",
    "    all_states = list(set(df['state']))\n",
    "    for i in sorted(all_states):\n",
    "        df_ = df[df['state'] == i]\n",
    "        deaths = df_['deaths'].tolist()\n",
    "        deaths_last = deaths[last_index:-7]\n",
    "        deaths_cur = deaths[-7:]\n",
    "        a, b = resample_two_samples(deaths_last, deaths_cur, num_iterations = 100)\n",
    "        both = combine_resamples(deaths_last, deaths_cur, a, b)\n",
    "        p_resample = get_p_value(both)\n",
    "        print(i,round(np.mean(deaths_last)),round(np.mean(deaths_cur)), round(p_resample,2 ))\n",
    "diff_week(DF, last_index = -21)"
   ]
  },
  {
   "cell_type": "code",
   "execution_count": 316,
   "metadata": {},
   "outputs": [
    {
     "name": "stdout",
     "output_type": "stream",
     "text": [
      "15.285714285714286 10.285714285714286\n"
     ]
    },
    {
     "data": {
      "text/html": [
       "\n",
       "\n",
       "\n",
       "\n",
       "\n",
       "\n",
       "  <div class=\"bk-root\" id=\"8504be75-e535-4861-a139-d2aa5e37f851\" data-root-id=\"270165\"></div>\n"
      ]
     },
     "metadata": {},
     "output_type": "display_data"
    },
    {
     "data": {
      "application/javascript": [
       "(function(root) {\n",
       "  function embed_document(root) {\n",
       "    \n",
       "  var docs_json = {\"f3c96406-c756-4d11-a912-259a39997e37\":{\"roots\":{\"references\":[{\"attributes\":{\"below\":[{\"id\":\"270175\"}],\"center\":[{\"id\":\"270178\"},{\"id\":\"270182\"}],\"left\":[{\"id\":\"270179\"}],\"plot_height\":350,\"plot_width\":350,\"renderers\":[{\"id\":\"270200\"}],\"title\":null,\"toolbar\":{\"id\":\"270190\"},\"x_range\":{\"id\":\"270167\"},\"x_scale\":{\"id\":\"270171\"},\"y_range\":{\"id\":\"270169\"},\"y_scale\":{\"id\":\"270173\"}},\"id\":\"270165\",\"subtype\":\"Figure\",\"type\":\"Plot\"},{\"attributes\":{},\"id\":\"270167\",\"type\":\"DataRange1d\"},{\"attributes\":{},\"id\":\"270184\",\"type\":\"WheelZoomTool\"},{\"attributes\":{},\"id\":\"272827\",\"type\":\"UnionRenderers\"},{\"attributes\":{},\"id\":\"272828\",\"type\":\"Selection\"},{\"attributes\":{\"data\":{\"left\":{\"__ndarray__\":\"btu2bdu2IcAlSZIkSZIYwNy2bdu2bQvAwG3btm3b5r8AAAAAAAAAQLht27Zt2xJAbNu2bdu2HUCSJEmSJEkkQG7btm3btilASpIkSZIkL0A=\",\"dtype\":\"float64\",\"shape\":[10]},\"right\":{\"__ndarray__\":\"JUmSJEmSGMDctm3btm0LwMBt27Zt2+a/AAAAAAAAAEC4bdu2bdsSQGzbtm3bth1AkiRJkiRJJEBu27Zt27YpQEqSJEmSJC9AkiRJkiRJMkA=\",\"dtype\":\"float64\",\"shape\":[10]},\"top\":{\"__ndarray__\":\"X51UGcOihj9/fBt3WS5uP9Etcer33KI/tMSp33NLrD/NLXHq99yiP53l4oHdv7Q/sQkqtmrOsz8Gdv9SEvqgP12dVBnDopY/ZZ1UGcOihj8=\",\"dtype\":\"float64\",\"shape\":[10]}},\"selected\":{\"id\":\"272828\"},\"selection_policy\":{\"id\":\"272827\"}},\"id\":\"270197\",\"type\":\"ColumnDataSource\"},{\"attributes\":{},\"id\":\"270176\",\"type\":\"BasicTicker\"},{\"attributes\":{},\"id\":\"270180\",\"type\":\"BasicTicker\"},{\"attributes\":{\"bottom\":{\"value\":0},\"fill_alpha\":{\"value\":0.4},\"fill_color\":{\"value\":\"#1f77b4\"},\"left\":{\"field\":\"left\"},\"line_alpha\":{\"value\":0.4},\"line_color\":{\"value\":\"#1f77b4\"},\"right\":{\"field\":\"right\"},\"top\":{\"field\":\"top\"}},\"id\":\"270198\",\"type\":\"Quad\"},{\"attributes\":{\"axis\":{\"id\":\"270175\"},\"ticker\":null},\"id\":\"270178\",\"type\":\"Grid\"},{\"attributes\":{\"formatter\":{\"id\":\"272824\"},\"ticker\":{\"id\":\"270176\"}},\"id\":\"270175\",\"type\":\"LinearAxis\"},{\"attributes\":{\"formatter\":{\"id\":\"272822\"},\"ticker\":{\"id\":\"270180\"}},\"id\":\"270179\",\"type\":\"LinearAxis\"},{\"attributes\":{},\"id\":\"270169\",\"type\":\"DataRange1d\"},{\"attributes\":{\"bottom_units\":\"screen\",\"fill_alpha\":0.5,\"fill_color\":\"lightgrey\",\"left_units\":\"screen\",\"level\":\"overlay\",\"line_alpha\":1.0,\"line_color\":\"black\",\"line_dash\":[4,4],\"line_width\":2,\"render_mode\":\"css\",\"right_units\":\"screen\",\"top_units\":\"screen\"},\"id\":\"270189\",\"type\":\"BoxAnnotation\"},{\"attributes\":{\"bottom\":{\"value\":0},\"fill_alpha\":{\"value\":0.1},\"fill_color\":{\"value\":\"#1f77b4\"},\"left\":{\"field\":\"left\"},\"line_alpha\":{\"value\":0.1},\"line_color\":{\"value\":\"#1f77b4\"},\"right\":{\"field\":\"right\"},\"top\":{\"field\":\"top\"}},\"id\":\"270199\",\"type\":\"Quad\"},{\"attributes\":{},\"id\":\"270173\",\"type\":\"LinearScale\"},{\"attributes\":{},\"id\":\"270188\",\"type\":\"HelpTool\"},{\"attributes\":{\"active_drag\":\"auto\",\"active_inspect\":\"auto\",\"active_multi\":null,\"active_scroll\":\"auto\",\"active_tap\":\"auto\",\"tools\":[{\"id\":\"270183\"},{\"id\":\"270184\"},{\"id\":\"270185\"},{\"id\":\"270186\"},{\"id\":\"270187\"},{\"id\":\"270188\"}]},\"id\":\"270190\",\"type\":\"Toolbar\"},{\"attributes\":{\"source\":{\"id\":\"270197\"}},\"id\":\"270201\",\"type\":\"CDSView\"},{\"attributes\":{},\"id\":\"270171\",\"type\":\"LinearScale\"},{\"attributes\":{\"data_source\":{\"id\":\"270197\"},\"glyph\":{\"id\":\"270198\"},\"hover_glyph\":null,\"muted_glyph\":null,\"nonselection_glyph\":{\"id\":\"270199\"},\"selection_glyph\":null,\"view\":{\"id\":\"270201\"}},\"id\":\"270200\",\"type\":\"GlyphRenderer\"},{\"attributes\":{},\"id\":\"270183\",\"type\":\"PanTool\"},{\"attributes\":{},\"id\":\"270187\",\"type\":\"ResetTool\"},{\"attributes\":{},\"id\":\"272822\",\"type\":\"BasicTickFormatter\"},{\"attributes\":{},\"id\":\"270186\",\"type\":\"SaveTool\"},{\"attributes\":{\"overlay\":{\"id\":\"270189\"}},\"id\":\"270185\",\"type\":\"BoxZoomTool\"},{\"attributes\":{},\"id\":\"272824\",\"type\":\"BasicTickFormatter\"},{\"attributes\":{\"axis\":{\"id\":\"270179\"},\"dimension\":1,\"ticker\":null},\"id\":\"270182\",\"type\":\"Grid\"}],\"root_ids\":[\"270165\"]},\"title\":\"Bokeh Application\",\"version\":\"2.0.2\"}};\n",
       "  var render_items = [{\"docid\":\"f3c96406-c756-4d11-a912-259a39997e37\",\"root_ids\":[\"270165\"],\"roots\":{\"270165\":\"8504be75-e535-4861-a139-d2aa5e37f851\"}}];\n",
       "  root.Bokeh.embed.embed_items_notebook(docs_json, render_items);\n",
       "\n",
       "  }\n",
       "  if (root.Bokeh !== undefined) {\n",
       "    embed_document(root);\n",
       "  } else {\n",
       "    var attempts = 0;\n",
       "    var timer = setInterval(function(root) {\n",
       "      if (root.Bokeh !== undefined) {\n",
       "        clearInterval(timer);\n",
       "        embed_document(root);\n",
       "      } else {\n",
       "        attempts++;\n",
       "        if (attempts > 100) {\n",
       "          clearInterval(timer);\n",
       "          console.log(\"Bokeh: ERROR: Unable to run BokehJS code because BokehJS library is missing\");\n",
       "        }\n",
       "      }\n",
       "    }, 10, root)\n",
       "  }\n",
       "})(window);"
      ],
      "application/vnd.bokehjs_exec.v0+json": ""
     },
     "metadata": {
      "application/vnd.bokehjs_exec.v0+json": {
       "id": "270165"
      }
     },
     "output_type": "display_data"
    }
   ],
   "source": [
    "# let's do Idaho\n",
    "df_ = DF[DF['state'] == 'Alabama']\n",
    "deaths = df_['deaths'].tolist()\n",
    "deaths_last = deaths[-14:-7]\n",
    "deaths_cur = deaths[-7:]\n",
    "print(np.mean(deaths_last), np.mean(deaths_cur))\n",
    "a, b = resample_two_samples(deaths_last, deaths_cur, num_iterations = 100)\n",
    "both = combine_resamples(deaths_last, deaths_cur, a,b)\n",
    "show(do_hist(both))"
   ]
  },
  {
   "cell_type": "code",
   "execution_count": null,
   "metadata": {},
   "outputs": [],
   "source": []
  }
 ],
 "metadata": {
  "kernelspec": {
   "display_name": "Python 3",
   "language": "python",
   "name": "python3"
  },
  "language_info": {
   "codemirror_mode": {
    "name": "ipython",
    "version": 3
   },
   "file_extension": ".py",
   "mimetype": "text/x-python",
   "name": "python",
   "nbconvert_exporter": "python",
   "pygments_lexer": "ipython3",
   "version": "3.6.9"
  }
 },
 "nbformat": 4,
 "nbformat_minor": 4
}
