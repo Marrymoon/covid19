{
 "cells": [
  {
   "cell_type": "code",
   "execution_count": 2,
   "metadata": {},
   "outputs": [],
   "source": [
    "import random\n",
    "import numpy as np"
   ]
  },
  {
   "cell_type": "code",
   "execution_count": 17,
   "metadata": {},
   "outputs": [],
   "source": [
    "import pandas as pd"
   ]
  },
  {
   "cell_type": "code",
   "execution_count": 120,
   "metadata": {},
   "outputs": [
    {
     "name": "stdout",
     "output_type": "stream",
     "text": [
      "true diff is 9.139629843029216\n",
      "resampled mean is 9.108940377189565\n"
     ]
    },
    {
     "data": {
      "text/plain": [
       "'Conclusion: with resampling, the random mean will equal the true mean (as expected)'"
      ]
     },
     "execution_count": 120,
     "metadata": {},
     "output_type": "execute_result"
    }
   ],
   "source": [
    "\"\"\"This compares two samples. If the samples are drawn from the same population, they will have\n",
    "the same parameters\"\"\"\n",
    "#create first population\n",
    "mean1 = 25\n",
    "sd1 = 3\n",
    "size1 = 40\n",
    "pop1 = [random.gauss(mean1, sd1) for x in range(size1)]\n",
    "\n",
    "# create a second population\n",
    "mean2 = 15\n",
    "sd2 = 3\n",
    "size2 = 20\n",
    "pop2 = [random.gauss(mean2, sd2) for x in range(size2)]\n",
    "# true difference between the two\n",
    "true_diff = np.mean(pop1) - np.mean(pop2)\n",
    "print('true diff is {t}'.format(t = true_diff))\n",
    "both = pop1 + pop2\n",
    "# now do sampling\n",
    "\n",
    "# we need to keep track of both statistics\n",
    "mean_diff1 = []\n",
    "mean_diff2 = []\n",
    "\n",
    "#shuffle things. Just 10 times\n",
    "for i in range(10):\n",
    "    random.shuffle(both) # randomly shuffle\n",
    "    new_1 = both[0:size1] # new_1 will be a random sample\n",
    "    new_2 = both[size1:] #new_2 will be a random sample\n",
    "    diff1 = np.mean(pop1) - np.mean(new_1) # the difference between the pop and the random\n",
    "    diff2 = np.mean(pop2) - np.mean(new_2) # the difference between the pop and the random\n",
    "    mean_diff1.append(diff1) #add the difference to the list\n",
    "    mean_diff2.append(diff2) #add the difference to the list\n",
    "\n",
    "mean_of_means1 = np.mean(mean_diff1)\n",
    "mean_of_means2 = np.mean(mean_diff2)\n",
    "together = np.array(mean_diff1) - np.array(mean_diff2)\n",
    "print('resampled mean is {m}'.format(m = np.mean(together)))\n",
    "\"\"\"Conclusion: with resampling, the random mean will equal the true mean (as expected)\"\"\"\n"
   ]
  },
  {
   "cell_type": "code",
   "execution_count": 124,
   "metadata": {},
   "outputs": [
    {
     "name": "stdout",
     "output_type": "stream",
     "text": [
      "[5.714602836851952, 8.013867009470165, 8.216370910493215, 8.933871612005905, 9.472305860346541, 9.484429781532938, 9.914935867963631, 9.990911240966764, 10.424107720749074, 10.924000931515465]\n",
      "\n"
     ]
    }
   ],
   "source": [
    "\"\"\"We want to see if the difference is real, or just because of randomness\"\"\"\n",
    "#lets sort the differences of the means\n",
    "together = sorted(together)\n",
    "print(together)\n",
    "\"\"\"The number of times that the mean was different than 0 is 10, or 10/10. \n",
    "That indicates the difference is greater than just by random. In fact, we can \n",
    "calculate a P value. What is the probability that pop1 > pop2? The answer is \n",
    "10/10, or 1. P = 1 - 10/10. What is the probability that pop1 is greather than pop2\n",
    "by 10? That occurs only 1, or a probability of 9/10. P values = 1 - 9/10, or .1\"\"\"\n",
    "print()"
   ]
  },
  {
   "cell_type": "raw",
   "metadata": {},
   "source": []
  },
  {
   "cell_type": "code",
   "execution_count": 50,
   "metadata": {},
   "outputs": [],
   "source": [
    "\"\"\"Make a function\"\"\"\n",
    "def resample_two_samples(sample1, sample2, num_iterations = 100):\n",
    "    both = sample1 + sample2\n",
    "    mean_diff1 = []\n",
    "    mean_diff2 = []\n",
    "    for i in range(num_iterations):\n",
    "        random.shuffle(both) \n",
    "        new_1 = both[0:len(sample1)] \n",
    "        new_2 = both[len(sample1):] \n",
    "        diff1 = np.mean(sample1) - np.mean(new_1) \n",
    "        diff2 = np.mean(sample2) - np.mean(new_2) \n",
    "        mean_diff1.append(diff1) \n",
    "        mean_diff2.append(diff2) \n",
    "    return mean_diff1, mean_diff2\n",
    "\n",
    "# let's test\n",
    "a, b = resample_two_samples(pop1, pop2)"
   ]
  },
  {
   "cell_type": "code",
   "execution_count": 87,
   "metadata": {},
   "outputs": [],
   "source": [
    "def do_stats(res1, res2, diff = 0, two_tail = False):\n",
    "    \"\"\"\n",
    "    diff res1 - res2\n",
    "    \"\"\"\n",
    "    mean1 = np.mean(res1)\n",
    "    mean2 = np.mean(res2)\n",
    "    together = np.array(res1) - np.array(res2)\n",
    "    all_diff = [x for x in together if x > diff]\n",
    "    num_diff = len(all_diff)\n",
    "    p = 1 - num_diff/len(res1)\n",
    "    d = {'p': p,\n",
    "         'mean': np.mean(together)\n",
    "        \n",
    "    }\n",
    "    \n",
    "    return d\n",
    "# let's test\n",
    "d = resample_two_samples(pop1, pop2)\n",
    "#do_stats(a,b)"
   ]
  },
  {
   "cell_type": "code",
   "execution_count": 19,
   "metadata": {},
   "outputs": [],
   "source": [
    "path = 'data/states.csv'\n",
    "DF = pd.read_csv(path)"
   ]
  },
  {
   "cell_type": "code",
   "execution_count": 113,
   "metadata": {},
   "outputs": [
    {
     "name": "stdout",
     "output_type": "stream",
     "text": [
      "Alabama 13.0 10.0 0.31\n",
      "Alaska 0.0 0.0 0.62\n",
      "Arizona 20.0 22.0 0.45\n",
      "Arkansas 3.0 1.0 0.07\n",
      "California 75.0 71.0 0.39\n",
      "Colorado 21.0 34.0 0.04\n",
      "Connecticut 68.0 58.0 0.14\n",
      "Delaware 7.0 9.0 0.19\n",
      "District of Columbia 10.0 8.0 0.14\n",
      "Florida 44.0 38.0 0.29\n",
      "Georgia 29.0 25.0 0.34\n",
      "Guam 0.0 0.0 1.0\n",
      "Hawaii 0.0 0.0 0.66\n",
      "Idaho 1.0 1.0 0.21\n",
      "Illinois 114.0 105.0 0.44\n",
      "Indiana 40.0 35.0 0.33\n",
      "Iowa 11.0 13.0 0.33\n",
      "Kansas 3.0 3.0 0.34\n",
      "Kentucky 7.0 7.0 0.5\n",
      "Louisiana 38.0 32.0 0.32\n",
      "Maine 1.0 1.0 0.58\n",
      "Maryland 52.0 45.0 0.11\n",
      "Massachusetts 136.0 107.0 0.06\n",
      "Michigan 75.0 49.0 0.09\n",
      "Minnesota 23.0 21.0 0.19\n",
      "Mississippi 15.0 15.0 0.52\n",
      "Missouri 16.0 14.0 0.25\n",
      "Montana 0.0 0.0 1.0\n",
      "Nebraska 3.0 5.0 0.04\n",
      "Nevada 7.0 7.0 0.6\n",
      "New Hampshire 6.0 6.0 0.37\n",
      "New Jersey 209.0 149.0 0.07\n",
      "New Mexico 8.0 7.0 0.25\n",
      "New York 297.0 156.0 0.0\n",
      "North Carolina 18.0 15.0 0.32\n",
      "North Dakota 2.0 1.0 0.53\n",
      "Northern Mariana Islands 0.0 0.0 1.0\n",
      "Ohio 39.0 43.0 0.42\n",
      "Oklahoma 5.0 3.0 0.13\n",
      "Oregon 2.0 1.0 0.16\n",
      "Pennsylvania 122.0 99.0 0.29\n",
      "Puerto Rico 2.0 1.0 0.25\n",
      "Rhode Island 15.0 11.0 0.03\n",
      "South Carolina 9.0 6.0 0.12\n",
      "South Dakota 2.0 1.0 0.2\n",
      "Tennessee 5.0 5.0 0.57\n",
      "Texas 31.0 33.0 0.44\n",
      "Utah 2.0 2.0 0.56\n",
      "Vermont 0.0 0.0 0.27\n",
      "Virgin Islands 0.0 0.0 0.42\n",
      "Virginia 29.0 21.0 0.11\n",
      "Washington 12.0 10.0 0.17\n",
      "West Virginia 1.0 1.0 0.55\n",
      "Wisconsin 8.0 9.0 0.45\n",
      "Wyoming 0.0 1.0 0.03\n"
     ]
    }
   ],
   "source": [
    "def diff_week(df, last_index = -14):\n",
    "    all_states = list(set(df['state']))\n",
    "    for i in sorted(all_states):\n",
    "        df_ = df[df['state'] == i]\n",
    "        deaths = df_['deaths'].tolist()\n",
    "        deaths_last = deaths[last_index:-7]\n",
    "        deaths_cur = deaths[-7:]\n",
    "        if np.mean(deaths_last) > np.mean(deaths_cur):\n",
    "            a, b = resample_two_samples(deaths_last, deaths_cur, num_iterations = 100)\n",
    "        else:\n",
    "            a, b = resample_two_samples(deaths_cur, deaths_last, num_iterations = 100)\n",
    "        the_dict  = do_stats(a,b)\n",
    "        print(i,round(np.mean(deaths_last)),round(np.mean(deaths_cur)), round(the_dict['p'],2 ))\n",
    "diff_week(DF, last_index = -21)"
   ]
  },
  {
   "cell_type": "code",
   "execution_count": null,
   "metadata": {},
   "outputs": [],
   "source": []
  }
 ],
 "metadata": {
  "kernelspec": {
   "display_name": "Python 3",
   "language": "python",
   "name": "python3"
  },
  "language_info": {
   "codemirror_mode": {
    "name": "ipython",
    "version": 3
   },
   "file_extension": ".py",
   "mimetype": "text/x-python",
   "name": "python",
   "nbconvert_exporter": "python",
   "pygments_lexer": "ipython3",
   "version": "3.6.9"
  }
 },
 "nbformat": 4,
 "nbformat_minor": 4
}
