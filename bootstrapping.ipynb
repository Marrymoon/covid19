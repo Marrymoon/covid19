{
 "cells": [
  {
   "cell_type": "code",
   "execution_count": 1,
   "metadata": {},
   "outputs": [],
   "source": [
    "import random\n",
    "import numpy as np"
   ]
  },
  {
   "cell_type": "code",
   "execution_count": 2,
   "metadata": {},
   "outputs": [],
   "source": [
    "import pandas as pd"
   ]
  },
  {
   "cell_type": "code",
   "execution_count": 94,
   "metadata": {},
   "outputs": [],
   "source": [
    "from bokeh.io import show\n",
    "from bokeh.plotting import figure\n",
    "from bokeh.io import output_notebook\n",
    "from bokeh.layouts import gridplot\n"
   ]
  },
  {
   "cell_type": "code",
   "execution_count": 3,
   "metadata": {},
   "outputs": [
    {
     "name": "stdout",
     "output_type": "stream",
     "text": [
      "true diff is 10.632624521421821\n",
      "resampled mean is 10.371995509909393\n"
     ]
    },
    {
     "data": {
      "text/plain": [
       "'Conclusion: with resampling, the random mean will equal the true mean (as expected)'"
      ]
     },
     "execution_count": 3,
     "metadata": {},
     "output_type": "execute_result"
    }
   ],
   "source": [
    "\"\"\"This compares two samples. If the samples are drawn from the same population, they will have\n",
    "the same parameters\"\"\"\n",
    "#create first population\n",
    "mean1 = 25\n",
    "sd1 = 3\n",
    "size1 = 40\n",
    "pop1 = [random.gauss(mean1, sd1) for x in range(size1)]\n",
    "\n",
    "# create a second population\n",
    "mean2 = 15\n",
    "sd2 = 3\n",
    "size2 = 20\n",
    "pop2 = [random.gauss(mean2, sd2) for x in range(size2)]\n",
    "# true difference between the two\n",
    "true_diff = np.mean(pop1) - np.mean(pop2)\n",
    "print('true diff is {t}'.format(t = true_diff))\n",
    "both = pop1 + pop2\n",
    "# now do sampling\n",
    "\n",
    "# we need to keep track of both statistics\n",
    "mean_diff1 = []\n",
    "mean_diff2 = []\n",
    "\n",
    "#shuffle things. Just 10 times\n",
    "for i in range(10):\n",
    "    random.shuffle(both) # randomly shuffle\n",
    "    new_1 = both[0:size1] # new_1 will be a random sample\n",
    "    new_2 = both[size1:] #new_2 will be a random sample\n",
    "    diff1 = np.mean(pop1) - np.mean(new_1) # the difference between the pop and the random\n",
    "    diff2 = np.mean(pop2) - np.mean(new_2) # the difference between the pop and the random\n",
    "    mean_diff1.append(diff1) #add the difference to the list\n",
    "    mean_diff2.append(diff2) #add the difference to the list\n",
    "\n",
    "mean_of_means1 = np.mean(mean_diff1)\n",
    "mean_of_means2 = np.mean(mean_diff2)\n",
    "together = np.array(mean_diff1) - np.array(mean_diff2)\n",
    "print('resampled mean is {m}'.format(m = np.mean(together)))\n",
    "\"\"\"Conclusion: with resampling, the random mean will equal the true mean (as expected)\"\"\"\n"
   ]
  },
  {
   "cell_type": "code",
   "execution_count": 4,
   "metadata": {},
   "outputs": [
    {
     "name": "stdout",
     "output_type": "stream",
     "text": [
      "[8.074512434815723, 8.252295663813396, 8.72660883179557, 9.558317853345088, 9.700372041772592, 9.7434287737542, 11.4372517347253, 12.238921574153746, 12.914587667094494, 13.07365852382381]\n",
      "\n"
     ]
    }
   ],
   "source": [
    "\"\"\"We want to see if the difference is real, or just because of randomness\"\"\"\n",
    "#lets sort the differences of the means\n",
    "together = sorted(together)\n",
    "print(together)\n",
    "\"\"\"The number of times that the mean was different than 0 is 10, or 10/10. \n",
    "That indicates the difference is greater than just by random. In fact, we can \n",
    "calculate a P value. What is the probability that pop1 > pop2? The answer is \n",
    "10/10, or 1. P = 1 - 10/10. What is the probability that pop1 is greather than pop2\n",
    "by 10? That occurs only 1, or a probability of 9/10. P values = 1 - 9/10, or .1\"\"\"\n",
    "print()"
   ]
  },
  {
   "cell_type": "code",
   "execution_count": 5,
   "metadata": {},
   "outputs": [],
   "source": [
    "\"\"\"Make a function\"\"\"\n",
    "def resample_two_samples(sample1, sample2, num_iterations = 100):\n",
    "    both = sample1 + sample2\n",
    "    mean_diff1 = []\n",
    "    mean_diff2 = []\n",
    "    for i in range(num_iterations):\n",
    "        random.shuffle(both) \n",
    "        new_1 = both[0:len(sample1)] \n",
    "        new_2 = both[len(sample1):] \n",
    "        diff1 = np.mean(sample1) - np.mean(new_1) \n",
    "        diff2 = np.mean(sample2) - np.mean(new_2) \n",
    "        mean_diff1.append(diff1) \n",
    "        mean_diff2.append(diff2) \n",
    "    return mean_diff1, mean_diff2\n",
    "\n",
    "# let's test\n",
    "a, b = resample_two_samples(pop1, pop2)"
   ]
  },
  {
   "cell_type": "code",
   "execution_count": 190,
   "metadata": {},
   "outputs": [
    {
     "name": "stdout",
     "output_type": "stream",
     "text": [
      "real difference is 0.6511911008505997\n"
     ]
    },
    {
     "data": {
      "text/html": [
       "\n",
       "\n",
       "\n",
       "\n",
       "\n",
       "\n",
       "  <div class=\"bk-root\" id=\"80427ba8-e65e-43cb-989e-5b71a0612776\" data-root-id=\"10763\"></div>\n"
      ]
     },
     "metadata": {},
     "output_type": "display_data"
    },
    {
     "data": {
      "application/javascript": [
       "(function(root) {\n",
       "  function embed_document(root) {\n",
       "    \n",
       "  var docs_json = {\"ccbcc65e-33f6-4e44-9ea8-786f32b720d6\":{\"roots\":{\"references\":[{\"attributes\":{\"below\":[{\"id\":\"10772\"}],\"center\":[{\"id\":\"10775\"},{\"id\":\"10779\"}],\"left\":[{\"id\":\"10776\"}],\"renderers\":[{\"id\":\"10797\"}],\"title\":{\"id\":\"11124\"},\"toolbar\":{\"id\":\"10787\"},\"x_range\":{\"id\":\"10764\"},\"x_scale\":{\"id\":\"10768\"},\"y_range\":{\"id\":\"10766\"},\"y_scale\":{\"id\":\"10770\"}},\"id\":\"10763\",\"subtype\":\"Figure\",\"type\":\"Plot\"},{\"attributes\":{},\"id\":\"11125\",\"type\":\"BasicTickFormatter\"},{\"attributes\":{},\"id\":\"11127\",\"type\":\"BasicTickFormatter\"},{\"attributes\":{\"data\":{\"left\":{\"__ndarray__\":\"QEZRDcxuur8Yvx/bVGylP6yCOHSQ7cc/yYrU2AVA1T881Ix3Q4neP9iOIotA6eM/kbN+Wt+N6D9K2NopfjLtP4J+m3yO6/A/35BJ5N098z8=\",\"dtype\":\"float64\",\"shape\":[10]},\"right\":{\"__ndarray__\":\"GL8f21RspT+sgjh0kO3HP8mK1NgFQNU/PNSMd0OJ3j/YjiKLQOnjP5Gzflrfjeg/StjaKX4y7T+Cfpt8juvwP9+QSeTdPfM/PKP3Sy2Q9T8=\",\"dtype\":\"float64\",\"shape\":[10]},\"top\":{\"__ndarray__\":\"Q2b1jinCrz/nv38x8g3GP7SsEfMGndU/U17yEybf8D9K5luuyO/2P0sOnxDTy/o/7F9Z+VnZ8z+BaZCYzxHkP6rMhJvPOsw/6v8ywcGksT8=\",\"dtype\":\"float64\",\"shape\":[10]}},\"selected\":{\"id\":\"11130\"},\"selection_policy\":{\"id\":\"11129\"}},\"id\":\"10794\",\"type\":\"ColumnDataSource\"},{\"attributes\":{},\"id\":\"10770\",\"type\":\"LinearScale\"},{\"attributes\":{},\"id\":\"10766\",\"type\":\"DataRange1d\"},{\"attributes\":{\"source\":{\"id\":\"10794\"}},\"id\":\"10798\",\"type\":\"CDSView\"},{\"attributes\":{},\"id\":\"10768\",\"type\":\"LinearScale\"},{\"attributes\":{},\"id\":\"10764\",\"type\":\"DataRange1d\"},{\"attributes\":{},\"id\":\"10783\",\"type\":\"SaveTool\"},{\"attributes\":{\"bottom_units\":\"screen\",\"fill_alpha\":0.5,\"fill_color\":\"lightgrey\",\"left_units\":\"screen\",\"level\":\"overlay\",\"line_alpha\":1.0,\"line_color\":\"black\",\"line_dash\":[4,4],\"line_width\":2,\"render_mode\":\"css\",\"right_units\":\"screen\",\"top_units\":\"screen\"},\"id\":\"10786\",\"type\":\"BoxAnnotation\"},{\"attributes\":{},\"id\":\"10784\",\"type\":\"ResetTool\"},{\"attributes\":{\"formatter\":{\"id\":\"11125\"},\"ticker\":{\"id\":\"10773\"}},\"id\":\"10772\",\"type\":\"LinearAxis\"},{\"attributes\":{},\"id\":\"10781\",\"type\":\"WheelZoomTool\"},{\"attributes\":{},\"id\":\"10773\",\"type\":\"BasicTicker\"},{\"attributes\":{\"active_drag\":\"auto\",\"active_inspect\":\"auto\",\"active_multi\":null,\"active_scroll\":\"auto\",\"active_tap\":\"auto\",\"tools\":[{\"id\":\"10780\"},{\"id\":\"10781\"},{\"id\":\"10782\"},{\"id\":\"10783\"},{\"id\":\"10784\"},{\"id\":\"10785\"}]},\"id\":\"10787\",\"type\":\"Toolbar\"},{\"attributes\":{\"bottom\":{\"value\":0},\"fill_alpha\":{\"value\":0.1},\"fill_color\":{\"value\":\"#1f77b4\"},\"left\":{\"field\":\"left\"},\"line_alpha\":{\"value\":0.1},\"line_color\":{\"value\":\"#1f77b4\"},\"right\":{\"field\":\"right\"},\"top\":{\"field\":\"top\"}},\"id\":\"10796\",\"type\":\"Quad\"},{\"attributes\":{},\"id\":\"11130\",\"type\":\"Selection\"},{\"attributes\":{\"axis\":{\"id\":\"10776\"},\"dimension\":1,\"ticker\":null},\"id\":\"10779\",\"type\":\"Grid\"},{\"attributes\":{\"text\":\"\"},\"id\":\"11124\",\"type\":\"Title\"},{\"attributes\":{\"formatter\":{\"id\":\"11127\"},\"ticker\":{\"id\":\"10777\"}},\"id\":\"10776\",\"type\":\"LinearAxis\"},{\"attributes\":{\"axis\":{\"id\":\"10772\"},\"ticker\":null},\"id\":\"10775\",\"type\":\"Grid\"},{\"attributes\":{},\"id\":\"10777\",\"type\":\"BasicTicker\"},{\"attributes\":{\"bottom\":{\"value\":0},\"fill_alpha\":{\"value\":0.4},\"fill_color\":{\"value\":\"#1f77b4\"},\"left\":{\"field\":\"left\"},\"line_alpha\":{\"value\":0.4},\"line_color\":{\"value\":\"#1f77b4\"},\"right\":{\"field\":\"right\"},\"top\":{\"field\":\"top\"}},\"id\":\"10795\",\"type\":\"Quad\"},{\"attributes\":{},\"id\":\"11129\",\"type\":\"UnionRenderers\"},{\"attributes\":{\"overlay\":{\"id\":\"10786\"}},\"id\":\"10782\",\"type\":\"BoxZoomTool\"},{\"attributes\":{\"data_source\":{\"id\":\"10794\"},\"glyph\":{\"id\":\"10795\"},\"hover_glyph\":null,\"muted_glyph\":null,\"nonselection_glyph\":{\"id\":\"10796\"},\"selection_glyph\":null,\"view\":{\"id\":\"10798\"}},\"id\":\"10797\",\"type\":\"GlyphRenderer\"},{\"attributes\":{},\"id\":\"10780\",\"type\":\"PanTool\"},{\"attributes\":{},\"id\":\"10785\",\"type\":\"HelpTool\"}],\"root_ids\":[\"10763\"]},\"title\":\"Bokeh Application\",\"version\":\"2.0.2\"}};\n",
       "  var render_items = [{\"docid\":\"ccbcc65e-33f6-4e44-9ea8-786f32b720d6\",\"root_ids\":[\"10763\"],\"roots\":{\"10763\":\"80427ba8-e65e-43cb-989e-5b71a0612776\"}}];\n",
       "  root.Bokeh.embed.embed_items_notebook(docs_json, render_items);\n",
       "\n",
       "  }\n",
       "  if (root.Bokeh !== undefined) {\n",
       "    embed_document(root);\n",
       "  } else {\n",
       "    var attempts = 0;\n",
       "    var timer = setInterval(function(root) {\n",
       "      if (root.Bokeh !== undefined) {\n",
       "        clearInterval(timer);\n",
       "        embed_document(root);\n",
       "      } else {\n",
       "        attempts++;\n",
       "        if (attempts > 100) {\n",
       "          clearInterval(timer);\n",
       "          console.log(\"Bokeh: ERROR: Unable to run BokehJS code because BokehJS library is missing\");\n",
       "        }\n",
       "      }\n",
       "    }, 10, root)\n",
       "  }\n",
       "})(window);"
      ],
      "application/vnd.bokehjs_exec.v0+json": ""
     },
     "metadata": {
      "application/vnd.bokehjs_exec.v0+json": {
       "id": "10763"
      }
     },
     "output_type": "display_data"
    }
   ],
   "source": [
    "\"\"\"\n",
    "Let's visualialize the data. \n",
    "\"\"\"\n",
    "pop1 = [random.gauss(7, 1) for x in range(40)]\n",
    "pop2 = [random.gauss(6.2, 1) for x in range(40)]\n",
    "real_diff = np.mean(pop1) - np.mean(pop2)\n",
    "print('real difference is {r}'.format(r = real_diff))\n",
    "a,b = resample_two_samples(pop1, pop2, num_iterations=1000)\n",
    "together = np.array(a) - np.array(b)\n",
    "\n",
    "hist, edges = np.histogram(together, bins = 10, density=True)\n",
    "p_hist = figure()\n",
    "p_hist.quad(top = hist, bottom=0, left=edges[:-1], right=edges[1:], alpha = .4)\n",
    "show(p_hist)"
   ]
  },
  {
   "cell_type": "code",
   "execution_count": 188,
   "metadata": {},
   "outputs": [
    {
     "name": "stdout",
     "output_type": "stream",
     "text": [
      "The way to interpret the graph is: this shows the results from random sampling if the \n",
      "samples were drawn from the same population. If the two samples were drawn from the same\n",
      "population, we shoud see the mean of 0, with a the right tail at about 1, and left tail at -1.\n",
      "\n",
      "But we see the mean is at 1.25. Importantly, we see that the difference of 0 occurrs almost \n",
      "not at all. In another words, if the difference between the two sample were random, we would \n",
      "see 0 less than 5% of the time (calculated below).\n",
      "\n",
      "We reject the null hypothesis, that the two samples came from the same population.\n"
     ]
    }
   ],
   "source": [
    "print(\"\"\"The way to interpret the graph is: this shows the results from random sampling if the \n",
    "samples were drawn from the same population. If the two samples were drawn from the same\n",
    "population, we shoud see the mean of 0, with a the right tail at about 1, and left tail at -1.\\n\n",
    "But we see the mean is at 1.25. Importantly, we see that the difference of 0 occurrs almost \n",
    "not at all. In another words, if the difference between the two sample were random, we would \n",
    "see 0 less than 1% of the time (calculated below).\n",
    "\n",
    "We reject the null hypothesis, that the two samples came from the same population.\"\"\")\n"
   ]
  },
  {
   "cell_type": "code",
   "execution_count": 191,
   "metadata": {},
   "outputs": [
    {
     "name": "stdout",
     "output_type": "stream",
     "text": [
      "length of data is 1000\n",
      "[1.042334893723023, 0.4727128644206431, 0.29946293659650713, 0.6843044984896451, 0.055206741971785434]\n",
      "number greater than zero is 995\n",
      "0.995\n",
      "p values is 0.0050000000000000044\n"
     ]
    }
   ],
   "source": [
    "#let's get a p value, the probability that if the null hypothesis were true, we would see the data\n",
    "len_of_data = len(together)\n",
    "print('length of data is {l}'.format(l = len_of_data))\n",
    "# list of valus > 0\n",
    "greater_than_zero = [x for x in together if x > 0]\n",
    "print(greater_than_zero[0:5]) # just a test\n",
    "len_greater_than_zero = len(greater_than_zero)\n",
    "print('number greater than zero is {n}'.format(n = len_greater_than_zero))\n",
    "probability_gt_0 = len_greater_than_zero/len_of_data\n",
    "print(probability_gt_0)\n",
    "# the probability that 0 will occur is 1 minus this number\n",
    "p_value = 1 - probability_gt_0\n",
    "print('p values is {p}'.format(p = p_value))\n"
   ]
  },
  {
   "cell_type": "code",
   "execution_count": 130,
   "metadata": {},
   "outputs": [],
   "source": [
    "def do_stats(res1, res2, diff = 0, two_tail = False):\n",
    "    \"\"\"\n",
    "    diff res1 - res2\n",
    "    \"\"\"\n",
    "    mean1 = np.mean(res1)\n",
    "    mean2 = np.mean(res2)\n",
    "    together = np.array(res1) - np.array(res2)\n",
    "    all_diff = [x for x in together if x > diff]\n",
    "    num_diff = len(all_diff)\n",
    "    p = 1 - num_diff/len(res1)\n",
    "    d = {'p': p,\n",
    "         'mean': np.mean(together)\n",
    "        \n",
    "    }\n",
    "    \n",
    "    return d\n",
    "# let's test\n",
    "d = resample_two_samples(pop1, pop2)\n",
    "#do_stats(a,b)"
   ]
  },
  {
   "cell_type": "code",
   "execution_count": 98,
   "metadata": {},
   "outputs": [],
   "source": [
    "def do_hist(x, bins=10):\n",
    "  hist, edges = np.histogram(x, bins = bins, density=True)\n",
    "  p_hist = figure()\n",
    "  p_hist.quad(top = hist, bottom=0, left=edges[:-1], right=edges[1:], alpha = .4)\n",
    "  return p_hist"
   ]
  },
  {
   "cell_type": "code",
   "execution_count": 157,
   "metadata": {},
   "outputs": [
    {
     "name": "stdout",
     "output_type": "stream",
     "text": [
      "theoretical is 0.03 and resample is 0.04\n"
     ]
    }
   ],
   "source": [
    "\"\"\"Want to test this using traditonals stats\"\"\"\n",
    "from scipy import stats\n",
    "def testit1(m1, m2, s1, s2):\n",
    "    the_pop1 = [random.gauss(m1, s1) for x in range(size1)]\n",
    "    the_pop2 = [random.gauss(m2, s2) for x in range(size2)]\n",
    "    p_theory = stats.ttest_ind(the_pop1,the_pop2)[1]\n",
    "    a,b = resample_two_samples(the_pop1, the_pop2, num_iterations=1000)\n",
    "    together = np.array(a) - np.array(b)\n",
    "    p_fig = do_hist(together)\n",
    "    p_resample = do_stats(b,a)['p']\n",
    "    print('theoretical is {t} and resample is {r}'.format(\n",
    "        t = round(p_theory/2,2), r = round(p_resample,2)))\n",
    "\n",
    "testit1(m1 = 6, m2 = 7, s1 = 5, s2 = 3)\n",
    "    "
   ]
  },
  {
   "cell_type": "code",
   "execution_count": 107,
   "metadata": {},
   "outputs": [],
   "source": [
    "path = 'data/states.csv'\n",
    "DF = pd.read_csv(path)"
   ]
  },
  {
   "cell_type": "code",
   "execution_count": 156,
   "metadata": {},
   "outputs": [
    {
     "name": "stdout",
     "output_type": "stream",
     "text": [
      "Alabama 13.0 10.0 0.28\n",
      "Alaska 0.0 0.0 0.67\n",
      "Arizona 20.0 22.0 0.4\n",
      "Arkansas 3.0 1.0 0.1\n",
      "California 75.0 71.0 0.41\n",
      "Colorado 21.0 34.0 0.03\n",
      "Connecticut 68.0 58.0 0.22\n",
      "Delaware 7.0 9.0 0.16\n",
      "District of Columbia 10.0 8.0 0.13\n",
      "Florida 44.0 38.0 0.29\n",
      "Georgia 29.0 25.0 0.29\n",
      "Guam 0.0 0.0 1.0\n",
      "Hawaii 0.0 0.0 0.71\n",
      "Idaho 1.0 1.0 0.22\n",
      "Illinois 114.0 105.0 0.4\n",
      "Indiana 40.0 35.0 0.3\n",
      "Iowa 11.0 13.0 0.27\n",
      "Kansas 3.0 3.0 0.39\n",
      "Kentucky 7.0 7.0 0.43\n",
      "Louisiana 38.0 32.0 0.35\n",
      "Maine 1.0 1.0 0.5\n",
      "Maryland 52.0 45.0 0.12\n",
      "Massachusetts 136.0 107.0 0.06\n",
      "Michigan 75.0 49.0 0.03\n",
      "Minnesota 23.0 21.0 0.33\n",
      "Mississippi 15.0 15.0 0.49\n",
      "Missouri 16.0 14.0 0.36\n",
      "Montana 0.0 0.0 1.0\n",
      "Nebraska 3.0 5.0 0.03\n",
      "Nevada 7.0 7.0 0.51\n",
      "New Hampshire 6.0 6.0 0.55\n",
      "New Jersey 209.0 149.0 0.09\n",
      "New Mexico 8.0 7.0 0.21\n",
      "New York 297.0 156.0 0.0\n",
      "North Carolina 18.0 15.0 0.21\n",
      "North Dakota 2.0 1.0 0.42\n",
      "Northern Mariana Islands 0.0 0.0 1.0\n",
      "Ohio 39.0 43.0 0.32\n",
      "Oklahoma 5.0 3.0 0.17\n",
      "Oregon 2.0 1.0 0.22\n",
      "Pennsylvania 122.0 99.0 0.31\n",
      "Puerto Rico 2.0 1.0 0.3\n",
      "Rhode Island 15.0 11.0 0.12\n",
      "South Carolina 9.0 6.0 0.02\n",
      "South Dakota 2.0 1.0 0.2\n",
      "Tennessee 5.0 5.0 0.52\n",
      "Texas 31.0 33.0 0.3\n",
      "Utah 2.0 2.0 0.47\n",
      "Vermont 0.0 0.0 0.21\n",
      "Virgin Islands 0.0 0.0 0.53\n",
      "Virginia 29.0 21.0 0.17\n",
      "Washington 12.0 10.0 0.18\n",
      "West Virginia 1.0 1.0 0.49\n",
      "Wisconsin 8.0 9.0 0.43\n",
      "Wyoming 0.0 1.0 0.01\n"
     ]
    }
   ],
   "source": [
    "def diff_week(df, last_index = -14):\n",
    "    all_states = list(set(df['state']))\n",
    "    for i in sorted(all_states):\n",
    "        df_ = df[df['state'] == i]\n",
    "        deaths = df_['deaths'].tolist()\n",
    "        deaths_last = deaths[last_index:-7]\n",
    "        deaths_cur = deaths[-7:]\n",
    "        if np.mean(deaths_last) > np.mean(deaths_cur):\n",
    "            a, b = resample_two_samples(deaths_last, deaths_cur, num_iterations = 100)\n",
    "        else:\n",
    "            a, b = resample_two_samples(deaths_cur, deaths_last, num_iterations = 100)\n",
    "        the_dict  = do_stats(a,b)\n",
    "        print(i,round(np.mean(deaths_last)),round(np.mean(deaths_cur)), round(the_dict['p'],2 ))\n",
    "diff_week(DF, last_index = -21)"
   ]
  },
  {
   "cell_type": "code",
   "execution_count": 207,
   "metadata": {},
   "outputs": [
    {
     "name": "stdout",
     "output_type": "stream",
     "text": [
      "15.285714285714286 10.285714285714286\n"
     ]
    },
    {
     "data": {
      "text/html": [
       "\n",
       "\n",
       "\n",
       "\n",
       "\n",
       "\n",
       "  <div class=\"bk-root\" id=\"5aadfd9f-0a81-4f8c-bed7-76859c83481b\" data-root-id=\"15398\"></div>\n"
      ]
     },
     "metadata": {},
     "output_type": "display_data"
    },
    {
     "data": {
      "application/javascript": [
       "(function(root) {\n",
       "  function embed_document(root) {\n",
       "    \n",
       "  var docs_json = {\"20247f36-7cb2-4845-8e8f-4c3f9e758da4\":{\"roots\":{\"references\":[{\"attributes\":{\"below\":[{\"id\":\"15407\"}],\"center\":[{\"id\":\"15410\"},{\"id\":\"15414\"}],\"left\":[{\"id\":\"15411\"}],\"renderers\":[{\"id\":\"15432\"}],\"title\":{\"id\":\"15849\"},\"toolbar\":{\"id\":\"15422\"},\"x_range\":{\"id\":\"15399\"},\"x_scale\":{\"id\":\"15403\"},\"y_range\":{\"id\":\"15401\"},\"y_scale\":{\"id\":\"15405\"}},\"id\":\"15398\",\"subtype\":\"Figure\",\"type\":\"Plot\"},{\"attributes\":{\"data_source\":{\"id\":\"15429\"},\"glyph\":{\"id\":\"15430\"},\"hover_glyph\":null,\"muted_glyph\":null,\"nonselection_glyph\":{\"id\":\"15431\"},\"selection_glyph\":null,\"view\":{\"id\":\"15433\"}},\"id\":\"15432\",\"type\":\"GlyphRenderer\"},{\"attributes\":{\"bottom_units\":\"screen\",\"fill_alpha\":0.5,\"fill_color\":\"lightgrey\",\"left_units\":\"screen\",\"level\":\"overlay\",\"line_alpha\":1.0,\"line_color\":\"black\",\"line_dash\":[4,4],\"line_width\":2,\"render_mode\":\"css\",\"right_units\":\"screen\",\"top_units\":\"screen\"},\"id\":\"15421\",\"type\":\"BoxAnnotation\"},{\"attributes\":{\"bottom\":{\"value\":0},\"fill_alpha\":{\"value\":0.1},\"fill_color\":{\"value\":\"#1f77b4\"},\"left\":{\"field\":\"left\"},\"line_alpha\":{\"value\":0.1},\"line_color\":{\"value\":\"#1f77b4\"},\"right\":{\"field\":\"right\"},\"top\":{\"field\":\"top\"}},\"id\":\"15431\",\"type\":\"Quad\"},{\"attributes\":{\"data\":{\"left\":{\"__ndarray__\":\"tm3btm3bFsDnoA7qoA4KwIiZmZmZmem/SKiDOqiD+j9UB3VQB3UQQJYkSZIkSRpA7aAO6qAOIkCNr/iKr/gmQC++4iu+4itAaGZmZmZmMEA=\",\"dtype\":\"float64\",\"shape\":[10]},\"right\":{\"__ndarray__\":\"56AO6qAOCsCImZmZmZnpv0iogzqog/o/VAd1UAd1EECWJEmSJEkaQO2gDuqgDiJAja/4iq/4JkAvvuIrvuIrQGhmZmZmZjBAuG3btm3bMkA=\",\"dtype\":\"float64\",\"shape\":[10]},\"top\":{\"__ndarray__\":\"XbcK4XWrkD8ME5DRMAGpP+HA0kkOLJ0/NmVNWVPWtD/kwNJJDiytP7y5PPuby7M/EhOQ0TABqT9atwrhdaugPw0TkNEwAYk/YbcK4XWrcD8=\",\"dtype\":\"float64\",\"shape\":[10]}},\"selected\":{\"id\":\"15855\"},\"selection_policy\":{\"id\":\"15854\"}},\"id\":\"15429\",\"type\":\"ColumnDataSource\"},{\"attributes\":{\"axis\":{\"id\":\"15407\"},\"ticker\":null},\"id\":\"15410\",\"type\":\"Grid\"},{\"attributes\":{},\"id\":\"15854\",\"type\":\"UnionRenderers\"},{\"attributes\":{},\"id\":\"15412\",\"type\":\"BasicTicker\"},{\"attributes\":{},\"id\":\"15401\",\"type\":\"DataRange1d\"},{\"attributes\":{\"axis\":{\"id\":\"15411\"},\"dimension\":1,\"ticker\":null},\"id\":\"15414\",\"type\":\"Grid\"},{\"attributes\":{\"bottom\":{\"value\":0},\"fill_alpha\":{\"value\":0.4},\"fill_color\":{\"value\":\"#1f77b4\"},\"left\":{\"field\":\"left\"},\"line_alpha\":{\"value\":0.4},\"line_color\":{\"value\":\"#1f77b4\"},\"right\":{\"field\":\"right\"},\"top\":{\"field\":\"top\"}},\"id\":\"15430\",\"type\":\"Quad\"},{\"attributes\":{},\"id\":\"15399\",\"type\":\"DataRange1d\"},{\"attributes\":{\"formatter\":{\"id\":\"15852\"},\"ticker\":{\"id\":\"15412\"}},\"id\":\"15411\",\"type\":\"LinearAxis\"},{\"attributes\":{\"source\":{\"id\":\"15429\"}},\"id\":\"15433\",\"type\":\"CDSView\"},{\"attributes\":{},\"id\":\"15855\",\"type\":\"Selection\"},{\"attributes\":{},\"id\":\"15419\",\"type\":\"ResetTool\"},{\"attributes\":{},\"id\":\"15420\",\"type\":\"HelpTool\"},{\"attributes\":{},\"id\":\"15850\",\"type\":\"BasicTickFormatter\"},{\"attributes\":{\"text\":\"\"},\"id\":\"15849\",\"type\":\"Title\"},{\"attributes\":{},\"id\":\"15403\",\"type\":\"LinearScale\"},{\"attributes\":{},\"id\":\"15418\",\"type\":\"SaveTool\"},{\"attributes\":{\"formatter\":{\"id\":\"15850\"},\"ticker\":{\"id\":\"15408\"}},\"id\":\"15407\",\"type\":\"LinearAxis\"},{\"attributes\":{\"overlay\":{\"id\":\"15421\"}},\"id\":\"15417\",\"type\":\"BoxZoomTool\"},{\"attributes\":{},\"id\":\"15416\",\"type\":\"WheelZoomTool\"},{\"attributes\":{\"active_drag\":\"auto\",\"active_inspect\":\"auto\",\"active_multi\":null,\"active_scroll\":\"auto\",\"active_tap\":\"auto\",\"tools\":[{\"id\":\"15415\"},{\"id\":\"15416\"},{\"id\":\"15417\"},{\"id\":\"15418\"},{\"id\":\"15419\"},{\"id\":\"15420\"}]},\"id\":\"15422\",\"type\":\"Toolbar\"},{\"attributes\":{},\"id\":\"15405\",\"type\":\"LinearScale\"},{\"attributes\":{},\"id\":\"15852\",\"type\":\"BasicTickFormatter\"},{\"attributes\":{},\"id\":\"15408\",\"type\":\"BasicTicker\"},{\"attributes\":{},\"id\":\"15415\",\"type\":\"PanTool\"}],\"root_ids\":[\"15398\"]},\"title\":\"Bokeh Application\",\"version\":\"2.0.2\"}};\n",
       "  var render_items = [{\"docid\":\"20247f36-7cb2-4845-8e8f-4c3f9e758da4\",\"root_ids\":[\"15398\"],\"roots\":{\"15398\":\"5aadfd9f-0a81-4f8c-bed7-76859c83481b\"}}];\n",
       "  root.Bokeh.embed.embed_items_notebook(docs_json, render_items);\n",
       "\n",
       "  }\n",
       "  if (root.Bokeh !== undefined) {\n",
       "    embed_document(root);\n",
       "  } else {\n",
       "    var attempts = 0;\n",
       "    var timer = setInterval(function(root) {\n",
       "      if (root.Bokeh !== undefined) {\n",
       "        clearInterval(timer);\n",
       "        embed_document(root);\n",
       "      } else {\n",
       "        attempts++;\n",
       "        if (attempts > 100) {\n",
       "          clearInterval(timer);\n",
       "          console.log(\"Bokeh: ERROR: Unable to run BokehJS code because BokehJS library is missing\");\n",
       "        }\n",
       "      }\n",
       "    }, 10, root)\n",
       "  }\n",
       "})(window);"
      ],
      "application/vnd.bokehjs_exec.v0+json": ""
     },
     "metadata": {
      "application/vnd.bokehjs_exec.v0+json": {
       "id": "15398"
      }
     },
     "output_type": "display_data"
    }
   ],
   "source": [
    "# let's do Idaho\n",
    "df_ = DF[DF['state'] == 'Alabama']\n",
    "deaths = df_['deaths'].tolist()\n",
    "deaths_last = deaths[-14:-7]\n",
    "deaths_cur = deaths[-7:]\n",
    "print(np.mean(deaths_last), np.mean(deaths_cur))\n",
    "a, b = resample_two_samples(deaths_last, deaths_cur, num_iterations = 100)\n",
    "together = np.array(a) - np.array(b)\n",
    "show(do_hist(together))"
   ]
  },
  {
   "cell_type": "code",
   "execution_count": null,
   "metadata": {},
   "outputs": [],
   "source": []
  }
 ],
 "metadata": {
  "kernelspec": {
   "display_name": "Python 3",
   "language": "python",
   "name": "python3"
  },
  "language_info": {
   "codemirror_mode": {
    "name": "ipython",
    "version": 3
   },
   "file_extension": ".py",
   "mimetype": "text/x-python",
   "name": "python",
   "nbconvert_exporter": "python",
   "pygments_lexer": "ipython3",
   "version": "3.6.9"
  }
 },
 "nbformat": 4,
 "nbformat_minor": 4
}
