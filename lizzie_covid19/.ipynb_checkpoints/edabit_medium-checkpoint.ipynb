{
 "cells": [
  {
   "cell_type": "code",
   "execution_count": 10,
   "metadata": {},
   "outputs": [
    {
     "name": "stdout",
     "output_type": "stream",
     "text": [
      "5.477225575051661\n",
      "2.340347319320716\n",
      "1.5298193747370035\n",
      "3\n"
     ]
    }
   ],
   "source": [
    "'''Iterated Square Root\n",
    "\n",
    "The iterated square root of a number is the number of times the square root function must be applied to bring the number strictly under 2.\n",
    "\n",
    "Given an integer, return its iterated square root. Return \"invalid\" if it is negative.\n",
    "Examples\n",
    "\n",
    "i_sqrt(1) ➞ 0\n",
    "\n",
    "i_sqrt(2) ➞ 1\n",
    "\n",
    "i_sqrt(7) ➞ 2\n",
    "\n",
    "i_sqrt(27) ➞ 3\n",
    "\n",
    "i_sqrt(256) ➞ 4\n",
    "\n",
    "i_sqrt(-1) ➞ \"invalid\"'''\n",
    "\n"
   ]
  },
  {
   "cell_type": "code",
   "execution_count": 11,
   "metadata": {},
   "outputs": [
    {
     "name": "stdout",
     "output_type": "stream",
     "text": [
      "5.477225575051661\n",
      "2.340347319320716\n",
      "1.5298193747370035\n",
      "3\n"
     ]
    }
   ],
   "source": [
    "import math\n",
    "\n",
    "\n",
    "def i_sqrt(n):\n",
    "    if n < 0:\n",
    "        return 'invalid'\n",
    "\n",
    "    count = 0\n",
    "    while n >= 2:\n",
    "        n = math.sqrt(n)\n",
    "        print(n)\n",
    "        count = count + 1\n",
    "    return count\n",
    "\n",
    "print(i_sqrt(30))"
   ]
  },
  {
   "cell_type": "code",
   "execution_count": null,
   "metadata": {},
   "outputs": [],
   "source": [
    "'''\n",
    "Two Distinct Elements\n",
    "\n",
    "In each input list, every number repeats at least once, except for two. Write a function that returns the two unique numbers.\n",
    "Examples\n",
    "\n",
    "return_unique([1, 9, 8, 8, 7, 6, 1, 6]) ➞ [9, 7]\n",
    "\n",
    "return_unique([5, 5, 2, 4, 4, 4, 9, 9, 9, 1]) ➞ [2, 1]\n",
    "\n",
    "return_unique([9, 5, 6, 8, 7, 7, 1, 1, 1, 1, 1, 9, 8]) ➞ [5, 6]'''"
   ]
  },
  {
   "cell_type": "code",
   "execution_count": 14,
   "metadata": {},
   "outputs": [
    {
     "name": "stdout",
     "output_type": "stream",
     "text": [
      "[2, 1]\n"
     ]
    }
   ],
   "source": [
    "def return_unique(lst):\n",
    "    unique_num_lst = []\n",
    "    for n in lst:\n",
    "        if lst.count(n) <= 1:\n",
    "            unique_num_lst.append(n)\n",
    "    return unique_num_lst\n",
    "\n",
    "print(return_unique([5, 5, 2, 4, 4, 4, 9, 9, 9, 1]))\n",
    "\n",
    "\n",
    "# This isn't efficient way! O(n^2) --(O of n squared)  time!"
   ]
  },
  {
   "cell_type": "code",
   "execution_count": 23,
   "metadata": {},
   "outputs": [
    {
     "name": "stdout",
     "output_type": "stream",
     "text": [
      "{5: 2, 2: 1, 4: 3, 9: 3, 1: 1}\n",
      "[2, 1]\n"
     ]
    }
   ],
   "source": [
    "def return_unique(lst):\n",
    "    x = {} # Empty dictionary with number(key) and how many times it appears(values)\n",
    "    ret = [] # return a list\n",
    "    for n in lst:\n",
    "        if n in x: # if n is already in dictionary\n",
    "            x[n] = x[n] + 1 # increment how many times we have seen n\n",
    "            \n",
    "        else:\n",
    "            x[n] = 1\n",
    "            \n",
    "    print(x, end= '\\n')\n",
    "    \n",
    "    for key, value in x.items():\n",
    "        if value == 1:\n",
    "            ret.append(key) # append n in the empty list ret\n",
    "    return ret\n",
    "\n",
    "print(return_unique([5, 5, 2, 4, 4, 4, 9, 9, 9, 1]))\n",
    "\n",
    "# This is much quicker, O(n) time"
   ]
  },
  {
   "cell_type": "code",
   "execution_count": 50,
   "metadata": {},
   "outputs": [
    {
     "name": "stdout",
     "output_type": "stream",
     "text": [
      "hello world\n"
     ]
    }
   ],
   "source": [
    "'''Capital Split\n",
    "\n",
    "Create a function which adds spaces before every capital in a word. Uncapitalize the whole string afterwards.\n",
    "Examples\n",
    "\n",
    "cap_space(\"helloWorld\") ➞ \"hello world\"\n",
    "\n",
    "cap_space(\"iLoveMyTeapot\") ➞ \"i love my teapot\"\n",
    "\n",
    "cap_space(\"stayIndoors\") ➞ \"stay indoors\"'''\n",
    "\n",
    "def cap_space(txt):\n",
    "    new_t = ''\n",
    "    for c in txt:\n",
    "        if c.isupper():\n",
    "            new_t = new_t + ' '\n",
    "        new_t = new_t + c\n",
    "    return new_t.lower()\n",
    "\n",
    "print(cap_space('helloWorld'))  \n",
    "\n"
   ]
  },
  {
   "cell_type": "code",
   "execution_count": 61,
   "metadata": {},
   "outputs": [
    {
     "name": "stdout",
     "output_type": "stream",
     "text": [
      "Good Morning\n"
     ]
    }
   ],
   "source": [
    "'''Emphasise the Words\n",
    "\n",
    "The challenge is to recreate the functionality of the title() method into a function called emphasise(). The title() method capitalises the first letter of every word.\n",
    "Examples\n",
    "\n",
    "emphasise(\"hello world\") ➞ \"Hello World\"\n",
    "\n",
    "emphasise(\"GOOD MORNING\") ➞ \"Good Morning\"\n",
    "\n",
    "emphasise(\"99 red balloons!\") ➞ \"99 Red Balloons!\"'''\n",
    "\n",
    "def emphasise(txt):\n",
    "    new_t = ''\n",
    "    last_was_ws = True\n",
    "    for c in txt:\n",
    "        if c.isspace():\n",
    "            new_t = new_t + c\n",
    "            last_was_ws = True\n",
    "        else:\n",
    "            if last_was_ws:\n",
    "                new_t = new_t + c.upper()\n",
    "            else:\n",
    "                new_t = new_t + c.lower()\n",
    "            last_was_ws = False\n",
    "                       \n",
    "    return new_t\n",
    "\n",
    "print(emphasise('GOOD mORnING'))\n"
   ]
  },
  {
   "cell_type": "code",
   "execution_count": 77,
   "metadata": {},
   "outputs": [
    {
     "name": "stdout",
     "output_type": "stream",
     "text": [
      "Boom!\n"
     ]
    }
   ],
   "source": [
    "'''Seven Boom!\n",
    "\n",
    "Create a function that takes a list of numbers and return \"Boom!\" if the number 7 appears in the list. Otherwise, return \"there is no 7 in the list\".\n",
    "Examples\n",
    "\n",
    "seven_boom([1, 2, 3, 4, 5, 6, 7]) ➞ \"Boom!\"\n",
    "\n",
    "seven_boom([8, 6, 33, 100]) ➞ \"there is no 7 in the list\"\n",
    "\n",
    "seven_boom([2, 55, 60, 97, 86]) ➞ \"Boom!\"'''\n",
    "\n",
    "def seven_boom(lst):\n",
    "\tif any(\"7\" in str(i) for i in lst):\n",
    "\t\treturn \"Boom!\"\n",
    "\treturn \"there is no 7 in the list\"\n",
    "\n",
    "print(seven_boom([1,2,79]))"
   ]
  },
  {
   "cell_type": "code",
   "execution_count": null,
   "metadata": {},
   "outputs": [],
   "source": [
    "'''Reverse Coding Challenge #6\n",
    "\n",
    "This is a reverse coding challenge. Normally you're given explicit directions with how to create a function. Here, you must generate your own function to satisfy the relationship between the inputs and outputs.\n",
    "\n",
    "Your task is to create a function that, when fed the inputs below, produces the sample outputs shown.\n",
    "Examples\n",
    "\n",
    "mystery_func(152) ➞ 10\n",
    "\n",
    "mystery_func(832) ➞ 48\n",
    "\n",
    "mystery_func(19) ➞ 9\n",
    "\n",
    "mystery_func(133) ➞ 9'''\n",
    "\n",
    "def mystery_func(num):\n",
    "    lst = [int(i) for i in str(num)]\n",
    "    for i in lst:\n",
    "        "
   ]
  },
  {
   "cell_type": "code",
   "execution_count": 6,
   "metadata": {},
   "outputs": [
    {
     "name": "stdout",
     "output_type": "stream",
     "text": [
      "FizzBuzz\n",
      "Fizz\n",
      "Buzz\n",
      "8\n",
      "98\n",
      "Buzz\n"
     ]
    }
   ],
   "source": [
    "'''FizzBuzz Interview Question\n",
    "\n",
    "Create a function that takes a number as an argument and returns \"Fizz\", \"Buzz\" or \"FizzBuzz\".\n",
    "\n",
    "    If the number is a multiple of 3 the output should be \"Fizz\".\n",
    "    If the number given is a multiple of 5, the output should be \"Buzz\".\n",
    "    If the number given is a multiple of both 3 and 5, the output should be \"FizzBuzz\".\n",
    "    If the number is not a multiple of either 3 or 5, the number should be output on its own as shown in the examples below.\n",
    "    The output should always be a string even if it is not a multiple of 3 or 5.\n",
    "\n",
    "Examples\n",
    "\n",
    "fizz_buzz(3) ➞ \"Fizz\"\n",
    "\n",
    "fizz_buzz(5) ➞ \"Buzz\"\n",
    "\n",
    "fizz_buzz(15) ➞ \"FizzBuzz\"\n",
    "\n",
    "fizz_buzz(4) ➞ \"4\"'''\n",
    "\n",
    "def fizz_buzz(num):\n",
    "    if num %3 == 0 and num % 5 == 0:\n",
    "        return 'FizzBuzz'\n",
    "    if num % 3 == 0:\n",
    "        return 'Fizz'\n",
    "    if num % 5 == 0:\n",
    "        return 'Buzz'\n",
    "    else:\n",
    "        return str(num)\n",
    "    \n",
    "print(fizz_buzz(30))\n",
    "print(fizz_buzz(9))\n",
    "print(fizz_buzz(25))\n",
    "print(fizz_buzz(8))\n",
    "print(fizz_buzz(98))\n",
    "print(fizz_buzz(10))"
   ]
  },
  {
   "cell_type": "code",
   "execution_count": null,
   "metadata": {},
   "outputs": [],
   "source": []
  }
 ],
 "metadata": {
  "kernelspec": {
   "display_name": "Python 3",
   "language": "python",
   "name": "python3"
  },
  "language_info": {
   "codemirror_mode": {
    "name": "ipython",
    "version": 3
   },
   "file_extension": ".py",
   "mimetype": "text/x-python",
   "name": "python",
   "nbconvert_exporter": "python",
   "pygments_lexer": "ipython3",
   "version": "3.6.9"
  }
 },
 "nbformat": 4,
 "nbformat_minor": 4
}
