{
 "cells": [
  {
   "cell_type": "code",
   "execution_count": 2,
   "metadata": {},
   "outputs": [
    {
     "ename": "ModuleNotFoundError",
     "evalue": "No module named 'l_common.py'; 'l_common' is not a package",
     "output_type": "error",
     "traceback": [
      "\u001b[0;31m---------------------------------------------------------------------------\u001b[0m",
      "\u001b[0;31mModuleNotFoundError\u001b[0m                       Traceback (most recent call last)",
      "\u001b[0;32m<ipython-input-2-c63917d727c5>\u001b[0m in \u001b[0;36m<module>\u001b[0;34m\u001b[0m\n\u001b[0;32m----> 1\u001b[0;31m \u001b[0;32mimport\u001b[0m \u001b[0ml_common\u001b[0m\u001b[0;34m.\u001b[0m\u001b[0mpy\u001b[0m \u001b[0;32mas\u001b[0m \u001b[0mc\u001b[0m\u001b[0;34m\u001b[0m\u001b[0;34m\u001b[0m\u001b[0m\n\u001b[0m\u001b[1;32m      2\u001b[0m \u001b[0;34m\u001b[0m\u001b[0m\n\u001b[1;32m      3\u001b[0m \u001b[0;34m\u001b[0m\u001b[0m\n\u001b[1;32m      4\u001b[0m sql_str = \"\"\"\n\u001b[1;32m      5\u001b[0m     \u001b[0mselect\u001b[0m \u001b[0mdate\u001b[0m\u001b[0;34m,\u001b[0m \u001b[0mstate\u001b[0m\u001b[0;34m,\u001b[0m \u001b[0mcounty\u001b[0m\u001b[0;34m,\u001b[0m\u001b[0;34m\u001b[0m\u001b[0;34m\u001b[0m\u001b[0m\n",
      "\u001b[0;31mModuleNotFoundError\u001b[0m: No module named 'l_common.py'; 'l_common' is not a package"
     ]
    }
   ],
   "source": [
    "import l_common.py as c\n",
    "\n",
    "\n",
    "sql_str = \"\"\"\n",
    "    select date, state, county,\n",
    "    cases-lag(cases, 1) over(partition by county order by date) as daily_cases,\n",
    "    deaths-lag(deaths,1) over(partition by county order by date) as daily_deaths\n",
    "    from covid19.us_counties\n",
    "    where state in ('Washington', 'Alabama')\n",
    "    and date > date_sub(current_date(), interval 1 MONTH)\n",
    "    and lower(substr(county,1,1)) in ('a','k')\n",
    "    order by state, county, date\"\"\"\n",
    "\n",
    "col_names = ['date', 'state', 'county', 'daily_cases', 'daily_deaths']\n",
    "\n",
    "df = c.dataframe_from_sql(col_names, sql_str)\n",
    "# source = ColumnDataSource(df)\n",
    "\n",
    "# c.all_counties_graph('Washington', df)\n",
    "# c.all_counties_graph('Alabama', df)\n",
    "c.list_of_state_graph([\"Alabama\", \"Washington\"], df)\n"
   ]
  },
  {
   "cell_type": "code",
   "execution_count": null,
   "metadata": {},
   "outputs": [],
   "source": []
  },
  {
   "cell_type": "code",
   "execution_count": null,
   "metadata": {},
   "outputs": [],
   "source": []
  }
 ],
 "metadata": {
  "kernelspec": {
   "display_name": "Python 3",
   "language": "python",
   "name": "python3"
  },
  "language_info": {
   "codemirror_mode": {
    "name": "ipython",
    "version": 3
   },
   "file_extension": ".py",
   "mimetype": "text/x-python",
   "name": "python",
   "nbconvert_exporter": "python",
   "pygments_lexer": "ipython3",
   "version": "3.6.9"
  }
 },
 "nbformat": 4,
 "nbformat_minor": 4
}
