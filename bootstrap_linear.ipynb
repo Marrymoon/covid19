{
 "cells": [
  {
   "cell_type": "code",
   "execution_count": 80,
   "metadata": {},
   "outputs": [],
   "source": [
    "import numpy as np\n",
    "import random"
   ]
  },
  {
   "cell_type": "code",
   "execution_count": null,
   "metadata": {},
   "outputs": [],
   "source": [
    "import pandas as pd\n",
    "duncan = pd.read_csv('data/Duncan.csv').loc[:, [\"type\", \"income\", \"education\", \"prestige\"]]\n",
    "#duncan = pd.read_csv('data/Duncan.csv')\n",
    "duncan.head()\n",
    "X = duncan.loc[:, [\"income\", \"education\"]]\n",
    "X.head()\n",
    "y = duncan.loc[:, \"prestige\"]\n",
    "y.head()\n",
    "duncan['income']\n"
   ]
  },
  {
   "cell_type": "code",
   "execution_count": null,
   "metadata": {},
   "outputs": [],
   "source": [
    "import sklearn.linear_model as lm\n",
    "\n",
    "linear_model = lm.LinearRegression()\n",
    "linear_model.fit(X, y)\n"
   ]
  },
  {
   "cell_type": "code",
   "execution_count": null,
   "metadata": {},
   "outputs": [],
   "source": [
    "def simple_resample(n): \n",
    "   \n",
    "    return(np.random.randint(low = 0, high = n, size = n))\n",
    "\n",
    "def bootstrap(boot_pop, statistic, resample = simple_resample, replicates = 10000):\n",
    "    n = len(boot_pop)\n",
    "    ii = resample(n)\n",
    "    zz = boot_pop[ii]\n",
    "    print(zz[:,1:])\n",
    "    print(zz[:,0])\n",
    "    assert False\n",
    "    resample_estimates = np.array([statistic(boot_pop[resample(n)]) for _ in range(replicates)])\n",
    "    return resample_estimates"
   ]
  },
  {
   "cell_type": "code",
   "execution_count": null,
   "metadata": {},
   "outputs": [],
   "source": [
    "def educ_coeff(data_array):\n",
    "    X = data_array[:, 1:]\n",
    "    y = data_array[:, 0]\n",
    "    \n",
    "    linear_model = lm.LinearRegression()\n",
    "    model = linear_model.fit(X, y)\n",
    "    theta_educ = model.coef_[1]\n",
    "\n",
    "    return theta_educ\n",
    "data_array = duncan.loc[:, [\"prestige\", \"income\", \"education\"]].values\n",
    "theta_hat_sampling = bootstrap(data_array, educ_coeff)\n"
   ]
  },
  {
   "cell_type": "code",
   "execution_count": null,
   "metadata": {},
   "outputs": [],
   "source": [
    "theta_hat_sampling[0:10]"
   ]
  },
  {
   "cell_type": "code",
   "execution_count": 146,
   "metadata": {},
   "outputs": [],
   "source": [
    "x = list(range(30))\n",
    "y = [x + random.gauss(2,3) for x in x]\n",
    "X = [[x] for x in x]\n"
   ]
  },
  {
   "cell_type": "code",
   "execution_count": 162,
   "metadata": {},
   "outputs": [
    {
     "data": {
      "text/plain": [
       "0.889183192811964"
      ]
     },
     "execution_count": 162,
     "metadata": {},
     "output_type": "execute_result"
    }
   ],
   "source": [
    "zz = list(zip(X,y))\n",
    "random.shuffle(zz)\n",
    "X = [x[0] for x in zz]\n",
    "y = [x[1] for x in zz]\n",
    "linear_model = lm.LinearRegression()\n",
    "model = linear_model.fit(X, y)\n",
    "theta_educ = model.coef_[0]\n",
    "theta_educ\n"
   ]
  },
  {
   "cell_type": "code",
   "execution_count": 96,
   "metadata": {},
   "outputs": [
    {
     "data": {
      "text/plain": [
       "array([[1, 1],\n",
       "       [1, 2],\n",
       "       [2, 2],\n",
       "       [2, 3]])"
      ]
     },
     "execution_count": 96,
     "metadata": {},
     "output_type": "execute_result"
    }
   ],
   "source": [
    "X = np.array([[1, 1], [1, 2], [2, 2], [2, 3]])\n",
    "y = np.dot(X, np.array([1, 2])) + 3\n",
    "X\n",
    "X"
   ]
  }
 ],
 "metadata": {
  "kernelspec": {
   "display_name": "Python 3",
   "language": "python",
   "name": "python3"
  },
  "language_info": {
   "codemirror_mode": {
    "name": "ipython",
    "version": 3
   },
   "file_extension": ".py",
   "mimetype": "text/x-python",
   "name": "python",
   "nbconvert_exporter": "python",
   "pygments_lexer": "ipython3",
   "version": "3.6.9"
  }
 },
 "nbformat": 4,
 "nbformat_minor": 4
}
