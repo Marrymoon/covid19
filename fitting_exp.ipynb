{
 "cells": [
  {
   "cell_type": "code",
   "execution_count": 1,
   "metadata": {},
   "outputs": [],
   "source": [
    "import os"
   ]
  },
  {
   "cell_type": "code",
   "execution_count": 2,
   "metadata": {},
   "outputs": [],
   "source": [
    "import datetime\n",
    "import random\n",
    "from bokeh.io import show\n",
    "from bokeh.plotting import figure\n",
    "from bokeh.io import output_notebook\n",
    "from bokeh.layouts import gridplot\n",
    "import numpy as np"
   ]
  },
  {
   "cell_type": "code",
   "execution_count": 3,
   "metadata": {},
   "outputs": [
    {
     "data": {
      "text/html": [
       "\n",
       "    <div class=\"bk-root\">\n",
       "        <a href=\"https://bokeh.org\" target=\"_blank\" class=\"bk-logo bk-logo-small bk-logo-notebook\"></a>\n",
       "        <span id=\"1001\">Loading BokehJS ...</span>\n",
       "    </div>"
      ]
     },
     "metadata": {},
     "output_type": "display_data"
    },
    {
     "data": {
      "application/javascript": [
       "\n",
       "(function(root) {\n",
       "  function now() {\n",
       "    return new Date();\n",
       "  }\n",
       "\n",
       "  var force = true;\n",
       "\n",
       "  if (typeof root._bokeh_onload_callbacks === \"undefined\" || force === true) {\n",
       "    root._bokeh_onload_callbacks = [];\n",
       "    root._bokeh_is_loading = undefined;\n",
       "  }\n",
       "\n",
       "  var JS_MIME_TYPE = 'application/javascript';\n",
       "  var HTML_MIME_TYPE = 'text/html';\n",
       "  var EXEC_MIME_TYPE = 'application/vnd.bokehjs_exec.v0+json';\n",
       "  var CLASS_NAME = 'output_bokeh rendered_html';\n",
       "\n",
       "  /**\n",
       "   * Render data to the DOM node\n",
       "   */\n",
       "  function render(props, node) {\n",
       "    var script = document.createElement(\"script\");\n",
       "    node.appendChild(script);\n",
       "  }\n",
       "\n",
       "  /**\n",
       "   * Handle when an output is cleared or removed\n",
       "   */\n",
       "  function handleClearOutput(event, handle) {\n",
       "    var cell = handle.cell;\n",
       "\n",
       "    var id = cell.output_area._bokeh_element_id;\n",
       "    var server_id = cell.output_area._bokeh_server_id;\n",
       "    // Clean up Bokeh references\n",
       "    if (id != null && id in Bokeh.index) {\n",
       "      Bokeh.index[id].model.document.clear();\n",
       "      delete Bokeh.index[id];\n",
       "    }\n",
       "\n",
       "    if (server_id !== undefined) {\n",
       "      // Clean up Bokeh references\n",
       "      var cmd = \"from bokeh.io.state import curstate; print(curstate().uuid_to_server['\" + server_id + \"'].get_sessions()[0].document.roots[0]._id)\";\n",
       "      cell.notebook.kernel.execute(cmd, {\n",
       "        iopub: {\n",
       "          output: function(msg) {\n",
       "            var id = msg.content.text.trim();\n",
       "            if (id in Bokeh.index) {\n",
       "              Bokeh.index[id].model.document.clear();\n",
       "              delete Bokeh.index[id];\n",
       "            }\n",
       "          }\n",
       "        }\n",
       "      });\n",
       "      // Destroy server and session\n",
       "      var cmd = \"import bokeh.io.notebook as ion; ion.destroy_server('\" + server_id + \"')\";\n",
       "      cell.notebook.kernel.execute(cmd);\n",
       "    }\n",
       "  }\n",
       "\n",
       "  /**\n",
       "   * Handle when a new output is added\n",
       "   */\n",
       "  function handleAddOutput(event, handle) {\n",
       "    var output_area = handle.output_area;\n",
       "    var output = handle.output;\n",
       "\n",
       "    // limit handleAddOutput to display_data with EXEC_MIME_TYPE content only\n",
       "    if ((output.output_type != \"display_data\") || (!output.data.hasOwnProperty(EXEC_MIME_TYPE))) {\n",
       "      return\n",
       "    }\n",
       "\n",
       "    var toinsert = output_area.element.find(\".\" + CLASS_NAME.split(' ')[0]);\n",
       "\n",
       "    if (output.metadata[EXEC_MIME_TYPE][\"id\"] !== undefined) {\n",
       "      toinsert[toinsert.length - 1].firstChild.textContent = output.data[JS_MIME_TYPE];\n",
       "      // store reference to embed id on output_area\n",
       "      output_area._bokeh_element_id = output.metadata[EXEC_MIME_TYPE][\"id\"];\n",
       "    }\n",
       "    if (output.metadata[EXEC_MIME_TYPE][\"server_id\"] !== undefined) {\n",
       "      var bk_div = document.createElement(\"div\");\n",
       "      bk_div.innerHTML = output.data[HTML_MIME_TYPE];\n",
       "      var script_attrs = bk_div.children[0].attributes;\n",
       "      for (var i = 0; i < script_attrs.length; i++) {\n",
       "        toinsert[toinsert.length - 1].firstChild.setAttribute(script_attrs[i].name, script_attrs[i].value);\n",
       "        toinsert[toinsert.length - 1].firstChild.textContent = bk_div.children[0].textContent\n",
       "      }\n",
       "      // store reference to server id on output_area\n",
       "      output_area._bokeh_server_id = output.metadata[EXEC_MIME_TYPE][\"server_id\"];\n",
       "    }\n",
       "  }\n",
       "\n",
       "  function register_renderer(events, OutputArea) {\n",
       "\n",
       "    function append_mime(data, metadata, element) {\n",
       "      // create a DOM node to render to\n",
       "      var toinsert = this.create_output_subarea(\n",
       "        metadata,\n",
       "        CLASS_NAME,\n",
       "        EXEC_MIME_TYPE\n",
       "      );\n",
       "      this.keyboard_manager.register_events(toinsert);\n",
       "      // Render to node\n",
       "      var props = {data: data, metadata: metadata[EXEC_MIME_TYPE]};\n",
       "      render(props, toinsert[toinsert.length - 1]);\n",
       "      element.append(toinsert);\n",
       "      return toinsert\n",
       "    }\n",
       "\n",
       "    /* Handle when an output is cleared or removed */\n",
       "    events.on('clear_output.CodeCell', handleClearOutput);\n",
       "    events.on('delete.Cell', handleClearOutput);\n",
       "\n",
       "    /* Handle when a new output is added */\n",
       "    events.on('output_added.OutputArea', handleAddOutput);\n",
       "\n",
       "    /**\n",
       "     * Register the mime type and append_mime function with output_area\n",
       "     */\n",
       "    OutputArea.prototype.register_mime_type(EXEC_MIME_TYPE, append_mime, {\n",
       "      /* Is output safe? */\n",
       "      safe: true,\n",
       "      /* Index of renderer in `output_area.display_order` */\n",
       "      index: 0\n",
       "    });\n",
       "  }\n",
       "\n",
       "  // register the mime type if in Jupyter Notebook environment and previously unregistered\n",
       "  if (root.Jupyter !== undefined) {\n",
       "    var events = require('base/js/events');\n",
       "    var OutputArea = require('notebook/js/outputarea').OutputArea;\n",
       "\n",
       "    if (OutputArea.prototype.mime_types().indexOf(EXEC_MIME_TYPE) == -1) {\n",
       "      register_renderer(events, OutputArea);\n",
       "    }\n",
       "  }\n",
       "\n",
       "  \n",
       "  if (typeof (root._bokeh_timeout) === \"undefined\" || force === true) {\n",
       "    root._bokeh_timeout = Date.now() + 5000;\n",
       "    root._bokeh_failed_load = false;\n",
       "  }\n",
       "\n",
       "  var NB_LOAD_WARNING = {'data': {'text/html':\n",
       "     \"<div style='background-color: #fdd'>\\n\"+\n",
       "     \"<p>\\n\"+\n",
       "     \"BokehJS does not appear to have successfully loaded. If loading BokehJS from CDN, this \\n\"+\n",
       "     \"may be due to a slow or bad network connection. Possible fixes:\\n\"+\n",
       "     \"</p>\\n\"+\n",
       "     \"<ul>\\n\"+\n",
       "     \"<li>re-rerun `output_notebook()` to attempt to load from CDN again, or</li>\\n\"+\n",
       "     \"<li>use INLINE resources instead, as so:</li>\\n\"+\n",
       "     \"</ul>\\n\"+\n",
       "     \"<code>\\n\"+\n",
       "     \"from bokeh.resources import INLINE\\n\"+\n",
       "     \"output_notebook(resources=INLINE)\\n\"+\n",
       "     \"</code>\\n\"+\n",
       "     \"</div>\"}};\n",
       "\n",
       "  function display_loaded() {\n",
       "    var el = document.getElementById(\"1001\");\n",
       "    if (el != null) {\n",
       "      el.textContent = \"BokehJS is loading...\";\n",
       "    }\n",
       "    if (root.Bokeh !== undefined) {\n",
       "      if (el != null) {\n",
       "        el.textContent = \"BokehJS \" + root.Bokeh.version + \" successfully loaded.\";\n",
       "      }\n",
       "    } else if (Date.now() < root._bokeh_timeout) {\n",
       "      setTimeout(display_loaded, 100)\n",
       "    }\n",
       "  }\n",
       "\n",
       "\n",
       "  function run_callbacks() {\n",
       "    try {\n",
       "      root._bokeh_onload_callbacks.forEach(function(callback) {\n",
       "        if (callback != null)\n",
       "          callback();\n",
       "      });\n",
       "    } finally {\n",
       "      delete root._bokeh_onload_callbacks\n",
       "    }\n",
       "    console.debug(\"Bokeh: all callbacks have finished\");\n",
       "  }\n",
       "\n",
       "  function load_libs(css_urls, js_urls, callback) {\n",
       "    if (css_urls == null) css_urls = [];\n",
       "    if (js_urls == null) js_urls = [];\n",
       "\n",
       "    root._bokeh_onload_callbacks.push(callback);\n",
       "    if (root._bokeh_is_loading > 0) {\n",
       "      console.debug(\"Bokeh: BokehJS is being loaded, scheduling callback at\", now());\n",
       "      return null;\n",
       "    }\n",
       "    if (js_urls == null || js_urls.length === 0) {\n",
       "      run_callbacks();\n",
       "      return null;\n",
       "    }\n",
       "    console.debug(\"Bokeh: BokehJS not loaded, scheduling load and callback at\", now());\n",
       "    root._bokeh_is_loading = css_urls.length + js_urls.length;\n",
       "\n",
       "    function on_load() {\n",
       "      root._bokeh_is_loading--;\n",
       "      if (root._bokeh_is_loading === 0) {\n",
       "        console.debug(\"Bokeh: all BokehJS libraries/stylesheets loaded\");\n",
       "        run_callbacks()\n",
       "      }\n",
       "    }\n",
       "\n",
       "    function on_error() {\n",
       "      console.error(\"failed to load \" + url);\n",
       "    }\n",
       "\n",
       "    for (var i = 0; i < css_urls.length; i++) {\n",
       "      var url = css_urls[i];\n",
       "      const element = document.createElement(\"link\");\n",
       "      element.onload = on_load;\n",
       "      element.onerror = on_error;\n",
       "      element.rel = \"stylesheet\";\n",
       "      element.type = \"text/css\";\n",
       "      element.href = url;\n",
       "      console.debug(\"Bokeh: injecting link tag for BokehJS stylesheet: \", url);\n",
       "      document.body.appendChild(element);\n",
       "    }\n",
       "\n",
       "    const hashes = {\"https://cdn.bokeh.org/bokeh/release/bokeh-2.0.2.min.js\": \"ufR9RFnRs6lniiaFvtJziE0YeidtAgBRH6ux2oUItHw5WTvE1zuk9uzhUU/FJXDp\", \"https://cdn.bokeh.org/bokeh/release/bokeh-widgets-2.0.2.min.js\": \"8QM/PGWBT+IssZuRcDcjzwIh1mkOmJSoNMmyYDZbCfXJg3Ap1lEvdVgFuSAwhb/J\", \"https://cdn.bokeh.org/bokeh/release/bokeh-tables-2.0.2.min.js\": \"Jm8cH3Rg0P6UeZhVY5cLy1WzKajUT9KImCY+76hEqrcJt59/d8GPvFHjCkYgnSIn\", \"https://cdn.bokeh.org/bokeh/release/bokeh-gl-2.0.2.min.js\": \"Ozhzj+SI7ywm74aOI/UajcWz+C0NjsPunEVyVIrxzYkB+jA+2tUw8x5xJCbVtK5I\"};\n",
       "\n",
       "    for (var i = 0; i < js_urls.length; i++) {\n",
       "      var url = js_urls[i];\n",
       "      var element = document.createElement('script');\n",
       "      element.onload = on_load;\n",
       "      element.onerror = on_error;\n",
       "      element.async = false;\n",
       "      element.src = url;\n",
       "      if (url in hashes) {\n",
       "        element.crossOrigin = \"anonymous\";\n",
       "        element.integrity = \"sha384-\" + hashes[url];\n",
       "      }\n",
       "      console.debug(\"Bokeh: injecting script tag for BokehJS library: \", url);\n",
       "      document.head.appendChild(element);\n",
       "    }\n",
       "  };\n",
       "\n",
       "  function inject_raw_css(css) {\n",
       "    const element = document.createElement(\"style\");\n",
       "    element.appendChild(document.createTextNode(css));\n",
       "    document.body.appendChild(element);\n",
       "  }\n",
       "\n",
       "  \n",
       "  var js_urls = [\"https://cdn.bokeh.org/bokeh/release/bokeh-2.0.2.min.js\", \"https://cdn.bokeh.org/bokeh/release/bokeh-widgets-2.0.2.min.js\", \"https://cdn.bokeh.org/bokeh/release/bokeh-tables-2.0.2.min.js\", \"https://cdn.bokeh.org/bokeh/release/bokeh-gl-2.0.2.min.js\"];\n",
       "  var css_urls = [];\n",
       "  \n",
       "\n",
       "  var inline_js = [\n",
       "    function(Bokeh) {\n",
       "      Bokeh.set_log_level(\"info\");\n",
       "    },\n",
       "    function(Bokeh) {\n",
       "    \n",
       "    \n",
       "    }\n",
       "  ];\n",
       "\n",
       "  function run_inline_js() {\n",
       "    \n",
       "    if (root.Bokeh !== undefined || force === true) {\n",
       "      \n",
       "    for (var i = 0; i < inline_js.length; i++) {\n",
       "      inline_js[i].call(root, root.Bokeh);\n",
       "    }\n",
       "    if (force === true) {\n",
       "        display_loaded();\n",
       "      }} else if (Date.now() < root._bokeh_timeout) {\n",
       "      setTimeout(run_inline_js, 100);\n",
       "    } else if (!root._bokeh_failed_load) {\n",
       "      console.log(\"Bokeh: BokehJS failed to load within specified timeout.\");\n",
       "      root._bokeh_failed_load = true;\n",
       "    } else if (force !== true) {\n",
       "      var cell = $(document.getElementById(\"1001\")).parents('.cell').data().cell;\n",
       "      cell.output_area.append_execute_result(NB_LOAD_WARNING)\n",
       "    }\n",
       "\n",
       "  }\n",
       "\n",
       "  if (root._bokeh_is_loading === 0) {\n",
       "    console.debug(\"Bokeh: BokehJS loaded, going straight to plotting\");\n",
       "    run_inline_js();\n",
       "  } else {\n",
       "    load_libs(css_urls, js_urls, function() {\n",
       "      console.debug(\"Bokeh: BokehJS plotting callback run at\", now());\n",
       "      run_inline_js();\n",
       "    });\n",
       "  }\n",
       "}(window));"
      ],
      "application/vnd.bokehjs_load.v0+json": "\n(function(root) {\n  function now() {\n    return new Date();\n  }\n\n  var force = true;\n\n  if (typeof root._bokeh_onload_callbacks === \"undefined\" || force === true) {\n    root._bokeh_onload_callbacks = [];\n    root._bokeh_is_loading = undefined;\n  }\n\n  \n\n  \n  if (typeof (root._bokeh_timeout) === \"undefined\" || force === true) {\n    root._bokeh_timeout = Date.now() + 5000;\n    root._bokeh_failed_load = false;\n  }\n\n  var NB_LOAD_WARNING = {'data': {'text/html':\n     \"<div style='background-color: #fdd'>\\n\"+\n     \"<p>\\n\"+\n     \"BokehJS does not appear to have successfully loaded. If loading BokehJS from CDN, this \\n\"+\n     \"may be due to a slow or bad network connection. Possible fixes:\\n\"+\n     \"</p>\\n\"+\n     \"<ul>\\n\"+\n     \"<li>re-rerun `output_notebook()` to attempt to load from CDN again, or</li>\\n\"+\n     \"<li>use INLINE resources instead, as so:</li>\\n\"+\n     \"</ul>\\n\"+\n     \"<code>\\n\"+\n     \"from bokeh.resources import INLINE\\n\"+\n     \"output_notebook(resources=INLINE)\\n\"+\n     \"</code>\\n\"+\n     \"</div>\"}};\n\n  function display_loaded() {\n    var el = document.getElementById(\"1001\");\n    if (el != null) {\n      el.textContent = \"BokehJS is loading...\";\n    }\n    if (root.Bokeh !== undefined) {\n      if (el != null) {\n        el.textContent = \"BokehJS \" + root.Bokeh.version + \" successfully loaded.\";\n      }\n    } else if (Date.now() < root._bokeh_timeout) {\n      setTimeout(display_loaded, 100)\n    }\n  }\n\n\n  function run_callbacks() {\n    try {\n      root._bokeh_onload_callbacks.forEach(function(callback) {\n        if (callback != null)\n          callback();\n      });\n    } finally {\n      delete root._bokeh_onload_callbacks\n    }\n    console.debug(\"Bokeh: all callbacks have finished\");\n  }\n\n  function load_libs(css_urls, js_urls, callback) {\n    if (css_urls == null) css_urls = [];\n    if (js_urls == null) js_urls = [];\n\n    root._bokeh_onload_callbacks.push(callback);\n    if (root._bokeh_is_loading > 0) {\n      console.debug(\"Bokeh: BokehJS is being loaded, scheduling callback at\", now());\n      return null;\n    }\n    if (js_urls == null || js_urls.length === 0) {\n      run_callbacks();\n      return null;\n    }\n    console.debug(\"Bokeh: BokehJS not loaded, scheduling load and callback at\", now());\n    root._bokeh_is_loading = css_urls.length + js_urls.length;\n\n    function on_load() {\n      root._bokeh_is_loading--;\n      if (root._bokeh_is_loading === 0) {\n        console.debug(\"Bokeh: all BokehJS libraries/stylesheets loaded\");\n        run_callbacks()\n      }\n    }\n\n    function on_error() {\n      console.error(\"failed to load \" + url);\n    }\n\n    for (var i = 0; i < css_urls.length; i++) {\n      var url = css_urls[i];\n      const element = document.createElement(\"link\");\n      element.onload = on_load;\n      element.onerror = on_error;\n      element.rel = \"stylesheet\";\n      element.type = \"text/css\";\n      element.href = url;\n      console.debug(\"Bokeh: injecting link tag for BokehJS stylesheet: \", url);\n      document.body.appendChild(element);\n    }\n\n    const hashes = {\"https://cdn.bokeh.org/bokeh/release/bokeh-2.0.2.min.js\": \"ufR9RFnRs6lniiaFvtJziE0YeidtAgBRH6ux2oUItHw5WTvE1zuk9uzhUU/FJXDp\", \"https://cdn.bokeh.org/bokeh/release/bokeh-widgets-2.0.2.min.js\": \"8QM/PGWBT+IssZuRcDcjzwIh1mkOmJSoNMmyYDZbCfXJg3Ap1lEvdVgFuSAwhb/J\", \"https://cdn.bokeh.org/bokeh/release/bokeh-tables-2.0.2.min.js\": \"Jm8cH3Rg0P6UeZhVY5cLy1WzKajUT9KImCY+76hEqrcJt59/d8GPvFHjCkYgnSIn\", \"https://cdn.bokeh.org/bokeh/release/bokeh-gl-2.0.2.min.js\": \"Ozhzj+SI7ywm74aOI/UajcWz+C0NjsPunEVyVIrxzYkB+jA+2tUw8x5xJCbVtK5I\"};\n\n    for (var i = 0; i < js_urls.length; i++) {\n      var url = js_urls[i];\n      var element = document.createElement('script');\n      element.onload = on_load;\n      element.onerror = on_error;\n      element.async = false;\n      element.src = url;\n      if (url in hashes) {\n        element.crossOrigin = \"anonymous\";\n        element.integrity = \"sha384-\" + hashes[url];\n      }\n      console.debug(\"Bokeh: injecting script tag for BokehJS library: \", url);\n      document.head.appendChild(element);\n    }\n  };\n\n  function inject_raw_css(css) {\n    const element = document.createElement(\"style\");\n    element.appendChild(document.createTextNode(css));\n    document.body.appendChild(element);\n  }\n\n  \n  var js_urls = [\"https://cdn.bokeh.org/bokeh/release/bokeh-2.0.2.min.js\", \"https://cdn.bokeh.org/bokeh/release/bokeh-widgets-2.0.2.min.js\", \"https://cdn.bokeh.org/bokeh/release/bokeh-tables-2.0.2.min.js\", \"https://cdn.bokeh.org/bokeh/release/bokeh-gl-2.0.2.min.js\"];\n  var css_urls = [];\n  \n\n  var inline_js = [\n    function(Bokeh) {\n      Bokeh.set_log_level(\"info\");\n    },\n    function(Bokeh) {\n    \n    \n    }\n  ];\n\n  function run_inline_js() {\n    \n    if (root.Bokeh !== undefined || force === true) {\n      \n    for (var i = 0; i < inline_js.length; i++) {\n      inline_js[i].call(root, root.Bokeh);\n    }\n    if (force === true) {\n        display_loaded();\n      }} else if (Date.now() < root._bokeh_timeout) {\n      setTimeout(run_inline_js, 100);\n    } else if (!root._bokeh_failed_load) {\n      console.log(\"Bokeh: BokehJS failed to load within specified timeout.\");\n      root._bokeh_failed_load = true;\n    } else if (force !== true) {\n      var cell = $(document.getElementById(\"1001\")).parents('.cell').data().cell;\n      cell.output_area.append_execute_result(NB_LOAD_WARNING)\n    }\n\n  }\n\n  if (root._bokeh_is_loading === 0) {\n    console.debug(\"Bokeh: BokehJS loaded, going straight to plotting\");\n    run_inline_js();\n  } else {\n    load_libs(css_urls, js_urls, function() {\n      console.debug(\"Bokeh: BokehJS plotting callback run at\", now());\n      run_inline_js();\n    });\n  }\n}(window));"
     },
     "metadata": {},
     "output_type": "display_data"
    }
   ],
   "source": [
    "output_notebook()"
   ]
  },
  {
   "cell_type": "code",
   "execution_count": 4,
   "metadata": {},
   "outputs": [],
   "source": [
    "import math\n",
    "import scipy.optimize as optim\n"
   ]
  },
  {
   "cell_type": "code",
   "execution_count": 5,
   "metadata": {},
   "outputs": [],
   "source": [
    "import pandas as pd"
   ]
  },
  {
   "cell_type": "code",
   "execution_count": 6,
   "metadata": {},
   "outputs": [],
   "source": [
    "import statsmodels.api as sm\n",
    "import statsmodels.formula.api as smf\n"
   ]
  },
  {
   "cell_type": "code",
   "execution_count": 7,
   "metadata": {},
   "outputs": [],
   "source": [
    "from bokeh.embed import components\n"
   ]
  },
  {
   "cell_type": "code",
   "execution_count": 8,
   "metadata": {},
   "outputs": [],
   "source": [
    "def do_hist(x, bins=10, width = 550, height = 550, title = None):\n",
    "  hist, edges = np.histogram(x, bins = bins, density=True)\n",
    "  p_hist = figure(width = width, height = height, title = title)\n",
    "  p_hist.quad(top = hist, bottom=0, left=edges[:-1], right=edges[1:], alpha = .4)\n",
    "  return p_hist"
   ]
  },
  {
   "cell_type": "code",
   "execution_count": 9,
   "metadata": {},
   "outputs": [
    {
     "data": {
      "text/html": [
       "\n",
       "\n",
       "\n",
       "\n",
       "\n",
       "\n",
       "  <div class=\"bk-root\" id=\"065121dd-1f6c-4281-a9fb-eebac47c9037\" data-root-id=\"1002\"></div>\n"
      ]
     },
     "metadata": {},
     "output_type": "display_data"
    },
    {
     "data": {
      "application/javascript": [
       "(function(root) {\n",
       "  function embed_document(root) {\n",
       "    \n",
       "  var docs_json = {\"c472d9c8-69d9-4cbf-8eed-a407af558d48\":{\"roots\":{\"references\":[{\"attributes\":{\"below\":[{\"id\":\"1012\"}],\"center\":[{\"id\":\"1015\"},{\"id\":\"1019\"}],\"left\":[{\"id\":\"1016\"}],\"plot_height\":550,\"plot_width\":550,\"renderers\":[{\"id\":\"1037\"}],\"title\":null,\"toolbar\":{\"id\":\"1027\"},\"x_range\":{\"id\":\"1004\"},\"x_scale\":{\"id\":\"1008\"},\"y_range\":{\"id\":\"1006\"},\"y_scale\":{\"id\":\"1010\"}},\"id\":\"1002\",\"subtype\":\"Figure\",\"type\":\"Plot\"},{\"attributes\":{\"source\":{\"id\":\"1034\"}},\"id\":\"1038\",\"type\":\"CDSView\"},{\"attributes\":{\"data\":{\"left\":{\"__ndarray__\":\"c6hBX+Z3Ez9ATktejsXiPzrRsX5AxfI/U/s9zrkn/D+2EuWOGcUCQMMnqzZWdgdAzzxx3pInDEDvqBvDZ2wQQHWz/hYGxRJA+73haqQdFUA=\",\"dtype\":\"float64\",\"shape\":[10]},\"right\":{\"__ndarray__\":\"QE5LXo7F4j860bF+QMXyP1P7Pc65J/w/thLljhnFAkDDJ6s2VnYHQM88cd6SJwxA76gbw2dsEEB1s/4WBsUSQPu94WqkHRVAgsjEvkJ2F0A=\",\"dtype\":\"float64\",\"shape\":[10]},\"top\":{\"__ndarray__\":\"31p9kk7q7D+RJVVo+6PTP2+HceD5L8o/iJtekKXStT9th3Hg+S+6P6GvS0BRdZE/lq9LQFF1kT+hr0tAUXWRP6GvS0BRdZE/mq9LQFF1oT8=\",\"dtype\":\"float64\",\"shape\":[10]}},\"selected\":{\"id\":\"1046\"},\"selection_policy\":{\"id\":\"1045\"}},\"id\":\"1034\",\"type\":\"ColumnDataSource\"},{\"attributes\":{},\"id\":\"1020\",\"type\":\"PanTool\"},{\"attributes\":{},\"id\":\"1021\",\"type\":\"WheelZoomTool\"},{\"attributes\":{},\"id\":\"1041\",\"type\":\"BasicTickFormatter\"},{\"attributes\":{},\"id\":\"1023\",\"type\":\"SaveTool\"},{\"attributes\":{\"data_source\":{\"id\":\"1034\"},\"glyph\":{\"id\":\"1035\"},\"hover_glyph\":null,\"muted_glyph\":null,\"nonselection_glyph\":{\"id\":\"1036\"},\"selection_glyph\":null,\"view\":{\"id\":\"1038\"}},\"id\":\"1037\",\"type\":\"GlyphRenderer\"},{\"attributes\":{},\"id\":\"1024\",\"type\":\"ResetTool\"},{\"attributes\":{},\"id\":\"1004\",\"type\":\"DataRange1d\"},{\"attributes\":{},\"id\":\"1025\",\"type\":\"HelpTool\"},{\"attributes\":{\"bottom\":{\"value\":0},\"fill_alpha\":{\"value\":0.1},\"fill_color\":{\"value\":\"#1f77b4\"},\"left\":{\"field\":\"left\"},\"line_alpha\":{\"value\":0.1},\"line_color\":{\"value\":\"#1f77b4\"},\"right\":{\"field\":\"right\"},\"top\":{\"field\":\"top\"}},\"id\":\"1036\",\"type\":\"Quad\"},{\"attributes\":{\"overlay\":{\"id\":\"1026\"}},\"id\":\"1022\",\"type\":\"BoxZoomTool\"},{\"attributes\":{\"active_drag\":\"auto\",\"active_inspect\":\"auto\",\"active_multi\":null,\"active_scroll\":\"auto\",\"active_tap\":\"auto\",\"tools\":[{\"id\":\"1020\"},{\"id\":\"1021\"},{\"id\":\"1022\"},{\"id\":\"1023\"},{\"id\":\"1024\"},{\"id\":\"1025\"}]},\"id\":\"1027\",\"type\":\"Toolbar\"},{\"attributes\":{},\"id\":\"1006\",\"type\":\"DataRange1d\"},{\"attributes\":{},\"id\":\"1008\",\"type\":\"LinearScale\"},{\"attributes\":{},\"id\":\"1046\",\"type\":\"Selection\"},{\"attributes\":{},\"id\":\"1010\",\"type\":\"LinearScale\"},{\"attributes\":{\"bottom_units\":\"screen\",\"fill_alpha\":0.5,\"fill_color\":\"lightgrey\",\"left_units\":\"screen\",\"level\":\"overlay\",\"line_alpha\":1.0,\"line_color\":\"black\",\"line_dash\":[4,4],\"line_width\":2,\"render_mode\":\"css\",\"right_units\":\"screen\",\"top_units\":\"screen\"},\"id\":\"1026\",\"type\":\"BoxAnnotation\"},{\"attributes\":{\"formatter\":{\"id\":\"1043\"},\"ticker\":{\"id\":\"1013\"}},\"id\":\"1012\",\"type\":\"LinearAxis\"},{\"attributes\":{},\"id\":\"1013\",\"type\":\"BasicTicker\"},{\"attributes\":{\"axis\":{\"id\":\"1012\"},\"ticker\":null},\"id\":\"1015\",\"type\":\"Grid\"},{\"attributes\":{},\"id\":\"1043\",\"type\":\"BasicTickFormatter\"},{\"attributes\":{\"formatter\":{\"id\":\"1041\"},\"ticker\":{\"id\":\"1017\"}},\"id\":\"1016\",\"type\":\"LinearAxis\"},{\"attributes\":{\"bottom\":{\"value\":0},\"fill_alpha\":{\"value\":0.4},\"fill_color\":{\"value\":\"#1f77b4\"},\"left\":{\"field\":\"left\"},\"line_alpha\":{\"value\":0.4},\"line_color\":{\"value\":\"#1f77b4\"},\"right\":{\"field\":\"right\"},\"top\":{\"field\":\"top\"}},\"id\":\"1035\",\"type\":\"Quad\"},{\"attributes\":{},\"id\":\"1017\",\"type\":\"BasicTicker\"},{\"attributes\":{},\"id\":\"1045\",\"type\":\"UnionRenderers\"},{\"attributes\":{\"axis\":{\"id\":\"1016\"},\"dimension\":1,\"ticker\":null},\"id\":\"1019\",\"type\":\"Grid\"}],\"root_ids\":[\"1002\"]},\"title\":\"Bokeh Application\",\"version\":\"2.0.2\"}};\n",
       "  var render_items = [{\"docid\":\"c472d9c8-69d9-4cbf-8eed-a407af558d48\",\"root_ids\":[\"1002\"],\"roots\":{\"1002\":\"065121dd-1f6c-4281-a9fb-eebac47c9037\"}}];\n",
       "  root.Bokeh.embed.embed_items_notebook(docs_json, render_items);\n",
       "\n",
       "  }\n",
       "  if (root.Bokeh !== undefined) {\n",
       "    embed_document(root);\n",
       "  } else {\n",
       "    var attempts = 0;\n",
       "    var timer = setInterval(function(root) {\n",
       "      if (root.Bokeh !== undefined) {\n",
       "        clearInterval(timer);\n",
       "        embed_document(root);\n",
       "      } else {\n",
       "        attempts++;\n",
       "        if (attempts > 100) {\n",
       "          clearInterval(timer);\n",
       "          console.log(\"Bokeh: ERROR: Unable to run BokehJS code because BokehJS library is missing\");\n",
       "        }\n",
       "      }\n",
       "    }, 10, root)\n",
       "  }\n",
       "})(window);"
      ],
      "application/vnd.bokehjs_exec.v0+json": ""
     },
     "metadata": {
      "application/vnd.bokehjs_exec.v0+json": {
       "id": "1002"
      }
     },
     "output_type": "display_data"
    }
   ],
   "source": [
    "X = [random.gauss(mu = 0, sigma = 1) for x in range(100)]\n",
    "X2 = [x**2 for x in X]\n",
    "p = do_hist(X2)\n",
    "show(p)"
   ]
  },
  {
   "cell_type": "code",
   "execution_count": 10,
   "metadata": {
    "scrolled": true
   },
   "outputs": [
    {
     "data": {
      "text/html": [
       "\n",
       "\n",
       "\n",
       "\n",
       "\n",
       "\n",
       "  <div class=\"bk-root\" id=\"8e77bd80-53a3-40d2-80ad-236f9243a6fc\" data-root-id=\"1095\"></div>\n"
      ]
     },
     "metadata": {},
     "output_type": "display_data"
    },
    {
     "data": {
      "application/javascript": [
       "(function(root) {\n",
       "  function embed_document(root) {\n",
       "    \n",
       "  var docs_json = {\"31453fbe-963c-4a3c-ba80-932f55c14342\":{\"roots\":{\"references\":[{\"attributes\":{\"below\":[{\"id\":\"1105\"}],\"center\":[{\"id\":\"1108\"},{\"id\":\"1112\"}],\"left\":[{\"id\":\"1109\"}],\"plot_height\":550,\"plot_width\":550,\"renderers\":[{\"id\":\"1130\"}],\"title\":null,\"toolbar\":{\"id\":\"1120\"},\"x_range\":{\"id\":\"1097\"},\"x_scale\":{\"id\":\"1101\"},\"y_range\":{\"id\":\"1099\"},\"y_scale\":{\"id\":\"1103\"}},\"id\":\"1095\",\"subtype\":\"Figure\",\"type\":\"Plot\"},{\"attributes\":{\"bottom\":{\"value\":0},\"fill_alpha\":{\"value\":0.1},\"fill_color\":{\"value\":\"#1f77b4\"},\"left\":{\"field\":\"left\"},\"line_alpha\":{\"value\":0.1},\"line_color\":{\"value\":\"#1f77b4\"},\"right\":{\"field\":\"right\"},\"top\":{\"field\":\"top\"}},\"id\":\"1129\",\"type\":\"Quad\"},{\"attributes\":{},\"id\":\"1113\",\"type\":\"PanTool\"},{\"attributes\":{},\"id\":\"1099\",\"type\":\"DataRange1d\"},{\"attributes\":{\"bottom\":{\"value\":0},\"fill_alpha\":{\"value\":0.4},\"fill_color\":{\"value\":\"#1f77b4\"},\"left\":{\"field\":\"left\"},\"line_alpha\":{\"value\":0.4},\"line_color\":{\"value\":\"#1f77b4\"},\"right\":{\"field\":\"right\"},\"top\":{\"field\":\"top\"}},\"id\":\"1128\",\"type\":\"Quad\"},{\"attributes\":{},\"id\":\"1101\",\"type\":\"LinearScale\"},{\"attributes\":{},\"id\":\"1114\",\"type\":\"WheelZoomTool\"},{\"attributes\":{\"overlay\":{\"id\":\"1119\"}},\"id\":\"1115\",\"type\":\"BoxZoomTool\"},{\"attributes\":{},\"id\":\"1116\",\"type\":\"SaveTool\"},{\"attributes\":{},\"id\":\"1142\",\"type\":\"BasicTickFormatter\"},{\"attributes\":{},\"id\":\"1103\",\"type\":\"LinearScale\"},{\"attributes\":{},\"id\":\"1117\",\"type\":\"ResetTool\"},{\"attributes\":{},\"id\":\"1118\",\"type\":\"HelpTool\"},{\"attributes\":{\"formatter\":{\"id\":\"1144\"},\"ticker\":{\"id\":\"1106\"}},\"id\":\"1105\",\"type\":\"LinearAxis\"},{\"attributes\":{},\"id\":\"1146\",\"type\":\"UnionRenderers\"},{\"attributes\":{\"active_drag\":\"auto\",\"active_inspect\":\"auto\",\"active_multi\":null,\"active_scroll\":\"auto\",\"active_tap\":\"auto\",\"tools\":[{\"id\":\"1113\"},{\"id\":\"1114\"},{\"id\":\"1115\"},{\"id\":\"1116\"},{\"id\":\"1117\"},{\"id\":\"1118\"}]},\"id\":\"1120\",\"type\":\"Toolbar\"},{\"attributes\":{\"data\":{\"left\":{\"__ndarray__\":\"KtE4x8dVLkEycX+MVmAuQTkRxlHlai5BQbEMF3R1LkFJUVPcAoAuQVDxmaGRii5BWJHgZiCVLkFgMScsr58uQWjRbfE9qi5Bb3G0tsy0LkE=\",\"dtype\":\"float64\",\"shape\":[10]},\"right\":{\"__ndarray__\":\"MnF/jFZgLkE5EcZR5WouQUGxDBd0dS5BSVFT3AKALkFQ8ZmhkYouQViR4GYglS5BYDEnLK+fLkFo0W3xPaouQW9xtLbMtC5BdxH7e1u/LkE=\",\"dtype\":\"float64\",\"shape\":[10]},\"top\":{\"__ndarray__\":\"/AbIZ30J3z6uCM+6TSgLP62FUuS1Nxk/JcSedaJtIj+VhWCKVnUhP/wGyGd9CR8/XQTdYO5lAz8cBs+6TSgbP+wJyGd9Cf8+PAXWDR5H9z4=\",\"dtype\":\"float64\",\"shape\":[10]}},\"selected\":{\"id\":\"1147\"},\"selection_policy\":{\"id\":\"1146\"}},\"id\":\"1127\",\"type\":\"ColumnDataSource\"},{\"attributes\":{\"source\":{\"id\":\"1127\"}},\"id\":\"1131\",\"type\":\"CDSView\"},{\"attributes\":{},\"id\":\"1144\",\"type\":\"BasicTickFormatter\"},{\"attributes\":{\"axis\":{\"id\":\"1105\"},\"ticker\":null},\"id\":\"1108\",\"type\":\"Grid\"},{\"attributes\":{\"data_source\":{\"id\":\"1127\"},\"glyph\":{\"id\":\"1128\"},\"hover_glyph\":null,\"muted_glyph\":null,\"nonselection_glyph\":{\"id\":\"1129\"},\"selection_glyph\":null,\"view\":{\"id\":\"1131\"}},\"id\":\"1130\",\"type\":\"GlyphRenderer\"},{\"attributes\":{\"bottom_units\":\"screen\",\"fill_alpha\":0.5,\"fill_color\":\"lightgrey\",\"left_units\":\"screen\",\"level\":\"overlay\",\"line_alpha\":1.0,\"line_color\":\"black\",\"line_dash\":[4,4],\"line_width\":2,\"render_mode\":\"css\",\"right_units\":\"screen\",\"top_units\":\"screen\"},\"id\":\"1119\",\"type\":\"BoxAnnotation\"},{\"attributes\":{},\"id\":\"1106\",\"type\":\"BasicTicker\"},{\"attributes\":{},\"id\":\"1110\",\"type\":\"BasicTicker\"},{\"attributes\":{\"axis\":{\"id\":\"1109\"},\"dimension\":1,\"ticker\":null},\"id\":\"1112\",\"type\":\"Grid\"},{\"attributes\":{},\"id\":\"1147\",\"type\":\"Selection\"},{\"attributes\":{\"formatter\":{\"id\":\"1142\"},\"ticker\":{\"id\":\"1110\"}},\"id\":\"1109\",\"type\":\"LinearAxis\"},{\"attributes\":{},\"id\":\"1097\",\"type\":\"DataRange1d\"}],\"root_ids\":[\"1095\"]},\"title\":\"Bokeh Application\",\"version\":\"2.0.2\"}};\n",
       "  var render_items = [{\"docid\":\"31453fbe-963c-4a3c-ba80-932f55c14342\",\"root_ids\":[\"1095\"],\"roots\":{\"1095\":\"8e77bd80-53a3-40d2-80ad-236f9243a6fc\"}}];\n",
       "  root.Bokeh.embed.embed_items_notebook(docs_json, render_items);\n",
       "\n",
       "  }\n",
       "  if (root.Bokeh !== undefined) {\n",
       "    embed_document(root);\n",
       "  } else {\n",
       "    var attempts = 0;\n",
       "    var timer = setInterval(function(root) {\n",
       "      if (root.Bokeh !== undefined) {\n",
       "        clearInterval(timer);\n",
       "        embed_document(root);\n",
       "      } else {\n",
       "        attempts++;\n",
       "        if (attempts > 100) {\n",
       "          clearInterval(timer);\n",
       "          console.log(\"Bokeh: ERROR: Unable to run BokehJS code because BokehJS library is missing\");\n",
       "        }\n",
       "      }\n",
       "    }, 10, root)\n",
       "  }\n",
       "})(window);"
      ],
      "application/vnd.bokehjs_exec.v0+json": ""
     },
     "metadata": {
      "application/vnd.bokehjs_exec.v0+json": {
       "id": "1095"
      }
     },
     "output_type": "display_data"
    }
   ],
   "source": [
    "X =[random.gauss(mu = 0, sigma = 1) for x in range(100)]\n",
    "X3 = [random.gauss(mu = -1000, sigma = 1) for x in range(100)]\n",
    "zz = zip(X, X3)\n",
    "dff = [(x[0] - x[1]) **2  for x in zz]\n",
    "p  =do_hist(dff)\n",
    "show(p)\n"
   ]
  },
  {
   "cell_type": "code",
   "execution_count": 11,
   "metadata": {},
   "outputs": [
    {
     "data": {
      "text/plain": [
       "0"
      ]
     },
     "execution_count": 11,
     "metadata": {},
     "output_type": "execute_result"
    }
   ],
   "source": [
    "X = [random.gauss(mu = 0, sigma = 1) for x in range(100)]\n",
    "X2 = [random.gauss(mu = 1, sigma = 1) for x in range(100)]\n",
    "#X is data, X2 is some type of fit\n",
    "#calculate SSR from mean\n",
    "m1 = np.mean(X)\n",
    "ssr_mean= [(x-m1) **2 for x in X]\n",
    "ssr_mean\n",
    "zz = zip(X,X2)\n",
    "ssr_fit = [(x[0] - x[1])**2 for x in zz]\n",
    "ssr_fit\n",
    "\n",
    "def resample_two_samples(sample1, sample2, num_iterations = 100):\n",
    "    both = sample1 + sample2\n",
    "    sum1 = []\n",
    "    sum2 = []\n",
    "    for i in range(num_iterations):\n",
    "        random.shuffle(both) \n",
    "        new_1 = both[0:len(sample1)] \n",
    "        new_2 = both[len(sample1):] \n",
    "        sum1.append(np.mean(new_1)) \n",
    "        sum2.append(np.mean(new_2)) \n",
    "    return sum1, sum2\n",
    "\n",
    "def combine_resamples(sample1, sample2, resample1, resample2):\n",
    "    diff1 = [np.mean(sample1 )- x for x in resample1]\n",
    "    diff2 = [np.mean(sample2)- x for x in resample2]\n",
    "    both = np.array(diff1) - np.array(diff2)\n",
    "    return both\n",
    "r1, r2 = resample_two_samples(ssr_mean, ssr_fit)\n",
    "l = combine_resamples(ssr_mean, ssr_fit, r1, r2)\n",
    "sum(ssr_mean)\n",
    "len([x for x in l if x > 1])\n"
   ]
  },
  {
   "cell_type": "code",
   "execution_count": 12,
   "metadata": {},
   "outputs": [
    {
     "data": {
      "text/plain": [
       "100"
      ]
     },
     "execution_count": 12,
     "metadata": {},
     "output_type": "execute_result"
    }
   ],
   "source": [
    "def exp_func(x, initial, ratio):\n",
    "    return initial * np.power(ratio, x - 1)\n",
    "X = list(range(25))\n",
    "initial = 1\n",
    "ratio = 2\n",
    "X = list(range(1, 25))\n",
    "y = [exp_func(x, initial, ratio ) + random.gauss(mu = 0, sigma = 1) for x in X]\n",
    "\n",
    "popt, pcov = optim.curve_fit(f = exp_func, xdata =np.array(X), ydata = np.array(y) )\n",
    "initial_hat = popt[0]\n",
    "ratio_hat = popt[1]\n",
    "ssr_mean =[(x-np.mean(y)) **2 for x in y]\n",
    "y_fit = [exp_func(x = x, initial= initial_hat, ratio = ratio_hat) for x in X]\n",
    "zz = zip(y, y_fit)\n",
    "ssr_fit = [(x[0] - x[1])**2 for x in zz]\n",
    "r1, r2 = resample_two_samples(ssr_mean, ssr_fit)\n",
    "l = combine_resamples(ssr_mean, ssr_fit, r1, r2)\n",
    "len([x for x in l if x > 0])"
   ]
  },
  {
   "cell_type": "code",
   "execution_count": 13,
   "metadata": {},
   "outputs": [
    {
     "data": {
      "text/plain": [
       "0"
      ]
     },
     "execution_count": 13,
     "metadata": {},
     "output_type": "execute_result"
    }
   ],
   "source": [
    "\n",
    "X = list(range(1, 25))\n",
    "y = [ random.gauss(mu = 10, sigma = 1) for x in X]\n",
    "popt, pcov = optim.curve_fit(f = exp_func, xdata =np.array(X), ydata = np.array(y) )\n",
    "initial_hat = popt[0]\n",
    "ratio_hat = popt[1]\n",
    "ssr_mean =[(x-np.mean(y)) **1 for x in y]\n",
    "y_fit = [exp_func(x = x, initial= initial_hat, ratio = ratio_hat) for x in X]\n",
    "zz = zip(y, y_fit)\n",
    "ssr_fit = [(x[0] - x[1])**2 for x in zz]\n",
    "r1, r2 = resample_two_samples(ssr_mean, ssr_fit)\n",
    "l = combine_resamples(ssr_mean, ssr_fit, r1, r2)\n",
    "len([x for x in l if x > 0])\n"
   ]
  },
  {
   "cell_type": "code",
   "execution_count": 14,
   "metadata": {},
   "outputs": [],
   "source": [
    "def make_trend_line_wash():\n",
    "    df = pd.read_csv('data/seven_day_county.csv')\n",
    "    df['date'] = pd.to_datetime(df['date'])\n",
    "    last_date = df['date'].tolist()[-14]\n",
    "    df_non_king_trend = df[(df['date']>=  last_date)]\n",
    "    df_king = df[(df['state'] == 'Washington') & (df['county'] == 'King')]\n",
    "    df_king_trend = df_king[(df_king['date']>=  last_date)]\n",
    "    nums = df_king_trend['new_cases'].rolling(1).mean().tolist()\n",
    "    X = range(len(nums))\n",
    "    df_king_trend = df_king_trend.assign(X = X)\n",
    "    labels = df_king_trend['date'].tolist()\n",
    "    labels = [datetime.datetime(x.year, x.month, x.day) for x in labels]\n",
    "    popt, pcov = optim.curve_fit(f = exp_func, xdata =np.array(X), ydata = np.array(nums) )\n",
    "    print(popt[0], popt[1])\n",
    "    y_hat = [exp_func(initial = popt[0], ratio = popt[1], x = x) for x in X]\n",
    "    p = figure(x_axis_type = 'datetime', title = 'King {p}'.format(p = round(popt[1],2)), \n",
    "                 plot_width = 350 , plot_height = 350, y_range = None)\n",
    "    p.vbar(x=labels, top=nums, line_width = 5, width = .9)\n",
    "    p.line(x = labels, y = y_hat)\n",
    "    model = smf.ols(formula='new_cases ~ X' , data=df_king_trend)\n",
    "    res = model.fit()\n",
    "    a, b1 = res.params\n",
    "    y_fit2 = [a + b1 * x for x in X]\n",
    "    return p\n",
    "#p.line(x = labels, y = y_fit2)\n",
    "#show(p)"
   ]
  },
  {
   "cell_type": "code",
   "execution_count": 30,
   "metadata": {},
   "outputs": [
    {
     "name": "stdout",
     "output_type": "stream",
     "text": [
      "419.4392900935057 1.0604705229095037\n",
      "118.23725954617977 1.0329516091469775\n"
     ]
    },
    {
     "data": {
      "text/html": [
       "\n",
       "\n",
       "\n",
       "\n",
       "\n",
       "\n",
       "  <div class=\"bk-root\" id=\"0a1f30ac-608c-40b8-aaa2-443f9e4cc869\" data-root-id=\"3345\"></div>\n"
      ]
     },
     "metadata": {},
     "output_type": "display_data"
    },
    {
     "data": {
      "application/javascript": [
       "(function(root) {\n",
       "  function embed_document(root) {\n",
       "    \n",
       "  var docs_json = {\"dc79ff58-c922-4a0c-b445-9f0704676ddf\":{\"roots\":{\"references\":[{\"attributes\":{\"children\":[{\"id\":\"3344\"},{\"id\":\"3342\"}]},\"id\":\"3345\",\"type\":\"Column\"},{\"attributes\":{},\"id\":\"3275\",\"type\":\"SaveTool\"},{\"attributes\":{\"overlay\":{\"id\":\"3278\"}},\"id\":\"3274\",\"type\":\"BoxZoomTool\"},{\"attributes\":{\"data_source\":{\"id\":\"3291\"},\"glyph\":{\"id\":\"3292\"},\"hover_glyph\":null,\"muted_glyph\":null,\"nonselection_glyph\":{\"id\":\"3293\"},\"selection_glyph\":null,\"view\":{\"id\":\"3295\"}},\"id\":\"3294\",\"type\":\"GlyphRenderer\"},{\"attributes\":{},\"id\":\"3273\",\"type\":\"WheelZoomTool\"},{\"attributes\":{},\"id\":\"3272\",\"type\":\"PanTool\"},{\"attributes\":{\"data\":{\"top\":[123.0,65.0,230.0,126.0,66.0,113.0,167.0,146.0,139.0,174.0,154.0,145.0,109.0,239.0],\"x\":[1593734400000.0,1593820800000.0,1593907200000.0,1593993600000.0,1594080000000.0,1594166400000.0,1594252800000.0,1594339200000.0,1594425600000.0,1594512000000.0,1594598400000.0,1594684800000.0,1594771200000.0,1594857600000.0]},\"selected\":{\"id\":\"3338\"},\"selection_policy\":{\"id\":\"3337\"}},\"id\":\"3286\",\"type\":\"ColumnDataSource\"},{\"attributes\":{\"fill_color\":{\"value\":\"#1f77b4\"},\"line_color\":{\"value\":\"#1f77b4\"},\"line_width\":{\"value\":5},\"top\":{\"field\":\"top\"},\"width\":{\"value\":0.9},\"x\":{\"field\":\"x\"}},\"id\":\"3287\",\"type\":\"VBar\"},{\"attributes\":{\"days\":[1,4,7,10,13,16,19,22,25,28]},\"id\":\"3329\",\"type\":\"DaysTicker\"},{\"attributes\":{\"axis\":{\"id\":\"3268\"},\"dimension\":1,\"ticker\":null},\"id\":\"3271\",\"type\":\"Grid\"},{\"attributes\":{},\"id\":\"3269\",\"type\":\"BasicTicker\"},{\"attributes\":{},\"id\":\"3277\",\"type\":\"HelpTool\"},{\"attributes\":{\"formatter\":{\"id\":\"3321\"},\"ticker\":{\"id\":\"3269\"}},\"id\":\"3268\",\"type\":\"LinearAxis\"},{\"attributes\":{\"source\":{\"id\":\"3291\"}},\"id\":\"3295\",\"type\":\"CDSView\"},{\"attributes\":{\"active_drag\":\"auto\",\"active_inspect\":\"auto\",\"active_multi\":null,\"active_scroll\":\"auto\",\"active_tap\":\"auto\",\"tools\":[{\"id\":\"3272\"},{\"id\":\"3273\"},{\"id\":\"3274\"},{\"id\":\"3275\"},{\"id\":\"3276\"},{\"id\":\"3277\"}]},\"id\":\"3279\",\"type\":\"Toolbar\"},{\"attributes\":{\"axis\":{\"id\":\"3264\"},\"ticker\":null},\"id\":\"3267\",\"type\":\"Grid\"},{\"attributes\":{\"num_minor_ticks\":5,\"tickers\":[{\"id\":\"3325\"},{\"id\":\"3326\"},{\"id\":\"3327\"},{\"id\":\"3328\"},{\"id\":\"3329\"},{\"id\":\"3330\"},{\"id\":\"3331\"},{\"id\":\"3332\"},{\"id\":\"3333\"},{\"id\":\"3334\"},{\"id\":\"3335\"},{\"id\":\"3336\"}]},\"id\":\"3265\",\"type\":\"DatetimeTicker\"},{\"attributes\":{\"months\":[0,6]},\"id\":\"3312\",\"type\":\"MonthsTicker\"},{\"attributes\":{\"formatter\":{\"id\":\"3323\"},\"ticker\":{\"id\":\"3265\"}},\"id\":\"3264\",\"type\":\"DatetimeAxis\"},{\"attributes\":{},\"id\":\"3262\",\"type\":\"LinearScale\"},{\"attributes\":{},\"id\":\"3260\",\"type\":\"LinearScale\"},{\"attributes\":{},\"id\":\"3258\",\"type\":\"DataRange1d\"},{\"attributes\":{},\"id\":\"3256\",\"type\":\"DataRange1d\"},{\"attributes\":{\"below\":[{\"id\":\"3264\"}],\"center\":[{\"id\":\"3267\"},{\"id\":\"3271\"}],\"left\":[{\"id\":\"3268\"}],\"plot_height\":350,\"plot_width\":350,\"renderers\":[{\"id\":\"3289\"},{\"id\":\"3294\"}],\"title\":{\"id\":\"3254\"},\"toolbar\":{\"id\":\"3279\"},\"toolbar_location\":null,\"x_range\":{\"id\":\"3256\"},\"x_scale\":{\"id\":\"3260\"},\"y_range\":{\"id\":\"3258\"},\"y_scale\":{\"id\":\"3262\"}},\"id\":\"3253\",\"subtype\":\"Figure\",\"type\":\"Plot\"},{\"attributes\":{},\"id\":\"3298\",\"type\":\"BasicTickFormatter\"},{\"attributes\":{},\"id\":\"3276\",\"type\":\"ResetTool\"},{\"attributes\":{\"days\":[1,15]},\"id\":\"3308\",\"type\":\"DaysTicker\"},{\"attributes\":{\"days\":[1,8,15,22]},\"id\":\"3307\",\"type\":\"DaysTicker\"},{\"attributes\":{\"text\":\"King 1.03\"},\"id\":\"3254\",\"type\":\"Title\"},{\"attributes\":{\"fill_alpha\":{\"value\":0.1},\"fill_color\":{\"value\":\"#1f77b4\"},\"line_alpha\":{\"value\":0.1},\"line_color\":{\"value\":\"#1f77b4\"},\"line_width\":{\"value\":5},\"top\":{\"field\":\"top\"},\"width\":{\"value\":0.9},\"x\":{\"field\":\"x\"}},\"id\":\"3288\",\"type\":\"VBar\"},{\"attributes\":{\"days\":[1,2,3,4,5,6,7,8,9,10,11,12,13,14,15,16,17,18,19,20,21,22,23,24,25,26,27,28,29,30,31]},\"id\":\"3305\",\"type\":\"DaysTicker\"},{\"attributes\":{\"days\":[1,4,7,10,13,16,19,22,25,28]},\"id\":\"3306\",\"type\":\"DaysTicker\"},{\"attributes\":{\"base\":24,\"mantissas\":[1,2,4,6,8,12],\"max_interval\":43200000.0,\"min_interval\":3600000.0,\"num_minor_ticks\":0},\"id\":\"3304\",\"type\":\"AdaptiveTicker\"},{\"attributes\":{\"base\":60,\"mantissas\":[1,2,5,10,15,20,30],\"max_interval\":1800000.0,\"min_interval\":1000.0,\"num_minor_ticks\":0},\"id\":\"3303\",\"type\":\"AdaptiveTicker\"},{\"attributes\":{},\"id\":\"3300\",\"type\":\"DatetimeTickFormatter\"},{\"attributes\":{\"months\":[0,4,8]},\"id\":\"3311\",\"type\":\"MonthsTicker\"},{\"attributes\":{\"mantissas\":[1,2,5],\"max_interval\":500.0,\"num_minor_ticks\":0},\"id\":\"3302\",\"type\":\"AdaptiveTicker\"},{\"attributes\":{},\"id\":\"3314\",\"type\":\"UnionRenderers\"},{\"attributes\":{\"fill_color\":{\"value\":\"#1f77b4\"},\"line_color\":{\"value\":\"#1f77b4\"},\"line_width\":{\"value\":5},\"top\":{\"field\":\"top\"},\"width\":{\"value\":0.9},\"x\":{\"field\":\"x\"}},\"id\":\"3244\",\"type\":\"VBar\"},{\"attributes\":{\"text\":\"Washington 1.06\"},\"id\":\"3211\",\"type\":\"Title\"},{\"attributes\":{\"data_source\":{\"id\":\"3286\"},\"glyph\":{\"id\":\"3287\"},\"hover_glyph\":null,\"muted_glyph\":null,\"nonselection_glyph\":{\"id\":\"3288\"},\"selection_glyph\":null,\"view\":{\"id\":\"3290\"}},\"id\":\"3289\",\"type\":\"GlyphRenderer\"},{\"attributes\":{\"base\":24,\"mantissas\":[1,2,4,6,8,12],\"max_interval\":43200000.0,\"min_interval\":3600000.0,\"num_minor_ticks\":0},\"id\":\"3327\",\"type\":\"AdaptiveTicker\"},{\"attributes\":{},\"id\":\"3317\",\"type\":\"Selection\"},{\"attributes\":{\"days\":[1,2,3,4,5,6,7,8,9,10,11,12,13,14,15,16,17,18,19,20,21,22,23,24,25,26,27,28,29,30,31]},\"id\":\"3328\",\"type\":\"DaysTicker\"},{\"attributes\":{\"data\":{\"x\":[1593734400000.0,1593820800000.0,1593907200000.0,1593993600000.0,1594080000000.0,1594166400000.0,1594252800000.0,1594339200000.0,1594425600000.0,1594512000000.0,1594598400000.0,1594684800000.0,1594771200000.0,1594857600000.0],\"y\":[114.4654391349672,118.23725954617977,122.13336750935522,126.15785849932765,130.31496294341719,134.60905066833152,139.04463549360008,143.62637997636915,148.35910031254573,153.24777139944194,158.2975320652417,163.5136904707867,168.9017296893599,174.46731347033213]},\"selected\":{\"id\":\"3340\"},\"selection_policy\":{\"id\":\"3339\"}},\"id\":\"3291\",\"type\":\"ColumnDataSource\"},{\"attributes\":{\"months\":[0,2,4,6,8,10]},\"id\":\"3333\",\"type\":\"MonthsTicker\"},{\"attributes\":{\"below\":[{\"id\":\"3221\"}],\"center\":[{\"id\":\"3224\"},{\"id\":\"3228\"}],\"left\":[{\"id\":\"3225\"}],\"plot_height\":350,\"plot_width\":350,\"renderers\":[{\"id\":\"3246\"},{\"id\":\"3251\"}],\"title\":{\"id\":\"3211\"},\"toolbar\":{\"id\":\"3236\"},\"toolbar_location\":null,\"x_range\":{\"id\":\"3213\"},\"x_scale\":{\"id\":\"3217\"},\"y_range\":{\"id\":\"3215\"},\"y_scale\":{\"id\":\"3219\"}},\"id\":\"3210\",\"subtype\":\"Figure\",\"type\":\"Plot\"},{\"attributes\":{\"children\":[[{\"id\":\"3210\"},0,0],[{\"id\":\"3253\"},0,1]]},\"id\":\"3342\",\"type\":\"GridBox\"},{\"attributes\":{\"line_color\":\"#1f77b4\",\"x\":{\"field\":\"x\"},\"y\":{\"field\":\"y\"}},\"id\":\"3292\",\"type\":\"Line\"},{\"attributes\":{\"months\":[0,2,4,6,8,10]},\"id\":\"3310\",\"type\":\"MonthsTicker\"},{\"attributes\":{},\"id\":\"3213\",\"type\":\"DataRange1d\"},{\"attributes\":{\"source\":{\"id\":\"3286\"}},\"id\":\"3290\",\"type\":\"CDSView\"},{\"attributes\":{\"days\":[1,8,15,22]},\"id\":\"3330\",\"type\":\"DaysTicker\"},{\"attributes\":{\"toolbar\":{\"id\":\"3343\"},\"toolbar_location\":\"above\"},\"id\":\"3344\",\"type\":\"ToolbarBox\"},{\"attributes\":{},\"id\":\"3215\",\"type\":\"DataRange1d\"},{\"attributes\":{},\"id\":\"3217\",\"type\":\"LinearScale\"},{\"attributes\":{},\"id\":\"3219\",\"type\":\"LinearScale\"},{\"attributes\":{\"base\":60,\"mantissas\":[1,2,5,10,15,20,30],\"max_interval\":1800000.0,\"min_interval\":1000.0,\"num_minor_ticks\":0},\"id\":\"3326\",\"type\":\"AdaptiveTicker\"},{\"attributes\":{\"formatter\":{\"id\":\"3300\"},\"ticker\":{\"id\":\"3222\"}},\"id\":\"3221\",\"type\":\"DatetimeAxis\"},{\"attributes\":{},\"id\":\"3316\",\"type\":\"UnionRenderers\"},{\"attributes\":{\"num_minor_ticks\":5,\"tickers\":[{\"id\":\"3302\"},{\"id\":\"3303\"},{\"id\":\"3304\"},{\"id\":\"3305\"},{\"id\":\"3306\"},{\"id\":\"3307\"},{\"id\":\"3308\"},{\"id\":\"3309\"},{\"id\":\"3310\"},{\"id\":\"3311\"},{\"id\":\"3312\"},{\"id\":\"3313\"}]},\"id\":\"3222\",\"type\":\"DatetimeTicker\"},{\"attributes\":{\"line_alpha\":0.1,\"line_color\":\"#1f77b4\",\"x\":{\"field\":\"x\"},\"y\":{\"field\":\"y\"}},\"id\":\"3293\",\"type\":\"Line\"},{\"attributes\":{\"axis\":{\"id\":\"3221\"},\"ticker\":null},\"id\":\"3224\",\"type\":\"Grid\"},{\"attributes\":{},\"id\":\"3321\",\"type\":\"BasicTickFormatter\"},{\"attributes\":{\"months\":[0,6]},\"id\":\"3335\",\"type\":\"MonthsTicker\"},{\"attributes\":{\"axis_label\":\"Cases\",\"formatter\":{\"id\":\"3298\"},\"ticker\":{\"id\":\"3226\"}},\"id\":\"3225\",\"type\":\"LinearAxis\"},{\"attributes\":{},\"id\":\"3226\",\"type\":\"BasicTicker\"},{\"attributes\":{},\"id\":\"3315\",\"type\":\"Selection\"},{\"attributes\":{\"mantissas\":[1,2,5],\"max_interval\":500.0,\"num_minor_ticks\":0},\"id\":\"3325\",\"type\":\"AdaptiveTicker\"},{\"attributes\":{\"months\":[0,4,8]},\"id\":\"3334\",\"type\":\"MonthsTicker\"},{\"attributes\":{\"axis\":{\"id\":\"3225\"},\"dimension\":1,\"ticker\":null},\"id\":\"3228\",\"type\":\"Grid\"},{\"attributes\":{\"data_source\":{\"id\":\"3243\"},\"glyph\":{\"id\":\"3244\"},\"hover_glyph\":null,\"muted_glyph\":null,\"nonselection_glyph\":{\"id\":\"3245\"},\"selection_glyph\":null,\"view\":{\"id\":\"3247\"}},\"id\":\"3246\",\"type\":\"GlyphRenderer\"},{\"attributes\":{},\"id\":\"3338\",\"type\":\"Selection\"},{\"attributes\":{\"data\":{\"top\":[373.0,317.0,439.0,923.0,480.0,485.0,541.0,575.0,97.0,680.0,1203.0,574.0,638.0,1025.0],\"x\":[1593734400000.0,1593820800000.0,1593907200000.0,1593993600000.0,1594080000000.0,1594166400000.0,1594252800000.0,1594339200000.0,1594425600000.0,1594512000000.0,1594598400000.0,1594684800000.0,1594771200000.0,1594857600000.0]},\"selected\":{\"id\":\"3315\"},\"selection_policy\":{\"id\":\"3314\"}},\"id\":\"3243\",\"type\":\"ColumnDataSource\"},{\"attributes\":{\"days\":[1,15]},\"id\":\"3331\",\"type\":\"DaysTicker\"},{\"attributes\":{},\"id\":\"3323\",\"type\":\"DatetimeTickFormatter\"},{\"attributes\":{},\"id\":\"3229\",\"type\":\"PanTool\"},{\"attributes\":{},\"id\":\"3230\",\"type\":\"WheelZoomTool\"},{\"attributes\":{\"overlay\":{\"id\":\"3235\"}},\"id\":\"3231\",\"type\":\"BoxZoomTool\"},{\"attributes\":{},\"id\":\"3232\",\"type\":\"SaveTool\"},{\"attributes\":{},\"id\":\"3313\",\"type\":\"YearsTicker\"},{\"attributes\":{},\"id\":\"3233\",\"type\":\"ResetTool\"},{\"attributes\":{},\"id\":\"3234\",\"type\":\"HelpTool\"},{\"attributes\":{\"bottom_units\":\"screen\",\"fill_alpha\":0.5,\"fill_color\":\"lightgrey\",\"left_units\":\"screen\",\"level\":\"overlay\",\"line_alpha\":1.0,\"line_color\":\"black\",\"line_dash\":[4,4],\"line_width\":2,\"render_mode\":\"css\",\"right_units\":\"screen\",\"top_units\":\"screen\"},\"id\":\"3278\",\"type\":\"BoxAnnotation\"},{\"attributes\":{\"active_drag\":\"auto\",\"active_inspect\":\"auto\",\"active_multi\":null,\"active_scroll\":\"auto\",\"active_tap\":\"auto\",\"tools\":[{\"id\":\"3229\"},{\"id\":\"3230\"},{\"id\":\"3231\"},{\"id\":\"3232\"},{\"id\":\"3233\"},{\"id\":\"3234\"}]},\"id\":\"3236\",\"type\":\"Toolbar\"},{\"attributes\":{\"toolbars\":[{\"id\":\"3236\"},{\"id\":\"3279\"}],\"tools\":[{\"id\":\"3229\"},{\"id\":\"3230\"},{\"id\":\"3231\"},{\"id\":\"3232\"},{\"id\":\"3233\"},{\"id\":\"3234\"},{\"id\":\"3272\"},{\"id\":\"3273\"},{\"id\":\"3274\"},{\"id\":\"3275\"},{\"id\":\"3276\"},{\"id\":\"3277\"}]},\"id\":\"3343\",\"type\":\"ProxyToolbar\"},{\"attributes\":{},\"id\":\"3337\",\"type\":\"UnionRenderers\"},{\"attributes\":{\"bottom_units\":\"screen\",\"fill_alpha\":0.5,\"fill_color\":\"lightgrey\",\"left_units\":\"screen\",\"level\":\"overlay\",\"line_alpha\":1.0,\"line_color\":\"black\",\"line_dash\":[4,4],\"line_width\":2,\"render_mode\":\"css\",\"right_units\":\"screen\",\"top_units\":\"screen\"},\"id\":\"3235\",\"type\":\"BoxAnnotation\"},{\"attributes\":{},\"id\":\"3336\",\"type\":\"YearsTicker\"},{\"attributes\":{\"months\":[0,1,2,3,4,5,6,7,8,9,10,11]},\"id\":\"3309\",\"type\":\"MonthsTicker\"},{\"attributes\":{\"months\":[0,1,2,3,4,5,6,7,8,9,10,11]},\"id\":\"3332\",\"type\":\"MonthsTicker\"},{\"attributes\":{\"source\":{\"id\":\"3243\"}},\"id\":\"3247\",\"type\":\"CDSView\"},{\"attributes\":{\"data\":{\"x\":[1593734400000.0,1593820800000.0,1593907200000.0,1593993600000.0,1594080000000.0,1594166400000.0,1594252800000.0,1594339200000.0,1594425600000.0,1594512000000.0,1594598400000.0,1594684800000.0,1594771200000.0,1594857600000.0],\"y\":[395.5218754621612,419.4392900935057,444.803003294251,471.7004734951721,500.22444778408567,530.473281713707,562.5512784484554,596.5690484196433,632.6438907292041,670.9001976171021,711.4698833870976,754.492839269879,800.1174157920047,848.500934313948]},\"selected\":{\"id\":\"3317\"},\"selection_policy\":{\"id\":\"3316\"}},\"id\":\"3248\",\"type\":\"ColumnDataSource\"},{\"attributes\":{},\"id\":\"3339\",\"type\":\"UnionRenderers\"},{\"attributes\":{\"fill_alpha\":{\"value\":0.1},\"fill_color\":{\"value\":\"#1f77b4\"},\"line_alpha\":{\"value\":0.1},\"line_color\":{\"value\":\"#1f77b4\"},\"line_width\":{\"value\":5},\"top\":{\"field\":\"top\"},\"width\":{\"value\":0.9},\"x\":{\"field\":\"x\"}},\"id\":\"3245\",\"type\":\"VBar\"},{\"attributes\":{\"line_color\":\"#1f77b4\",\"x\":{\"field\":\"x\"},\"y\":{\"field\":\"y\"}},\"id\":\"3249\",\"type\":\"Line\"},{\"attributes\":{\"data_source\":{\"id\":\"3248\"},\"glyph\":{\"id\":\"3249\"},\"hover_glyph\":null,\"muted_glyph\":null,\"nonselection_glyph\":{\"id\":\"3250\"},\"selection_glyph\":null,\"view\":{\"id\":\"3252\"}},\"id\":\"3251\",\"type\":\"GlyphRenderer\"},{\"attributes\":{},\"id\":\"3340\",\"type\":\"Selection\"},{\"attributes\":{\"line_alpha\":0.1,\"line_color\":\"#1f77b4\",\"x\":{\"field\":\"x\"},\"y\":{\"field\":\"y\"}},\"id\":\"3250\",\"type\":\"Line\"},{\"attributes\":{\"source\":{\"id\":\"3248\"}},\"id\":\"3252\",\"type\":\"CDSView\"}],\"root_ids\":[\"3345\"]},\"title\":\"Bokeh Application\",\"version\":\"2.0.2\"}};\n",
       "  var render_items = [{\"docid\":\"dc79ff58-c922-4a0c-b445-9f0704676ddf\",\"root_ids\":[\"3345\"],\"roots\":{\"3345\":\"0a1f30ac-608c-40b8-aaa2-443f9e4cc869\"}}];\n",
       "  root.Bokeh.embed.embed_items_notebook(docs_json, render_items);\n",
       "\n",
       "  }\n",
       "  if (root.Bokeh !== undefined) {\n",
       "    embed_document(root);\n",
       "  } else {\n",
       "    var attempts = 0;\n",
       "    var timer = setInterval(function(root) {\n",
       "      if (root.Bokeh !== undefined) {\n",
       "        clearInterval(timer);\n",
       "        embed_document(root);\n",
       "      } else {\n",
       "        attempts++;\n",
       "        if (attempts > 100) {\n",
       "          clearInterval(timer);\n",
       "          console.log(\"Bokeh: ERROR: Unable to run BokehJS code because BokehJS library is missing\");\n",
       "        }\n",
       "      }\n",
       "    }, 10, root)\n",
       "  }\n",
       "})(window);"
      ],
      "application/vnd.bokehjs_exec.v0+json": ""
     },
     "metadata": {
      "application/vnd.bokehjs_exec.v0+json": {
       "id": "3345"
      }
     },
     "output_type": "display_data"
    }
   ],
   "source": [
    "def make_trend_line_king():\n",
    "    df = pd.read_csv('data/non_king.csv')\n",
    "    df['date'] = pd.to_datetime(df['date'])\n",
    "    last_date = df['date'].tolist()[-14]\n",
    "    df_non_king_trend = df[(df['date']>=  last_date)]\n",
    "    nums = df_non_king_trend['cases'].rolling(1).mean().tolist()\n",
    "    X = range(len(nums))\n",
    "    df_non_king_trend = df_non_king_trend.assign(X = X)\n",
    "    labels = df_non_king_trend['date'].tolist()\n",
    "    labels = [datetime.datetime(x.year, x.month, x.day) for x in labels]\n",
    "    popt, pcov = optim.curve_fit(f = exp_func, xdata =np.array(X), ydata = np.array(nums) )\n",
    "    print(popt[0], popt[1])\n",
    "    y_hat = [exp_func(initial = popt[0], ratio = popt[1], x = x) for x in X]\n",
    "    p = figure(x_axis_type = 'datetime', title = 'Washington {p}'.format(p = round(popt[1],2)), \n",
    "                 plot_width = 350 , plot_height = 350, y_range = None)\n",
    "    p.vbar(x=labels, top=nums, line_width = 5, width = .9)\n",
    "    p.line(x = labels, y = y_hat)\n",
    "    #print(dir(p.axis))\n",
    "    p.yaxis.axis_label = 'Cases'\n",
    "\n",
    "    \n",
    "    return p\n",
    "grid = gridplot([make_trend_line_king(), make_trend_line_wash()], ncols = 4)\n",
    "show(grid)"
   ]
  },
  {
   "cell_type": "code",
   "execution_count": 21,
   "metadata": {},
   "outputs": [],
   "source": [
    "script, div = components(grid)\n",
    "text = \"\"\"RT rate for King County and Washington State. RT continues to increase (2020-07-17).\"\"\""
   ]
  },
  {
   "cell_type": "code",
   "execution_count": 22,
   "metadata": {},
   "outputs": [],
   "source": [
    "def output_graphs(script, div, text, \n",
    "                 home_page_dir = '/home/henry/projects/covid19/home_page/'):\n",
    "    with open(os.path.join(home_page_dir, 'script'), 'w') as write_obj:\n",
    "              write_obj.write(script)\n",
    "    with open(os.path.join(home_page_dir, 'div'), 'w') as write_obj:\n",
    "              write_obj.write(div)\n",
    "    with open(os.path.join(home_page_dir, 'text.txt'), 'w') as write_obj:\n",
    "              write_obj.write(text)\n",
    "output_graphs(script, div, text = text)"
   ]
  },
  {
   "cell_type": "code",
   "execution_count": 18,
   "metadata": {},
   "outputs": [
    {
     "data": {
      "text/plain": [
       "dtype('int64')"
      ]
     },
     "execution_count": 18,
     "metadata": {},
     "output_type": "execute_result"
    }
   ],
   "source": [
    "df_pop = pd.read_csv('data/states_population.csv')\n",
    "df_pop.head()\n",
    "df_pop['population_2019'].dtype"
   ]
  }
 ],
 "metadata": {
  "kernelspec": {
   "display_name": "Python 3",
   "language": "python",
   "name": "python3"
  },
  "language_info": {
   "codemirror_mode": {
    "name": "ipython",
    "version": 3
   },
   "file_extension": ".py",
   "mimetype": "text/x-python",
   "name": "python",
   "nbconvert_exporter": "python",
   "pygments_lexer": "ipython3",
   "version": "3.6.9"
  }
 },
 "nbformat": 4,
 "nbformat_minor": 4
}
