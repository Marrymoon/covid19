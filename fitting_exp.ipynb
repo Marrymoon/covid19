{
 "cells": [
  {
   "cell_type": "code",
   "execution_count": 1,
   "metadata": {},
   "outputs": [],
   "source": [
    "import os"
   ]
  },
  {
   "cell_type": "code",
   "execution_count": 104,
   "metadata": {},
   "outputs": [],
   "source": [
    "import datetime\n",
    "import random\n",
    "from bokeh.io import show\n",
    "from bokeh.plotting import figure\n",
    "from bokeh.io import output_notebook\n",
    "from bokeh.layouts import gridplot\n",
    "from bokeh.models import ColumnDataSource, Band\n",
    "import numpy as np"
   ]
  },
  {
   "cell_type": "code",
   "execution_count": 3,
   "metadata": {},
   "outputs": [
    {
     "data": {
      "text/html": [
       "\n",
       "    <div class=\"bk-root\">\n",
       "        <a href=\"https://bokeh.org\" target=\"_blank\" class=\"bk-logo bk-logo-small bk-logo-notebook\"></a>\n",
       "        <span id=\"1001\">Loading BokehJS ...</span>\n",
       "    </div>"
      ]
     },
     "metadata": {},
     "output_type": "display_data"
    },
    {
     "data": {
      "application/javascript": [
       "\n",
       "(function(root) {\n",
       "  function now() {\n",
       "    return new Date();\n",
       "  }\n",
       "\n",
       "  var force = true;\n",
       "\n",
       "  if (typeof root._bokeh_onload_callbacks === \"undefined\" || force === true) {\n",
       "    root._bokeh_onload_callbacks = [];\n",
       "    root._bokeh_is_loading = undefined;\n",
       "  }\n",
       "\n",
       "  var JS_MIME_TYPE = 'application/javascript';\n",
       "  var HTML_MIME_TYPE = 'text/html';\n",
       "  var EXEC_MIME_TYPE = 'application/vnd.bokehjs_exec.v0+json';\n",
       "  var CLASS_NAME = 'output_bokeh rendered_html';\n",
       "\n",
       "  /**\n",
       "   * Render data to the DOM node\n",
       "   */\n",
       "  function render(props, node) {\n",
       "    var script = document.createElement(\"script\");\n",
       "    node.appendChild(script);\n",
       "  }\n",
       "\n",
       "  /**\n",
       "   * Handle when an output is cleared or removed\n",
       "   */\n",
       "  function handleClearOutput(event, handle) {\n",
       "    var cell = handle.cell;\n",
       "\n",
       "    var id = cell.output_area._bokeh_element_id;\n",
       "    var server_id = cell.output_area._bokeh_server_id;\n",
       "    // Clean up Bokeh references\n",
       "    if (id != null && id in Bokeh.index) {\n",
       "      Bokeh.index[id].model.document.clear();\n",
       "      delete Bokeh.index[id];\n",
       "    }\n",
       "\n",
       "    if (server_id !== undefined) {\n",
       "      // Clean up Bokeh references\n",
       "      var cmd = \"from bokeh.io.state import curstate; print(curstate().uuid_to_server['\" + server_id + \"'].get_sessions()[0].document.roots[0]._id)\";\n",
       "      cell.notebook.kernel.execute(cmd, {\n",
       "        iopub: {\n",
       "          output: function(msg) {\n",
       "            var id = msg.content.text.trim();\n",
       "            if (id in Bokeh.index) {\n",
       "              Bokeh.index[id].model.document.clear();\n",
       "              delete Bokeh.index[id];\n",
       "            }\n",
       "          }\n",
       "        }\n",
       "      });\n",
       "      // Destroy server and session\n",
       "      var cmd = \"import bokeh.io.notebook as ion; ion.destroy_server('\" + server_id + \"')\";\n",
       "      cell.notebook.kernel.execute(cmd);\n",
       "    }\n",
       "  }\n",
       "\n",
       "  /**\n",
       "   * Handle when a new output is added\n",
       "   */\n",
       "  function handleAddOutput(event, handle) {\n",
       "    var output_area = handle.output_area;\n",
       "    var output = handle.output;\n",
       "\n",
       "    // limit handleAddOutput to display_data with EXEC_MIME_TYPE content only\n",
       "    if ((output.output_type != \"display_data\") || (!output.data.hasOwnProperty(EXEC_MIME_TYPE))) {\n",
       "      return\n",
       "    }\n",
       "\n",
       "    var toinsert = output_area.element.find(\".\" + CLASS_NAME.split(' ')[0]);\n",
       "\n",
       "    if (output.metadata[EXEC_MIME_TYPE][\"id\"] !== undefined) {\n",
       "      toinsert[toinsert.length - 1].firstChild.textContent = output.data[JS_MIME_TYPE];\n",
       "      // store reference to embed id on output_area\n",
       "      output_area._bokeh_element_id = output.metadata[EXEC_MIME_TYPE][\"id\"];\n",
       "    }\n",
       "    if (output.metadata[EXEC_MIME_TYPE][\"server_id\"] !== undefined) {\n",
       "      var bk_div = document.createElement(\"div\");\n",
       "      bk_div.innerHTML = output.data[HTML_MIME_TYPE];\n",
       "      var script_attrs = bk_div.children[0].attributes;\n",
       "      for (var i = 0; i < script_attrs.length; i++) {\n",
       "        toinsert[toinsert.length - 1].firstChild.setAttribute(script_attrs[i].name, script_attrs[i].value);\n",
       "        toinsert[toinsert.length - 1].firstChild.textContent = bk_div.children[0].textContent\n",
       "      }\n",
       "      // store reference to server id on output_area\n",
       "      output_area._bokeh_server_id = output.metadata[EXEC_MIME_TYPE][\"server_id\"];\n",
       "    }\n",
       "  }\n",
       "\n",
       "  function register_renderer(events, OutputArea) {\n",
       "\n",
       "    function append_mime(data, metadata, element) {\n",
       "      // create a DOM node to render to\n",
       "      var toinsert = this.create_output_subarea(\n",
       "        metadata,\n",
       "        CLASS_NAME,\n",
       "        EXEC_MIME_TYPE\n",
       "      );\n",
       "      this.keyboard_manager.register_events(toinsert);\n",
       "      // Render to node\n",
       "      var props = {data: data, metadata: metadata[EXEC_MIME_TYPE]};\n",
       "      render(props, toinsert[toinsert.length - 1]);\n",
       "      element.append(toinsert);\n",
       "      return toinsert\n",
       "    }\n",
       "\n",
       "    /* Handle when an output is cleared or removed */\n",
       "    events.on('clear_output.CodeCell', handleClearOutput);\n",
       "    events.on('delete.Cell', handleClearOutput);\n",
       "\n",
       "    /* Handle when a new output is added */\n",
       "    events.on('output_added.OutputArea', handleAddOutput);\n",
       "\n",
       "    /**\n",
       "     * Register the mime type and append_mime function with output_area\n",
       "     */\n",
       "    OutputArea.prototype.register_mime_type(EXEC_MIME_TYPE, append_mime, {\n",
       "      /* Is output safe? */\n",
       "      safe: true,\n",
       "      /* Index of renderer in `output_area.display_order` */\n",
       "      index: 0\n",
       "    });\n",
       "  }\n",
       "\n",
       "  // register the mime type if in Jupyter Notebook environment and previously unregistered\n",
       "  if (root.Jupyter !== undefined) {\n",
       "    var events = require('base/js/events');\n",
       "    var OutputArea = require('notebook/js/outputarea').OutputArea;\n",
       "\n",
       "    if (OutputArea.prototype.mime_types().indexOf(EXEC_MIME_TYPE) == -1) {\n",
       "      register_renderer(events, OutputArea);\n",
       "    }\n",
       "  }\n",
       "\n",
       "  \n",
       "  if (typeof (root._bokeh_timeout) === \"undefined\" || force === true) {\n",
       "    root._bokeh_timeout = Date.now() + 5000;\n",
       "    root._bokeh_failed_load = false;\n",
       "  }\n",
       "\n",
       "  var NB_LOAD_WARNING = {'data': {'text/html':\n",
       "     \"<div style='background-color: #fdd'>\\n\"+\n",
       "     \"<p>\\n\"+\n",
       "     \"BokehJS does not appear to have successfully loaded. If loading BokehJS from CDN, this \\n\"+\n",
       "     \"may be due to a slow or bad network connection. Possible fixes:\\n\"+\n",
       "     \"</p>\\n\"+\n",
       "     \"<ul>\\n\"+\n",
       "     \"<li>re-rerun `output_notebook()` to attempt to load from CDN again, or</li>\\n\"+\n",
       "     \"<li>use INLINE resources instead, as so:</li>\\n\"+\n",
       "     \"</ul>\\n\"+\n",
       "     \"<code>\\n\"+\n",
       "     \"from bokeh.resources import INLINE\\n\"+\n",
       "     \"output_notebook(resources=INLINE)\\n\"+\n",
       "     \"</code>\\n\"+\n",
       "     \"</div>\"}};\n",
       "\n",
       "  function display_loaded() {\n",
       "    var el = document.getElementById(\"1001\");\n",
       "    if (el != null) {\n",
       "      el.textContent = \"BokehJS is loading...\";\n",
       "    }\n",
       "    if (root.Bokeh !== undefined) {\n",
       "      if (el != null) {\n",
       "        el.textContent = \"BokehJS \" + root.Bokeh.version + \" successfully loaded.\";\n",
       "      }\n",
       "    } else if (Date.now() < root._bokeh_timeout) {\n",
       "      setTimeout(display_loaded, 100)\n",
       "    }\n",
       "  }\n",
       "\n",
       "\n",
       "  function run_callbacks() {\n",
       "    try {\n",
       "      root._bokeh_onload_callbacks.forEach(function(callback) {\n",
       "        if (callback != null)\n",
       "          callback();\n",
       "      });\n",
       "    } finally {\n",
       "      delete root._bokeh_onload_callbacks\n",
       "    }\n",
       "    console.debug(\"Bokeh: all callbacks have finished\");\n",
       "  }\n",
       "\n",
       "  function load_libs(css_urls, js_urls, callback) {\n",
       "    if (css_urls == null) css_urls = [];\n",
       "    if (js_urls == null) js_urls = [];\n",
       "\n",
       "    root._bokeh_onload_callbacks.push(callback);\n",
       "    if (root._bokeh_is_loading > 0) {\n",
       "      console.debug(\"Bokeh: BokehJS is being loaded, scheduling callback at\", now());\n",
       "      return null;\n",
       "    }\n",
       "    if (js_urls == null || js_urls.length === 0) {\n",
       "      run_callbacks();\n",
       "      return null;\n",
       "    }\n",
       "    console.debug(\"Bokeh: BokehJS not loaded, scheduling load and callback at\", now());\n",
       "    root._bokeh_is_loading = css_urls.length + js_urls.length;\n",
       "\n",
       "    function on_load() {\n",
       "      root._bokeh_is_loading--;\n",
       "      if (root._bokeh_is_loading === 0) {\n",
       "        console.debug(\"Bokeh: all BokehJS libraries/stylesheets loaded\");\n",
       "        run_callbacks()\n",
       "      }\n",
       "    }\n",
       "\n",
       "    function on_error() {\n",
       "      console.error(\"failed to load \" + url);\n",
       "    }\n",
       "\n",
       "    for (var i = 0; i < css_urls.length; i++) {\n",
       "      var url = css_urls[i];\n",
       "      const element = document.createElement(\"link\");\n",
       "      element.onload = on_load;\n",
       "      element.onerror = on_error;\n",
       "      element.rel = \"stylesheet\";\n",
       "      element.type = \"text/css\";\n",
       "      element.href = url;\n",
       "      console.debug(\"Bokeh: injecting link tag for BokehJS stylesheet: \", url);\n",
       "      document.body.appendChild(element);\n",
       "    }\n",
       "\n",
       "    const hashes = {\"https://cdn.bokeh.org/bokeh/release/bokeh-2.0.2.min.js\": \"ufR9RFnRs6lniiaFvtJziE0YeidtAgBRH6ux2oUItHw5WTvE1zuk9uzhUU/FJXDp\", \"https://cdn.bokeh.org/bokeh/release/bokeh-widgets-2.0.2.min.js\": \"8QM/PGWBT+IssZuRcDcjzwIh1mkOmJSoNMmyYDZbCfXJg3Ap1lEvdVgFuSAwhb/J\", \"https://cdn.bokeh.org/bokeh/release/bokeh-tables-2.0.2.min.js\": \"Jm8cH3Rg0P6UeZhVY5cLy1WzKajUT9KImCY+76hEqrcJt59/d8GPvFHjCkYgnSIn\", \"https://cdn.bokeh.org/bokeh/release/bokeh-gl-2.0.2.min.js\": \"Ozhzj+SI7ywm74aOI/UajcWz+C0NjsPunEVyVIrxzYkB+jA+2tUw8x5xJCbVtK5I\"};\n",
       "\n",
       "    for (var i = 0; i < js_urls.length; i++) {\n",
       "      var url = js_urls[i];\n",
       "      var element = document.createElement('script');\n",
       "      element.onload = on_load;\n",
       "      element.onerror = on_error;\n",
       "      element.async = false;\n",
       "      element.src = url;\n",
       "      if (url in hashes) {\n",
       "        element.crossOrigin = \"anonymous\";\n",
       "        element.integrity = \"sha384-\" + hashes[url];\n",
       "      }\n",
       "      console.debug(\"Bokeh: injecting script tag for BokehJS library: \", url);\n",
       "      document.head.appendChild(element);\n",
       "    }\n",
       "  };\n",
       "\n",
       "  function inject_raw_css(css) {\n",
       "    const element = document.createElement(\"style\");\n",
       "    element.appendChild(document.createTextNode(css));\n",
       "    document.body.appendChild(element);\n",
       "  }\n",
       "\n",
       "  \n",
       "  var js_urls = [\"https://cdn.bokeh.org/bokeh/release/bokeh-2.0.2.min.js\", \"https://cdn.bokeh.org/bokeh/release/bokeh-widgets-2.0.2.min.js\", \"https://cdn.bokeh.org/bokeh/release/bokeh-tables-2.0.2.min.js\", \"https://cdn.bokeh.org/bokeh/release/bokeh-gl-2.0.2.min.js\"];\n",
       "  var css_urls = [];\n",
       "  \n",
       "\n",
       "  var inline_js = [\n",
       "    function(Bokeh) {\n",
       "      Bokeh.set_log_level(\"info\");\n",
       "    },\n",
       "    function(Bokeh) {\n",
       "    \n",
       "    \n",
       "    }\n",
       "  ];\n",
       "\n",
       "  function run_inline_js() {\n",
       "    \n",
       "    if (root.Bokeh !== undefined || force === true) {\n",
       "      \n",
       "    for (var i = 0; i < inline_js.length; i++) {\n",
       "      inline_js[i].call(root, root.Bokeh);\n",
       "    }\n",
       "    if (force === true) {\n",
       "        display_loaded();\n",
       "      }} else if (Date.now() < root._bokeh_timeout) {\n",
       "      setTimeout(run_inline_js, 100);\n",
       "    } else if (!root._bokeh_failed_load) {\n",
       "      console.log(\"Bokeh: BokehJS failed to load within specified timeout.\");\n",
       "      root._bokeh_failed_load = true;\n",
       "    } else if (force !== true) {\n",
       "      var cell = $(document.getElementById(\"1001\")).parents('.cell').data().cell;\n",
       "      cell.output_area.append_execute_result(NB_LOAD_WARNING)\n",
       "    }\n",
       "\n",
       "  }\n",
       "\n",
       "  if (root._bokeh_is_loading === 0) {\n",
       "    console.debug(\"Bokeh: BokehJS loaded, going straight to plotting\");\n",
       "    run_inline_js();\n",
       "  } else {\n",
       "    load_libs(css_urls, js_urls, function() {\n",
       "      console.debug(\"Bokeh: BokehJS plotting callback run at\", now());\n",
       "      run_inline_js();\n",
       "    });\n",
       "  }\n",
       "}(window));"
      ],
      "application/vnd.bokehjs_load.v0+json": "\n(function(root) {\n  function now() {\n    return new Date();\n  }\n\n  var force = true;\n\n  if (typeof root._bokeh_onload_callbacks === \"undefined\" || force === true) {\n    root._bokeh_onload_callbacks = [];\n    root._bokeh_is_loading = undefined;\n  }\n\n  \n\n  \n  if (typeof (root._bokeh_timeout) === \"undefined\" || force === true) {\n    root._bokeh_timeout = Date.now() + 5000;\n    root._bokeh_failed_load = false;\n  }\n\n  var NB_LOAD_WARNING = {'data': {'text/html':\n     \"<div style='background-color: #fdd'>\\n\"+\n     \"<p>\\n\"+\n     \"BokehJS does not appear to have successfully loaded. If loading BokehJS from CDN, this \\n\"+\n     \"may be due to a slow or bad network connection. Possible fixes:\\n\"+\n     \"</p>\\n\"+\n     \"<ul>\\n\"+\n     \"<li>re-rerun `output_notebook()` to attempt to load from CDN again, or</li>\\n\"+\n     \"<li>use INLINE resources instead, as so:</li>\\n\"+\n     \"</ul>\\n\"+\n     \"<code>\\n\"+\n     \"from bokeh.resources import INLINE\\n\"+\n     \"output_notebook(resources=INLINE)\\n\"+\n     \"</code>\\n\"+\n     \"</div>\"}};\n\n  function display_loaded() {\n    var el = document.getElementById(\"1001\");\n    if (el != null) {\n      el.textContent = \"BokehJS is loading...\";\n    }\n    if (root.Bokeh !== undefined) {\n      if (el != null) {\n        el.textContent = \"BokehJS \" + root.Bokeh.version + \" successfully loaded.\";\n      }\n    } else if (Date.now() < root._bokeh_timeout) {\n      setTimeout(display_loaded, 100)\n    }\n  }\n\n\n  function run_callbacks() {\n    try {\n      root._bokeh_onload_callbacks.forEach(function(callback) {\n        if (callback != null)\n          callback();\n      });\n    } finally {\n      delete root._bokeh_onload_callbacks\n    }\n    console.debug(\"Bokeh: all callbacks have finished\");\n  }\n\n  function load_libs(css_urls, js_urls, callback) {\n    if (css_urls == null) css_urls = [];\n    if (js_urls == null) js_urls = [];\n\n    root._bokeh_onload_callbacks.push(callback);\n    if (root._bokeh_is_loading > 0) {\n      console.debug(\"Bokeh: BokehJS is being loaded, scheduling callback at\", now());\n      return null;\n    }\n    if (js_urls == null || js_urls.length === 0) {\n      run_callbacks();\n      return null;\n    }\n    console.debug(\"Bokeh: BokehJS not loaded, scheduling load and callback at\", now());\n    root._bokeh_is_loading = css_urls.length + js_urls.length;\n\n    function on_load() {\n      root._bokeh_is_loading--;\n      if (root._bokeh_is_loading === 0) {\n        console.debug(\"Bokeh: all BokehJS libraries/stylesheets loaded\");\n        run_callbacks()\n      }\n    }\n\n    function on_error() {\n      console.error(\"failed to load \" + url);\n    }\n\n    for (var i = 0; i < css_urls.length; i++) {\n      var url = css_urls[i];\n      const element = document.createElement(\"link\");\n      element.onload = on_load;\n      element.onerror = on_error;\n      element.rel = \"stylesheet\";\n      element.type = \"text/css\";\n      element.href = url;\n      console.debug(\"Bokeh: injecting link tag for BokehJS stylesheet: \", url);\n      document.body.appendChild(element);\n    }\n\n    const hashes = {\"https://cdn.bokeh.org/bokeh/release/bokeh-2.0.2.min.js\": \"ufR9RFnRs6lniiaFvtJziE0YeidtAgBRH6ux2oUItHw5WTvE1zuk9uzhUU/FJXDp\", \"https://cdn.bokeh.org/bokeh/release/bokeh-widgets-2.0.2.min.js\": \"8QM/PGWBT+IssZuRcDcjzwIh1mkOmJSoNMmyYDZbCfXJg3Ap1lEvdVgFuSAwhb/J\", \"https://cdn.bokeh.org/bokeh/release/bokeh-tables-2.0.2.min.js\": \"Jm8cH3Rg0P6UeZhVY5cLy1WzKajUT9KImCY+76hEqrcJt59/d8GPvFHjCkYgnSIn\", \"https://cdn.bokeh.org/bokeh/release/bokeh-gl-2.0.2.min.js\": \"Ozhzj+SI7ywm74aOI/UajcWz+C0NjsPunEVyVIrxzYkB+jA+2tUw8x5xJCbVtK5I\"};\n\n    for (var i = 0; i < js_urls.length; i++) {\n      var url = js_urls[i];\n      var element = document.createElement('script');\n      element.onload = on_load;\n      element.onerror = on_error;\n      element.async = false;\n      element.src = url;\n      if (url in hashes) {\n        element.crossOrigin = \"anonymous\";\n        element.integrity = \"sha384-\" + hashes[url];\n      }\n      console.debug(\"Bokeh: injecting script tag for BokehJS library: \", url);\n      document.head.appendChild(element);\n    }\n  };\n\n  function inject_raw_css(css) {\n    const element = document.createElement(\"style\");\n    element.appendChild(document.createTextNode(css));\n    document.body.appendChild(element);\n  }\n\n  \n  var js_urls = [\"https://cdn.bokeh.org/bokeh/release/bokeh-2.0.2.min.js\", \"https://cdn.bokeh.org/bokeh/release/bokeh-widgets-2.0.2.min.js\", \"https://cdn.bokeh.org/bokeh/release/bokeh-tables-2.0.2.min.js\", \"https://cdn.bokeh.org/bokeh/release/bokeh-gl-2.0.2.min.js\"];\n  var css_urls = [];\n  \n\n  var inline_js = [\n    function(Bokeh) {\n      Bokeh.set_log_level(\"info\");\n    },\n    function(Bokeh) {\n    \n    \n    }\n  ];\n\n  function run_inline_js() {\n    \n    if (root.Bokeh !== undefined || force === true) {\n      \n    for (var i = 0; i < inline_js.length; i++) {\n      inline_js[i].call(root, root.Bokeh);\n    }\n    if (force === true) {\n        display_loaded();\n      }} else if (Date.now() < root._bokeh_timeout) {\n      setTimeout(run_inline_js, 100);\n    } else if (!root._bokeh_failed_load) {\n      console.log(\"Bokeh: BokehJS failed to load within specified timeout.\");\n      root._bokeh_failed_load = true;\n    } else if (force !== true) {\n      var cell = $(document.getElementById(\"1001\")).parents('.cell').data().cell;\n      cell.output_area.append_execute_result(NB_LOAD_WARNING)\n    }\n\n  }\n\n  if (root._bokeh_is_loading === 0) {\n    console.debug(\"Bokeh: BokehJS loaded, going straight to plotting\");\n    run_inline_js();\n  } else {\n    load_libs(css_urls, js_urls, function() {\n      console.debug(\"Bokeh: BokehJS plotting callback run at\", now());\n      run_inline_js();\n    });\n  }\n}(window));"
     },
     "metadata": {},
     "output_type": "display_data"
    }
   ],
   "source": [
    "output_notebook()"
   ]
  },
  {
   "cell_type": "code",
   "execution_count": 4,
   "metadata": {},
   "outputs": [],
   "source": [
    "import math\n",
    "import scipy.optimize as optim\n"
   ]
  },
  {
   "cell_type": "code",
   "execution_count": 5,
   "metadata": {},
   "outputs": [],
   "source": [
    "import pandas as pd"
   ]
  },
  {
   "cell_type": "code",
   "execution_count": 6,
   "metadata": {},
   "outputs": [],
   "source": [
    "import statsmodels.api as sm\n",
    "import statsmodels.formula.api as smf\n"
   ]
  },
  {
   "cell_type": "code",
   "execution_count": 7,
   "metadata": {},
   "outputs": [],
   "source": [
    "from bokeh.embed import components\n"
   ]
  },
  {
   "cell_type": "code",
   "execution_count": 8,
   "metadata": {},
   "outputs": [],
   "source": [
    "def do_hist(x, bins=10, width = 550, height = 550, title = None):\n",
    "  hist, edges = np.histogram(x, bins = bins, density=True)\n",
    "  p_hist = figure(width = width, height = height, title = title)\n",
    "  p_hist.quad(top = hist, bottom=0, left=edges[:-1], right=edges[1:], alpha = .4)\n",
    "  return p_hist"
   ]
  },
  {
   "cell_type": "code",
   "execution_count": 9,
   "metadata": {},
   "outputs": [
    {
     "data": {
      "text/html": [
       "\n",
       "\n",
       "\n",
       "\n",
       "\n",
       "\n",
       "  <div class=\"bk-root\" id=\"52269d66-14bd-4c36-8b54-be78626ebd16\" data-root-id=\"1002\"></div>\n"
      ]
     },
     "metadata": {},
     "output_type": "display_data"
    },
    {
     "data": {
      "application/javascript": [
       "(function(root) {\n",
       "  function embed_document(root) {\n",
       "    \n",
       "  var docs_json = {\"cc645c9c-80cb-43a0-b6bf-8482779f5afa\":{\"roots\":{\"references\":[{\"attributes\":{\"below\":[{\"id\":\"1012\"}],\"center\":[{\"id\":\"1015\"},{\"id\":\"1019\"}],\"left\":[{\"id\":\"1016\"}],\"plot_height\":550,\"plot_width\":550,\"renderers\":[{\"id\":\"1037\"}],\"title\":null,\"toolbar\":{\"id\":\"1027\"},\"x_range\":{\"id\":\"1004\"},\"x_scale\":{\"id\":\"1008\"},\"y_range\":{\"id\":\"1006\"},\"y_scale\":{\"id\":\"1010\"}},\"id\":\"1002\",\"subtype\":\"Figure\",\"type\":\"Plot\"},{\"attributes\":{},\"id\":\"1023\",\"type\":\"SaveTool\"},{\"attributes\":{},\"id\":\"1024\",\"type\":\"ResetTool\"},{\"attributes\":{},\"id\":\"1025\",\"type\":\"HelpTool\"},{\"attributes\":{},\"id\":\"1004\",\"type\":\"DataRange1d\"},{\"attributes\":{\"active_drag\":\"auto\",\"active_inspect\":\"auto\",\"active_multi\":null,\"active_scroll\":\"auto\",\"active_tap\":\"auto\",\"tools\":[{\"id\":\"1020\"},{\"id\":\"1021\"},{\"id\":\"1022\"},{\"id\":\"1023\"},{\"id\":\"1024\"},{\"id\":\"1025\"}]},\"id\":\"1027\",\"type\":\"Toolbar\"},{\"attributes\":{\"bottom\":{\"value\":0},\"fill_alpha\":{\"value\":0.4},\"fill_color\":{\"value\":\"#1f77b4\"},\"left\":{\"field\":\"left\"},\"line_alpha\":{\"value\":0.4},\"line_color\":{\"value\":\"#1f77b4\"},\"right\":{\"field\":\"right\"},\"top\":{\"field\":\"top\"}},\"id\":\"1035\",\"type\":\"Quad\"},{\"attributes\":{},\"id\":\"1006\",\"type\":\"DataRange1d\"},{\"attributes\":{\"data_source\":{\"id\":\"1034\"},\"glyph\":{\"id\":\"1035\"},\"hover_glyph\":null,\"muted_glyph\":null,\"nonselection_glyph\":{\"id\":\"1036\"},\"selection_glyph\":null,\"view\":{\"id\":\"1038\"}},\"id\":\"1037\",\"type\":\"GlyphRenderer\"},{\"attributes\":{},\"id\":\"1008\",\"type\":\"LinearScale\"},{\"attributes\":{\"bottom\":{\"value\":0},\"fill_alpha\":{\"value\":0.1},\"fill_color\":{\"value\":\"#1f77b4\"},\"left\":{\"field\":\"left\"},\"line_alpha\":{\"value\":0.1},\"line_color\":{\"value\":\"#1f77b4\"},\"right\":{\"field\":\"right\"},\"top\":{\"field\":\"top\"}},\"id\":\"1036\",\"type\":\"Quad\"},{\"attributes\":{},\"id\":\"1010\",\"type\":\"LinearScale\"},{\"attributes\":{\"bottom_units\":\"screen\",\"fill_alpha\":0.5,\"fill_color\":\"lightgrey\",\"left_units\":\"screen\",\"level\":\"overlay\",\"line_alpha\":1.0,\"line_color\":\"black\",\"line_dash\":[4,4],\"line_width\":2,\"render_mode\":\"css\",\"right_units\":\"screen\",\"top_units\":\"screen\"},\"id\":\"1026\",\"type\":\"BoxAnnotation\"},{\"attributes\":{\"formatter\":{\"id\":\"1040\"},\"ticker\":{\"id\":\"1013\"}},\"id\":\"1012\",\"type\":\"LinearAxis\"},{\"attributes\":{},\"id\":\"1013\",\"type\":\"BasicTicker\"},{\"attributes\":{\"axis\":{\"id\":\"1012\"},\"ticker\":null},\"id\":\"1015\",\"type\":\"Grid\"},{\"attributes\":{},\"id\":\"1040\",\"type\":\"BasicTickFormatter\"},{\"attributes\":{\"formatter\":{\"id\":\"1042\"},\"ticker\":{\"id\":\"1017\"}},\"id\":\"1016\",\"type\":\"LinearAxis\"},{\"attributes\":{},\"id\":\"1017\",\"type\":\"BasicTicker\"},{\"attributes\":{},\"id\":\"1042\",\"type\":\"BasicTickFormatter\"},{\"attributes\":{\"axis\":{\"id\":\"1016\"},\"dimension\":1,\"ticker\":null},\"id\":\"1019\",\"type\":\"Grid\"},{\"attributes\":{},\"id\":\"1045\",\"type\":\"UnionRenderers\"},{\"attributes\":{},\"id\":\"1046\",\"type\":\"Selection\"},{\"attributes\":{\"source\":{\"id\":\"1034\"}},\"id\":\"1038\",\"type\":\"CDSView\"},{\"attributes\":{\"data\":{\"left\":{\"__ndarray__\":\"sG8wr7K22T6L47hU4XrwP6WN4h3eegBAhKlokUu4CECyYneC3HoQQKJwOjyTmRRAkX799Um4GECBjMCvANccQDnNwbTbeiBAMVSjETeKIkA=\",\"dtype\":\"float64\",\"shape\":[10]},\"right\":{\"__ndarray__\":\"i+O4VOF68D+ljeId3noAQISpaJFLuAhAsmJ3gtx6EECicDo8k5kUQJF+/fVJuBhAgYzArwDXHEA5zcG023ogQDFUoxE3iiJAKduEbpKZJEA=\",\"dtype\":\"float64\",\"shape\":[10]},\"top\":{\"__ndarray__\":\"X75ch+Bv5T9s5KG1VyDFPw6t3+DtZbE/oHy2bjTikz+gfLZuNOKDP6V8tm404oM/oHy2bjTigz+cfLZuNOKDPwAAAAAAAAAAoHy2bjTigz8=\",\"dtype\":\"float64\",\"shape\":[10]}},\"selected\":{\"id\":\"1046\"},\"selection_policy\":{\"id\":\"1045\"}},\"id\":\"1034\",\"type\":\"ColumnDataSource\"},{\"attributes\":{},\"id\":\"1020\",\"type\":\"PanTool\"},{\"attributes\":{},\"id\":\"1021\",\"type\":\"WheelZoomTool\"},{\"attributes\":{\"overlay\":{\"id\":\"1026\"}},\"id\":\"1022\",\"type\":\"BoxZoomTool\"}],\"root_ids\":[\"1002\"]},\"title\":\"Bokeh Application\",\"version\":\"2.0.2\"}};\n",
       "  var render_items = [{\"docid\":\"cc645c9c-80cb-43a0-b6bf-8482779f5afa\",\"root_ids\":[\"1002\"],\"roots\":{\"1002\":\"52269d66-14bd-4c36-8b54-be78626ebd16\"}}];\n",
       "  root.Bokeh.embed.embed_items_notebook(docs_json, render_items);\n",
       "\n",
       "  }\n",
       "  if (root.Bokeh !== undefined) {\n",
       "    embed_document(root);\n",
       "  } else {\n",
       "    var attempts = 0;\n",
       "    var timer = setInterval(function(root) {\n",
       "      if (root.Bokeh !== undefined) {\n",
       "        clearInterval(timer);\n",
       "        embed_document(root);\n",
       "      } else {\n",
       "        attempts++;\n",
       "        if (attempts > 100) {\n",
       "          clearInterval(timer);\n",
       "          console.log(\"Bokeh: ERROR: Unable to run BokehJS code because BokehJS library is missing\");\n",
       "        }\n",
       "      }\n",
       "    }, 10, root)\n",
       "  }\n",
       "})(window);"
      ],
      "application/vnd.bokehjs_exec.v0+json": ""
     },
     "metadata": {
      "application/vnd.bokehjs_exec.v0+json": {
       "id": "1002"
      }
     },
     "output_type": "display_data"
    }
   ],
   "source": [
    "X = [random.gauss(mu = 0, sigma = 1) for x in range(100)]\n",
    "X2 = [x**2 for x in X]\n",
    "p = do_hist(X2)\n",
    "show(p)"
   ]
  },
  {
   "cell_type": "code",
   "execution_count": 10,
   "metadata": {
    "scrolled": true
   },
   "outputs": [
    {
     "data": {
      "text/html": [
       "\n",
       "\n",
       "\n",
       "\n",
       "\n",
       "\n",
       "  <div class=\"bk-root\" id=\"2243185e-2b1d-4c86-9ce5-6d64d02852dc\" data-root-id=\"1095\"></div>\n"
      ]
     },
     "metadata": {},
     "output_type": "display_data"
    },
    {
     "data": {
      "application/javascript": [
       "(function(root) {\n",
       "  function embed_document(root) {\n",
       "    \n",
       "  var docs_json = {\"2caa4e36-d7f4-45a4-ab93-f727b5f82eb3\":{\"roots\":{\"references\":[{\"attributes\":{\"below\":[{\"id\":\"1105\"}],\"center\":[{\"id\":\"1108\"},{\"id\":\"1112\"}],\"left\":[{\"id\":\"1109\"}],\"plot_height\":550,\"plot_width\":550,\"renderers\":[{\"id\":\"1130\"}],\"title\":null,\"toolbar\":{\"id\":\"1120\"},\"x_range\":{\"id\":\"1097\"},\"x_scale\":{\"id\":\"1101\"},\"y_range\":{\"id\":\"1099\"},\"y_scale\":{\"id\":\"1103\"}},\"id\":\"1095\",\"subtype\":\"Figure\",\"type\":\"Plot\"},{\"attributes\":{\"active_drag\":\"auto\",\"active_inspect\":\"auto\",\"active_multi\":null,\"active_scroll\":\"auto\",\"active_tap\":\"auto\",\"tools\":[{\"id\":\"1113\"},{\"id\":\"1114\"},{\"id\":\"1115\"},{\"id\":\"1116\"},{\"id\":\"1117\"},{\"id\":\"1118\"}]},\"id\":\"1120\",\"type\":\"Toolbar\"},{\"attributes\":{\"formatter\":{\"id\":\"1143\"},\"ticker\":{\"id\":\"1110\"}},\"id\":\"1109\",\"type\":\"LinearAxis\"},{\"attributes\":{\"axis\":{\"id\":\"1105\"},\"ticker\":null},\"id\":\"1108\",\"type\":\"Grid\"},{\"attributes\":{\"bottom_units\":\"screen\",\"fill_alpha\":0.5,\"fill_color\":\"lightgrey\",\"left_units\":\"screen\",\"level\":\"overlay\",\"line_alpha\":1.0,\"line_color\":\"black\",\"line_dash\":[4,4],\"line_width\":2,\"render_mode\":\"css\",\"right_units\":\"screen\",\"top_units\":\"screen\"},\"id\":\"1119\",\"type\":\"BoxAnnotation\"},{\"attributes\":{},\"id\":\"1118\",\"type\":\"HelpTool\"},{\"attributes\":{\"overlay\":{\"id\":\"1119\"}},\"id\":\"1115\",\"type\":\"BoxZoomTool\"},{\"attributes\":{\"data_source\":{\"id\":\"1127\"},\"glyph\":{\"id\":\"1128\"},\"hover_glyph\":null,\"muted_glyph\":null,\"nonselection_glyph\":{\"id\":\"1129\"},\"selection_glyph\":null,\"view\":{\"id\":\"1131\"}},\"id\":\"1130\",\"type\":\"GlyphRenderer\"},{\"attributes\":{\"source\":{\"id\":\"1127\"}},\"id\":\"1131\",\"type\":\"CDSView\"},{\"attributes\":{},\"id\":\"1116\",\"type\":\"SaveTool\"},{\"attributes\":{},\"id\":\"1097\",\"type\":\"DataRange1d\"},{\"attributes\":{},\"id\":\"1141\",\"type\":\"BasicTickFormatter\"},{\"attributes\":{},\"id\":\"1143\",\"type\":\"BasicTickFormatter\"},{\"attributes\":{\"bottom\":{\"value\":0},\"fill_alpha\":{\"value\":0.4},\"fill_color\":{\"value\":\"#1f77b4\"},\"left\":{\"field\":\"left\"},\"line_alpha\":{\"value\":0.4},\"line_color\":{\"value\":\"#1f77b4\"},\"right\":{\"field\":\"right\"},\"top\":{\"field\":\"top\"}},\"id\":\"1128\",\"type\":\"Quad\"},{\"attributes\":{\"data\":{\"left\":{\"__ndarray__\":\"vn63EXhJLkEMCBJBlVQuQVmRbHCyXy5BpxrHn89qLkH1oyHP7HUuQUItfP4JgS5BkLbWLSeMLkHePzFdRJcuQSzJi4xhoi5BeVLmu36tLkE=\",\"dtype\":\"float64\",\"shape\":[10]},\"right\":{\"__ndarray__\":\"DAgSQZVULkFZkWxwsl8uQacax5/Pai5B9aMhz+x1LkFCLXz+CYEuQZC21i0njC5B3j8xXUSXLkEsyYuMYaIuQXlS5rt+rS5Bx9tA65u4LkE=\",\"dtype\":\"float64\",\"shape\":[10]},\"top\":{\"__ndarray__\":\"RoYlLtYc9j44nHQmXW0CP0aGJS7WHAY//XHWNU/MGT9PdNY1T8wZPyH8/bGS9Cc//XHWNU/MGT/9cdY1T8wJPzMmnKKglRA/s12HPch77T4=\",\"dtype\":\"float64\",\"shape\":[10]}},\"selected\":{\"id\":\"1147\"},\"selection_policy\":{\"id\":\"1146\"}},\"id\":\"1127\",\"type\":\"ColumnDataSource\"},{\"attributes\":{},\"id\":\"1146\",\"type\":\"UnionRenderers\"},{\"attributes\":{\"formatter\":{\"id\":\"1141\"},\"ticker\":{\"id\":\"1106\"}},\"id\":\"1105\",\"type\":\"LinearAxis\"},{\"attributes\":{},\"id\":\"1114\",\"type\":\"WheelZoomTool\"},{\"attributes\":{\"axis\":{\"id\":\"1109\"},\"dimension\":1,\"ticker\":null},\"id\":\"1112\",\"type\":\"Grid\"},{\"attributes\":{},\"id\":\"1147\",\"type\":\"Selection\"},{\"attributes\":{},\"id\":\"1110\",\"type\":\"BasicTicker\"},{\"attributes\":{},\"id\":\"1106\",\"type\":\"BasicTicker\"},{\"attributes\":{},\"id\":\"1103\",\"type\":\"LinearScale\"},{\"attributes\":{},\"id\":\"1117\",\"type\":\"ResetTool\"},{\"attributes\":{},\"id\":\"1101\",\"type\":\"LinearScale\"},{\"attributes\":{},\"id\":\"1099\",\"type\":\"DataRange1d\"},{\"attributes\":{},\"id\":\"1113\",\"type\":\"PanTool\"},{\"attributes\":{\"bottom\":{\"value\":0},\"fill_alpha\":{\"value\":0.1},\"fill_color\":{\"value\":\"#1f77b4\"},\"left\":{\"field\":\"left\"},\"line_alpha\":{\"value\":0.1},\"line_color\":{\"value\":\"#1f77b4\"},\"right\":{\"field\":\"right\"},\"top\":{\"field\":\"top\"}},\"id\":\"1129\",\"type\":\"Quad\"}],\"root_ids\":[\"1095\"]},\"title\":\"Bokeh Application\",\"version\":\"2.0.2\"}};\n",
       "  var render_items = [{\"docid\":\"2caa4e36-d7f4-45a4-ab93-f727b5f82eb3\",\"root_ids\":[\"1095\"],\"roots\":{\"1095\":\"2243185e-2b1d-4c86-9ce5-6d64d02852dc\"}}];\n",
       "  root.Bokeh.embed.embed_items_notebook(docs_json, render_items);\n",
       "\n",
       "  }\n",
       "  if (root.Bokeh !== undefined) {\n",
       "    embed_document(root);\n",
       "  } else {\n",
       "    var attempts = 0;\n",
       "    var timer = setInterval(function(root) {\n",
       "      if (root.Bokeh !== undefined) {\n",
       "        clearInterval(timer);\n",
       "        embed_document(root);\n",
       "      } else {\n",
       "        attempts++;\n",
       "        if (attempts > 100) {\n",
       "          clearInterval(timer);\n",
       "          console.log(\"Bokeh: ERROR: Unable to run BokehJS code because BokehJS library is missing\");\n",
       "        }\n",
       "      }\n",
       "    }, 10, root)\n",
       "  }\n",
       "})(window);"
      ],
      "application/vnd.bokehjs_exec.v0+json": ""
     },
     "metadata": {
      "application/vnd.bokehjs_exec.v0+json": {
       "id": "1095"
      }
     },
     "output_type": "display_data"
    }
   ],
   "source": [
    "X =[random.gauss(mu = 0, sigma = 1) for x in range(100)]\n",
    "X3 = [random.gauss(mu = -1000, sigma = 1) for x in range(100)]\n",
    "zz = zip(X, X3)\n",
    "dff = [(x[0] - x[1]) **2  for x in zz]\n",
    "p  =do_hist(dff)\n",
    "show(p)\n"
   ]
  },
  {
   "cell_type": "code",
   "execution_count": 21,
   "metadata": {},
   "outputs": [
    {
     "data": {
      "text/plain": [
       "0"
      ]
     },
     "execution_count": 21,
     "metadata": {},
     "output_type": "execute_result"
    }
   ],
   "source": [
    "X = [random.gauss(mu = 0, sigma = 1) for x in range(100)]\n",
    "X2 = [random.gauss(mu = 1, sigma = 1) for x in range(100)]\n",
    "#X is data, X2 is some type of fit\n",
    "#calculate SSR from mean\n",
    "m1 = np.mean(X)\n",
    "ssr_mean= [(x-m1) **2 for x in X]\n",
    "ssr_mean\n",
    "zz = zip(X,X2)\n",
    "ssr_fit = [(x[0] - x[1])**2 for x in zz]\n",
    "ssr_fit\n",
    "\n",
    "def resample_two_samples(sample1, sample2, num_iterations = 100):\n",
    "    both = sample1 + sample2\n",
    "    sum1 = []\n",
    "    sum2 = []\n",
    "    for i in range(num_iterations):\n",
    "        random.shuffle(both) \n",
    "        new_1 = both[0:len(sample1)] \n",
    "        new_2 = both[len(sample1):] \n",
    "        sum1.append(np.mean(new_1)) \n",
    "        sum2.append(np.mean(new_2)) \n",
    "    return sum1, sum2\n",
    "\n",
    "def combine_resamples(sample1, sample2, resample1, resample2):\n",
    "    diff1 = [np.mean(sample1 )- x for x in resample1]\n",
    "    diff2 = [np.mean(sample2)- x for x in resample2]\n",
    "    both = np.array(diff1) - np.array(diff2)\n",
    "    return both\n",
    "r1, r2 = resample_two_samples(ssr_mean, ssr_fit)\n",
    "l = combine_resamples(ssr_mean, ssr_fit, r1, r2)\n",
    "sum(ssr_mean)\n",
    "len([x for x in l if x > 1])\n",
    "\n",
    "\n"
   ]
  },
  {
   "cell_type": "code",
   "execution_count": 35,
   "metadata": {},
   "outputs": [],
   "source": [
    "def diff(x1, x2):\n",
    "    assert len(x1) == len(x2)\n",
    "    diffs = []\n",
    "    for i in range(len(x1)):\n",
    "        diffs.append((x1[i] - x2[i])**2)\n",
    "    return diffs\n",
    "        \n",
    "    "
   ]
  },
  {
   "cell_type": "code",
   "execution_count": 55,
   "metadata": {},
   "outputs": [
    {
     "data": {
      "text/plain": [
       "0.0"
      ]
     },
     "execution_count": 55,
     "metadata": {},
     "output_type": "execute_result"
    }
   ],
   "source": [
    "def test_resample1(initial, ran, ratio):\n",
    "    x = list(range(1,50))\n",
    "    y = [exp_func(x, initial =initial, ratio = ratio) + random.randrange(-1 * ran,ran) for x in x]\n",
    "    y_hat = [exp_func(x, initial =1, ratio = ratio)  for x in x]\n",
    "    diffs_fit = diff(y, y_hat)\n",
    "    the_mean = np.mean(y)\n",
    "    null_ys = [the_mean for x in y]\n",
    "    diffs_null = diff(y, null_ys )\n",
    "    res1, res2 = resample_two_samples(diffs_fit, diffs_null)\n",
    "    ccc = combine_resamples(diffs_fit, diffs_null, res1, res2)\n",
    "    p_c = [x for x in ccc if x > 0]\n",
    "    return len(p_c)/len(ccc)\n",
    "test_resample1(1, 3, 1.3)"
   ]
  },
  {
   "cell_type": "code",
   "execution_count": 61,
   "metadata": {},
   "outputs": [
    {
     "data": {
      "text/plain": [
       "0.0"
      ]
     },
     "execution_count": 61,
     "metadata": {},
     "output_type": "execute_result"
    }
   ],
   "source": [
    "def get_p_value(y, y_hat):\n",
    "    diffs_fit = diff(y, y_hat)\n",
    "    the_mean = np.mean(y)\n",
    "    null_ys = [the_mean for x in y]\n",
    "    diffs_null = diff(y, null_ys )\n",
    "    res1, res2 = resample_two_samples(diffs_fit, diffs_null)\n",
    "    c = combine_resamples(diffs_fit, diffs_null, res1, res2)\n",
    "    p_c = [x for x in c if x > 0]\n",
    "    return len(p_c)/len(c)\n",
    "x = list(range(1,50))\n",
    "y = [exp_func(x, initial =initial, ratio = ratio) + random.randrange(-1 * 3, 3) for x in x]\n",
    "y_hat = [exp_func(x, initial =1, ratio = ratio)  for x in x]\n",
    "get_p_value(y, y_hat)"
   ]
  },
  {
   "cell_type": "code",
   "execution_count": 12,
   "metadata": {},
   "outputs": [
    {
     "data": {
      "text/plain": [
       "100"
      ]
     },
     "execution_count": 12,
     "metadata": {},
     "output_type": "execute_result"
    }
   ],
   "source": [
    "def exp_func(x, initial, ratio):\n",
    "    return initial * np.power(ratio, x - 1)\n",
    "X = list(range(25))\n",
    "initial = 1\n",
    "ratio = 2\n",
    "X = list(range(1, 25))\n",
    "y = [exp_func(x, initial, ratio ) + random.gauss(mu = 0, sigma = 1) for x in X]\n",
    "\n",
    "popt, pcov = optim.curve_fit(f = exp_func, xdata =np.array(X), ydata = np.array(y) )\n",
    "initial_hat = popt[0]\n",
    "ratio_hat = popt[1]\n",
    "ssr_mean =[(x-np.mean(y)) **2 for x in y]\n",
    "y_fit = [exp_func(x = x, initial= initial_hat, ratio = ratio_hat) for x in X]\n",
    "zz = zip(y, y_fit)\n",
    "ssr_fit = [(x[0] - x[1])**2 for x in zz]\n",
    "r1, r2 = resample_two_samples(ssr_mean, ssr_fit)\n",
    "l = combine_resamples(ssr_mean, ssr_fit, r1, r2)\n",
    "len([x for x in l if x > 0])"
   ]
  },
  {
   "cell_type": "code",
   "execution_count": 13,
   "metadata": {},
   "outputs": [
    {
     "data": {
      "text/plain": [
       "0"
      ]
     },
     "execution_count": 13,
     "metadata": {},
     "output_type": "execute_result"
    }
   ],
   "source": [
    "\n",
    "X = list(range(1, 25))\n",
    "y = [ random.gauss(mu = 10, sigma = 1) for x in X]\n",
    "popt, pcov = optim.curve_fit(f = exp_func, xdata =np.array(X), ydata = np.array(y) )\n",
    "initial_hat = popt[0]\n",
    "ratio_hat = popt[1]\n",
    "ssr_mean =[(x-np.mean(y)) **1 for x in y]\n",
    "y_fit = [exp_func(x = x, initial= initial_hat, ratio = ratio_hat) for x in X]\n",
    "zz = zip(y, y_fit)\n",
    "ssr_fit = [(x[0] - x[1])**2 for x in zz]\n",
    "r1, r2 = resample_two_samples(ssr_mean, ssr_fit)\n",
    "l = combine_resamples(ssr_mean, ssr_fit, r1, r2)\n",
    "len([x for x in l if x > 0])\n"
   ]
  },
  {
   "cell_type": "code",
   "execution_count": 80,
   "metadata": {},
   "outputs": [],
   "source": [
    "def make_trend_line_wash():\n",
    "    df = pd.read_csv('data/seven_day_county.csv')\n",
    "    df['date'] = pd.to_datetime(df['date'])\n",
    "    last_date = df['date'].tolist()[-14]\n",
    "    df_non_king_trend = df[(df['date']>=  last_date)]\n",
    "    df_king = df[(df['state'] == 'Washington') & (df['county'] == 'King')]\n",
    "    df_king_trend = df_king[(df_king['date']>=  last_date)]\n",
    "    nums = df_king_trend['new_cases'].rolling(1).mean().tolist()\n",
    "    X = range(len(nums))\n",
    "    df_king_trend = df_king_trend.assign(X = X)\n",
    "    labels = df_king_trend['date'].tolist()\n",
    "    labels = [datetime.datetime(x.year, x.month, x.day) for x in labels]\n",
    "    popt, pcov = optim.curve_fit(f = exp_func, xdata =np.array(X), ydata = np.array(nums) )\n",
    "    print(popt[0], popt[1])\n",
    "    y_hat = [exp_func(initial = popt[0], ratio = popt[1], x = x) for x in X]\n",
    "    p_value = get_p_value(nums, y_hat)\n",
    "    print(p_value)\n",
    "    ttt = diff(nums, y_hat)\n",
    "    ppp = np.percentile(ttt, 95)\n",
    "    ppp_s = math.sqrt(ppp)\n",
    "    print(ttt, ppp_s)\n",
    "    y_hat_error = [x + ppp_s for x in y_hat]\n",
    "    p = figure(x_axis_type = 'datetime', title = 'King {p}'.format(p = round(popt[1],2)), \n",
    "                 plot_width = 350 , plot_height = 350, y_range = None)\n",
    "    p.vbar(x=labels, top=nums, line_width = 5, width = .9)\n",
    "    p.line(x = labels, y = y_hat)\n",
    "    p.line(x = labels, y = y_hat_error)\n",
    "   \n",
    "    return p\n",
    "#p.line(x = labels, y = y_fit2)\n",
    "#show(p)"
   ]
  },
  {
   "cell_type": "code",
   "execution_count": 81,
   "metadata": {},
   "outputs": [
    {
     "name": "stdout",
     "output_type": "stream",
     "text": [
      "755.0317538877835 0.9850815117126741\n",
      "0.51\n",
      "204.48401312777472 0.9779762731685523\n",
      "0.29\n",
      "[894.6720715023274, 110.58597989681451, 255.37679834001676, 760.4466348904671, 126.98765993665648, 1604.5173108899087, 98.7389398572583, 8.455289227749361, 2919.5022454991113, 1360.5664236078308, 113.51683254029201, 499.07564490636514, 2505.5626792857224, 42.648411949719616] 51.48243902012033\n"
     ]
    },
    {
     "data": {
      "text/html": [
       "\n",
       "\n",
       "\n",
       "\n",
       "\n",
       "\n",
       "  <div class=\"bk-root\" id=\"204d9a55-3585-47fa-8f0f-6d2cd81a5010\" data-root-id=\"4821\"></div>\n"
      ]
     },
     "metadata": {},
     "output_type": "display_data"
    },
    {
     "data": {
      "application/javascript": [
       "(function(root) {\n",
       "  function embed_document(root) {\n",
       "    \n",
       "  var docs_json = {\"b22c3cff-4c05-472e-b752-4114feba2351\":{\"roots\":{\"references\":[{\"attributes\":{\"children\":[{\"id\":\"4820\"},{\"id\":\"4818\"}]},\"id\":\"4821\",\"type\":\"Column\"},{\"attributes\":{\"overlay\":{\"id\":\"4704\"}},\"id\":\"4700\",\"type\":\"BoxZoomTool\"},{\"attributes\":{},\"id\":\"4701\",\"type\":\"SaveTool\"},{\"attributes\":{},\"id\":\"4702\",\"type\":\"ResetTool\"},{\"attributes\":{\"below\":[{\"id\":\"4733\"}],\"center\":[{\"id\":\"4736\"},{\"id\":\"4740\"}],\"left\":[{\"id\":\"4737\"}],\"plot_height\":350,\"plot_width\":350,\"renderers\":[{\"id\":\"4758\"},{\"id\":\"4763\"},{\"id\":\"4768\"}],\"title\":{\"id\":\"4723\"},\"toolbar\":{\"id\":\"4748\"},\"toolbar_location\":null,\"x_range\":{\"id\":\"4725\"},\"x_scale\":{\"id\":\"4729\"},\"y_range\":{\"id\":\"4727\"},\"y_scale\":{\"id\":\"4731\"}},\"id\":\"4722\",\"subtype\":\"Figure\",\"type\":\"Plot\"},{\"attributes\":{},\"id\":\"4703\",\"type\":\"HelpTool\"},{\"attributes\":{},\"id\":\"4731\",\"type\":\"LinearScale\"},{\"attributes\":{\"bottom_units\":\"screen\",\"fill_alpha\":0.5,\"fill_color\":\"lightgrey\",\"left_units\":\"screen\",\"level\":\"overlay\",\"line_alpha\":1.0,\"line_color\":\"black\",\"line_dash\":[4,4],\"line_width\":2,\"render_mode\":\"css\",\"right_units\":\"screen\",\"top_units\":\"screen\"},\"id\":\"4704\",\"type\":\"BoxAnnotation\"},{\"attributes\":{\"text\":\"King 0.98\"},\"id\":\"4723\",\"type\":\"Title\"},{\"attributes\":{},\"id\":\"4742\",\"type\":\"WheelZoomTool\"},{\"attributes\":{\"toolbar\":{\"id\":\"4819\"},\"toolbar_location\":\"above\"},\"id\":\"4820\",\"type\":\"ToolbarBox\"},{\"attributes\":{\"data\":{\"top\":[239.0,215.0,184.0,168.0,180.0,147.0,173.0,176.0,229.0,208.0,178.0,186.0,110.0,150.0],\"x\":[1594857600000.0,1594944000000.0,1595030400000.0,1595116800000.0,1595203200000.0,1595289600000.0,1595376000000.0,1595462400000.0,1595548800000.0,1595635200000.0,1595721600000.0,1595808000000.0,1595894400000.0,1595980800000.0]},\"selected\":{\"id\":\"4812\"},\"selection_policy\":{\"id\":\"4811\"}},\"id\":\"4755\",\"type\":\"ColumnDataSource\"},{\"attributes\":{},\"id\":\"4741\",\"type\":\"PanTool\"},{\"attributes\":{\"text\":\"Washington 0.99\"},\"id\":\"4680\",\"type\":\"Title\"},{\"attributes\":{\"active_drag\":\"auto\",\"active_inspect\":\"auto\",\"active_multi\":null,\"active_scroll\":\"auto\",\"active_tap\":\"auto\",\"tools\":[{\"id\":\"4698\"},{\"id\":\"4699\"},{\"id\":\"4700\"},{\"id\":\"4701\"},{\"id\":\"4702\"},{\"id\":\"4703\"}]},\"id\":\"4705\",\"type\":\"Toolbar\"},{\"attributes\":{\"source\":{\"id\":\"4712\"}},\"id\":\"4716\",\"type\":\"CDSView\"},{\"attributes\":{\"data_source\":{\"id\":\"4712\"},\"glyph\":{\"id\":\"4713\"},\"hover_glyph\":null,\"muted_glyph\":null,\"nonselection_glyph\":{\"id\":\"4714\"},\"selection_glyph\":null,\"view\":{\"id\":\"4716\"}},\"id\":\"4715\",\"type\":\"GlyphRenderer\"},{\"attributes\":{\"children\":[[{\"id\":\"4679\"},0,0],[{\"id\":\"4722\"},0,1]]},\"id\":\"4818\",\"type\":\"GridBox\"},{\"attributes\":{\"data\":{\"x\":[1594857600000.0,1594944000000.0,1595030400000.0,1595116800000.0,1595203200000.0,1595289600000.0,1595376000000.0,1595462400000.0,1595548800000.0,1595635200000.0,1595721600000.0,1595808000000.0,1595894400000.0,1595980800000.0],\"y\":[260.5713696393321,255.96645214789504,251.46295210137077,247.05863590965654,242.75131917462798,238.5388656067482,234.41918596553754,230.390237023378,226.45002055213843,222.5965823321182,218.82801118281756,215.14243801505398,211.53803490395455,208.01301418236443]},\"selected\":{\"id\":\"4816\"},\"selection_policy\":{\"id\":\"4815\"}},\"id\":\"4765\",\"type\":\"ColumnDataSource\"},{\"attributes\":{},\"id\":\"4771\",\"type\":\"DatetimeTickFormatter\"},{\"attributes\":{\"fill_alpha\":{\"value\":0.1},\"fill_color\":{\"value\":\"#1f77b4\"},\"line_alpha\":{\"value\":0.1},\"line_color\":{\"value\":\"#1f77b4\"},\"line_width\":{\"value\":5},\"top\":{\"field\":\"top\"},\"width\":{\"value\":0.9},\"x\":{\"field\":\"x\"}},\"id\":\"4714\",\"type\":\"VBar\"},{\"attributes\":{\"data\":{\"x\":[1594857600000.0,1594944000000.0,1595030400000.0,1595116800000.0,1595203200000.0,1595289600000.0,1595376000000.0,1595462400000.0,1595548800000.0,1595635200000.0,1595721600000.0,1595808000000.0,1595894400000.0,1595980800000.0],\"y\":[766.4662719890829,755.0317538877835,743.7678215108494,732.67192997715,721.7415723713334,710.9742791774354,700.3676177209369,689.9191916191448,679.6266402397732,669.4876381676015,659.4998946790887,649.6611532248261,639.9691909197109,630.4218180407257]},\"selected\":{\"id\":\"4791\"},\"selection_policy\":{\"id\":\"4790\"}},\"id\":\"4717\",\"type\":\"ColumnDataSource\"},{\"attributes\":{\"fill_color\":{\"value\":\"#1f77b4\"},\"line_color\":{\"value\":\"#1f77b4\"},\"line_width\":{\"value\":5},\"top\":{\"field\":\"top\"},\"width\":{\"value\":0.9},\"x\":{\"field\":\"x\"}},\"id\":\"4756\",\"type\":\"VBar\"},{\"attributes\":{\"formatter\":{\"id\":\"4794\"},\"ticker\":{\"id\":\"4734\"}},\"id\":\"4733\",\"type\":\"DatetimeAxis\"},{\"attributes\":{\"line_color\":\"#1f77b4\",\"x\":{\"field\":\"x\"},\"y\":{\"field\":\"y\"}},\"id\":\"4718\",\"type\":\"Line\"},{\"attributes\":{},\"id\":\"4684\",\"type\":\"DataRange1d\"},{\"attributes\":{\"data_source\":{\"id\":\"4717\"},\"glyph\":{\"id\":\"4718\"},\"hover_glyph\":null,\"muted_glyph\":null,\"nonselection_glyph\":{\"id\":\"4719\"},\"selection_glyph\":null,\"view\":{\"id\":\"4721\"}},\"id\":\"4720\",\"type\":\"GlyphRenderer\"},{\"attributes\":{},\"id\":\"4725\",\"type\":\"DataRange1d\"},{\"attributes\":{\"below\":[{\"id\":\"4690\"}],\"center\":[{\"id\":\"4693\"},{\"id\":\"4697\"}],\"left\":[{\"id\":\"4694\"}],\"plot_height\":350,\"plot_width\":350,\"renderers\":[{\"id\":\"4715\"},{\"id\":\"4720\"}],\"title\":{\"id\":\"4680\"},\"toolbar\":{\"id\":\"4705\"},\"toolbar_location\":null,\"x_range\":{\"id\":\"4682\"},\"x_scale\":{\"id\":\"4686\"},\"y_range\":{\"id\":\"4684\"},\"y_scale\":{\"id\":\"4688\"}},\"id\":\"4679\",\"subtype\":\"Figure\",\"type\":\"Plot\"},{\"attributes\":{\"line_alpha\":0.1,\"line_color\":\"#1f77b4\",\"x\":{\"field\":\"x\"},\"y\":{\"field\":\"y\"}},\"id\":\"4719\",\"type\":\"Line\"},{\"attributes\":{},\"id\":\"4727\",\"type\":\"DataRange1d\"},{\"attributes\":{\"source\":{\"id\":\"4717\"}},\"id\":\"4721\",\"type\":\"CDSView\"},{\"attributes\":{\"active_drag\":\"auto\",\"active_inspect\":\"auto\",\"active_multi\":null,\"active_scroll\":\"auto\",\"active_tap\":\"auto\",\"tools\":[{\"id\":\"4741\"},{\"id\":\"4742\"},{\"id\":\"4743\"},{\"id\":\"4744\"},{\"id\":\"4745\"},{\"id\":\"4746\"}]},\"id\":\"4748\",\"type\":\"Toolbar\"},{\"attributes\":{},\"id\":\"4682\",\"type\":\"DataRange1d\"},{\"attributes\":{\"fill_alpha\":{\"value\":0.1},\"fill_color\":{\"value\":\"#1f77b4\"},\"line_alpha\":{\"value\":0.1},\"line_color\":{\"value\":\"#1f77b4\"},\"line_width\":{\"value\":5},\"top\":{\"field\":\"top\"},\"width\":{\"value\":0.9},\"x\":{\"field\":\"x\"}},\"id\":\"4757\",\"type\":\"VBar\"},{\"attributes\":{},\"id\":\"4686\",\"type\":\"LinearScale\"},{\"attributes\":{\"num_minor_ticks\":5,\"tickers\":[{\"id\":\"4775\"},{\"id\":\"4776\"},{\"id\":\"4777\"},{\"id\":\"4778\"},{\"id\":\"4779\"},{\"id\":\"4780\"},{\"id\":\"4781\"},{\"id\":\"4782\"},{\"id\":\"4783\"},{\"id\":\"4784\"},{\"id\":\"4785\"},{\"id\":\"4786\"}]},\"id\":\"4691\",\"type\":\"DatetimeTicker\"},{\"attributes\":{},\"id\":\"4688\",\"type\":\"LinearScale\"},{\"attributes\":{\"axis\":{\"id\":\"4737\"},\"dimension\":1,\"ticker\":null},\"id\":\"4740\",\"type\":\"Grid\"},{\"attributes\":{\"formatter\":{\"id\":\"4771\"},\"ticker\":{\"id\":\"4691\"}},\"id\":\"4690\",\"type\":\"DatetimeAxis\"},{\"attributes\":{},\"id\":\"4746\",\"type\":\"HelpTool\"},{\"attributes\":{\"data_source\":{\"id\":\"4760\"},\"glyph\":{\"id\":\"4761\"},\"hover_glyph\":null,\"muted_glyph\":null,\"nonselection_glyph\":{\"id\":\"4762\"},\"selection_glyph\":null,\"view\":{\"id\":\"4764\"}},\"id\":\"4763\",\"type\":\"GlyphRenderer\"},{\"attributes\":{\"axis\":{\"id\":\"4690\"},\"ticker\":null},\"id\":\"4693\",\"type\":\"Grid\"},{\"attributes\":{\"num_minor_ticks\":5,\"tickers\":[{\"id\":\"4798\"},{\"id\":\"4799\"},{\"id\":\"4800\"},{\"id\":\"4801\"},{\"id\":\"4802\"},{\"id\":\"4803\"},{\"id\":\"4804\"},{\"id\":\"4805\"},{\"id\":\"4806\"},{\"id\":\"4807\"},{\"id\":\"4808\"},{\"id\":\"4809\"}]},\"id\":\"4734\",\"type\":\"DatetimeTicker\"},{\"attributes\":{\"toolbars\":[{\"id\":\"4705\"},{\"id\":\"4748\"}],\"tools\":[{\"id\":\"4698\"},{\"id\":\"4699\"},{\"id\":\"4700\"},{\"id\":\"4701\"},{\"id\":\"4702\"},{\"id\":\"4703\"},{\"id\":\"4741\"},{\"id\":\"4742\"},{\"id\":\"4743\"},{\"id\":\"4744\"},{\"id\":\"4745\"},{\"id\":\"4746\"}]},\"id\":\"4819\",\"type\":\"ProxyToolbar\"},{\"attributes\":{\"axis\":{\"id\":\"4694\"},\"dimension\":1,\"ticker\":null},\"id\":\"4697\",\"type\":\"Grid\"},{\"attributes\":{},\"id\":\"4729\",\"type\":\"LinearScale\"},{\"attributes\":{\"axis_label\":\"Cases\",\"formatter\":{\"id\":\"4773\"},\"ticker\":{\"id\":\"4695\"}},\"id\":\"4694\",\"type\":\"LinearAxis\"},{\"attributes\":{\"formatter\":{\"id\":\"4796\"},\"ticker\":{\"id\":\"4738\"}},\"id\":\"4737\",\"type\":\"LinearAxis\"},{\"attributes\":{},\"id\":\"4695\",\"type\":\"BasicTicker\"},{\"attributes\":{\"source\":{\"id\":\"4755\"}},\"id\":\"4759\",\"type\":\"CDSView\"},{\"attributes\":{\"data\":{\"x\":[1594857600000.0,1594944000000.0,1595030400000.0,1595116800000.0,1595203200000.0,1595289600000.0,1595376000000.0,1595462400000.0,1595548800000.0,1595635200000.0,1595721600000.0,1595808000000.0,1595894400000.0,1595980800000.0],\"y\":[209.08893061921177,204.48401312777472,199.98051308125045,195.57619688953622,191.26888015450766,187.05642658662788,182.9367469454172,178.90779800325768,174.9675815320181,171.11414331199788,167.34557216269724,163.65999899493366,160.05559588383423,156.5305751622441]},\"selected\":{\"id\":\"4814\"},\"selection_policy\":{\"id\":\"4813\"}},\"id\":\"4760\",\"type\":\"ColumnDataSource\"},{\"attributes\":{\"fill_color\":{\"value\":\"#1f77b4\"},\"line_color\":{\"value\":\"#1f77b4\"},\"line_width\":{\"value\":5},\"top\":{\"field\":\"top\"},\"width\":{\"value\":0.9},\"x\":{\"field\":\"x\"}},\"id\":\"4713\",\"type\":\"VBar\"},{\"attributes\":{},\"id\":\"4738\",\"type\":\"BasicTicker\"},{\"attributes\":{},\"id\":\"4773\",\"type\":\"BasicTickFormatter\"},{\"attributes\":{\"line_alpha\":0.1,\"line_color\":\"#1f77b4\",\"x\":{\"field\":\"x\"},\"y\":{\"field\":\"y\"}},\"id\":\"4762\",\"type\":\"Line\"},{\"attributes\":{\"data_source\":{\"id\":\"4755\"},\"glyph\":{\"id\":\"4756\"},\"hover_glyph\":null,\"muted_glyph\":null,\"nonselection_glyph\":{\"id\":\"4757\"},\"selection_glyph\":null,\"view\":{\"id\":\"4759\"}},\"id\":\"4758\",\"type\":\"GlyphRenderer\"},{\"attributes\":{},\"id\":\"4698\",\"type\":\"PanTool\"},{\"attributes\":{\"bottom_units\":\"screen\",\"fill_alpha\":0.5,\"fill_color\":\"lightgrey\",\"left_units\":\"screen\",\"level\":\"overlay\",\"line_alpha\":1.0,\"line_color\":\"black\",\"line_dash\":[4,4],\"line_width\":2,\"render_mode\":\"css\",\"right_units\":\"screen\",\"top_units\":\"screen\"},\"id\":\"4747\",\"type\":\"BoxAnnotation\"},{\"attributes\":{\"data\":{\"top\":[1025.0,743.0,479.0,544.0,1168.0,650.0,523.0,637.0,793.0,397.0,360.0,940.0,918.0,574.0],\"x\":[1594857600000.0,1594944000000.0,1595030400000.0,1595116800000.0,1595203200000.0,1595289600000.0,1595376000000.0,1595462400000.0,1595548800000.0,1595635200000.0,1595721600000.0,1595808000000.0,1595894400000.0,1595980800000.0]},\"selected\":{\"id\":\"4789\"},\"selection_policy\":{\"id\":\"4788\"}},\"id\":\"4712\",\"type\":\"ColumnDataSource\"},{\"attributes\":{\"source\":{\"id\":\"4760\"}},\"id\":\"4764\",\"type\":\"CDSView\"},{\"attributes\":{\"axis\":{\"id\":\"4733\"},\"ticker\":null},\"id\":\"4736\",\"type\":\"Grid\"},{\"attributes\":{\"line_color\":\"#1f77b4\",\"x\":{\"field\":\"x\"},\"y\":{\"field\":\"y\"}},\"id\":\"4761\",\"type\":\"Line\"},{\"attributes\":{},\"id\":\"4699\",\"type\":\"WheelZoomTool\"},{\"attributes\":{},\"id\":\"4816\",\"type\":\"Selection\"},{\"attributes\":{\"line_color\":\"#1f77b4\",\"x\":{\"field\":\"x\"},\"y\":{\"field\":\"y\"}},\"id\":\"4766\",\"type\":\"Line\"},{\"attributes\":{\"months\":[0,6]},\"id\":\"4785\",\"type\":\"MonthsTicker\"},{\"attributes\":{},\"id\":\"4815\",\"type\":\"UnionRenderers\"},{\"attributes\":{},\"id\":\"4814\",\"type\":\"Selection\"},{\"attributes\":{},\"id\":\"4813\",\"type\":\"UnionRenderers\"},{\"attributes\":{\"days\":[1,2,3,4,5,6,7,8,9,10,11,12,13,14,15,16,17,18,19,20,21,22,23,24,25,26,27,28,29,30,31]},\"id\":\"4778\",\"type\":\"DaysTicker\"},{\"attributes\":{\"overlay\":{\"id\":\"4747\"}},\"id\":\"4743\",\"type\":\"BoxZoomTool\"},{\"attributes\":{},\"id\":\"4744\",\"type\":\"SaveTool\"},{\"attributes\":{\"line_alpha\":0.1,\"line_color\":\"#1f77b4\",\"x\":{\"field\":\"x\"},\"y\":{\"field\":\"y\"}},\"id\":\"4767\",\"type\":\"Line\"},{\"attributes\":{},\"id\":\"4812\",\"type\":\"Selection\"},{\"attributes\":{\"source\":{\"id\":\"4765\"}},\"id\":\"4769\",\"type\":\"CDSView\"},{\"attributes\":{},\"id\":\"4811\",\"type\":\"UnionRenderers\"},{\"attributes\":{},\"id\":\"4745\",\"type\":\"ResetTool\"},{\"attributes\":{},\"id\":\"4809\",\"type\":\"YearsTicker\"},{\"attributes\":{\"months\":[0,6]},\"id\":\"4808\",\"type\":\"MonthsTicker\"},{\"attributes\":{\"months\":[0,4,8]},\"id\":\"4807\",\"type\":\"MonthsTicker\"},{\"attributes\":{\"data_source\":{\"id\":\"4765\"},\"glyph\":{\"id\":\"4766\"},\"hover_glyph\":null,\"muted_glyph\":null,\"nonselection_glyph\":{\"id\":\"4767\"},\"selection_glyph\":null,\"view\":{\"id\":\"4769\"}},\"id\":\"4768\",\"type\":\"GlyphRenderer\"},{\"attributes\":{\"months\":[0,2,4,6,8,10]},\"id\":\"4806\",\"type\":\"MonthsTicker\"},{\"attributes\":{\"mantissas\":[1,2,5],\"max_interval\":500.0,\"num_minor_ticks\":0},\"id\":\"4775\",\"type\":\"AdaptiveTicker\"},{\"attributes\":{},\"id\":\"4790\",\"type\":\"UnionRenderers\"},{\"attributes\":{\"months\":[0,1,2,3,4,5,6,7,8,9,10,11]},\"id\":\"4805\",\"type\":\"MonthsTicker\"},{\"attributes\":{\"days\":[1,15]},\"id\":\"4804\",\"type\":\"DaysTicker\"},{\"attributes\":{\"base\":24,\"mantissas\":[1,2,4,6,8,12],\"max_interval\":43200000.0,\"min_interval\":3600000.0,\"num_minor_ticks\":0},\"id\":\"4777\",\"type\":\"AdaptiveTicker\"},{\"attributes\":{\"base\":60,\"mantissas\":[1,2,5,10,15,20,30],\"max_interval\":1800000.0,\"min_interval\":1000.0,\"num_minor_ticks\":0},\"id\":\"4776\",\"type\":\"AdaptiveTicker\"},{\"attributes\":{\"days\":[1,8,15,22]},\"id\":\"4803\",\"type\":\"DaysTicker\"},{\"attributes\":{\"months\":[0,2,4,6,8,10]},\"id\":\"4783\",\"type\":\"MonthsTicker\"},{\"attributes\":{\"days\":[1,15]},\"id\":\"4781\",\"type\":\"DaysTicker\"},{\"attributes\":{\"days\":[1,4,7,10,13,16,19,22,25,28]},\"id\":\"4802\",\"type\":\"DaysTicker\"},{\"attributes\":{\"days\":[1,2,3,4,5,6,7,8,9,10,11,12,13,14,15,16,17,18,19,20,21,22,23,24,25,26,27,28,29,30,31]},\"id\":\"4801\",\"type\":\"DaysTicker\"},{\"attributes\":{\"months\":[0,1,2,3,4,5,6,7,8,9,10,11]},\"id\":\"4782\",\"type\":\"MonthsTicker\"},{\"attributes\":{\"base\":24,\"mantissas\":[1,2,4,6,8,12],\"max_interval\":43200000.0,\"min_interval\":3600000.0,\"num_minor_ticks\":0},\"id\":\"4800\",\"type\":\"AdaptiveTicker\"},{\"attributes\":{},\"id\":\"4788\",\"type\":\"UnionRenderers\"},{\"attributes\":{\"base\":60,\"mantissas\":[1,2,5,10,15,20,30],\"max_interval\":1800000.0,\"min_interval\":1000.0,\"num_minor_ticks\":0},\"id\":\"4799\",\"type\":\"AdaptiveTicker\"},{\"attributes\":{\"mantissas\":[1,2,5],\"max_interval\":500.0,\"num_minor_ticks\":0},\"id\":\"4798\",\"type\":\"AdaptiveTicker\"},{\"attributes\":{\"days\":[1,8,15,22]},\"id\":\"4780\",\"type\":\"DaysTicker\"},{\"attributes\":{},\"id\":\"4796\",\"type\":\"BasicTickFormatter\"},{\"attributes\":{\"days\":[1,4,7,10,13,16,19,22,25,28]},\"id\":\"4779\",\"type\":\"DaysTicker\"},{\"attributes\":{},\"id\":\"4786\",\"type\":\"YearsTicker\"},{\"attributes\":{},\"id\":\"4789\",\"type\":\"Selection\"},{\"attributes\":{},\"id\":\"4794\",\"type\":\"DatetimeTickFormatter\"},{\"attributes\":{},\"id\":\"4791\",\"type\":\"Selection\"},{\"attributes\":{\"months\":[0,4,8]},\"id\":\"4784\",\"type\":\"MonthsTicker\"}],\"root_ids\":[\"4821\"]},\"title\":\"Bokeh Application\",\"version\":\"2.0.2\"}};\n",
       "  var render_items = [{\"docid\":\"b22c3cff-4c05-472e-b752-4114feba2351\",\"root_ids\":[\"4821\"],\"roots\":{\"4821\":\"204d9a55-3585-47fa-8f0f-6d2cd81a5010\"}}];\n",
       "  root.Bokeh.embed.embed_items_notebook(docs_json, render_items);\n",
       "\n",
       "  }\n",
       "  if (root.Bokeh !== undefined) {\n",
       "    embed_document(root);\n",
       "  } else {\n",
       "    var attempts = 0;\n",
       "    var timer = setInterval(function(root) {\n",
       "      if (root.Bokeh !== undefined) {\n",
       "        clearInterval(timer);\n",
       "        embed_document(root);\n",
       "      } else {\n",
       "        attempts++;\n",
       "        if (attempts > 100) {\n",
       "          clearInterval(timer);\n",
       "          console.log(\"Bokeh: ERROR: Unable to run BokehJS code because BokehJS library is missing\");\n",
       "        }\n",
       "      }\n",
       "    }, 10, root)\n",
       "  }\n",
       "})(window);"
      ],
      "application/vnd.bokehjs_exec.v0+json": ""
     },
     "metadata": {
      "application/vnd.bokehjs_exec.v0+json": {
       "id": "4821"
      }
     },
     "output_type": "display_data"
    }
   ],
   "source": [
    "def make_trend_line_king():\n",
    "    df = pd.read_csv('data/non_king.csv')\n",
    "    df['date'] = pd.to_datetime(df['date'])\n",
    "    last_date = df['date'].tolist()[-14]\n",
    "    df_non_king_trend = df[(df['date']>=  last_date)]\n",
    "    nums = df_non_king_trend['cases'].rolling(1).mean().tolist()\n",
    "    X = range(len(nums))\n",
    "    df_non_king_trend = df_non_king_trend.assign(X = X)\n",
    "    labels = df_non_king_trend['date'].tolist()\n",
    "    labels = [datetime.datetime(x.year, x.month, x.day) for x in labels]\n",
    "    popt, pcov = optim.curve_fit(f = exp_func, xdata =np.array(X), ydata = np.array(nums) )\n",
    "    print(popt[0], popt[1])\n",
    "    y_hat = [exp_func(initial = popt[0], ratio = popt[1], x = x) for x in X]\n",
    "    p_value = get_p_value(nums, y_hat)\n",
    "    print(p_value)\n",
    "    p = figure(x_axis_type = 'datetime', title = 'Washington {p}'.format(p = round(popt[1],2)), \n",
    "                 plot_width = 350 , plot_height = 350, y_range = None)\n",
    "    p.vbar(x=labels, top=nums, line_width = 5, width = .9)\n",
    "    p.line(x = labels, y = y_hat)\n",
    "    #print(dir(p.axis))\n",
    "    p.yaxis.axis_label = 'Cases'\n",
    "    return p\n",
    "grid = gridplot([make_trend_line_king(), make_trend_line_wash()], ncols = 4)\n",
    "show(grid)"
   ]
  },
  {
   "cell_type": "code",
   "execution_count": 19,
   "metadata": {},
   "outputs": [],
   "source": [
    "script, div = components(grid)\n",
    "text = \"\"\"RT rate for King County and Washington State. RT declining (2020-07-30).\"\"\""
   ]
  },
  {
   "cell_type": "code",
   "execution_count": 20,
   "metadata": {},
   "outputs": [],
   "source": [
    "def output_graphs(script, div, text, \n",
    "                 home_page_dir = '/home/henry/projects/covid19/home_page/'):\n",
    "    with open(os.path.join(home_page_dir, 'script'), 'w') as write_obj:\n",
    "              write_obj.write(script)\n",
    "    with open(os.path.join(home_page_dir, 'div'), 'w') as write_obj:\n",
    "              write_obj.write(div)\n",
    "    with open(os.path.join(home_page_dir, 'text.txt'), 'w') as write_obj:\n",
    "              write_obj.write(text)\n",
    "output_graphs(script, div, text = text)"
   ]
  },
  {
   "cell_type": "code",
   "execution_count": 18,
   "metadata": {},
   "outputs": [
    {
     "data": {
      "text/plain": [
       "dtype('int64')"
      ]
     },
     "execution_count": 18,
     "metadata": {},
     "output_type": "execute_result"
    }
   ],
   "source": [
    "df_pop = pd.read_csv('data/states_population.csv')\n",
    "df_pop.head()\n",
    "df_pop['population_2019'].dtype"
   ]
  },
  {
   "cell_type": "code",
   "execution_count": 101,
   "metadata": {},
   "outputs": [
    {
     "name": "stdout",
     "output_type": "stream",
     "text": [
      "204.48401312777472 0.9779762731685523\n",
      "0.3\n"
     ]
    },
    {
     "data": {
      "text/html": [
       "\n",
       "\n",
       "\n",
       "\n",
       "\n",
       "\n",
       "  <div class=\"bk-root\" id=\"d5842f47-de92-48ff-9305-125aa576dd61\" data-root-id=\"5537\"></div>\n"
      ]
     },
     "metadata": {},
     "output_type": "display_data"
    },
    {
     "data": {
      "application/javascript": [
       "(function(root) {\n",
       "  function embed_document(root) {\n",
       "    \n",
       "  var docs_json = {\"8fa11e48-0dac-4da8-9921-e67fd09994bf\":{\"roots\":{\"references\":[{\"attributes\":{\"below\":[{\"id\":\"5548\"}],\"center\":[{\"id\":\"5551\"},{\"id\":\"5555\"}],\"left\":[{\"id\":\"5552\"}],\"plot_height\":350,\"plot_width\":350,\"renderers\":[{\"id\":\"5573\"},{\"id\":\"5578\"},{\"id\":\"5583\"},{\"id\":\"5588\"}],\"title\":{\"id\":\"5538\"},\"toolbar\":{\"id\":\"5563\"},\"x_range\":{\"id\":\"5540\"},\"x_scale\":{\"id\":\"5544\"},\"y_range\":{\"id\":\"5542\"},\"y_scale\":{\"id\":\"5546\"}},\"id\":\"5537\",\"subtype\":\"Figure\",\"type\":\"Plot\"},{\"attributes\":{\"data\":{\"x\":[1594857600000.0,1594944000000.0,1595030400000.0,1595116800000.0,1595203200000.0,1595289600000.0,1595376000000.0,1595462400000.0,1595548800000.0,1595635200000.0,1595721600000.0,1595808000000.0,1595894400000.0,1595980800000.0],\"y\":[209.08893061921177,204.48401312777472,199.98051308125045,195.57619688953622,191.26888015450766,187.05642658662788,182.9367469454172,178.90779800325768,174.9675815320181,171.11414331199788,167.34557216269724,163.65999899493366,160.05559588383423,156.5305751622441]},\"selected\":{\"id\":\"5893\"},\"selection_policy\":{\"id\":\"5892\"}},\"id\":\"5575\",\"type\":\"ColumnDataSource\"},{\"attributes\":{\"days\":[1,2,3,4,5,6,7,8,9,10,11,12,13,14,15,16,17,18,19,20,21,22,23,24,25,26,27,28,29,30,31]},\"id\":\"5880\",\"type\":\"DaysTicker\"},{\"attributes\":{},\"id\":\"5895\",\"type\":\"Selection\"},{\"attributes\":{},\"id\":\"5556\",\"type\":\"PanTool\"},{\"attributes\":{},\"id\":\"5557\",\"type\":\"WheelZoomTool\"},{\"attributes\":{\"mantissas\":[1,2,5],\"max_interval\":500.0,\"num_minor_ticks\":0},\"id\":\"5877\",\"type\":\"AdaptiveTicker\"},{\"attributes\":{\"line_color\":\"#1f77b4\",\"x\":{\"field\":\"x\"},\"y\":{\"field\":\"y\"}},\"id\":\"5576\",\"type\":\"Line\"},{\"attributes\":{\"data_source\":{\"id\":\"5580\"},\"glyph\":{\"id\":\"5581\"},\"hover_glyph\":null,\"muted_glyph\":null,\"nonselection_glyph\":{\"id\":\"5582\"},\"selection_glyph\":null,\"view\":{\"id\":\"5584\"}},\"id\":\"5583\",\"type\":\"GlyphRenderer\"},{\"attributes\":{},\"id\":\"5890\",\"type\":\"UnionRenderers\"},{\"attributes\":{\"overlay\":{\"id\":\"5562\"}},\"id\":\"5558\",\"type\":\"BoxZoomTool\"},{\"attributes\":{\"data_source\":{\"id\":\"5575\"},\"glyph\":{\"id\":\"5576\"},\"hover_glyph\":null,\"muted_glyph\":null,\"nonselection_glyph\":{\"id\":\"5577\"},\"selection_glyph\":null,\"view\":{\"id\":\"5579\"}},\"id\":\"5578\",\"type\":\"GlyphRenderer\"},{\"attributes\":{\"text\":\"King 0.98\"},\"id\":\"5538\",\"type\":\"Title\"},{\"attributes\":{},\"id\":\"5873\",\"type\":\"DatetimeTickFormatter\"},{\"attributes\":{\"days\":[1,4,7,10,13,16,19,22,25,28]},\"id\":\"5881\",\"type\":\"DaysTicker\"},{\"attributes\":{\"months\":[0,6]},\"id\":\"5887\",\"type\":\"MonthsTicker\"},{\"attributes\":{},\"id\":\"5559\",\"type\":\"SaveTool\"},{\"attributes\":{},\"id\":\"5894\",\"type\":\"UnionRenderers\"},{\"attributes\":{\"line_alpha\":0.1,\"line_color\":\"#1f77b4\",\"x\":{\"field\":\"x\"},\"y\":{\"field\":\"y\"}},\"id\":\"5577\",\"type\":\"Line\"},{\"attributes\":{},\"id\":\"5560\",\"type\":\"ResetTool\"},{\"attributes\":{},\"id\":\"5897\",\"type\":\"Selection\"},{\"attributes\":{\"source\":{\"id\":\"5575\"}},\"id\":\"5579\",\"type\":\"CDSView\"},{\"attributes\":{},\"id\":\"5561\",\"type\":\"HelpTool\"},{\"attributes\":{\"base\":60,\"mantissas\":[1,2,5,10,15,20,30],\"max_interval\":1800000.0,\"min_interval\":1000.0,\"num_minor_ticks\":0},\"id\":\"5878\",\"type\":\"AdaptiveTicker\"},{\"attributes\":{},\"id\":\"5540\",\"type\":\"DataRange1d\"},{\"attributes\":{\"line_alpha\":0.1,\"line_color\":\"#1f77b4\",\"x\":{\"field\":\"x\"},\"y\":{\"field\":\"y\"}},\"id\":\"5582\",\"type\":\"Line\"},{\"attributes\":{\"months\":[0,2,4,6,8,10]},\"id\":\"5885\",\"type\":\"MonthsTicker\"},{\"attributes\":{\"source\":{\"id\":\"5580\"}},\"id\":\"5584\",\"type\":\"CDSView\"},{\"attributes\":{},\"id\":\"5891\",\"type\":\"Selection\"},{\"attributes\":{},\"id\":\"5542\",\"type\":\"DataRange1d\"},{\"attributes\":{},\"id\":\"5896\",\"type\":\"UnionRenderers\"},{\"attributes\":{\"active_drag\":\"auto\",\"active_inspect\":\"auto\",\"active_multi\":null,\"active_scroll\":\"auto\",\"active_tap\":\"auto\",\"tools\":[{\"id\":\"5556\"},{\"id\":\"5557\"},{\"id\":\"5558\"},{\"id\":\"5559\"},{\"id\":\"5560\"},{\"id\":\"5561\"}]},\"id\":\"5563\",\"type\":\"Toolbar\"},{\"attributes\":{\"days\":[1,15]},\"id\":\"5883\",\"type\":\"DaysTicker\"},{\"attributes\":{},\"id\":\"5544\",\"type\":\"LinearScale\"},{\"attributes\":{\"line_color\":\"#1f77b4\",\"x\":{\"field\":\"x\"},\"y\":{\"field\":\"y\"}},\"id\":\"5586\",\"type\":\"Line\"},{\"attributes\":{},\"id\":\"5546\",\"type\":\"LinearScale\"},{\"attributes\":{\"data_source\":{\"id\":\"5585\"},\"glyph\":{\"id\":\"5586\"},\"hover_glyph\":null,\"muted_glyph\":null,\"nonselection_glyph\":{\"id\":\"5587\"},\"selection_glyph\":null,\"view\":{\"id\":\"5589\"}},\"id\":\"5588\",\"type\":\"GlyphRenderer\"},{\"attributes\":{\"base\":24,\"mantissas\":[1,2,4,6,8,12],\"max_interval\":43200000.0,\"min_interval\":3600000.0,\"num_minor_ticks\":0},\"id\":\"5879\",\"type\":\"AdaptiveTicker\"},{\"attributes\":{\"formatter\":{\"id\":\"5873\"},\"ticker\":{\"id\":\"5549\"}},\"id\":\"5548\",\"type\":\"DatetimeAxis\"},{\"attributes\":{},\"id\":\"5892\",\"type\":\"UnionRenderers\"},{\"attributes\":{\"num_minor_ticks\":5,\"tickers\":[{\"id\":\"5877\"},{\"id\":\"5878\"},{\"id\":\"5879\"},{\"id\":\"5880\"},{\"id\":\"5881\"},{\"id\":\"5882\"},{\"id\":\"5883\"},{\"id\":\"5884\"},{\"id\":\"5885\"},{\"id\":\"5886\"},{\"id\":\"5887\"},{\"id\":\"5888\"}]},\"id\":\"5549\",\"type\":\"DatetimeTicker\"},{\"attributes\":{\"line_alpha\":0.1,\"line_color\":\"#1f77b4\",\"x\":{\"field\":\"x\"},\"y\":{\"field\":\"y\"}},\"id\":\"5587\",\"type\":\"Line\"},{\"attributes\":{\"source\":{\"id\":\"5585\"}},\"id\":\"5589\",\"type\":\"CDSView\"},{\"attributes\":{\"axis\":{\"id\":\"5548\"},\"ticker\":null},\"id\":\"5551\",\"type\":\"Grid\"},{\"attributes\":{},\"id\":\"5888\",\"type\":\"YearsTicker\"},{\"attributes\":{},\"id\":\"5875\",\"type\":\"BasicTickFormatter\"},{\"attributes\":{\"data\":{\"x\":[1594857600000.0,1594944000000.0,1595030400000.0,1595116800000.0,1595203200000.0,1595289600000.0,1595376000000.0,1595462400000.0,1595548800000.0,1595635200000.0,1595721600000.0,1595808000000.0,1595894400000.0,1595980800000.0],\"y\":[227.72817800437738,226.87058144851383,226.01621449672945,225.16506498672902,224.31712080201902,223.47236987173517,222.6308001704706,221.79239971810466,220.9571565796323,220.1250588649944,219.29609472890817,218.4702523706989,217.6475200341316,216.82788600724393]},\"selected\":{\"id\":\"5897\"},\"selection_policy\":{\"id\":\"5896\"}},\"id\":\"5585\",\"type\":\"ColumnDataSource\"},{\"attributes\":{\"formatter\":{\"id\":\"5875\"},\"ticker\":{\"id\":\"5553\"}},\"id\":\"5552\",\"type\":\"LinearAxis\"},{\"attributes\":{\"data\":{\"x\":[1594857600000.0,1594944000000.0,1595030400000.0,1595116800000.0,1595203200000.0,1595289600000.0,1595376000000.0,1595462400000.0,1595548800000.0,1595635200000.0,1595721600000.0,1595808000000.0,1595894400000.0,1595980800000.0],\"y\":[193.5833326873831,185.431842353942,177.62359848564716,170.14414751253585,162.9796444817932,156.11682742983945,149.5429928335681,143.2459720952939,137.21410901788303,131.43623822837003,125.90166451012216,120.60014300529431,115.52186025092706,110.65741601358522]},\"selected\":{\"id\":\"5895\"},\"selection_policy\":{\"id\":\"5894\"}},\"id\":\"5580\",\"type\":\"ColumnDataSource\"},{\"attributes\":{\"days\":[1,8,15,22]},\"id\":\"5882\",\"type\":\"DaysTicker\"},{\"attributes\":{},\"id\":\"5553\",\"type\":\"BasicTicker\"},{\"attributes\":{\"months\":[0,4,8]},\"id\":\"5886\",\"type\":\"MonthsTicker\"},{\"attributes\":{\"line_color\":\"#1f77b4\",\"x\":{\"field\":\"x\"},\"y\":{\"field\":\"y\"}},\"id\":\"5581\",\"type\":\"Line\"},{\"attributes\":{},\"id\":\"5893\",\"type\":\"Selection\"},{\"attributes\":{\"bottom_units\":\"screen\",\"fill_alpha\":0.5,\"fill_color\":\"lightgrey\",\"left_units\":\"screen\",\"level\":\"overlay\",\"line_alpha\":1.0,\"line_color\":\"black\",\"line_dash\":[4,4],\"line_width\":2,\"render_mode\":\"css\",\"right_units\":\"screen\",\"top_units\":\"screen\"},\"id\":\"5562\",\"type\":\"BoxAnnotation\"},{\"attributes\":{\"axis\":{\"id\":\"5552\"},\"dimension\":1,\"ticker\":null},\"id\":\"5555\",\"type\":\"Grid\"},{\"attributes\":{\"source\":{\"id\":\"5570\"}},\"id\":\"5574\",\"type\":\"CDSView\"},{\"attributes\":{\"months\":[0,1,2,3,4,5,6,7,8,9,10,11]},\"id\":\"5884\",\"type\":\"MonthsTicker\"},{\"attributes\":{\"fill_color\":{\"value\":\"#1f77b4\"},\"line_color\":{\"value\":\"#1f77b4\"},\"line_width\":{\"value\":5},\"top\":{\"field\":\"top\"},\"width\":{\"value\":0.9},\"x\":{\"field\":\"x\"}},\"id\":\"5571\",\"type\":\"VBar\"},{\"attributes\":{\"data_source\":{\"id\":\"5570\"},\"glyph\":{\"id\":\"5571\"},\"hover_glyph\":null,\"muted_glyph\":null,\"nonselection_glyph\":{\"id\":\"5572\"},\"selection_glyph\":null,\"view\":{\"id\":\"5574\"}},\"id\":\"5573\",\"type\":\"GlyphRenderer\"},{\"attributes\":{\"data\":{\"top\":[239.0,215.0,184.0,168.0,180.0,147.0,173.0,176.0,229.0,208.0,178.0,186.0,110.0,150.0],\"x\":[1594857600000.0,1594944000000.0,1595030400000.0,1595116800000.0,1595203200000.0,1595289600000.0,1595376000000.0,1595462400000.0,1595548800000.0,1595635200000.0,1595721600000.0,1595808000000.0,1595894400000.0,1595980800000.0]},\"selected\":{\"id\":\"5891\"},\"selection_policy\":{\"id\":\"5890\"}},\"id\":\"5570\",\"type\":\"ColumnDataSource\"},{\"attributes\":{\"fill_alpha\":{\"value\":0.1},\"fill_color\":{\"value\":\"#1f77b4\"},\"line_alpha\":{\"value\":0.1},\"line_color\":{\"value\":\"#1f77b4\"},\"line_width\":{\"value\":5},\"top\":{\"field\":\"top\"},\"width\":{\"value\":0.9},\"x\":{\"field\":\"x\"}},\"id\":\"5572\",\"type\":\"VBar\"}],\"root_ids\":[\"5537\"]},\"title\":\"Bokeh Application\",\"version\":\"2.0.2\"}};\n",
       "  var render_items = [{\"docid\":\"8fa11e48-0dac-4da8-9921-e67fd09994bf\",\"root_ids\":[\"5537\"],\"roots\":{\"5537\":\"d5842f47-de92-48ff-9305-125aa576dd61\"}}];\n",
       "  root.Bokeh.embed.embed_items_notebook(docs_json, render_items);\n",
       "\n",
       "  }\n",
       "  if (root.Bokeh !== undefined) {\n",
       "    embed_document(root);\n",
       "  } else {\n",
       "    var attempts = 0;\n",
       "    var timer = setInterval(function(root) {\n",
       "      if (root.Bokeh !== undefined) {\n",
       "        clearInterval(timer);\n",
       "        embed_document(root);\n",
       "      } else {\n",
       "        attempts++;\n",
       "        if (attempts > 100) {\n",
       "          clearInterval(timer);\n",
       "          console.log(\"Bokeh: ERROR: Unable to run BokehJS code because BokehJS library is missing\");\n",
       "        }\n",
       "      }\n",
       "    }, 10, root)\n",
       "  }\n",
       "})(window);"
      ],
      "application/vnd.bokehjs_exec.v0+json": ""
     },
     "metadata": {
      "application/vnd.bokehjs_exec.v0+json": {
       "id": "5537"
      }
     },
     "output_type": "display_data"
    }
   ],
   "source": [
    "def error_opt(X, y, y_hat, num_iter = 100):\n",
    "    fits = []\n",
    "    inter = []\n",
    "    for i in range(num_iter):\n",
    "        d = diff(y, y_hat)\n",
    "        diffs = []\n",
    "        for i in range(len(y)):\n",
    "            diffs.append(y[i] - y_hat[i])\n",
    "        random.shuffle(diffs)\n",
    "        y_new = []\n",
    "        for i in range(len(y)):\n",
    "            y_new.append(y[i] + diffs[i])\n",
    "        popt, pcov = optim.curve_fit(f = exp_func, xdata =np.array(X), ydata = np.array(y_new) )\n",
    "        fits.append(popt[1])\n",
    "        inter.append(popt[0])\n",
    "    y_hat_low = [exp_func(initial = np.percentile(inter, 5), ratio = np.percentile(fits, 5), x = x) for x in X]\n",
    "    y_hat_high = [exp_func(initial = np.percentile(inter, 95), ratio = np.percentile(fits, 95), x = x) for x in X]\n",
    "    return y_hat_low, y_hat_high\n",
    "\n",
    "def make_trend_line_wash2():\n",
    "    df = pd.read_csv('data/seven_day_county.csv')\n",
    "    df['date'] = pd.to_datetime(df['date'])\n",
    "    last_date = df['date'].tolist()[-14]\n",
    "    df_non_king_trend = df[(df['date']>=  last_date)]\n",
    "    df_king = df[(df['state'] == 'Washington') & (df['county'] == 'King')]\n",
    "    df_king_trend = df_king[(df_king['date']>=  last_date)]\n",
    "    nums = df_king_trend['new_cases'].rolling(1).mean().tolist()\n",
    "    X = range(len(nums))\n",
    "    df_king_trend = df_king_trend.assign(X = X)\n",
    "    labels = df_king_trend['date'].tolist()\n",
    "    labels = [datetime.datetime(x.year, x.month, x.day) for x in labels]\n",
    "    popt, pcov = optim.curve_fit(f = exp_func, xdata =np.array(X), ydata = np.array(nums) )\n",
    "    print(popt[0], popt[1])\n",
    "    y_hat = [exp_func(initial = popt[0], ratio = popt[1], x = x) for x in X]\n",
    "    p_value = get_p_value(nums, y_hat)\n",
    "    print(p_value)\n",
    "    y_hat_low, y_hat_high = error_opt(X, nums, y_hat)\n",
    "    p = figure(x_axis_type = 'datetime', title = 'King {p}'.format(p = round(popt[1],2)), \n",
    "                 plot_width = 350 , plot_height = 350, y_range = None)\n",
    "    p.vbar(x=labels, top=nums, line_width = 5, width = .9)\n",
    "    p.line(x = labels, y = y_hat)\n",
    "    p.line(x = labels, y = y_hat_low)\n",
    "    p.line(x = labels, y = y_hat_high)\n",
    "    band = Band(base='x', lower='lower', upper='upper', source=source, \n",
    "            level='underlay', fill_alpha=1.0, line_width=1, line_color='black')\n",
    "    return p\n",
    "show(make_trend_line_wash2())  \n"
   ]
  },
  {
   "cell_type": "code",
   "execution_count": 121,
   "metadata": {},
   "outputs": [
    {
     "name": "stdout",
     "output_type": "stream",
     "text": [
      "204.48401312777472 0.9779762731685523\n",
      "0.34\n"
     ]
    },
    {
     "data": {
      "text/html": [
       "\n",
       "\n",
       "\n",
       "\n",
       "\n",
       "\n",
       "  <div class=\"bk-root\" id=\"676bb6ee-c1ce-4238-865d-76c39029fd08\" data-root-id=\"13602\"></div>\n"
      ]
     },
     "metadata": {},
     "output_type": "display_data"
    },
    {
     "data": {
      "application/javascript": [
       "(function(root) {\n",
       "  function embed_document(root) {\n",
       "    \n",
       "  var docs_json = {\"eaaa316e-e22f-40b4-b984-78a01c983f34\":{\"roots\":{\"references\":[{\"attributes\":{\"below\":[{\"id\":\"13613\"}],\"center\":[{\"id\":\"13616\"},{\"id\":\"13620\"},{\"id\":\"13646\"}],\"left\":[{\"id\":\"13617\"}],\"plot_height\":350,\"plot_width\":350,\"renderers\":[{\"id\":\"13638\"},{\"id\":\"13643\"}],\"title\":{\"id\":\"13603\"},\"toolbar\":{\"id\":\"13628\"},\"x_range\":{\"id\":\"13605\"},\"x_scale\":{\"id\":\"13609\"},\"y_range\":{\"id\":\"13607\"},\"y_scale\":{\"id\":\"13611\"}},\"id\":\"13602\",\"subtype\":\"Figure\",\"type\":\"Plot\"},{\"attributes\":{},\"id\":\"13624\",\"type\":\"SaveTool\"},{\"attributes\":{\"days\":[1,8,15,22]},\"id\":\"14244\",\"type\":\"DaysTicker\"},{\"attributes\":{\"line_alpha\":0.1,\"line_color\":\"#1f77b4\",\"x\":{\"field\":\"x\"},\"y\":{\"field\":\"y\"}},\"id\":\"13642\",\"type\":\"Line\"},{\"attributes\":{},\"id\":\"13625\",\"type\":\"ResetTool\"},{\"attributes\":{\"days\":[1,4,7,10,13,16,19,22,25,28]},\"id\":\"14243\",\"type\":\"DaysTicker\"},{\"attributes\":{\"source\":{\"id\":\"13640\"}},\"id\":\"13644\",\"type\":\"CDSView\"},{\"attributes\":{\"fill_alpha\":{\"value\":0.1},\"fill_color\":{\"value\":\"#1f77b4\"},\"line_alpha\":{\"value\":0.1},\"line_color\":{\"value\":\"#1f77b4\"},\"line_width\":{\"value\":5},\"top\":{\"field\":\"top\"},\"width\":{\"value\":0.9},\"x\":{\"field\":\"x\"}},\"id\":\"13637\",\"type\":\"VBar\"},{\"attributes\":{\"months\":[0,2,4,6,8,10]},\"id\":\"14247\",\"type\":\"MonthsTicker\"},{\"attributes\":{},\"id\":\"13626\",\"type\":\"HelpTool\"},{\"attributes\":{\"months\":[0,1,2,3,4,5,6,7,8,9,10,11]},\"id\":\"14246\",\"type\":\"MonthsTicker\"},{\"attributes\":{},\"id\":\"13605\",\"type\":\"DataRange1d\"},{\"attributes\":{\"months\":[0,4,8]},\"id\":\"14248\",\"type\":\"MonthsTicker\"},{\"attributes\":{},\"id\":\"14250\",\"type\":\"YearsTicker\"},{\"attributes\":{\"base\":24,\"mantissas\":[1,2,4,6,8,12],\"max_interval\":43200000.0,\"min_interval\":3600000.0,\"num_minor_ticks\":0},\"id\":\"14241\",\"type\":\"AdaptiveTicker\"},{\"attributes\":{},\"id\":\"13607\",\"type\":\"DataRange1d\"},{\"attributes\":{\"active_drag\":\"auto\",\"active_inspect\":\"auto\",\"active_multi\":null,\"active_scroll\":\"auto\",\"active_tap\":\"auto\",\"tools\":[{\"id\":\"13621\"},{\"id\":\"13622\"},{\"id\":\"13623\"},{\"id\":\"13624\"},{\"id\":\"13625\"},{\"id\":\"13626\"}]},\"id\":\"13628\",\"type\":\"Toolbar\"},{\"attributes\":{},\"id\":\"13609\",\"type\":\"LinearScale\"},{\"attributes\":{\"base\":{\"field\":\"x\",\"units\":\"data\"},\"fill_alpha\":1.0,\"fill_color\":\"#ff9999\",\"level\":\"underlay\",\"line_color\":\"white\",\"lower\":{\"field\":\"lower\",\"units\":\"data\"},\"source\":{\"id\":\"13645\"},\"upper\":{\"field\":\"upper\",\"units\":\"data\"}},\"id\":\"13646\",\"type\":\"Band\"},{\"attributes\":{\"base\":60,\"mantissas\":[1,2,5,10,15,20,30],\"max_interval\":1800000.0,\"min_interval\":1000.0,\"num_minor_ticks\":0},\"id\":\"14240\",\"type\":\"AdaptiveTicker\"},{\"attributes\":{},\"id\":\"13611\",\"type\":\"LinearScale\"},{\"attributes\":{\"formatter\":{\"id\":\"14235\"},\"ticker\":{\"id\":\"13614\"}},\"id\":\"13613\",\"type\":\"DatetimeAxis\"},{\"attributes\":{\"num_minor_ticks\":5,\"tickers\":[{\"id\":\"14239\"},{\"id\":\"14240\"},{\"id\":\"14241\"},{\"id\":\"14242\"},{\"id\":\"14243\"},{\"id\":\"14244\"},{\"id\":\"14245\"},{\"id\":\"14246\"},{\"id\":\"14247\"},{\"id\":\"14248\"},{\"id\":\"14249\"},{\"id\":\"14250\"}]},\"id\":\"13614\",\"type\":\"DatetimeTicker\"},{\"attributes\":{\"days\":[1,15]},\"id\":\"14245\",\"type\":\"DaysTicker\"},{\"attributes\":{\"axis\":{\"id\":\"13613\"},\"ticker\":null},\"id\":\"13616\",\"type\":\"Grid\"},{\"attributes\":{\"formatter\":{\"id\":\"14237\"},\"ticker\":{\"id\":\"13618\"}},\"id\":\"13617\",\"type\":\"LinearAxis\"},{\"attributes\":{\"data\":{\"lower\":[194.84128782487494,187.2904251365161,180.03218793824172,173.0552358467101,166.34866796283038,159.9020058400276,153.70517711255366,147.74849975826552,142.02266697128238,136.51873262088665,131.22809727394923,126.14249475904074,121.25397925123602,116.55491285743287],\"upper\":[224.0986061179356,222.84489222956663,221.59819221130206,220.358466824226,219.12567704894366,217.89978408435317,216.68074934642453,215.4685344669851,214.26310129251186,213.0644118829309,211.87242851042294,210.687113658236,209.50843001950471,208.33634049607593],\"x\":[1594857600000.0,1594944000000.0,1595030400000.0,1595116800000.0,1595203200000.0,1595289600000.0,1595376000000.0,1595462400000.0,1595548800000.0,1595635200000.0,1595721600000.0,1595808000000.0,1595894400000.0,1595980800000.0]},\"selected\":{\"id\":\"14253\"},\"selection_policy\":{\"id\":\"14252\"}},\"id\":\"13645\",\"type\":\"ColumnDataSource\"},{\"attributes\":{},\"id\":\"13618\",\"type\":\"BasicTicker\"},{\"attributes\":{},\"id\":\"14255\",\"type\":\"Selection\"},{\"attributes\":{\"bottom_units\":\"screen\",\"fill_alpha\":0.5,\"fill_color\":\"lightgrey\",\"left_units\":\"screen\",\"level\":\"overlay\",\"line_alpha\":1.0,\"line_color\":\"black\",\"line_dash\":[4,4],\"line_width\":2,\"render_mode\":\"css\",\"right_units\":\"screen\",\"top_units\":\"screen\"},\"id\":\"13627\",\"type\":\"BoxAnnotation\"},{\"attributes\":{\"axis\":{\"id\":\"13617\"},\"dimension\":1,\"ticker\":null},\"id\":\"13620\",\"type\":\"Grid\"},{\"attributes\":{\"months\":[0,6]},\"id\":\"14249\",\"type\":\"MonthsTicker\"},{\"attributes\":{\"days\":[1,2,3,4,5,6,7,8,9,10,11,12,13,14,15,16,17,18,19,20,21,22,23,24,25,26,27,28,29,30,31]},\"id\":\"14242\",\"type\":\"DaysTicker\"},{\"attributes\":{\"text\":\"King 0.98\"},\"id\":\"13603\",\"type\":\"Title\"},{\"attributes\":{},\"id\":\"14253\",\"type\":\"Selection\"},{\"attributes\":{\"data_source\":{\"id\":\"13635\"},\"glyph\":{\"id\":\"13636\"},\"hover_glyph\":null,\"muted_glyph\":null,\"nonselection_glyph\":{\"id\":\"13637\"},\"selection_glyph\":null,\"view\":{\"id\":\"13639\"}},\"id\":\"13638\",\"type\":\"GlyphRenderer\"},{\"attributes\":{\"fill_color\":{\"value\":\"#1f77b4\"},\"line_color\":{\"value\":\"#1f77b4\"},\"line_width\":{\"value\":5},\"top\":{\"field\":\"top\"},\"width\":{\"value\":0.9},\"x\":{\"field\":\"x\"}},\"id\":\"13636\",\"type\":\"VBar\"},{\"attributes\":{\"data\":{\"top\":[239.0,215.0,184.0,168.0,180.0,147.0,173.0,176.0,229.0,208.0,178.0,186.0,110.0,150.0],\"x\":[1594857600000.0,1594944000000.0,1595030400000.0,1595116800000.0,1595203200000.0,1595289600000.0,1595376000000.0,1595462400000.0,1595548800000.0,1595635200000.0,1595721600000.0,1595808000000.0,1595894400000.0,1595980800000.0]},\"selected\":{\"id\":\"14255\"},\"selection_policy\":{\"id\":\"14254\"}},\"id\":\"13635\",\"type\":\"ColumnDataSource\"},{\"attributes\":{\"source\":{\"id\":\"13635\"}},\"id\":\"13639\",\"type\":\"CDSView\"},{\"attributes\":{\"mantissas\":[1,2,5],\"max_interval\":500.0,\"num_minor_ticks\":0},\"id\":\"14239\",\"type\":\"AdaptiveTicker\"},{\"attributes\":{\"data\":{\"x\":[1594857600000.0,1594944000000.0,1595030400000.0,1595116800000.0,1595203200000.0,1595289600000.0,1595376000000.0,1595462400000.0,1595548800000.0,1595635200000.0,1595721600000.0,1595808000000.0,1595894400000.0,1595980800000.0],\"y\":[209.08893061921177,204.48401312777472,199.98051308125045,195.57619688953622,191.26888015450766,187.05642658662788,182.9367469454172,178.90779800325768,174.9675815320181,171.11414331199788,167.34557216269724,163.65999899493366,160.05559588383423,156.5305751622441]},\"selected\":{\"id\":\"14257\"},\"selection_policy\":{\"id\":\"14256\"}},\"id\":\"13640\",\"type\":\"ColumnDataSource\"},{\"attributes\":{},\"id\":\"14237\",\"type\":\"BasicTickFormatter\"},{\"attributes\":{},\"id\":\"13621\",\"type\":\"PanTool\"},{\"attributes\":{},\"id\":\"14252\",\"type\":\"UnionRenderers\"},{\"attributes\":{},\"id\":\"14254\",\"type\":\"UnionRenderers\"},{\"attributes\":{},\"id\":\"13622\",\"type\":\"WheelZoomTool\"},{\"attributes\":{},\"id\":\"14256\",\"type\":\"UnionRenderers\"},{\"attributes\":{\"line_color\":\"#1f77b4\",\"x\":{\"field\":\"x\"},\"y\":{\"field\":\"y\"}},\"id\":\"13641\",\"type\":\"Line\"},{\"attributes\":{\"overlay\":{\"id\":\"13627\"}},\"id\":\"13623\",\"type\":\"BoxZoomTool\"},{\"attributes\":{},\"id\":\"14235\",\"type\":\"DatetimeTickFormatter\"},{\"attributes\":{},\"id\":\"14257\",\"type\":\"Selection\"},{\"attributes\":{\"data_source\":{\"id\":\"13640\"},\"glyph\":{\"id\":\"13641\"},\"hover_glyph\":null,\"muted_glyph\":null,\"nonselection_glyph\":{\"id\":\"13642\"},\"selection_glyph\":null,\"view\":{\"id\":\"13644\"}},\"id\":\"13643\",\"type\":\"GlyphRenderer\"}],\"root_ids\":[\"13602\"]},\"title\":\"Bokeh Application\",\"version\":\"2.0.2\"}};\n",
       "  var render_items = [{\"docid\":\"eaaa316e-e22f-40b4-b984-78a01c983f34\",\"root_ids\":[\"13602\"],\"roots\":{\"13602\":\"676bb6ee-c1ce-4238-865d-76c39029fd08\"}}];\n",
       "  root.Bokeh.embed.embed_items_notebook(docs_json, render_items);\n",
       "\n",
       "  }\n",
       "  if (root.Bokeh !== undefined) {\n",
       "    embed_document(root);\n",
       "  } else {\n",
       "    var attempts = 0;\n",
       "    var timer = setInterval(function(root) {\n",
       "      if (root.Bokeh !== undefined) {\n",
       "        clearInterval(timer);\n",
       "        embed_document(root);\n",
       "      } else {\n",
       "        attempts++;\n",
       "        if (attempts > 100) {\n",
       "          clearInterval(timer);\n",
       "          console.log(\"Bokeh: ERROR: Unable to run BokehJS code because BokehJS library is missing\");\n",
       "        }\n",
       "      }\n",
       "    }, 10, root)\n",
       "  }\n",
       "})(window);"
      ],
      "application/vnd.bokehjs_exec.v0+json": ""
     },
     "metadata": {
      "application/vnd.bokehjs_exec.v0+json": {
       "id": "13602"
      }
     },
     "output_type": "display_data"
    }
   ],
   "source": [
    "def make_trend_line_wash3():\n",
    "    df = pd.read_csv('data/seven_day_county.csv')\n",
    "    df['date'] = pd.to_datetime(df['date'])\n",
    "    last_date = df['date'].tolist()[-14]\n",
    "    df_non_king_trend = df[(df['date']>=  last_date)]\n",
    "    df_king = df[(df['state'] == 'Washington') & (df['county'] == 'King')]\n",
    "    df_king_trend = df_king[(df_king['date']>=  last_date)]\n",
    "    nums = df_king_trend['new_cases'].rolling(1).mean().tolist()\n",
    "    X = range(len(nums))\n",
    "    df_king_trend = df_king_trend.assign(X = X)\n",
    "    labels = df_king_trend['date'].tolist()\n",
    "    labels = [datetime.datetime(x.year, x.month, x.day) for x in labels]\n",
    "    popt, pcov = optim.curve_fit(f = exp_func, xdata =np.array(X), ydata = np.array(nums) )\n",
    "    print(popt[0], popt[1])\n",
    "    y_hat = [exp_func(initial = popt[0], ratio = popt[1], x = x) for x in X]\n",
    "    p_value = get_p_value(nums, y_hat)\n",
    "    print(p_value)\n",
    "    y_hat_low, y_hat_high = error_opt(X, nums, y_hat)\n",
    "    p = figure(x_axis_type = 'datetime', title = 'King {p}'.format(p = round(popt[1],2)), \n",
    "                 plot_width = 350 , plot_height = 350, y_range = None)\n",
    "    p.vbar(x=labels, top=nums, line_width = 5, width = .9)\n",
    "    p.line(x = labels, y = y_hat)\n",
    "    source = ColumnDataSource({'x':labels, 'upper': y_hat_high, 'lower':y_hat_low})\n",
    "    band = Band(base='x', lower='lower', upper='upper', source=source, \n",
    "            level='underlay', fill_alpha=1.0, line_width=1, line_color='white', fill_color = '#ff9999')\n",
    "    p.add_layout(band)\n",
    "    #p.line(x = labels, y = [y_hat[0] for x in labels], line_color = 'black')\n",
    "    return p\n",
    "show(make_trend_line_wash3())  "
   ]
  },
  {
   "cell_type": "code",
   "execution_count": 145,
   "metadata": {},
   "outputs": [
    {
     "data": {
      "text/html": [
       "\n",
       "\n",
       "\n",
       "\n",
       "\n",
       "\n",
       "  <div class=\"bk-root\" id=\"3cc99aae-1fd4-419e-95b6-15aeccdc64bd\" data-root-id=\"26146\"></div>\n"
      ]
     },
     "metadata": {},
     "output_type": "display_data"
    },
    {
     "data": {
      "application/javascript": [
       "(function(root) {\n",
       "  function embed_document(root) {\n",
       "    \n",
       "  var docs_json = {\"ce3d2e07-52df-40d1-aeeb-0f2bd4aafb7e\":{\"roots\":{\"references\":[{\"attributes\":{\"children\":[{\"id\":\"26145\"},{\"id\":\"26143\"}]},\"id\":\"26146\",\"type\":\"Column\"},{\"attributes\":{\"text\":\"King 0.98\"},\"id\":\"25931\",\"type\":\"Title\"},{\"attributes\":{},\"id\":\"26138\",\"type\":\"UnionRenderers\"},{\"attributes\":{},\"id\":\"25998\",\"type\":\"SaveTool\"},{\"attributes\":{},\"id\":\"26139\",\"type\":\"Selection\"},{\"attributes\":{},\"id\":\"25999\",\"type\":\"ResetTool\"},{\"attributes\":{},\"id\":\"26140\",\"type\":\"UnionRenderers\"},{\"attributes\":{\"below\":[{\"id\":\"25941\"}],\"center\":[{\"id\":\"25944\"},{\"id\":\"25948\"},{\"id\":\"25974\"}],\"left\":[{\"id\":\"25945\"}],\"plot_height\":350,\"plot_width\":350,\"renderers\":[{\"id\":\"25966\"},{\"id\":\"25971\"}],\"title\":{\"id\":\"25931\"},\"toolbar\":{\"id\":\"25956\"},\"toolbar_location\":null,\"x_range\":{\"id\":\"25933\"},\"x_scale\":{\"id\":\"25937\"},\"y_range\":{\"id\":\"25935\"},\"y_scale\":{\"id\":\"25939\"}},\"id\":\"25930\",\"subtype\":\"Figure\",\"type\":\"Plot\"},{\"attributes\":{},\"id\":\"26000\",\"type\":\"HelpTool\"},{\"attributes\":{},\"id\":\"25933\",\"type\":\"DataRange1d\"},{\"attributes\":{},\"id\":\"26141\",\"type\":\"Selection\"},{\"attributes\":{\"toolbars\":[{\"id\":\"25956\"},{\"id\":\"26002\"},{\"id\":\"26048\"}],\"tools\":[{\"id\":\"25949\"},{\"id\":\"25950\"},{\"id\":\"25951\"},{\"id\":\"25952\"},{\"id\":\"25953\"},{\"id\":\"25954\"},{\"id\":\"25995\"},{\"id\":\"25996\"},{\"id\":\"25997\"},{\"id\":\"25998\"},{\"id\":\"25999\"},{\"id\":\"26000\"},{\"id\":\"26041\"},{\"id\":\"26042\"},{\"id\":\"26043\"},{\"id\":\"26044\"},{\"id\":\"26045\"},{\"id\":\"26046\"}]},\"id\":\"26144\",\"type\":\"ProxyToolbar\"},{\"attributes\":{\"active_drag\":\"auto\",\"active_inspect\":\"auto\",\"active_multi\":null,\"active_scroll\":\"auto\",\"active_tap\":\"auto\",\"tools\":[{\"id\":\"25995\"},{\"id\":\"25996\"},{\"id\":\"25997\"},{\"id\":\"25998\"},{\"id\":\"25999\"},{\"id\":\"26000\"}]},\"id\":\"26002\",\"type\":\"Toolbar\"},{\"attributes\":{\"toolbar\":{\"id\":\"26144\"},\"toolbar_location\":\"above\"},\"id\":\"26145\",\"type\":\"ToolbarBox\"},{\"attributes\":{},\"id\":\"26025\",\"type\":\"DataRange1d\"},{\"attributes\":{},\"id\":\"25935\",\"type\":\"DataRange1d\"},{\"attributes\":{},\"id\":\"25937\",\"type\":\"LinearScale\"},{\"attributes\":{},\"id\":\"26069\",\"type\":\"DatetimeTickFormatter\"},{\"attributes\":{},\"id\":\"25939\",\"type\":\"LinearScale\"},{\"attributes\":{\"text\":\"Non King 0.99\"},\"id\":\"26023\",\"type\":\"Title\"},{\"attributes\":{\"formatter\":{\"id\":\"26069\"},\"ticker\":{\"id\":\"25942\"}},\"id\":\"25941\",\"type\":\"DatetimeAxis\"},{\"attributes\":{\"bottom_units\":\"screen\",\"fill_alpha\":0.5,\"fill_color\":\"lightgrey\",\"left_units\":\"screen\",\"level\":\"overlay\",\"line_alpha\":1.0,\"line_color\":\"black\",\"line_dash\":[4,4],\"line_width\":2,\"render_mode\":\"css\",\"right_units\":\"screen\",\"top_units\":\"screen\"},\"id\":\"26001\",\"type\":\"BoxAnnotation\"},{\"attributes\":{\"num_minor_ticks\":5,\"tickers\":[{\"id\":\"26073\"},{\"id\":\"26074\"},{\"id\":\"26075\"},{\"id\":\"26076\"},{\"id\":\"26077\"},{\"id\":\"26078\"},{\"id\":\"26079\"},{\"id\":\"26080\"},{\"id\":\"26081\"},{\"id\":\"26082\"},{\"id\":\"26083\"},{\"id\":\"26084\"}]},\"id\":\"25942\",\"type\":\"DatetimeTicker\"},{\"attributes\":{\"data_source\":{\"id\":\"26009\"},\"glyph\":{\"id\":\"26010\"},\"hover_glyph\":null,\"muted_glyph\":null,\"nonselection_glyph\":{\"id\":\"26011\"},\"selection_glyph\":null,\"view\":{\"id\":\"26013\"}},\"id\":\"26012\",\"type\":\"GlyphRenderer\"},{\"attributes\":{\"axis\":{\"id\":\"25941\"},\"ticker\":null},\"id\":\"25944\",\"type\":\"Grid\"},{\"attributes\":{\"formatter\":{\"id\":\"26071\"},\"ticker\":{\"id\":\"25946\"}},\"id\":\"25945\",\"type\":\"LinearAxis\"},{\"attributes\":{\"source\":{\"id\":\"26009\"}},\"id\":\"26013\",\"type\":\"CDSView\"},{\"attributes\":{\"data\":{\"x\":[1594857600000.0,1594944000000.0,1595030400000.0,1595116800000.0,1595203200000.0,1595289600000.0,1595376000000.0,1595462400000.0,1595548800000.0,1595635200000.0,1595721600000.0,1595808000000.0,1595894400000.0,1595980800000.0],\"y\":[976.0348557748979,959.9659596058926,944.1616128252238,928.6174600385858,913.3292175564682,898.2926722136465,883.5036802081105,868.9581659591067,854.6521209839809,840.5816027935126,826.7427338054362,813.1317002758477,799.7447512482069,786.5781975196398]},\"selected\":{\"id\":\"26116\"},\"selection_policy\":{\"id\":\"26115\"}},\"id\":\"26014\",\"type\":\"ColumnDataSource\"},{\"attributes\":{},\"id\":\"25946\",\"type\":\"BasicTicker\"},{\"attributes\":{\"axis\":{\"id\":\"25945\"},\"dimension\":1,\"ticker\":null},\"id\":\"25948\",\"type\":\"Grid\"},{\"attributes\":{\"data\":{\"lower\":[896.9470729455209,851.4580951691462,808.2761064688874,767.2841071042035,728.3710310164367,691.431444900106,656.365262535901,623.0774736113772,591.4778862946023,561.4808828632678,533.0051877271537,505.9736472154143,480.3130205320256,455.95378131300004],\"upper\":[1137.1735080536034,1143.5771953771691,1150.0169433467554,1156.4929550282097,1163.0054346308896,1169.5545875141033,1176.1406201935854,1182.763740348007,1189.4241568255272,1196.1220796503767,1202.8577200294815,1209.6312903591229,1216.4430042316342,1223.293076442137],\"x\":[1594857600000.0,1594944000000.0,1595030400000.0,1595116800000.0,1595203200000.0,1595289600000.0,1595376000000.0,1595462400000.0,1595548800000.0,1595635200000.0,1595721600000.0,1595808000000.0,1595894400000.0,1595980800000.0]},\"selected\":{\"id\":\"26112\"},\"selection_policy\":{\"id\":\"26111\"}},\"id\":\"26019\",\"type\":\"ColumnDataSource\"},{\"attributes\":{\"line_color\":\"#1f77b4\",\"x\":{\"field\":\"x\"},\"y\":{\"field\":\"y\"}},\"id\":\"26015\",\"type\":\"Line\"},{\"attributes\":{\"data_source\":{\"id\":\"26014\"},\"glyph\":{\"id\":\"26015\"},\"hover_glyph\":null,\"muted_glyph\":null,\"nonselection_glyph\":{\"id\":\"26016\"},\"selection_glyph\":null,\"view\":{\"id\":\"26018\"}},\"id\":\"26017\",\"type\":\"GlyphRenderer\"},{\"attributes\":{\"fill_alpha\":{\"value\":0.1},\"fill_color\":{\"value\":\"#1f77b4\"},\"line_alpha\":{\"value\":0.1},\"line_color\":{\"value\":\"#1f77b4\"},\"line_width\":{\"value\":5},\"top\":{\"field\":\"top\"},\"width\":{\"value\":0.9},\"x\":{\"field\":\"x\"}},\"id\":\"25965\",\"type\":\"VBar\"},{\"attributes\":{\"data\":{\"top\":[239.0,215.0,184.0,168.0,180.0,147.0,173.0,176.0,229.0,208.0,178.0,186.0,110.0,150.0],\"x\":[1594857600000.0,1594944000000.0,1595030400000.0,1595116800000.0,1595203200000.0,1595289600000.0,1595376000000.0,1595462400000.0,1595548800000.0,1595635200000.0,1595721600000.0,1595808000000.0,1595894400000.0,1595980800000.0]},\"selected\":{\"id\":\"26089\"},\"selection_policy\":{\"id\":\"26088\"}},\"id\":\"25963\",\"type\":\"ColumnDataSource\"},{\"attributes\":{\"line_alpha\":0.1,\"line_color\":\"#1f77b4\",\"x\":{\"field\":\"x\"},\"y\":{\"field\":\"y\"}},\"id\":\"26016\",\"type\":\"Line\"},{\"attributes\":{},\"id\":\"25949\",\"type\":\"PanTool\"},{\"attributes\":{\"source\":{\"id\":\"26014\"}},\"id\":\"26018\",\"type\":\"CDSView\"},{\"attributes\":{},\"id\":\"25950\",\"type\":\"WheelZoomTool\"},{\"attributes\":{\"base\":{\"field\":\"x\",\"units\":\"data\"},\"fill_alpha\":1.0,\"fill_color\":\"#ff9999\",\"level\":\"underlay\",\"line_color\":\"white\",\"lower\":{\"field\":\"lower\",\"units\":\"data\"},\"source\":{\"id\":\"26019\"},\"upper\":{\"field\":\"upper\",\"units\":\"data\"}},\"id\":\"26020\",\"type\":\"Band\"},{\"attributes\":{\"overlay\":{\"id\":\"25955\"}},\"id\":\"25951\",\"type\":\"BoxZoomTool\"},{\"attributes\":{},\"id\":\"25952\",\"type\":\"SaveTool\"},{\"attributes\":{\"fill_alpha\":{\"value\":0.1},\"fill_color\":{\"value\":\"#1f77b4\"},\"line_alpha\":{\"value\":0.1},\"line_color\":{\"value\":\"#1f77b4\"},\"line_width\":{\"value\":5},\"top\":{\"field\":\"top\"},\"width\":{\"value\":0.9},\"x\":{\"field\":\"x\"}},\"id\":\"26057\",\"type\":\"VBar\"},{\"attributes\":{},\"id\":\"25953\",\"type\":\"ResetTool\"},{\"attributes\":{},\"id\":\"25954\",\"type\":\"HelpTool\"},{\"attributes\":{},\"id\":\"26027\",\"type\":\"DataRange1d\"},{\"attributes\":{\"active_drag\":\"auto\",\"active_inspect\":\"auto\",\"active_multi\":null,\"active_scroll\":\"auto\",\"active_tap\":\"auto\",\"tools\":[{\"id\":\"25949\"},{\"id\":\"25950\"},{\"id\":\"25951\"},{\"id\":\"25952\"},{\"id\":\"25953\"},{\"id\":\"25954\"}]},\"id\":\"25956\",\"type\":\"Toolbar\"},{\"attributes\":{},\"id\":\"26029\",\"type\":\"LinearScale\"},{\"attributes\":{},\"id\":\"26031\",\"type\":\"LinearScale\"},{\"attributes\":{\"formatter\":{\"id\":\"26119\"},\"ticker\":{\"id\":\"26034\"}},\"id\":\"26033\",\"type\":\"DatetimeAxis\"},{\"attributes\":{\"num_minor_ticks\":5,\"tickers\":[{\"id\":\"26123\"},{\"id\":\"26124\"},{\"id\":\"26125\"},{\"id\":\"26126\"},{\"id\":\"26127\"},{\"id\":\"26128\"},{\"id\":\"26129\"},{\"id\":\"26130\"},{\"id\":\"26131\"},{\"id\":\"26132\"},{\"id\":\"26133\"},{\"id\":\"26134\"}]},\"id\":\"26034\",\"type\":\"DatetimeTicker\"},{\"attributes\":{\"data\":{\"lower\":[195.56832815586816,188.15098195414683,181.0149544362583,174.1495759907646,167.54458167401114,161.19009586223768,155.0766174857903,149.1950058233576,143.5364668349909,138.09254001347364,132.85508573438076,127.81627308591409,122.96856816031703,118.30472278936263],\"upper\":[223.48406869227097,222.04561637745005,220.61642264233063,219.19642789418438,217.78557292385076,216.3837989032682,214.9910473830211,213.60726028990302,212.23237992449467,210.8663489587585,209.50911043364812,208.1606077567332,206.82078469984,205.48958539670662],\"x\":[1594857600000.0,1594944000000.0,1595030400000.0,1595116800000.0,1595203200000.0,1595289600000.0,1595376000000.0,1595462400000.0,1595548800000.0,1595635200000.0,1595721600000.0,1595808000000.0,1595894400000.0,1595980800000.0]},\"selected\":{\"id\":\"26087\"},\"selection_policy\":{\"id\":\"26086\"}},\"id\":\"25973\",\"type\":\"ColumnDataSource\"},{\"attributes\":{\"axis\":{\"id\":\"26033\"},\"ticker\":null},\"id\":\"26036\",\"type\":\"Grid\"},{\"attributes\":{\"formatter\":{\"id\":\"26121\"},\"ticker\":{\"id\":\"26038\"}},\"id\":\"26037\",\"type\":\"LinearAxis\"},{\"attributes\":{\"line_color\":\"#1f77b4\",\"x\":{\"field\":\"x\"},\"y\":{\"field\":\"y\"}},\"id\":\"25969\",\"type\":\"Line\"},{\"attributes\":{\"bottom_units\":\"screen\",\"fill_alpha\":0.5,\"fill_color\":\"lightgrey\",\"left_units\":\"screen\",\"level\":\"overlay\",\"line_alpha\":1.0,\"line_color\":\"black\",\"line_dash\":[4,4],\"line_width\":2,\"render_mode\":\"css\",\"right_units\":\"screen\",\"top_units\":\"screen\"},\"id\":\"25955\",\"type\":\"BoxAnnotation\"},{\"attributes\":{},\"id\":\"26038\",\"type\":\"BasicTicker\"},{\"attributes\":{\"source\":{\"id\":\"25963\"}},\"id\":\"25967\",\"type\":\"CDSView\"},{\"attributes\":{\"axis\":{\"id\":\"26037\"},\"dimension\":1,\"ticker\":null},\"id\":\"26040\",\"type\":\"Grid\"},{\"attributes\":{\"fill_color\":{\"value\":\"#1f77b4\"},\"line_color\":{\"value\":\"#1f77b4\"},\"line_width\":{\"value\":5},\"top\":{\"field\":\"top\"},\"width\":{\"value\":0.9},\"x\":{\"field\":\"x\"}},\"id\":\"25964\",\"type\":\"VBar\"},{\"attributes\":{\"data\":{\"x\":[1594857600000.0,1594944000000.0,1595030400000.0,1595116800000.0,1595203200000.0,1595289600000.0,1595376000000.0,1595462400000.0,1595548800000.0,1595635200000.0,1595721600000.0,1595808000000.0,1595894400000.0,1595980800000.0],\"y\":[209.08893061921177,204.48401312777472,199.98051308125045,195.57619688953622,191.26888015450766,187.05642658662788,182.9367469454172,178.90779800325768,174.9675815320181,171.11414331199788,167.34557216269724,163.65999899493366,160.05559588383423,156.5305751622441]},\"selected\":{\"id\":\"26091\"},\"selection_policy\":{\"id\":\"26090\"}},\"id\":\"25968\",\"type\":\"ColumnDataSource\"},{\"attributes\":{\"data_source\":{\"id\":\"25963\"},\"glyph\":{\"id\":\"25964\"},\"hover_glyph\":null,\"muted_glyph\":null,\"nonselection_glyph\":{\"id\":\"25965\"},\"selection_glyph\":null,\"view\":{\"id\":\"25967\"}},\"id\":\"25966\",\"type\":\"GlyphRenderer\"},{\"attributes\":{\"data_source\":{\"id\":\"25968\"},\"glyph\":{\"id\":\"25969\"},\"hover_glyph\":null,\"muted_glyph\":null,\"nonselection_glyph\":{\"id\":\"25970\"},\"selection_glyph\":null,\"view\":{\"id\":\"25972\"}},\"id\":\"25971\",\"type\":\"GlyphRenderer\"},{\"attributes\":{\"fill_color\":{\"value\":\"#1f77b4\"},\"line_color\":{\"value\":\"#1f77b4\"},\"line_width\":{\"value\":5},\"top\":{\"field\":\"top\"},\"width\":{\"value\":0.9},\"x\":{\"field\":\"x\"}},\"id\":\"26056\",\"type\":\"VBar\"},{\"attributes\":{\"data\":{\"top\":[1025.0,743.0,479.0,544.0,1168.0,650.0,523.0,637.0,793.0,397.0,360.0,940.0,918.0,574.0],\"x\":[1594857600000.0,1594944000000.0,1595030400000.0,1595116800000.0,1595203200000.0,1595289600000.0,1595376000000.0,1595462400000.0,1595548800000.0,1595635200000.0,1595721600000.0,1595808000000.0,1595894400000.0,1595980800000.0]},\"selected\":{\"id\":\"26139\"},\"selection_policy\":{\"id\":\"26138\"}},\"id\":\"26055\",\"type\":\"ColumnDataSource\"},{\"attributes\":{\"line_alpha\":0.1,\"line_color\":\"#1f77b4\",\"x\":{\"field\":\"x\"},\"y\":{\"field\":\"y\"}},\"id\":\"25970\",\"type\":\"Line\"},{\"attributes\":{},\"id\":\"26094\",\"type\":\"DatetimeTickFormatter\"},{\"attributes\":{},\"id\":\"26041\",\"type\":\"PanTool\"},{\"attributes\":{\"source\":{\"id\":\"25968\"}},\"id\":\"25972\",\"type\":\"CDSView\"},{\"attributes\":{\"base\":{\"field\":\"x\",\"units\":\"data\"},\"fill_alpha\":1.0,\"fill_color\":\"#ff9999\",\"level\":\"underlay\",\"line_color\":\"white\",\"lower\":{\"field\":\"lower\",\"units\":\"data\"},\"source\":{\"id\":\"25973\"},\"upper\":{\"field\":\"upper\",\"units\":\"data\"}},\"id\":\"25974\",\"type\":\"Band\"},{\"attributes\":{},\"id\":\"26042\",\"type\":\"WheelZoomTool\"},{\"attributes\":{\"overlay\":{\"id\":\"26047\"}},\"id\":\"26043\",\"type\":\"BoxZoomTool\"},{\"attributes\":{},\"id\":\"26089\",\"type\":\"Selection\"},{\"attributes\":{\"below\":[{\"id\":\"26033\"}],\"center\":[{\"id\":\"26036\"},{\"id\":\"26040\"},{\"id\":\"26066\"}],\"left\":[{\"id\":\"26037\"}],\"plot_height\":350,\"plot_width\":350,\"renderers\":[{\"id\":\"26058\"},{\"id\":\"26063\"}],\"title\":{\"id\":\"26023\"},\"toolbar\":{\"id\":\"26048\"},\"toolbar_location\":null,\"x_range\":{\"id\":\"26025\"},\"x_scale\":{\"id\":\"26029\"},\"y_range\":{\"id\":\"26027\"},\"y_scale\":{\"id\":\"26031\"}},\"id\":\"26022\",\"subtype\":\"Figure\",\"type\":\"Plot\"},{\"attributes\":{\"children\":[[{\"id\":\"25930\"},0,0],[{\"id\":\"25976\"},0,1],[{\"id\":\"26022\"},0,2]]},\"id\":\"26143\",\"type\":\"GridBox\"},{\"attributes\":{},\"id\":\"26044\",\"type\":\"SaveTool\"},{\"attributes\":{},\"id\":\"26090\",\"type\":\"UnionRenderers\"},{\"attributes\":{},\"id\":\"26045\",\"type\":\"ResetTool\"},{\"attributes\":{},\"id\":\"26091\",\"type\":\"Selection\"},{\"attributes\":{},\"id\":\"26046\",\"type\":\"HelpTool\"},{\"attributes\":{\"base\":24,\"mantissas\":[1,2,4,6,8,12],\"max_interval\":43200000.0,\"min_interval\":3600000.0,\"num_minor_ticks\":0},\"id\":\"26100\",\"type\":\"AdaptiveTicker\"},{\"attributes\":{\"days\":[1,2,3,4,5,6,7,8,9,10,11,12,13,14,15,16,17,18,19,20,21,22,23,24,25,26,27,28,29,30,31]},\"id\":\"26101\",\"type\":\"DaysTicker\"},{\"attributes\":{\"active_drag\":\"auto\",\"active_inspect\":\"auto\",\"active_multi\":null,\"active_scroll\":\"auto\",\"active_tap\":\"auto\",\"tools\":[{\"id\":\"26041\"},{\"id\":\"26042\"},{\"id\":\"26043\"},{\"id\":\"26044\"},{\"id\":\"26045\"},{\"id\":\"26046\"}]},\"id\":\"26048\",\"type\":\"Toolbar\"},{\"attributes\":{\"days\":[1,4,7,10,13,16,19,22,25,28]},\"id\":\"26102\",\"type\":\"DaysTicker\"},{\"attributes\":{\"days\":[1,8,15,22]},\"id\":\"26103\",\"type\":\"DaysTicker\"},{\"attributes\":{\"mantissas\":[1,2,5],\"max_interval\":500.0,\"num_minor_ticks\":0},\"id\":\"26098\",\"type\":\"AdaptiveTicker\"},{\"attributes\":{\"days\":[1,15]},\"id\":\"26104\",\"type\":\"DaysTicker\"},{\"attributes\":{\"base\":60,\"mantissas\":[1,2,5,10,15,20,30],\"max_interval\":1800000.0,\"min_interval\":1000.0,\"num_minor_ticks\":0},\"id\":\"26099\",\"type\":\"AdaptiveTicker\"},{\"attributes\":{\"bottom_units\":\"screen\",\"fill_alpha\":0.5,\"fill_color\":\"lightgrey\",\"left_units\":\"screen\",\"level\":\"overlay\",\"line_alpha\":1.0,\"line_color\":\"black\",\"line_dash\":[4,4],\"line_width\":2,\"render_mode\":\"css\",\"right_units\":\"screen\",\"top_units\":\"screen\"},\"id\":\"26047\",\"type\":\"BoxAnnotation\"},{\"attributes\":{\"months\":[0,1,2,3,4,5,6,7,8,9,10,11]},\"id\":\"26105\",\"type\":\"MonthsTicker\"},{\"attributes\":{\"months\":[0,2,4,6,8,10]},\"id\":\"26106\",\"type\":\"MonthsTicker\"},{\"attributes\":{\"data_source\":{\"id\":\"26055\"},\"glyph\":{\"id\":\"26056\"},\"hover_glyph\":null,\"muted_glyph\":null,\"nonselection_glyph\":{\"id\":\"26057\"},\"selection_glyph\":null,\"view\":{\"id\":\"26059\"}},\"id\":\"26058\",\"type\":\"GlyphRenderer\"},{\"attributes\":{\"months\":[0,4,8]},\"id\":\"26107\",\"type\":\"MonthsTicker\"},{\"attributes\":{\"source\":{\"id\":\"26055\"}},\"id\":\"26059\",\"type\":\"CDSView\"},{\"attributes\":{\"months\":[0,6]},\"id\":\"26108\",\"type\":\"MonthsTicker\"},{\"attributes\":{\"data\":{\"x\":[1594857600000.0,1594944000000.0,1595030400000.0,1595116800000.0,1595203200000.0,1595289600000.0,1595376000000.0,1595462400000.0,1595548800000.0,1595635200000.0,1595721600000.0,1595808000000.0,1595894400000.0,1595980800000.0],\"y\":[766.4662719890829,755.0317538877835,743.7678215108494,732.67192997715,721.7415723713334,710.9742791774354,700.3676177209369,689.9191916191448,679.6266402397732,669.4876381676015,659.4998946790887,649.6611532248261,639.9691909197109,630.4218180407257]},\"selected\":{\"id\":\"26141\"},\"selection_policy\":{\"id\":\"26140\"}},\"id\":\"26060\",\"type\":\"ColumnDataSource\"},{\"attributes\":{},\"id\":\"26109\",\"type\":\"YearsTicker\"},{\"attributes\":{\"data\":{\"lower\":[667.8324053318598,631.3625724804033,596.8843301801004,564.2889191465422,533.4735193592601,504.3409257229232,476.79924144043633,450.76158813070646,426.1458317766628,402.87432363905316,380.8736553187449,360.07442719489325,340.41102950852877,321.82143540100844],\"upper\":[908.4296079673729,924.3763040009965,940.6029304906052,957.1144013732319,973.9157168458233,991.0119648794594,1008.4083227601509,1026.110058656687,1044.122533216003,1062.451201186555,1081.1016130701894,1100.0794168030127,1119.390359465764,1139.0402890242137],\"x\":[1594857600000.0,1594944000000.0,1595030400000.0,1595116800000.0,1595203200000.0,1595289600000.0,1595376000000.0,1595462400000.0,1595548800000.0,1595635200000.0,1595721600000.0,1595808000000.0,1595894400000.0,1595980800000.0]},\"selected\":{\"id\":\"26137\"},\"selection_policy\":{\"id\":\"26136\"}},\"id\":\"26065\",\"type\":\"ColumnDataSource\"},{\"attributes\":{},\"id\":\"26111\",\"type\":\"UnionRenderers\"},{\"attributes\":{\"line_color\":\"#1f77b4\",\"x\":{\"field\":\"x\"},\"y\":{\"field\":\"y\"}},\"id\":\"26061\",\"type\":\"Line\"},{\"attributes\":{\"text\":\"Washington 0.98\"},\"id\":\"25977\",\"type\":\"Title\"},{\"attributes\":{},\"id\":\"26112\",\"type\":\"Selection\"},{\"attributes\":{\"data_source\":{\"id\":\"26060\"},\"glyph\":{\"id\":\"26061\"},\"hover_glyph\":null,\"muted_glyph\":null,\"nonselection_glyph\":{\"id\":\"26062\"},\"selection_glyph\":null,\"view\":{\"id\":\"26064\"}},\"id\":\"26063\",\"type\":\"GlyphRenderer\"},{\"attributes\":{},\"id\":\"26113\",\"type\":\"UnionRenderers\"},{\"attributes\":{\"line_alpha\":0.1,\"line_color\":\"#1f77b4\",\"x\":{\"field\":\"x\"},\"y\":{\"field\":\"y\"}},\"id\":\"26062\",\"type\":\"Line\"},{\"attributes\":{},\"id\":\"26114\",\"type\":\"Selection\"},{\"attributes\":{\"source\":{\"id\":\"26060\"}},\"id\":\"26064\",\"type\":\"CDSView\"},{\"attributes\":{},\"id\":\"26115\",\"type\":\"UnionRenderers\"},{\"attributes\":{},\"id\":\"26088\",\"type\":\"UnionRenderers\"},{\"attributes\":{\"base\":{\"field\":\"x\",\"units\":\"data\"},\"fill_alpha\":1.0,\"fill_color\":\"#ff9999\",\"level\":\"underlay\",\"line_color\":\"white\",\"lower\":{\"field\":\"lower\",\"units\":\"data\"},\"source\":{\"id\":\"26065\"},\"upper\":{\"field\":\"upper\",\"units\":\"data\"}},\"id\":\"26066\",\"type\":\"Band\"},{\"attributes\":{\"fill_alpha\":{\"value\":0.1},\"fill_color\":{\"value\":\"#1f77b4\"},\"line_alpha\":{\"value\":0.1},\"line_color\":{\"value\":\"#1f77b4\"},\"line_width\":{\"value\":5},\"top\":{\"field\":\"top\"},\"width\":{\"value\":0.9},\"x\":{\"field\":\"x\"}},\"id\":\"26011\",\"type\":\"VBar\"},{\"attributes\":{},\"id\":\"26116\",\"type\":\"Selection\"},{\"attributes\":{\"below\":[{\"id\":\"25987\"}],\"center\":[{\"id\":\"25990\"},{\"id\":\"25994\"},{\"id\":\"26020\"}],\"left\":[{\"id\":\"25991\"}],\"plot_height\":350,\"plot_width\":350,\"renderers\":[{\"id\":\"26012\"},{\"id\":\"26017\"}],\"title\":{\"id\":\"25977\"},\"toolbar\":{\"id\":\"26002\"},\"toolbar_location\":null,\"x_range\":{\"id\":\"25979\"},\"x_scale\":{\"id\":\"25983\"},\"y_range\":{\"id\":\"25981\"},\"y_scale\":{\"id\":\"25985\"}},\"id\":\"25976\",\"subtype\":\"Figure\",\"type\":\"Plot\"},{\"attributes\":{},\"id\":\"26071\",\"type\":\"BasicTickFormatter\"},{\"attributes\":{},\"id\":\"25979\",\"type\":\"DataRange1d\"},{\"attributes\":{},\"id\":\"26119\",\"type\":\"DatetimeTickFormatter\"},{\"attributes\":{},\"id\":\"26096\",\"type\":\"BasicTickFormatter\"},{\"attributes\":{},\"id\":\"26121\",\"type\":\"BasicTickFormatter\"},{\"attributes\":{\"mantissas\":[1,2,5],\"max_interval\":500.0,\"num_minor_ticks\":0},\"id\":\"26073\",\"type\":\"AdaptiveTicker\"},{\"attributes\":{\"mantissas\":[1,2,5],\"max_interval\":500.0,\"num_minor_ticks\":0},\"id\":\"26123\",\"type\":\"AdaptiveTicker\"},{\"attributes\":{},\"id\":\"25981\",\"type\":\"DataRange1d\"},{\"attributes\":{\"base\":60,\"mantissas\":[1,2,5,10,15,20,30],\"max_interval\":1800000.0,\"min_interval\":1000.0,\"num_minor_ticks\":0},\"id\":\"26074\",\"type\":\"AdaptiveTicker\"},{\"attributes\":{},\"id\":\"25983\",\"type\":\"LinearScale\"},{\"attributes\":{\"base\":60,\"mantissas\":[1,2,5,10,15,20,30],\"max_interval\":1800000.0,\"min_interval\":1000.0,\"num_minor_ticks\":0},\"id\":\"26124\",\"type\":\"AdaptiveTicker\"},{\"attributes\":{\"base\":24,\"mantissas\":[1,2,4,6,8,12],\"max_interval\":43200000.0,\"min_interval\":3600000.0,\"num_minor_ticks\":0},\"id\":\"26075\",\"type\":\"AdaptiveTicker\"},{\"attributes\":{},\"id\":\"25985\",\"type\":\"LinearScale\"},{\"attributes\":{\"base\":24,\"mantissas\":[1,2,4,6,8,12],\"max_interval\":43200000.0,\"min_interval\":3600000.0,\"num_minor_ticks\":0},\"id\":\"26125\",\"type\":\"AdaptiveTicker\"},{\"attributes\":{\"days\":[1,2,3,4,5,6,7,8,9,10,11,12,13,14,15,16,17,18,19,20,21,22,23,24,25,26,27,28,29,30,31]},\"id\":\"26076\",\"type\":\"DaysTicker\"},{\"attributes\":{\"formatter\":{\"id\":\"26094\"},\"ticker\":{\"id\":\"25988\"}},\"id\":\"25987\",\"type\":\"DatetimeAxis\"},{\"attributes\":{\"days\":[1,2,3,4,5,6,7,8,9,10,11,12,13,14,15,16,17,18,19,20,21,22,23,24,25,26,27,28,29,30,31]},\"id\":\"26126\",\"type\":\"DaysTicker\"},{\"attributes\":{\"days\":[1,4,7,10,13,16,19,22,25,28]},\"id\":\"26077\",\"type\":\"DaysTicker\"},{\"attributes\":{\"num_minor_ticks\":5,\"tickers\":[{\"id\":\"26098\"},{\"id\":\"26099\"},{\"id\":\"26100\"},{\"id\":\"26101\"},{\"id\":\"26102\"},{\"id\":\"26103\"},{\"id\":\"26104\"},{\"id\":\"26105\"},{\"id\":\"26106\"},{\"id\":\"26107\"},{\"id\":\"26108\"},{\"id\":\"26109\"}]},\"id\":\"25988\",\"type\":\"DatetimeTicker\"},{\"attributes\":{\"days\":[1,4,7,10,13,16,19,22,25,28]},\"id\":\"26127\",\"type\":\"DaysTicker\"},{\"attributes\":{\"days\":[1,8,15,22]},\"id\":\"26078\",\"type\":\"DaysTicker\"},{\"attributes\":{\"axis\":{\"id\":\"25987\"},\"ticker\":null},\"id\":\"25990\",\"type\":\"Grid\"},{\"attributes\":{\"days\":[1,8,15,22]},\"id\":\"26128\",\"type\":\"DaysTicker\"},{\"attributes\":{\"days\":[1,15]},\"id\":\"26079\",\"type\":\"DaysTicker\"},{\"attributes\":{\"formatter\":{\"id\":\"26096\"},\"ticker\":{\"id\":\"25992\"}},\"id\":\"25991\",\"type\":\"LinearAxis\"},{\"attributes\":{\"days\":[1,15]},\"id\":\"26129\",\"type\":\"DaysTicker\"},{\"attributes\":{\"months\":[0,1,2,3,4,5,6,7,8,9,10,11]},\"id\":\"26080\",\"type\":\"MonthsTicker\"},{\"attributes\":{},\"id\":\"25992\",\"type\":\"BasicTicker\"},{\"attributes\":{\"months\":[0,1,2,3,4,5,6,7,8,9,10,11]},\"id\":\"26130\",\"type\":\"MonthsTicker\"},{\"attributes\":{\"months\":[0,2,4,6,8,10]},\"id\":\"26081\",\"type\":\"MonthsTicker\"},{\"attributes\":{\"axis\":{\"id\":\"25991\"},\"dimension\":1,\"ticker\":null},\"id\":\"25994\",\"type\":\"Grid\"},{\"attributes\":{\"months\":[0,2,4,6,8,10]},\"id\":\"26131\",\"type\":\"MonthsTicker\"},{\"attributes\":{\"months\":[0,4,8]},\"id\":\"26082\",\"type\":\"MonthsTicker\"},{\"attributes\":{\"months\":[0,4,8]},\"id\":\"26132\",\"type\":\"MonthsTicker\"},{\"attributes\":{\"fill_color\":{\"value\":\"#1f77b4\"},\"line_color\":{\"value\":\"#1f77b4\"},\"line_width\":{\"value\":5},\"top\":{\"field\":\"top\"},\"width\":{\"value\":0.9},\"x\":{\"field\":\"x\"}},\"id\":\"26010\",\"type\":\"VBar\"},{\"attributes\":{\"months\":[0,6]},\"id\":\"26083\",\"type\":\"MonthsTicker\"},{\"attributes\":{\"months\":[0,6]},\"id\":\"26133\",\"type\":\"MonthsTicker\"},{\"attributes\":{\"data\":{\"top\":[1264.0,958.0,663.0,712.0,1348.0,797.0,696.0,813.0,1024.0,605.0,538.0,1126.0,1028.0,724.0],\"x\":[1594857600000.0,1594944000000.0,1595030400000.0,1595116800000.0,1595203200000.0,1595289600000.0,1595376000000.0,1595462400000.0,1595548800000.0,1595635200000.0,1595721600000.0,1595808000000.0,1595894400000.0,1595980800000.0]},\"selected\":{\"id\":\"26114\"},\"selection_policy\":{\"id\":\"26113\"}},\"id\":\"26009\",\"type\":\"ColumnDataSource\"},{\"attributes\":{},\"id\":\"26084\",\"type\":\"YearsTicker\"},{\"attributes\":{},\"id\":\"26134\",\"type\":\"YearsTicker\"},{\"attributes\":{},\"id\":\"25995\",\"type\":\"PanTool\"},{\"attributes\":{},\"id\":\"26086\",\"type\":\"UnionRenderers\"},{\"attributes\":{},\"id\":\"26136\",\"type\":\"UnionRenderers\"},{\"attributes\":{},\"id\":\"25996\",\"type\":\"WheelZoomTool\"},{\"attributes\":{},\"id\":\"26087\",\"type\":\"Selection\"},{\"attributes\":{},\"id\":\"26137\",\"type\":\"Selection\"},{\"attributes\":{\"overlay\":{\"id\":\"26001\"}},\"id\":\"25997\",\"type\":\"BoxZoomTool\"}],\"root_ids\":[\"26146\"]},\"title\":\"Bokeh Application\",\"version\":\"2.0.2\"}};\n",
       "  var render_items = [{\"docid\":\"ce3d2e07-52df-40d1-aeeb-0f2bd4aafb7e\",\"root_ids\":[\"26146\"],\"roots\":{\"26146\":\"3cc99aae-1fd4-419e-95b6-15aeccdc64bd\"}}];\n",
       "  root.Bokeh.embed.embed_items_notebook(docs_json, render_items);\n",
       "\n",
       "  }\n",
       "  if (root.Bokeh !== undefined) {\n",
       "    embed_document(root);\n",
       "  } else {\n",
       "    var attempts = 0;\n",
       "    var timer = setInterval(function(root) {\n",
       "      if (root.Bokeh !== undefined) {\n",
       "        clearInterval(timer);\n",
       "        embed_document(root);\n",
       "      } else {\n",
       "        attempts++;\n",
       "        if (attempts > 100) {\n",
       "          clearInterval(timer);\n",
       "          console.log(\"Bokeh: ERROR: Unable to run BokehJS code because BokehJS library is missing\");\n",
       "        }\n",
       "      }\n",
       "    }, 10, root)\n",
       "  }\n",
       "})(window);"
      ],
      "application/vnd.bokehjs_exec.v0+json": ""
     },
     "metadata": {
      "application/vnd.bokehjs_exec.v0+json": {
       "id": "26146"
      }
     },
     "output_type": "display_data"
    }
   ],
   "source": [
    "def make_trend_line(df, plot_width = 350, plot_height = 350, title = ''):\n",
    "    last_date = df['date'].tolist()[-14]\n",
    "    df_trend = df[(df['date']>=  last_date)]\n",
    "    nums = df_trend['new_cases'].rolling(1).mean().tolist()\n",
    "    X = range(len(nums))\n",
    "    df_trend = df_trend.assign(X = X)\n",
    "    labels = df_trend['date'].tolist()\n",
    "    labels = [datetime.datetime(x.year, x.month, x.day) for x in labels]\n",
    "    popt, pcov = optim.curve_fit(f = exp_func, xdata =np.array(X), ydata = np.array(nums) )\n",
    "    y_hat = [exp_func(initial = popt[0], ratio = popt[1], x = x) for x in X]\n",
    "    p_value = get_p_value(nums, y_hat)\n",
    "    y_hat_low, y_hat_high = error_opt(X, nums, y_hat)\n",
    "    p = figure(x_axis_type = 'datetime', title = '{title} {p}'.format(title = title, p = round(popt[1],2)), \n",
    "                 plot_width = plot_width , plot_height = plot_height, y_range = None)\n",
    "    p.vbar(x=labels, top=nums, line_width = 5, width = .9)\n",
    "    p.line(x = labels, y = y_hat)\n",
    "    source = ColumnDataSource({'x':labels, 'upper': y_hat_high, 'lower':y_hat_low})\n",
    "    band = Band(base='x', lower='lower', upper='upper', source=source, \n",
    "            level='underlay', fill_alpha=1.0, line_width=1, line_color='white', fill_color = '#ff9999')\n",
    "    p.add_layout(band)\n",
    "    return popt[0], popt[1], p_value, p\n",
    "\n",
    "def do_wash():\n",
    "    ps = []\n",
    "    df = pd.read_csv('data/seven_day_county.csv')\n",
    "    df['date'] = pd.to_datetime(df['date'])\n",
    "    df_king = df[(df['state'] == 'Washington') & (df['county'] == 'King')]\n",
    "    intercept, slope, p_value, p = make_trend_line(df_king, title ='King')\n",
    "    ps.append(p)\n",
    "    df_state = pd.read_csv('data/states.csv')\n",
    "    new_cases = df_state['cases']\n",
    "    df_state =df_state.assign(new_cases = new_cases)\n",
    "    df_state['date'] = pd.to_datetime(df_state['date'])\n",
    "    df_wash = df_state[(df_state['state'] == 'Washington')]\n",
    "    intercept, slope, p_value, p = make_trend_line(df_wash, title= 'Washington')\n",
    "    ps.append(p)\n",
    "    df_non_king = pd.read_csv('data/non_king.csv')\n",
    "    df_non_king['date'] = pd.to_datetime(df_non_king['date'])\n",
    "    new_cases = df_non_king['cases']\n",
    "    df_non_king =df_non_king.assign(new_cases = new_cases)\n",
    "    intercept, slope, p_value, p = make_trend_line(df_non_king, title= 'Non King')\n",
    "    ps.append(p)\n",
    "    grid = gridplot(ps, ncols = 3)\n",
    "    show(grid)\n",
    "do_wash()\n",
    "\n",
    "\n"
   ]
  },
  {
   "cell_type": "code",
   "execution_count": null,
   "metadata": {},
   "outputs": [],
   "source": []
  }
 ],
 "metadata": {
  "kernelspec": {
   "display_name": "Python 3",
   "language": "python",
   "name": "python3"
  },
  "language_info": {
   "codemirror_mode": {
    "name": "ipython",
    "version": 3
   },
   "file_extension": ".py",
   "mimetype": "text/x-python",
   "name": "python",
   "nbconvert_exporter": "python",
   "pygments_lexer": "ipython3",
   "version": "3.6.9"
  }
 },
 "nbformat": 4,
 "nbformat_minor": 4
}
