{
 "cells": [
  {
   "cell_type": "code",
   "execution_count": null,
   "metadata": {},
   "outputs": [],
   "source": [
    "import numpy as np\n",
    "import pandas as pd\n",
    "from bokeh.plotting import figure, show\n",
    "from bokeh.io import output_notebook\n"
   ]
  },
  {
   "cell_type": "code",
   "execution_count": null,
   "metadata": {},
   "outputs": [],
   "source": [
    "output_notebook()"
   ]
  },
  {
   "cell_type": "code",
   "execution_count": 28,
   "metadata": {},
   "outputs": [
    {
     "data": {
      "text/html": [
       "\n",
       "\n",
       "\n",
       "\n",
       "\n",
       "\n",
       "  <div class=\"bk-root\" id=\"0600a5ef-e259-4f50-8a60-bdd46c33a52f\" data-root-id=\"4323\"></div>\n"
      ]
     },
     "metadata": {},
     "output_type": "display_data"
    },
    {
     "data": {
      "application/javascript": [
       "(function(root) {\n",
       "  function embed_document(root) {\n",
       "    \n",
       "  var docs_json = {\"be9543f5-a7b5-40ad-a5c8-ba63a30fca5a\":{\"roots\":{\"references\":[{\"attributes\":{\"below\":[{\"id\":\"4334\"}],\"center\":[{\"id\":\"4336\"},{\"id\":\"4340\"}],\"left\":[{\"id\":\"4337\"}],\"renderers\":[{\"id\":\"4358\"},{\"id\":\"4363\"}],\"title\":{\"id\":\"4324\"},\"toolbar\":{\"id\":\"4348\"},\"x_range\":{\"id\":\"4326\"},\"x_scale\":{\"id\":\"4330\"},\"y_range\":{\"id\":\"4328\"},\"y_scale\":{\"id\":\"4332\"}},\"id\":\"4323\",\"subtype\":\"Figure\",\"type\":\"Plot\"},{\"attributes\":{\"axis\":{\"id\":\"4337\"},\"dimension\":1,\"ticker\":null},\"id\":\"4340\",\"type\":\"Grid\"},{\"attributes\":{},\"id\":\"4542\",\"type\":\"Selection\"},{\"attributes\":{},\"id\":\"4543\",\"type\":\"UnionRenderers\"},{\"attributes\":{\"formatter\":{\"id\":\"4539\"},\"ticker\":{\"id\":\"4338\"}},\"id\":\"4337\",\"type\":\"LinearAxis\"},{\"attributes\":{\"data_source\":{\"id\":\"4355\"},\"glyph\":{\"id\":\"4356\"},\"hover_glyph\":null,\"muted_glyph\":null,\"nonselection_glyph\":{\"id\":\"4357\"},\"selection_glyph\":null,\"view\":{\"id\":\"4359\"}},\"id\":\"4358\",\"type\":\"GlyphRenderer\"},{\"attributes\":{},\"id\":\"4541\",\"type\":\"UnionRenderers\"},{\"attributes\":{\"text\":\"Change for last two weeks\"},\"id\":\"4324\",\"type\":\"Title\"},{\"attributes\":{\"active_drag\":\"auto\",\"active_inspect\":\"auto\",\"active_multi\":null,\"active_scroll\":\"auto\",\"active_tap\":\"auto\",\"tools\":[{\"id\":\"4341\"},{\"id\":\"4342\"},{\"id\":\"4343\"},{\"id\":\"4344\"},{\"id\":\"4345\"},{\"id\":\"4346\"}]},\"id\":\"4348\",\"type\":\"Toolbar\"},{\"attributes\":{\"source\":{\"id\":\"4360\"}},\"id\":\"4364\",\"type\":\"CDSView\"},{\"attributes\":{\"axis\":{\"id\":\"4334\"},\"ticker\":null},\"id\":\"4336\",\"type\":\"Grid\"},{\"attributes\":{},\"id\":\"4342\",\"type\":\"WheelZoomTool\"},{\"attributes\":{\"data\":{\"bottom\":[9,8],\"top\":[6.5,5.5],\"x\":[\"last week\",\"current week\"]},\"selected\":{\"id\":\"4544\"},\"selection_policy\":{\"id\":\"4543\"}},\"id\":\"4360\",\"type\":\"ColumnDataSource\"},{\"attributes\":{},\"id\":\"4328\",\"type\":\"DataRange1d\"},{\"attributes\":{},\"id\":\"4346\",\"type\":\"HelpTool\"},{\"attributes\":{},\"id\":\"4537\",\"type\":\"CategoricalTickFormatter\"},{\"attributes\":{},\"id\":\"4539\",\"type\":\"BasicTickFormatter\"},{\"attributes\":{\"bottom\":{\"field\":\"bottom\"},\"fill_color\":{\"value\":\"snow\"},\"top\":{\"field\":\"top\"},\"width\":{\"value\":0.7},\"x\":{\"field\":\"x\"}},\"id\":\"4361\",\"type\":\"VBar\"},{\"attributes\":{\"data\":{\"bottom\":[6.5,5.5],\"top\":[4,3],\"x\":[\"last week\",\"current week\"]},\"selected\":{\"id\":\"4542\"},\"selection_policy\":{\"id\":\"4541\"}},\"id\":\"4355\",\"type\":\"ColumnDataSource\"},{\"attributes\":{},\"id\":\"4330\",\"type\":\"CategoricalScale\"},{\"attributes\":{\"formatter\":{\"id\":\"4537\"},\"ticker\":{\"id\":\"4335\"}},\"id\":\"4334\",\"type\":\"CategoricalAxis\"},{\"attributes\":{\"bottom\":{\"field\":\"bottom\"},\"fill_alpha\":{\"value\":0.1},\"fill_color\":{\"value\":\"snow\"},\"line_alpha\":{\"value\":0.1},\"top\":{\"field\":\"top\"},\"width\":{\"value\":0.7},\"x\":{\"field\":\"x\"}},\"id\":\"4362\",\"type\":\"VBar\"},{\"attributes\":{\"overlay\":{\"id\":\"4347\"}},\"id\":\"4343\",\"type\":\"BoxZoomTool\"},{\"attributes\":{},\"id\":\"4345\",\"type\":\"ResetTool\"},{\"attributes\":{},\"id\":\"4332\",\"type\":\"LinearScale\"},{\"attributes\":{\"data_source\":{\"id\":\"4360\"},\"glyph\":{\"id\":\"4361\"},\"hover_glyph\":null,\"muted_glyph\":null,\"nonselection_glyph\":{\"id\":\"4362\"},\"selection_glyph\":null,\"view\":{\"id\":\"4364\"}},\"id\":\"4363\",\"type\":\"GlyphRenderer\"},{\"attributes\":{\"factors\":[\"last week\",\"current week\"]},\"id\":\"4326\",\"type\":\"FactorRange\"},{\"attributes\":{\"source\":{\"id\":\"4355\"}},\"id\":\"4359\",\"type\":\"CDSView\"},{\"attributes\":{},\"id\":\"4344\",\"type\":\"SaveTool\"},{\"attributes\":{\"bottom_units\":\"screen\",\"fill_alpha\":0.5,\"fill_color\":\"lightgrey\",\"left_units\":\"screen\",\"level\":\"overlay\",\"line_alpha\":1.0,\"line_color\":\"black\",\"line_dash\":[4,4],\"line_width\":2,\"render_mode\":\"css\",\"right_units\":\"screen\",\"top_units\":\"screen\"},\"id\":\"4347\",\"type\":\"BoxAnnotation\"},{\"attributes\":{\"bottom\":{\"field\":\"bottom\"},\"fill_alpha\":{\"value\":0.1},\"fill_color\":{\"value\":\"#FFF8DC\"},\"line_alpha\":{\"value\":0.1},\"top\":{\"field\":\"top\"},\"width\":{\"value\":0.7},\"x\":{\"field\":\"x\"}},\"id\":\"4357\",\"type\":\"VBar\"},{\"attributes\":{},\"id\":\"4544\",\"type\":\"Selection\"},{\"attributes\":{},\"id\":\"4341\",\"type\":\"PanTool\"},{\"attributes\":{},\"id\":\"4338\",\"type\":\"BasicTicker\"},{\"attributes\":{},\"id\":\"4335\",\"type\":\"CategoricalTicker\"},{\"attributes\":{\"bottom\":{\"field\":\"bottom\"},\"fill_color\":{\"value\":\"#FFF8DC\"},\"top\":{\"field\":\"top\"},\"width\":{\"value\":0.7},\"x\":{\"field\":\"x\"}},\"id\":\"4356\",\"type\":\"VBar\"}],\"root_ids\":[\"4323\"]},\"title\":\"Bokeh Application\",\"version\":\"2.0.2\"}};\n",
       "  var render_items = [{\"docid\":\"be9543f5-a7b5-40ad-a5c8-ba63a30fca5a\",\"root_ids\":[\"4323\"],\"roots\":{\"4323\":\"0600a5ef-e259-4f50-8a60-bdd46c33a52f\"}}];\n",
       "  root.Bokeh.embed.embed_items_notebook(docs_json, render_items);\n",
       "\n",
       "  }\n",
       "  if (root.Bokeh !== undefined) {\n",
       "    embed_document(root);\n",
       "  } else {\n",
       "    var attempts = 0;\n",
       "    var timer = setInterval(function(root) {\n",
       "      if (root.Bokeh !== undefined) {\n",
       "        clearInterval(timer);\n",
       "        embed_document(root);\n",
       "      } else {\n",
       "        attempts++;\n",
       "        if (attempts > 100) {\n",
       "          clearInterval(timer);\n",
       "          console.log(\"Bokeh: ERROR: Unable to run BokehJS code because BokehJS library is missing\");\n",
       "        }\n",
       "      }\n",
       "    }, 10, root)\n",
       "  }\n",
       "})(window);"
      ],
      "application/vnd.bokehjs_exec.v0+json": ""
     },
     "metadata": {
      "application/vnd.bokehjs_exec.v0+json": {
       "id": "4323"
      }
     },
     "output_type": "display_data"
    }
   ],
   "source": [
    "cats = ['last week', 'current week']\n",
    "p = figure( x_range=cats, title = 'Change for last two weeks')\n",
    "curr_week = (3,8)\n",
    "last_week = (4, 9)\n",
    "curr_mid = (curr_week[1] - curr_week[0])/2 + curr_week[0]\n",
    "last_mid = (last_week[1] - last_week[0])/2 + last_week[0]\n",
    "\n",
    "p.vbar(cats, 0.7, [ last_week[0], curr_week[0]], [last_mid, curr_mid], \n",
    "       fill_color=\"#FFF8DC\", line_color=\"black\")\n",
    "\n",
    "p.vbar(cats, 0.7, [last_mid, curr_mid], [last_week[1], curr_week[1]], \n",
    "       fill_color=\"snow\", line_color=\"black\")\n",
    "\n",
    "\n",
    "show(p)"
   ]
  }
 ],
 "metadata": {
  "kernelspec": {
   "display_name": "Python 3",
   "language": "python",
   "name": "python3"
  },
  "language_info": {
   "codemirror_mode": {
    "name": "ipython",
    "version": 3
   },
   "file_extension": ".py",
   "mimetype": "text/x-python",
   "name": "python",
   "nbconvert_exporter": "python",
   "pygments_lexer": "ipython3",
   "version": "3.6.9"
  }
 },
 "nbformat": 4,
 "nbformat_minor": 4
}
