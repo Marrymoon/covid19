{
 "cells": [
  {
   "cell_type": "code",
   "execution_count": 1,
   "metadata": {},
   "outputs": [],
   "source": [
    "import datetime\n",
    "import csv\n",
    "import os"
   ]
  },
  {
   "cell_type": "code",
   "execution_count": 2,
   "metadata": {},
   "outputs": [],
   "source": [
    "import random\n",
    "import numpy as np"
   ]
  },
  {
   "cell_type": "code",
   "execution_count": 3,
   "metadata": {},
   "outputs": [],
   "source": [
    "import pandas as pd\n"
   ]
  },
  {
   "cell_type": "code",
   "execution_count": 4,
   "metadata": {},
   "outputs": [],
   "source": [
    "from bokeh.io import show\n",
    "from bokeh.plotting import figure\n",
    "from bokeh.io import output_notebook\n",
    "from bokeh.layouts import gridplot\n"
   ]
  },
  {
   "cell_type": "code",
   "execution_count": 5,
   "metadata": {},
   "outputs": [
    {
     "data": {
      "text/html": [
       "<div>\n",
       "<style scoped>\n",
       "    .dataframe tbody tr th:only-of-type {\n",
       "        vertical-align: middle;\n",
       "    }\n",
       "\n",
       "    .dataframe tbody tr th {\n",
       "        vertical-align: top;\n",
       "    }\n",
       "\n",
       "    .dataframe thead th {\n",
       "        text-align: right;\n",
       "    }\n",
       "</style>\n",
       "<table border=\"1\" class=\"dataframe\">\n",
       "  <thead>\n",
       "    <tr style=\"text-align: right;\">\n",
       "      <th></th>\n",
       "      <th>date</th>\n",
       "      <th>state</th>\n",
       "      <th>cases</th>\n",
       "      <th>deaths</th>\n",
       "    </tr>\n",
       "  </thead>\n",
       "  <tbody>\n",
       "    <tr>\n",
       "      <th>0</th>\n",
       "      <td>2020-01-22</td>\n",
       "      <td>Washington</td>\n",
       "      <td>0</td>\n",
       "      <td>0</td>\n",
       "    </tr>\n",
       "    <tr>\n",
       "      <th>1</th>\n",
       "      <td>2020-01-23</td>\n",
       "      <td>Washington</td>\n",
       "      <td>0</td>\n",
       "      <td>0</td>\n",
       "    </tr>\n",
       "    <tr>\n",
       "      <th>2</th>\n",
       "      <td>2020-01-24</td>\n",
       "      <td>Washington</td>\n",
       "      <td>0</td>\n",
       "      <td>0</td>\n",
       "    </tr>\n",
       "    <tr>\n",
       "      <th>3</th>\n",
       "      <td>2020-01-25</td>\n",
       "      <td>Illinois</td>\n",
       "      <td>0</td>\n",
       "      <td>0</td>\n",
       "    </tr>\n",
       "    <tr>\n",
       "      <th>4</th>\n",
       "      <td>2020-01-25</td>\n",
       "      <td>Washington</td>\n",
       "      <td>0</td>\n",
       "      <td>0</td>\n",
       "    </tr>\n",
       "  </tbody>\n",
       "</table>\n",
       "</div>"
      ],
      "text/plain": [
       "        date       state  cases  deaths\n",
       "0 2020-01-22  Washington      0       0\n",
       "1 2020-01-23  Washington      0       0\n",
       "2 2020-01-24  Washington      0       0\n",
       "3 2020-01-25    Illinois      0       0\n",
       "4 2020-01-25  Washington      0       0"
      ]
     },
     "execution_count": 5,
     "metadata": {},
     "output_type": "execute_result"
    }
   ],
   "source": [
    "path = 'data/states.csv'\n",
    "DF = pd.read_csv(path)\n",
    "DF['date'] = pd.to_datetime(DF['date'])\n",
    "DF.head()\n"
   ]
  },
  {
   "cell_type": "code",
   "execution_count": 6,
   "metadata": {},
   "outputs": [],
   "source": [
    "#texas opened up April 30\n",
    "df_first_texas = DF[(DF['date'] > datetime.datetime(2020, 4, 15)) &(DF['date'] <= datetime.datetime(2020,4,30))\n",
    "            & (DF['state'] == 'Texas')]\n",
    "df_second_texas = DF[(DF['date'] > datetime.datetime(2020, 4, 30)) &(DF['date'] <= datetime.datetime(2020,5,14))\n",
    "            & (DF['state'] == 'Texas')]\n",
    "df_third_texas = DF[(DF['date'] > datetime.datetime(2020, 5, 14)) &(DF['date'] <= datetime.datetime(2020,6,1))\n",
    "            & (DF['state'] == 'Texas')]"
   ]
  },
  {
   "cell_type": "code",
   "execution_count": 12,
   "metadata": {},
   "outputs": [],
   "source": [
    "def resample_two_samples(sample1, sample2, num_iterations = 1000):\n",
    "    both = sample1 + sample2\n",
    "    mean1 = []\n",
    "    mean2 = []\n",
    "    for i in range(num_iterations):\n",
    "        random.shuffle(both) \n",
    "        new_1 = both[0:len(sample1)] \n",
    "        new_2 = both[len(sample1):] \n",
    "        mean1.append(np.mean(new_1)) \n",
    "        mean2.append(np.mean(new_2)) \n",
    "    return mean1, mean2\n",
    "def combine_resamples(sample1, sample2, resample1, resample2):\n",
    "    diff1 = [np.mean(sample1 )- x for x in resample1]\n",
    "    diff2 = [np.mean(sample2)- x for x in resample2]\n",
    "    both = np.array(diff1) - np.array(diff2) \n",
    "    return both\n",
    "\n",
    "def get_p_value(l, v = 0):\n",
    "    p = 1 - len([x for x in l if x > v])/len(l)\n",
    "    return p\n",
    "\n",
    "def do_hist(x, bins=10, width = 250, height = 250, title = None):\n",
    "  hist, edges = np.histogram(x, bins = bins, density=True)\n",
    "  p_hist = figure(width = width, height = height, title = title)\n",
    "  p_hist.quad(top = hist, bottom=0, left=edges[:-1], right=edges[1:], alpha = .4)\n",
    "  return p_hist"
   ]
  },
  {
   "cell_type": "code",
   "execution_count": 8,
   "metadata": {},
   "outputs": [
    {
     "data": {
      "text/html": [
       "\n",
       "    <div class=\"bk-root\">\n",
       "        <a href=\"https://bokeh.org\" target=\"_blank\" class=\"bk-logo bk-logo-small bk-logo-notebook\"></a>\n",
       "        <span id=\"1001\">Loading BokehJS ...</span>\n",
       "    </div>"
      ]
     },
     "metadata": {},
     "output_type": "display_data"
    },
    {
     "data": {
      "application/javascript": [
       "\n",
       "(function(root) {\n",
       "  function now() {\n",
       "    return new Date();\n",
       "  }\n",
       "\n",
       "  var force = true;\n",
       "\n",
       "  if (typeof root._bokeh_onload_callbacks === \"undefined\" || force === true) {\n",
       "    root._bokeh_onload_callbacks = [];\n",
       "    root._bokeh_is_loading = undefined;\n",
       "  }\n",
       "\n",
       "  var JS_MIME_TYPE = 'application/javascript';\n",
       "  var HTML_MIME_TYPE = 'text/html';\n",
       "  var EXEC_MIME_TYPE = 'application/vnd.bokehjs_exec.v0+json';\n",
       "  var CLASS_NAME = 'output_bokeh rendered_html';\n",
       "\n",
       "  /**\n",
       "   * Render data to the DOM node\n",
       "   */\n",
       "  function render(props, node) {\n",
       "    var script = document.createElement(\"script\");\n",
       "    node.appendChild(script);\n",
       "  }\n",
       "\n",
       "  /**\n",
       "   * Handle when an output is cleared or removed\n",
       "   */\n",
       "  function handleClearOutput(event, handle) {\n",
       "    var cell = handle.cell;\n",
       "\n",
       "    var id = cell.output_area._bokeh_element_id;\n",
       "    var server_id = cell.output_area._bokeh_server_id;\n",
       "    // Clean up Bokeh references\n",
       "    if (id != null && id in Bokeh.index) {\n",
       "      Bokeh.index[id].model.document.clear();\n",
       "      delete Bokeh.index[id];\n",
       "    }\n",
       "\n",
       "    if (server_id !== undefined) {\n",
       "      // Clean up Bokeh references\n",
       "      var cmd = \"from bokeh.io.state import curstate; print(curstate().uuid_to_server['\" + server_id + \"'].get_sessions()[0].document.roots[0]._id)\";\n",
       "      cell.notebook.kernel.execute(cmd, {\n",
       "        iopub: {\n",
       "          output: function(msg) {\n",
       "            var id = msg.content.text.trim();\n",
       "            if (id in Bokeh.index) {\n",
       "              Bokeh.index[id].model.document.clear();\n",
       "              delete Bokeh.index[id];\n",
       "            }\n",
       "          }\n",
       "        }\n",
       "      });\n",
       "      // Destroy server and session\n",
       "      var cmd = \"import bokeh.io.notebook as ion; ion.destroy_server('\" + server_id + \"')\";\n",
       "      cell.notebook.kernel.execute(cmd);\n",
       "    }\n",
       "  }\n",
       "\n",
       "  /**\n",
       "   * Handle when a new output is added\n",
       "   */\n",
       "  function handleAddOutput(event, handle) {\n",
       "    var output_area = handle.output_area;\n",
       "    var output = handle.output;\n",
       "\n",
       "    // limit handleAddOutput to display_data with EXEC_MIME_TYPE content only\n",
       "    if ((output.output_type != \"display_data\") || (!output.data.hasOwnProperty(EXEC_MIME_TYPE))) {\n",
       "      return\n",
       "    }\n",
       "\n",
       "    var toinsert = output_area.element.find(\".\" + CLASS_NAME.split(' ')[0]);\n",
       "\n",
       "    if (output.metadata[EXEC_MIME_TYPE][\"id\"] !== undefined) {\n",
       "      toinsert[toinsert.length - 1].firstChild.textContent = output.data[JS_MIME_TYPE];\n",
       "      // store reference to embed id on output_area\n",
       "      output_area._bokeh_element_id = output.metadata[EXEC_MIME_TYPE][\"id\"];\n",
       "    }\n",
       "    if (output.metadata[EXEC_MIME_TYPE][\"server_id\"] !== undefined) {\n",
       "      var bk_div = document.createElement(\"div\");\n",
       "      bk_div.innerHTML = output.data[HTML_MIME_TYPE];\n",
       "      var script_attrs = bk_div.children[0].attributes;\n",
       "      for (var i = 0; i < script_attrs.length; i++) {\n",
       "        toinsert[toinsert.length - 1].firstChild.setAttribute(script_attrs[i].name, script_attrs[i].value);\n",
       "        toinsert[toinsert.length - 1].firstChild.textContent = bk_div.children[0].textContent\n",
       "      }\n",
       "      // store reference to server id on output_area\n",
       "      output_area._bokeh_server_id = output.metadata[EXEC_MIME_TYPE][\"server_id\"];\n",
       "    }\n",
       "  }\n",
       "\n",
       "  function register_renderer(events, OutputArea) {\n",
       "\n",
       "    function append_mime(data, metadata, element) {\n",
       "      // create a DOM node to render to\n",
       "      var toinsert = this.create_output_subarea(\n",
       "        metadata,\n",
       "        CLASS_NAME,\n",
       "        EXEC_MIME_TYPE\n",
       "      );\n",
       "      this.keyboard_manager.register_events(toinsert);\n",
       "      // Render to node\n",
       "      var props = {data: data, metadata: metadata[EXEC_MIME_TYPE]};\n",
       "      render(props, toinsert[toinsert.length - 1]);\n",
       "      element.append(toinsert);\n",
       "      return toinsert\n",
       "    }\n",
       "\n",
       "    /* Handle when an output is cleared or removed */\n",
       "    events.on('clear_output.CodeCell', handleClearOutput);\n",
       "    events.on('delete.Cell', handleClearOutput);\n",
       "\n",
       "    /* Handle when a new output is added */\n",
       "    events.on('output_added.OutputArea', handleAddOutput);\n",
       "\n",
       "    /**\n",
       "     * Register the mime type and append_mime function with output_area\n",
       "     */\n",
       "    OutputArea.prototype.register_mime_type(EXEC_MIME_TYPE, append_mime, {\n",
       "      /* Is output safe? */\n",
       "      safe: true,\n",
       "      /* Index of renderer in `output_area.display_order` */\n",
       "      index: 0\n",
       "    });\n",
       "  }\n",
       "\n",
       "  // register the mime type if in Jupyter Notebook environment and previously unregistered\n",
       "  if (root.Jupyter !== undefined) {\n",
       "    var events = require('base/js/events');\n",
       "    var OutputArea = require('notebook/js/outputarea').OutputArea;\n",
       "\n",
       "    if (OutputArea.prototype.mime_types().indexOf(EXEC_MIME_TYPE) == -1) {\n",
       "      register_renderer(events, OutputArea);\n",
       "    }\n",
       "  }\n",
       "\n",
       "  \n",
       "  if (typeof (root._bokeh_timeout) === \"undefined\" || force === true) {\n",
       "    root._bokeh_timeout = Date.now() + 5000;\n",
       "    root._bokeh_failed_load = false;\n",
       "  }\n",
       "\n",
       "  var NB_LOAD_WARNING = {'data': {'text/html':\n",
       "     \"<div style='background-color: #fdd'>\\n\"+\n",
       "     \"<p>\\n\"+\n",
       "     \"BokehJS does not appear to have successfully loaded. If loading BokehJS from CDN, this \\n\"+\n",
       "     \"may be due to a slow or bad network connection. Possible fixes:\\n\"+\n",
       "     \"</p>\\n\"+\n",
       "     \"<ul>\\n\"+\n",
       "     \"<li>re-rerun `output_notebook()` to attempt to load from CDN again, or</li>\\n\"+\n",
       "     \"<li>use INLINE resources instead, as so:</li>\\n\"+\n",
       "     \"</ul>\\n\"+\n",
       "     \"<code>\\n\"+\n",
       "     \"from bokeh.resources import INLINE\\n\"+\n",
       "     \"output_notebook(resources=INLINE)\\n\"+\n",
       "     \"</code>\\n\"+\n",
       "     \"</div>\"}};\n",
       "\n",
       "  function display_loaded() {\n",
       "    var el = document.getElementById(\"1001\");\n",
       "    if (el != null) {\n",
       "      el.textContent = \"BokehJS is loading...\";\n",
       "    }\n",
       "    if (root.Bokeh !== undefined) {\n",
       "      if (el != null) {\n",
       "        el.textContent = \"BokehJS \" + root.Bokeh.version + \" successfully loaded.\";\n",
       "      }\n",
       "    } else if (Date.now() < root._bokeh_timeout) {\n",
       "      setTimeout(display_loaded, 100)\n",
       "    }\n",
       "  }\n",
       "\n",
       "\n",
       "  function run_callbacks() {\n",
       "    try {\n",
       "      root._bokeh_onload_callbacks.forEach(function(callback) {\n",
       "        if (callback != null)\n",
       "          callback();\n",
       "      });\n",
       "    } finally {\n",
       "      delete root._bokeh_onload_callbacks\n",
       "    }\n",
       "    console.debug(\"Bokeh: all callbacks have finished\");\n",
       "  }\n",
       "\n",
       "  function load_libs(css_urls, js_urls, callback) {\n",
       "    if (css_urls == null) css_urls = [];\n",
       "    if (js_urls == null) js_urls = [];\n",
       "\n",
       "    root._bokeh_onload_callbacks.push(callback);\n",
       "    if (root._bokeh_is_loading > 0) {\n",
       "      console.debug(\"Bokeh: BokehJS is being loaded, scheduling callback at\", now());\n",
       "      return null;\n",
       "    }\n",
       "    if (js_urls == null || js_urls.length === 0) {\n",
       "      run_callbacks();\n",
       "      return null;\n",
       "    }\n",
       "    console.debug(\"Bokeh: BokehJS not loaded, scheduling load and callback at\", now());\n",
       "    root._bokeh_is_loading = css_urls.length + js_urls.length;\n",
       "\n",
       "    function on_load() {\n",
       "      root._bokeh_is_loading--;\n",
       "      if (root._bokeh_is_loading === 0) {\n",
       "        console.debug(\"Bokeh: all BokehJS libraries/stylesheets loaded\");\n",
       "        run_callbacks()\n",
       "      }\n",
       "    }\n",
       "\n",
       "    function on_error() {\n",
       "      console.error(\"failed to load \" + url);\n",
       "    }\n",
       "\n",
       "    for (var i = 0; i < css_urls.length; i++) {\n",
       "      var url = css_urls[i];\n",
       "      const element = document.createElement(\"link\");\n",
       "      element.onload = on_load;\n",
       "      element.onerror = on_error;\n",
       "      element.rel = \"stylesheet\";\n",
       "      element.type = \"text/css\";\n",
       "      element.href = url;\n",
       "      console.debug(\"Bokeh: injecting link tag for BokehJS stylesheet: \", url);\n",
       "      document.body.appendChild(element);\n",
       "    }\n",
       "\n",
       "    const hashes = {\"https://cdn.bokeh.org/bokeh/release/bokeh-2.0.2.min.js\": \"ufR9RFnRs6lniiaFvtJziE0YeidtAgBRH6ux2oUItHw5WTvE1zuk9uzhUU/FJXDp\", \"https://cdn.bokeh.org/bokeh/release/bokeh-widgets-2.0.2.min.js\": \"8QM/PGWBT+IssZuRcDcjzwIh1mkOmJSoNMmyYDZbCfXJg3Ap1lEvdVgFuSAwhb/J\", \"https://cdn.bokeh.org/bokeh/release/bokeh-tables-2.0.2.min.js\": \"Jm8cH3Rg0P6UeZhVY5cLy1WzKajUT9KImCY+76hEqrcJt59/d8GPvFHjCkYgnSIn\", \"https://cdn.bokeh.org/bokeh/release/bokeh-gl-2.0.2.min.js\": \"Ozhzj+SI7ywm74aOI/UajcWz+C0NjsPunEVyVIrxzYkB+jA+2tUw8x5xJCbVtK5I\"};\n",
       "\n",
       "    for (var i = 0; i < js_urls.length; i++) {\n",
       "      var url = js_urls[i];\n",
       "      var element = document.createElement('script');\n",
       "      element.onload = on_load;\n",
       "      element.onerror = on_error;\n",
       "      element.async = false;\n",
       "      element.src = url;\n",
       "      if (url in hashes) {\n",
       "        element.crossOrigin = \"anonymous\";\n",
       "        element.integrity = \"sha384-\" + hashes[url];\n",
       "      }\n",
       "      console.debug(\"Bokeh: injecting script tag for BokehJS library: \", url);\n",
       "      document.head.appendChild(element);\n",
       "    }\n",
       "  };\n",
       "\n",
       "  function inject_raw_css(css) {\n",
       "    const element = document.createElement(\"style\");\n",
       "    element.appendChild(document.createTextNode(css));\n",
       "    document.body.appendChild(element);\n",
       "  }\n",
       "\n",
       "  \n",
       "  var js_urls = [\"https://cdn.bokeh.org/bokeh/release/bokeh-2.0.2.min.js\", \"https://cdn.bokeh.org/bokeh/release/bokeh-widgets-2.0.2.min.js\", \"https://cdn.bokeh.org/bokeh/release/bokeh-tables-2.0.2.min.js\", \"https://cdn.bokeh.org/bokeh/release/bokeh-gl-2.0.2.min.js\"];\n",
       "  var css_urls = [];\n",
       "  \n",
       "\n",
       "  var inline_js = [\n",
       "    function(Bokeh) {\n",
       "      Bokeh.set_log_level(\"info\");\n",
       "    },\n",
       "    function(Bokeh) {\n",
       "    \n",
       "    \n",
       "    }\n",
       "  ];\n",
       "\n",
       "  function run_inline_js() {\n",
       "    \n",
       "    if (root.Bokeh !== undefined || force === true) {\n",
       "      \n",
       "    for (var i = 0; i < inline_js.length; i++) {\n",
       "      inline_js[i].call(root, root.Bokeh);\n",
       "    }\n",
       "    if (force === true) {\n",
       "        display_loaded();\n",
       "      }} else if (Date.now() < root._bokeh_timeout) {\n",
       "      setTimeout(run_inline_js, 100);\n",
       "    } else if (!root._bokeh_failed_load) {\n",
       "      console.log(\"Bokeh: BokehJS failed to load within specified timeout.\");\n",
       "      root._bokeh_failed_load = true;\n",
       "    } else if (force !== true) {\n",
       "      var cell = $(document.getElementById(\"1001\")).parents('.cell').data().cell;\n",
       "      cell.output_area.append_execute_result(NB_LOAD_WARNING)\n",
       "    }\n",
       "\n",
       "  }\n",
       "\n",
       "  if (root._bokeh_is_loading === 0) {\n",
       "    console.debug(\"Bokeh: BokehJS loaded, going straight to plotting\");\n",
       "    run_inline_js();\n",
       "  } else {\n",
       "    load_libs(css_urls, js_urls, function() {\n",
       "      console.debug(\"Bokeh: BokehJS plotting callback run at\", now());\n",
       "      run_inline_js();\n",
       "    });\n",
       "  }\n",
       "}(window));"
      ],
      "application/vnd.bokehjs_load.v0+json": "\n(function(root) {\n  function now() {\n    return new Date();\n  }\n\n  var force = true;\n\n  if (typeof root._bokeh_onload_callbacks === \"undefined\" || force === true) {\n    root._bokeh_onload_callbacks = [];\n    root._bokeh_is_loading = undefined;\n  }\n\n  \n\n  \n  if (typeof (root._bokeh_timeout) === \"undefined\" || force === true) {\n    root._bokeh_timeout = Date.now() + 5000;\n    root._bokeh_failed_load = false;\n  }\n\n  var NB_LOAD_WARNING = {'data': {'text/html':\n     \"<div style='background-color: #fdd'>\\n\"+\n     \"<p>\\n\"+\n     \"BokehJS does not appear to have successfully loaded. If loading BokehJS from CDN, this \\n\"+\n     \"may be due to a slow or bad network connection. Possible fixes:\\n\"+\n     \"</p>\\n\"+\n     \"<ul>\\n\"+\n     \"<li>re-rerun `output_notebook()` to attempt to load from CDN again, or</li>\\n\"+\n     \"<li>use INLINE resources instead, as so:</li>\\n\"+\n     \"</ul>\\n\"+\n     \"<code>\\n\"+\n     \"from bokeh.resources import INLINE\\n\"+\n     \"output_notebook(resources=INLINE)\\n\"+\n     \"</code>\\n\"+\n     \"</div>\"}};\n\n  function display_loaded() {\n    var el = document.getElementById(\"1001\");\n    if (el != null) {\n      el.textContent = \"BokehJS is loading...\";\n    }\n    if (root.Bokeh !== undefined) {\n      if (el != null) {\n        el.textContent = \"BokehJS \" + root.Bokeh.version + \" successfully loaded.\";\n      }\n    } else if (Date.now() < root._bokeh_timeout) {\n      setTimeout(display_loaded, 100)\n    }\n  }\n\n\n  function run_callbacks() {\n    try {\n      root._bokeh_onload_callbacks.forEach(function(callback) {\n        if (callback != null)\n          callback();\n      });\n    } finally {\n      delete root._bokeh_onload_callbacks\n    }\n    console.debug(\"Bokeh: all callbacks have finished\");\n  }\n\n  function load_libs(css_urls, js_urls, callback) {\n    if (css_urls == null) css_urls = [];\n    if (js_urls == null) js_urls = [];\n\n    root._bokeh_onload_callbacks.push(callback);\n    if (root._bokeh_is_loading > 0) {\n      console.debug(\"Bokeh: BokehJS is being loaded, scheduling callback at\", now());\n      return null;\n    }\n    if (js_urls == null || js_urls.length === 0) {\n      run_callbacks();\n      return null;\n    }\n    console.debug(\"Bokeh: BokehJS not loaded, scheduling load and callback at\", now());\n    root._bokeh_is_loading = css_urls.length + js_urls.length;\n\n    function on_load() {\n      root._bokeh_is_loading--;\n      if (root._bokeh_is_loading === 0) {\n        console.debug(\"Bokeh: all BokehJS libraries/stylesheets loaded\");\n        run_callbacks()\n      }\n    }\n\n    function on_error() {\n      console.error(\"failed to load \" + url);\n    }\n\n    for (var i = 0; i < css_urls.length; i++) {\n      var url = css_urls[i];\n      const element = document.createElement(\"link\");\n      element.onload = on_load;\n      element.onerror = on_error;\n      element.rel = \"stylesheet\";\n      element.type = \"text/css\";\n      element.href = url;\n      console.debug(\"Bokeh: injecting link tag for BokehJS stylesheet: \", url);\n      document.body.appendChild(element);\n    }\n\n    const hashes = {\"https://cdn.bokeh.org/bokeh/release/bokeh-2.0.2.min.js\": \"ufR9RFnRs6lniiaFvtJziE0YeidtAgBRH6ux2oUItHw5WTvE1zuk9uzhUU/FJXDp\", \"https://cdn.bokeh.org/bokeh/release/bokeh-widgets-2.0.2.min.js\": \"8QM/PGWBT+IssZuRcDcjzwIh1mkOmJSoNMmyYDZbCfXJg3Ap1lEvdVgFuSAwhb/J\", \"https://cdn.bokeh.org/bokeh/release/bokeh-tables-2.0.2.min.js\": \"Jm8cH3Rg0P6UeZhVY5cLy1WzKajUT9KImCY+76hEqrcJt59/d8GPvFHjCkYgnSIn\", \"https://cdn.bokeh.org/bokeh/release/bokeh-gl-2.0.2.min.js\": \"Ozhzj+SI7ywm74aOI/UajcWz+C0NjsPunEVyVIrxzYkB+jA+2tUw8x5xJCbVtK5I\"};\n\n    for (var i = 0; i < js_urls.length; i++) {\n      var url = js_urls[i];\n      var element = document.createElement('script');\n      element.onload = on_load;\n      element.onerror = on_error;\n      element.async = false;\n      element.src = url;\n      if (url in hashes) {\n        element.crossOrigin = \"anonymous\";\n        element.integrity = \"sha384-\" + hashes[url];\n      }\n      console.debug(\"Bokeh: injecting script tag for BokehJS library: \", url);\n      document.head.appendChild(element);\n    }\n  };\n\n  function inject_raw_css(css) {\n    const element = document.createElement(\"style\");\n    element.appendChild(document.createTextNode(css));\n    document.body.appendChild(element);\n  }\n\n  \n  var js_urls = [\"https://cdn.bokeh.org/bokeh/release/bokeh-2.0.2.min.js\", \"https://cdn.bokeh.org/bokeh/release/bokeh-widgets-2.0.2.min.js\", \"https://cdn.bokeh.org/bokeh/release/bokeh-tables-2.0.2.min.js\", \"https://cdn.bokeh.org/bokeh/release/bokeh-gl-2.0.2.min.js\"];\n  var css_urls = [];\n  \n\n  var inline_js = [\n    function(Bokeh) {\n      Bokeh.set_log_level(\"info\");\n    },\n    function(Bokeh) {\n    \n    \n    }\n  ];\n\n  function run_inline_js() {\n    \n    if (root.Bokeh !== undefined || force === true) {\n      \n    for (var i = 0; i < inline_js.length; i++) {\n      inline_js[i].call(root, root.Bokeh);\n    }\n    if (force === true) {\n        display_loaded();\n      }} else if (Date.now() < root._bokeh_timeout) {\n      setTimeout(run_inline_js, 100);\n    } else if (!root._bokeh_failed_load) {\n      console.log(\"Bokeh: BokehJS failed to load within specified timeout.\");\n      root._bokeh_failed_load = true;\n    } else if (force !== true) {\n      var cell = $(document.getElementById(\"1001\")).parents('.cell').data().cell;\n      cell.output_area.append_execute_result(NB_LOAD_WARNING)\n    }\n\n  }\n\n  if (root._bokeh_is_loading === 0) {\n    console.debug(\"Bokeh: BokehJS loaded, going straight to plotting\");\n    run_inline_js();\n  } else {\n    load_libs(css_urls, js_urls, function() {\n      console.debug(\"Bokeh: BokehJS plotting callback run at\", now());\n      run_inline_js();\n    });\n  }\n}(window));"
     },
     "metadata": {},
     "output_type": "display_data"
    }
   ],
   "source": [
    "output_notebook()"
   ]
  },
  {
   "cell_type": "code",
   "execution_count": 9,
   "metadata": {},
   "outputs": [],
   "source": [
    "values_death = [['', 'Pre Open', 'Second Week', 'Difference', 'Significant', 'Third Week', \n",
    "         'Difference', 'Significant']]\n",
    "values_cases = [['', 'Pre Open',  'Second Week', 'Difference', 'Significant', 'Third Week', \n",
    "         'Difference', 'Significant']]\n",
    "graphs = []"
   ]
  },
  {
   "cell_type": "code",
   "execution_count": 10,
   "metadata": {},
   "outputs": [
    {
     "name": "stdout",
     "output_type": "stream",
     "text": [
      "28.866666666666667 30.571428571428573 24.38888888888889\n"
     ]
    }
   ],
   "source": [
    "# get the means\n",
    "f = np.mean(df_first_texas['deaths'])\n",
    "s = np.mean(df_second_texas['deaths'])\n",
    "t = np.mean(df_third_texas['deaths'])\n",
    "print(f, s , t)\n"
   ]
  },
  {
   "cell_type": "code",
   "execution_count": 11,
   "metadata": {},
   "outputs": [
    {
     "data": {
      "text/plain": [
       "0.32899999999999996"
      ]
     },
     "execution_count": 11,
     "metadata": {},
     "output_type": "execute_result"
    }
   ],
   "source": [
    "a,b = resample_two_samples(df_first_texas['deaths'].tolist(), df_second_texas['deaths'].tolist())\n",
    "l = combine_resamples(df_second_texas['deaths'].tolist(),\n",
    "            df_first_texas['deaths'].tolist(),\n",
    "                   b,a\n",
    "                  )\n",
    "graphs.append(do_hist(l, title = 'Deaths Texas 1' ))\n",
    "get_p_value(l)\n"
   ]
  },
  {
   "cell_type": "code",
   "execution_count": 12,
   "metadata": {},
   "outputs": [
    {
     "data": {
      "text/plain": [
       "0.855"
      ]
     },
     "execution_count": 12,
     "metadata": {},
     "output_type": "execute_result"
    }
   ],
   "source": [
    "a,b = resample_two_samples(df_first_texas['deaths'].tolist(), df_third_texas['deaths'].tolist())\n",
    "l = combine_resamples(df_third_texas['deaths'].tolist(),\n",
    "             df_first_texas['deaths'].tolist(),\n",
    "                   b,a\n",
    "                  )\n",
    "graphs.append(do_hist(l, title = 'Deaths Texas 2' ))\n",
    "get_p_value(l)\n"
   ]
  },
  {
   "cell_type": "code",
   "execution_count": 13,
   "metadata": {},
   "outputs": [],
   "source": [
    "values_death.append(['Texas', round(f,1), round(s,1), round(s-f,1), 'No', round(t,1), round(t-f,1), 'No'])"
   ]
  },
  {
   "cell_type": "code",
   "execution_count": 14,
   "metadata": {},
   "outputs": [
    {
     "name": "stdout",
     "output_type": "stream",
     "text": [
      "864.4 1149.7857142857142 1161.7777777777778\n"
     ]
    },
    {
     "data": {
      "text/plain": [
       "0.0"
      ]
     },
     "execution_count": 14,
     "metadata": {},
     "output_type": "execute_result"
    }
   ],
   "source": [
    "#for cases\n",
    "f = np.mean(df_first_texas['cases'])\n",
    "s = np.mean(df_second_texas['cases'])\n",
    "t = np.mean(df_third_texas['cases'])\n",
    "print(f, s, t)\n",
    "a,b = resample_two_samples(df_first_texas['cases'].tolist(), df_second_texas['cases'].tolist())\n",
    "l = combine_resamples(df_second_texas['cases'].tolist(),\n",
    "             df_first_texas['cases'].tolist(),\n",
    "                   b,a\n",
    "                     )\n",
    "graphs.append(do_hist(l, title = 'Cases Texas 1' ))\n",
    "get_p_value(l)"
   ]
  },
  {
   "cell_type": "code",
   "execution_count": 15,
   "metadata": {},
   "outputs": [
    {
     "data": {
      "text/plain": [
       "0.0010000000000000009"
      ]
     },
     "execution_count": 15,
     "metadata": {},
     "output_type": "execute_result"
    }
   ],
   "source": [
    "a,b = resample_two_samples(df_first_texas['cases'].tolist(), df_third_texas['cases'].tolist())\n",
    "l = combine_resamples(df_third_texas['cases'].tolist(),\n",
    "             df_first_texas['cases'].tolist(),\n",
    "                   b,a\n",
    "                )\n",
    "graphs.append(do_hist(l, title = 'Cases Texas 2' ))\n",
    "get_p_value(l)\n"
   ]
  },
  {
   "cell_type": "code",
   "execution_count": 16,
   "metadata": {},
   "outputs": [
    {
     "data": {
      "text/plain": [
       "'Conclusion: No significance in difference between deaths, but a strong difference between last two weeks\\nand pre-opening period'"
      ]
     },
     "execution_count": 16,
     "metadata": {},
     "output_type": "execute_result"
    }
   ],
   "source": [
    "\"\"\"Conclusion: No significance in difference between deaths, but a strong difference between last two weeks\n",
    "and pre-opening period\"\"\""
   ]
  },
  {
   "cell_type": "code",
   "execution_count": 17,
   "metadata": {},
   "outputs": [],
   "source": [
    "values_cases.append(['Texas', round(f,1), round(s,1), round(s-f,1), 'Yes', round(t,1), round(t-f,1), 'Yes'])"
   ]
  },
  {
   "cell_type": "code",
   "execution_count": 18,
   "metadata": {},
   "outputs": [],
   "source": [
    "#Arizona opened up May 15\n",
    "df_first_arizona = DF[(DF['date'] > datetime.datetime(2020, 5, 1)) &(DF['date'] <= datetime.datetime(2020,5,15))\n",
    "            & (DF['state'] == 'Arizona')]\n",
    "df_second_arizona = DF[(DF['date'] > datetime.datetime(2020, 5, 15)) &(DF['date'] <= datetime.datetime(2020,5,30))\n",
    "            & (DF['state'] == 'Arizona')]\n"
   ]
  },
  {
   "cell_type": "code",
   "execution_count": 19,
   "metadata": {},
   "outputs": [
    {
     "name": "stdout",
     "output_type": "stream",
     "text": [
      "22.928571428571427 16.8\n"
     ]
    }
   ],
   "source": [
    "f = np.mean(df_first_arizona['deaths'])\n",
    "s = np.mean(df_second_arizona['deaths'])\n",
    "print(f,s)\n"
   ]
  },
  {
   "cell_type": "code",
   "execution_count": 20,
   "metadata": {},
   "outputs": [
    {
     "data": {
      "text/plain": [
       "0.861"
      ]
     },
     "execution_count": 20,
     "metadata": {},
     "output_type": "execute_result"
    }
   ],
   "source": [
    "a,b = resample_two_samples(df_first_arizona['deaths'].tolist(), df_second_arizona['deaths'].tolist())\n",
    "l = combine_resamples(df_second_arizona['deaths'].tolist(),\n",
    "             df_first_arizona['deaths'].tolist(),\n",
    "                   b,a\n",
    "                  )\n",
    "graphs.append(do_hist(l, title = 'Deaths Arizona 1' ))\n",
    "get_p_value(l)\n"
   ]
  },
  {
   "cell_type": "code",
   "execution_count": 21,
   "metadata": {},
   "outputs": [
    {
     "data": {
      "text/plain": [
       "'Conclusion: deaths declined, but not significantly'"
      ]
     },
     "execution_count": 21,
     "metadata": {},
     "output_type": "execute_result"
    }
   ],
   "source": [
    "\"\"\"Conclusion: deaths declined, but not significantly\"\"\""
   ]
  },
  {
   "cell_type": "code",
   "execution_count": 22,
   "metadata": {},
   "outputs": [],
   "source": [
    "values_death.append(['Arizona', round(f,1), round(s,1), round(s-f,1), 'No', 'N/A', 'N/A', 'No'])"
   ]
  },
  {
   "cell_type": "code",
   "execution_count": 23,
   "metadata": {},
   "outputs": [
    {
     "name": "stdout",
     "output_type": "stream",
     "text": [
      "371.92857142857144 405.73333333333335\n"
     ]
    }
   ],
   "source": [
    "f = np.mean(df_first_arizona['cases'])\n",
    "s = np.mean(df_second_arizona['cases'])\n",
    "print(f,s)"
   ]
  },
  {
   "cell_type": "code",
   "execution_count": 24,
   "metadata": {},
   "outputs": [
    {
     "data": {
      "text/plain": [
       "0.31399999999999995"
      ]
     },
     "execution_count": 24,
     "metadata": {},
     "output_type": "execute_result"
    }
   ],
   "source": [
    "a,b = resample_two_samples(df_first_arizona['cases'].tolist(), df_second_arizona['deaths'].tolist())\n",
    "l = combine_resamples(df_second_arizona['cases'].tolist(),\n",
    "             df_first_arizona['cases'].tolist(),\n",
    "                   b,a\n",
    "                  )\n",
    "graphs.append(do_hist(l, title = 'Cases Arizona 1' ))\n",
    "graphs.append(None)\n",
    "graphs.append(None)\n",
    "get_p_value(l)"
   ]
  },
  {
   "cell_type": "code",
   "execution_count": 25,
   "metadata": {},
   "outputs": [],
   "source": [
    "values_cases.append(['Arizona', round(f,1), round(s,1), round(s-f,1), 'No', 'N/A', 'N/A', 'No'])"
   ]
  },
  {
   "cell_type": "code",
   "execution_count": 26,
   "metadata": {},
   "outputs": [
    {
     "data": {
      "text/plain": [
       "'Concluslion: cases have risen, but not significantly'"
      ]
     },
     "execution_count": 26,
     "metadata": {},
     "output_type": "execute_result"
    }
   ],
   "source": [
    "\"\"\"Concluslion: cases have risen, but not significantly\"\"\""
   ]
  },
  {
   "cell_type": "code",
   "execution_count": 27,
   "metadata": {},
   "outputs": [],
   "source": [
    "#Arkansas opened up May 6\n",
    "df_first_arkansas = DF[(DF['date'] > datetime.datetime(2020, 4, 22)) &(DF['date'] <= datetime.datetime(2020,5,6))\n",
    "            & (DF['state'] == 'Arkansas')]\n",
    "df_second_arkansas = DF[(DF['date'] > datetime.datetime(2020, 5, 6)) &(DF['date'] <= datetime.datetime(2020,5,20))\n",
    "            & (DF['state'] == 'Arkansas')]\n",
    "df_third_arkansas = DF[(DF['date'] > datetime.datetime(2020, 5, 20)) &(DF['date'] <= datetime.datetime(2020,6,1))\n",
    "            & (DF['state'] == 'Arkansas')]\n"
   ]
  },
  {
   "cell_type": "code",
   "execution_count": 28,
   "metadata": {},
   "outputs": [
    {
     "name": "stdout",
     "output_type": "stream",
     "text": [
      "3.0714285714285716 1.4285714285714286 2.1666666666666665\n"
     ]
    }
   ],
   "source": [
    "f = np.mean(df_first_arkansas['deaths'])\n",
    "s = np.mean(df_second_arkansas['deaths'])\n",
    "t = np.mean(df_third_arkansas['deaths'])\n",
    "print(f,s,t)"
   ]
  },
  {
   "cell_type": "code",
   "execution_count": 29,
   "metadata": {},
   "outputs": [
    {
     "data": {
      "text/plain": [
       "0.989"
      ]
     },
     "execution_count": 29,
     "metadata": {},
     "output_type": "execute_result"
    }
   ],
   "source": [
    "a,b = resample_two_samples(df_first_arkansas['deaths'].tolist(), df_second_arkansas['deaths'].tolist())\n",
    "l = combine_resamples(df_second_arkansas['deaths'].tolist(),\n",
    "             df_first_arkansas['deaths'].tolist(),\n",
    "                   b,a\n",
    "                  )\n",
    "graphs.append(do_hist(l, title = 'Deaths Arkansas 1' ))\n",
    "get_p_value(l)"
   ]
  },
  {
   "cell_type": "code",
   "execution_count": 30,
   "metadata": {},
   "outputs": [
    {
     "data": {
      "text/plain": [
       "0.492"
      ]
     },
     "execution_count": 30,
     "metadata": {},
     "output_type": "execute_result"
    }
   ],
   "source": [
    "a,b = resample_two_samples(df_first_arkansas['deaths'].tolist(), df_third_arkansas['deaths'].tolist())\n",
    "l = combine_resamples(df_third_arkansas['deaths'].tolist(),\n",
    "             df_third_arkansas['deaths'].tolist(),\n",
    "                   a, b\n",
    "                  )\n",
    "graphs.append(do_hist(l, title = 'Deaths Arkansas 2' ))\n",
    "get_p_value(l)"
   ]
  },
  {
   "cell_type": "code",
   "execution_count": 31,
   "metadata": {},
   "outputs": [
    {
     "data": {
      "text/plain": [
       "'Conclusion: Deaths dropped significantly for the second week. Deaths rose for the third week, but not\\nsignificantly'"
      ]
     },
     "execution_count": 31,
     "metadata": {},
     "output_type": "execute_result"
    }
   ],
   "source": [
    "\"\"\"Conclusion: Deaths dropped significantly for the second week. Deaths rose for the third week, but not\n",
    "significantly\"\"\""
   ]
  },
  {
   "cell_type": "code",
   "execution_count": 32,
   "metadata": {},
   "outputs": [],
   "source": [
    "values_death.append(['Arkansas', round(f,1), round(s,1), round(s-f,1), 'No', round(t,1), round(t-f,1), 'No'])"
   ]
  },
  {
   "cell_type": "code",
   "execution_count": 33,
   "metadata": {},
   "outputs": [
    {
     "name": "stdout",
     "output_type": "stream",
     "text": [
      "87.07142857142857 99.42857142857143 203.33333333333334\n"
     ]
    }
   ],
   "source": [
    "f = np.mean(df_first_arkansas['cases'])\n",
    "s = np.mean(df_second_arkansas['cases'])\n",
    "t = np.mean(df_third_arkansas['cases'])\n",
    "print(f,s,t)"
   ]
  },
  {
   "cell_type": "code",
   "execution_count": 34,
   "metadata": {},
   "outputs": [
    {
     "data": {
      "text/plain": [
       "0.30200000000000005"
      ]
     },
     "execution_count": 34,
     "metadata": {},
     "output_type": "execute_result"
    }
   ],
   "source": [
    "a,b = resample_two_samples(df_first_arkansas['cases'].tolist(), df_second_arkansas['cases'].tolist())\n",
    "l = combine_resamples(df_second_arkansas['cases'].tolist(),\n",
    "             df_first_arkansas['cases'].tolist(),\n",
    "                   b,a\n",
    "                  )\n",
    "graphs.append(do_hist(l, title = 'Cases Arkansas 1' ))\n",
    "get_p_value(l)"
   ]
  },
  {
   "cell_type": "code",
   "execution_count": 35,
   "metadata": {},
   "outputs": [
    {
     "data": {
      "text/plain": [
       "0.0010000000000000009"
      ]
     },
     "execution_count": 35,
     "metadata": {},
     "output_type": "execute_result"
    }
   ],
   "source": [
    "a,b = resample_two_samples(df_first_arkansas['cases'].tolist(), df_third_arkansas['cases'].tolist())\n",
    "l = combine_resamples(df_third_arkansas['cases'].tolist(),\n",
    "             df_first_arkansas['cases'].tolist(),\n",
    "                   b,a\n",
    "                  )\n",
    "graphs.append(do_hist(l, title = 'Cases Arkansas 2' ))\n",
    "get_p_value(l)"
   ]
  },
  {
   "cell_type": "code",
   "execution_count": 36,
   "metadata": {},
   "outputs": [
    {
     "data": {
      "text/plain": [
       "'Conclusion: cases rose in the second week, but not significantly. Cases rose significantly in the third \\nweek.'"
      ]
     },
     "execution_count": 36,
     "metadata": {},
     "output_type": "execute_result"
    }
   ],
   "source": [
    "\"\"\"Conclusion: cases rose in the second week, but not significantly. Cases rose significantly in the third \n",
    "week.\"\"\""
   ]
  },
  {
   "cell_type": "code",
   "execution_count": 37,
   "metadata": {},
   "outputs": [],
   "source": [
    "values_cases.append(['Arkansas', round(f,1), round(s,1), round(s-f,1), 'No', round(t,1), round(t-f,1), 'Yes'])"
   ]
  },
  {
   "cell_type": "code",
   "execution_count": null,
   "metadata": {},
   "outputs": [],
   "source": []
  },
  {
   "cell_type": "code",
   "execution_count": 38,
   "metadata": {},
   "outputs": [],
   "source": [
    "with open(os.path.join('data', 'states_diff.csv'), 'w') as write_obj:\n",
    "    csv_writer = csv.writer(write_obj)\n",
    "    csv_writer.writerows(values_death)"
   ]
  },
  {
   "cell_type": "code",
   "execution_count": 39,
   "metadata": {},
   "outputs": [],
   "source": [
    "with open(os.path.join('data', 'states_diff_cases.csv'), 'w') as write_obj:\n",
    "    csv_writer = csv.writer(write_obj)\n",
    "    csv_writer.writerows(values_cases)"
   ]
  },
  {
   "cell_type": "code",
   "execution_count": 40,
   "metadata": {},
   "outputs": [
    {
     "data": {
      "text/html": [
       "\n",
       "\n",
       "\n",
       "\n",
       "\n",
       "\n",
       "  <div class=\"bk-root\" id=\"860d25b5-0551-4390-9f3c-ec2189f576d5\" data-root-id=\"1475\"></div>\n"
      ]
     },
     "metadata": {},
     "output_type": "display_data"
    },
    {
     "data": {
      "application/javascript": [
       "(function(root) {\n",
       "  function embed_document(root) {\n",
       "    \n",
       "  var docs_json = {\"3f1d972f-5c7b-408e-b371-27c060ba7ef0\":{\"roots\":{\"references\":[{\"attributes\":{\"children\":[{\"id\":\"1474\"},{\"id\":\"1472\"}]},\"id\":\"1475\",\"type\":\"Column\"},{\"attributes\":{\"data_source\":{\"id\":\"1225\"},\"glyph\":{\"id\":\"1226\"},\"hover_glyph\":null,\"muted_glyph\":null,\"nonselection_glyph\":{\"id\":\"1227\"},\"selection_glyph\":null,\"view\":{\"id\":\"1229\"}},\"id\":\"1228\",\"type\":\"GlyphRenderer\"},{\"attributes\":{},\"id\":\"1443\",\"type\":\"Selection\"},{\"attributes\":{\"source\":{\"id\":\"1225\"}},\"id\":\"1229\",\"type\":\"CDSView\"},{\"attributes\":{},\"id\":\"1446\",\"type\":\"BasicTickFormatter\"},{\"attributes\":{},\"id\":\"1235\",\"type\":\"DataRange1d\"},{\"attributes\":{},\"id\":\"1448\",\"type\":\"BasicTickFormatter\"},{\"attributes\":{},\"id\":\"1237\",\"type\":\"LinearScale\"},{\"attributes\":{},\"id\":\"1451\",\"type\":\"UnionRenderers\"},{\"attributes\":{},\"id\":\"1452\",\"type\":\"Selection\"},{\"attributes\":{},\"id\":\"1383\",\"type\":\"BasicTickFormatter\"},{\"attributes\":{},\"id\":\"1394\",\"type\":\"BasicTickFormatter\"},{\"attributes\":{},\"id\":\"1233\",\"type\":\"DataRange1d\"},{\"attributes\":{},\"id\":\"1455\",\"type\":\"BasicTickFormatter\"},{\"attributes\":{\"source\":{\"id\":\"1263\"}},\"id\":\"1267\",\"type\":\"CDSView\"},{\"attributes\":{},\"id\":\"1457\",\"type\":\"BasicTickFormatter\"},{\"attributes\":{\"text\":\"Deaths Arkansas 1\"},\"id\":\"1231\",\"type\":\"Title\"},{\"attributes\":{\"data\":{\"left\":{\"__ndarray__\":\"JUmSJEmSDMDyFV/xFV8JwL7iK77iKwbAi6/4iq/4AsCw+Iqv+Ir/v0qSJEmSJPm/4iu+4iu+8r/4iq/4iq/ov1h8xVd8xde/ANRBHdRBnT8=\",\"dtype\":\"float64\",\"shape\":[10]},\"right\":{\"__ndarray__\":\"8hVf8RVfCcC+4iu+4isGwIuv+Iqv+ALAsPiKr/iK/79KkiRJkiT5v+IrvuIrvvK/+Iqv+Iqv6L9YfMVXfMXXvwDUQR3UQZ0/2LZt27Zt2z8=\",\"dtype\":\"float64\",\"shape\":[10]},\"top\":{\"__ndarray__\":\"K1yPwvUonD8E16NwPQq3PwEAAAAAANQ/xfUoXI/C3T/3KFyPwvXiPwTXo3A9Ctc/hutRuB6F1z+cmZmZmZnJP3M9CtejcK0/K1yPwvUonD8=\",\"dtype\":\"float64\",\"shape\":[10]}},\"selected\":{\"id\":\"1443\"},\"selection_policy\":{\"id\":\"1442\"}},\"id\":\"1263\",\"type\":\"ColumnDataSource\"},{\"attributes\":{},\"id\":\"1460\",\"type\":\"UnionRenderers\"},{\"attributes\":{},\"id\":\"1461\",\"type\":\"Selection\"},{\"attributes\":{\"below\":[{\"id\":\"1241\"}],\"center\":[{\"id\":\"1244\"},{\"id\":\"1248\"}],\"left\":[{\"id\":\"1245\"}],\"plot_height\":250,\"plot_width\":250,\"renderers\":[{\"id\":\"1266\"}],\"title\":{\"id\":\"1231\"},\"toolbar\":{\"id\":\"1256\"},\"toolbar_location\":null,\"x_range\":{\"id\":\"1233\"},\"x_scale\":{\"id\":\"1237\"},\"y_range\":{\"id\":\"1235\"},\"y_scale\":{\"id\":\"1239\"}},\"id\":\"1230\",\"subtype\":\"Figure\",\"type\":\"Plot\"},{\"attributes\":{},\"id\":\"1464\",\"type\":\"BasicTickFormatter\"},{\"attributes\":{},\"id\":\"1466\",\"type\":\"BasicTickFormatter\"},{\"attributes\":{},\"id\":\"1356\",\"type\":\"BasicTicker\"},{\"attributes\":{},\"id\":\"1470\",\"type\":\"Selection\"},{\"attributes\":{\"toolbars\":[{\"id\":\"1028\"},{\"id\":\"1066\"},{\"id\":\"1104\"},{\"id\":\"1142\"},{\"id\":\"1180\"},{\"id\":\"1218\"},{\"id\":\"1256\"},{\"id\":\"1294\"},{\"id\":\"1332\"},{\"id\":\"1370\"}],\"tools\":[{\"id\":\"1021\"},{\"id\":\"1022\"},{\"id\":\"1023\"},{\"id\":\"1024\"},{\"id\":\"1025\"},{\"id\":\"1026\"},{\"id\":\"1059\"},{\"id\":\"1060\"},{\"id\":\"1061\"},{\"id\":\"1062\"},{\"id\":\"1063\"},{\"id\":\"1064\"},{\"id\":\"1097\"},{\"id\":\"1098\"},{\"id\":\"1099\"},{\"id\":\"1100\"},{\"id\":\"1101\"},{\"id\":\"1102\"},{\"id\":\"1135\"},{\"id\":\"1136\"},{\"id\":\"1137\"},{\"id\":\"1138\"},{\"id\":\"1139\"},{\"id\":\"1140\"},{\"id\":\"1173\"},{\"id\":\"1174\"},{\"id\":\"1175\"},{\"id\":\"1176\"},{\"id\":\"1177\"},{\"id\":\"1178\"},{\"id\":\"1211\"},{\"id\":\"1212\"},{\"id\":\"1213\"},{\"id\":\"1214\"},{\"id\":\"1215\"},{\"id\":\"1216\"},{\"id\":\"1249\"},{\"id\":\"1250\"},{\"id\":\"1251\"},{\"id\":\"1252\"},{\"id\":\"1253\"},{\"id\":\"1254\"},{\"id\":\"1287\"},{\"id\":\"1288\"},{\"id\":\"1289\"},{\"id\":\"1290\"},{\"id\":\"1291\"},{\"id\":\"1292\"},{\"id\":\"1325\"},{\"id\":\"1326\"},{\"id\":\"1327\"},{\"id\":\"1328\"},{\"id\":\"1329\"},{\"id\":\"1330\"},{\"id\":\"1363\"},{\"id\":\"1364\"},{\"id\":\"1365\"},{\"id\":\"1366\"},{\"id\":\"1367\"},{\"id\":\"1368\"}]},\"id\":\"1473\",\"type\":\"ProxyToolbar\"},{\"attributes\":{\"children\":[[{\"id\":\"1002\"},0,0],[{\"id\":\"1040\"},0,1],[{\"id\":\"1078\"},0,2],[{\"id\":\"1116\"},0,3],[{\"id\":\"1154\"},1,0],[{\"id\":\"1192\"},1,1],[{\"id\":\"1230\"},2,0],[{\"id\":\"1268\"},2,1],[{\"id\":\"1306\"},2,2],[{\"id\":\"1344\"},2,3]]},\"id\":\"1472\",\"type\":\"GridBox\"},{\"attributes\":{\"toolbar\":{\"id\":\"1473\"},\"toolbar_location\":\"above\"},\"id\":\"1474\",\"type\":\"ToolbarBox\"},{\"attributes\":{},\"id\":\"1132\",\"type\":\"BasicTicker\"},{\"attributes\":{},\"id\":\"1239\",\"type\":\"LinearScale\"},{\"attributes\":{},\"id\":\"1280\",\"type\":\"BasicTicker\"},{\"attributes\":{},\"id\":\"1433\",\"type\":\"UnionRenderers\"},{\"attributes\":{\"formatter\":{\"id\":\"1437\"},\"ticker\":{\"id\":\"1242\"}},\"id\":\"1241\",\"type\":\"LinearAxis\"},{\"attributes\":{\"data_source\":{\"id\":\"1263\"},\"glyph\":{\"id\":\"1264\"},\"hover_glyph\":null,\"muted_glyph\":null,\"nonselection_glyph\":{\"id\":\"1265\"},\"selection_glyph\":null,\"view\":{\"id\":\"1267\"}},\"id\":\"1266\",\"type\":\"GlyphRenderer\"},{\"attributes\":{},\"id\":\"1442\",\"type\":\"UnionRenderers\"},{\"attributes\":{},\"id\":\"1022\",\"type\":\"WheelZoomTool\"},{\"attributes\":{\"axis\":{\"id\":\"1321\"},\"dimension\":1,\"ticker\":null},\"id\":\"1324\",\"type\":\"Grid\"},{\"attributes\":{\"below\":[{\"id\":\"1165\"}],\"center\":[{\"id\":\"1168\"},{\"id\":\"1172\"}],\"left\":[{\"id\":\"1169\"}],\"plot_height\":250,\"plot_width\":250,\"renderers\":[{\"id\":\"1190\"}],\"title\":{\"id\":\"1155\"},\"toolbar\":{\"id\":\"1180\"},\"toolbar_location\":null,\"x_range\":{\"id\":\"1157\"},\"x_scale\":{\"id\":\"1161\"},\"y_range\":{\"id\":\"1159\"},\"y_scale\":{\"id\":\"1163\"}},\"id\":\"1154\",\"subtype\":\"Figure\",\"type\":\"Plot\"},{\"attributes\":{\"bottom\":{\"value\":0},\"fill_alpha\":{\"value\":0.1},\"fill_color\":{\"value\":\"#1f77b4\"},\"left\":{\"field\":\"left\"},\"line_alpha\":{\"value\":0.1},\"line_color\":{\"value\":\"#1f77b4\"},\"right\":{\"field\":\"right\"},\"top\":{\"field\":\"top\"}},\"id\":\"1265\",\"type\":\"Quad\"},{\"attributes\":{\"bottom\":{\"value\":0},\"fill_alpha\":{\"value\":0.1},\"fill_color\":{\"value\":\"#1f77b4\"},\"left\":{\"field\":\"left\"},\"line_alpha\":{\"value\":0.1},\"line_color\":{\"value\":\"#1f77b4\"},\"right\":{\"field\":\"right\"},\"top\":{\"field\":\"top\"}},\"id\":\"1189\",\"type\":\"Quad\"},{\"attributes\":{\"source\":{\"id\":\"1377\"}},\"id\":\"1381\",\"type\":\"CDSView\"},{\"attributes\":{\"text\":\"Deaths Arizona 1\"},\"id\":\"1155\",\"type\":\"Title\"},{\"attributes\":{\"bottom_units\":\"screen\",\"fill_alpha\":0.5,\"fill_color\":\"lightgrey\",\"left_units\":\"screen\",\"level\":\"overlay\",\"line_alpha\":1.0,\"line_color\":\"black\",\"line_dash\":[4,4],\"line_width\":2,\"render_mode\":\"css\",\"right_units\":\"screen\",\"top_units\":\"screen\"},\"id\":\"1255\",\"type\":\"BoxAnnotation\"},{\"attributes\":{\"bottom\":{\"value\":0},\"fill_alpha\":{\"value\":0.1},\"fill_color\":{\"value\":\"#1f77b4\"},\"left\":{\"field\":\"left\"},\"line_alpha\":{\"value\":0.1},\"line_color\":{\"value\":\"#1f77b4\"},\"right\":{\"field\":\"right\"},\"top\":{\"field\":\"top\"}},\"id\":\"1037\",\"type\":\"Quad\"},{\"attributes\":{},\"id\":\"1252\",\"type\":\"SaveTool\"},{\"attributes\":{},\"id\":\"1157\",\"type\":\"DataRange1d\"},{\"attributes\":{\"active_drag\":\"auto\",\"active_inspect\":\"auto\",\"active_multi\":null,\"active_scroll\":\"auto\",\"active_tap\":\"auto\",\"tools\":[{\"id\":\"1249\"},{\"id\":\"1250\"},{\"id\":\"1251\"},{\"id\":\"1252\"},{\"id\":\"1253\"},{\"id\":\"1254\"}]},\"id\":\"1256\",\"type\":\"Toolbar\"},{\"attributes\":{},\"id\":\"1159\",\"type\":\"DataRange1d\"},{\"attributes\":{\"axis\":{\"id\":\"1169\"},\"dimension\":1,\"ticker\":null},\"id\":\"1172\",\"type\":\"Grid\"},{\"attributes\":{\"bottom\":{\"value\":0},\"fill_alpha\":{\"value\":0.4},\"fill_color\":{\"value\":\"#1f77b4\"},\"left\":{\"field\":\"left\"},\"line_alpha\":{\"value\":0.4},\"line_color\":{\"value\":\"#1f77b4\"},\"right\":{\"field\":\"right\"},\"top\":{\"field\":\"top\"}},\"id\":\"1340\",\"type\":\"Quad\"},{\"attributes\":{\"bottom\":{\"value\":0},\"fill_alpha\":{\"value\":0.4},\"fill_color\":{\"value\":\"#1f77b4\"},\"left\":{\"field\":\"left\"},\"line_alpha\":{\"value\":0.4},\"line_color\":{\"value\":\"#1f77b4\"},\"right\":{\"field\":\"right\"},\"top\":{\"field\":\"top\"}},\"id\":\"1188\",\"type\":\"Quad\"},{\"attributes\":{\"data\":{\"left\":{\"__ndarray__\":\"JEmSJEmSRcB0UAd1UIc/wKAO6qAO6jPAmJmZmZmZIMBAqIM6qIMKQLht27Zt2y1AsPiKr/iKOkBCHdRBHRRDQCy+4iu+4khAFl/xFV+xTkA=\",\"dtype\":\"float64\",\"shape\":[10]},\"right\":{\"__ndarray__\":\"dFAHdVCHP8CgDuqgDuozwJiZmZmZmSDAQKiDOqiDCkC4bdu2bdstQLD4iq/4ijpAQh3UQR0UQ0AsvuIrvuJIQBZf8RVfsU5AAAAAAABAUkA=\",\"dtype\":\"float64\",\"shape\":[10]},\"top\":{\"__ndarray__\":\"shRxVt2/Yz9iLzZKTAtzP1qHjtwlGoQ/bNQz6ak2jD8kmkoZCDmQP3o9w/d1IpA/5wG1Gfughz94U1lcLGaAP7u5bvU662w/Lj9IuGVkST8=\",\"dtype\":\"float64\",\"shape\":[10]}},\"selected\":{\"id\":\"1461\"},\"selection_policy\":{\"id\":\"1460\"}},\"id\":\"1339\",\"type\":\"ColumnDataSource\"},{\"attributes\":{},\"id\":\"1253\",\"type\":\"ResetTool\"},{\"attributes\":{\"data\":{\"left\":{\"__ndarray__\":\"UAd1UAf1NcAm+jtZLa8ywPbZBcSm0i7Aor+T1fJGKMBNpSHnPrshwPAVX/EVXxbAkML1KFyPAsAgm0pDzn3uPwyITaUh5xBAtLwxgon+HUA=\",\"dtype\":\"float64\",\"shape\":[10]},\"right\":{\"__ndarray__\":\"Jvo7WS2vMsD22QXEptIuwKK/k9XyRijATaUh5z67IcDwFV/xFV8WwJDC9ShcjwLAIJtKQ8597j8MiE2lIecQQLS8MYKJ/h1AsfiKr/iKJUA=\",\"dtype\":\"float64\",\"shape\":[10]},\"top\":{\"__ndarray__\":\"Nl63zbUHWT8lGPkKKwaEP9NVAE8PbaA/4L4dc1/vpz8UsAdYo02yP8UQbv1MNbE/2Ju+EZpupT+XQuN5zleZP2QsQlE05YA/M6R1kEAJXj8=\",\"dtype\":\"float64\",\"shape\":[10]}},\"selected\":{\"id\":\"1425\"},\"selection_policy\":{\"id\":\"1424\"}},\"id\":\"1187\",\"type\":\"ColumnDataSource\"},{\"attributes\":{},\"id\":\"1254\",\"type\":\"HelpTool\"},{\"attributes\":{\"axis\":{\"id\":\"1241\"},\"ticker\":null},\"id\":\"1244\",\"type\":\"Grid\"},{\"attributes\":{},\"id\":\"1173\",\"type\":\"PanTool\"},{\"attributes\":{},\"id\":\"1242\",\"type\":\"BasicTicker\"},{\"attributes\":{},\"id\":\"1174\",\"type\":\"WheelZoomTool\"},{\"attributes\":{\"overlay\":{\"id\":\"1255\"}},\"id\":\"1251\",\"type\":\"BoxZoomTool\"},{\"attributes\":{},\"id\":\"1250\",\"type\":\"WheelZoomTool\"},{\"attributes\":{\"overlay\":{\"id\":\"1179\"}},\"id\":\"1175\",\"type\":\"BoxZoomTool\"},{\"attributes\":{},\"id\":\"1176\",\"type\":\"SaveTool\"},{\"attributes\":{\"formatter\":{\"id\":\"1464\"},\"ticker\":{\"id\":\"1356\"}},\"id\":\"1355\",\"type\":\"LinearAxis\"},{\"attributes\":{},\"id\":\"1177\",\"type\":\"ResetTool\"},{\"attributes\":{},\"id\":\"1178\",\"type\":\"HelpTool\"},{\"attributes\":{\"bottom\":{\"value\":0},\"fill_alpha\":{\"value\":0.1},\"fill_color\":{\"value\":\"#1f77b4\"},\"left\":{\"field\":\"left\"},\"line_alpha\":{\"value\":0.1},\"line_color\":{\"value\":\"#1f77b4\"},\"right\":{\"field\":\"right\"},\"top\":{\"field\":\"top\"}},\"id\":\"1379\",\"type\":\"Quad\"},{\"attributes\":{\"formatter\":{\"id\":\"1421\"},\"ticker\":{\"id\":\"1170\"}},\"id\":\"1169\",\"type\":\"LinearAxis\"},{\"attributes\":{},\"id\":\"1398\",\"type\":\"Selection\"},{\"attributes\":{\"below\":[{\"id\":\"1279\"}],\"center\":[{\"id\":\"1282\"},{\"id\":\"1286\"}],\"left\":[{\"id\":\"1283\"}],\"plot_height\":250,\"plot_width\":250,\"renderers\":[{\"id\":\"1304\"}],\"title\":{\"id\":\"1269\"},\"toolbar\":{\"id\":\"1294\"},\"toolbar_location\":null,\"x_range\":{\"id\":\"1271\"},\"x_scale\":{\"id\":\"1275\"},\"y_range\":{\"id\":\"1273\"},\"y_scale\":{\"id\":\"1277\"}},\"id\":\"1268\",\"subtype\":\"Figure\",\"type\":\"Plot\"},{\"attributes\":{\"overlay\":{\"id\":\"1065\"}},\"id\":\"1061\",\"type\":\"BoxZoomTool\"},{\"attributes\":{},\"id\":\"1249\",\"type\":\"PanTool\"},{\"attributes\":{\"active_drag\":\"auto\",\"active_inspect\":\"auto\",\"active_multi\":null,\"active_scroll\":\"auto\",\"active_tap\":\"auto\",\"tools\":[{\"id\":\"1173\"},{\"id\":\"1174\"},{\"id\":\"1175\"},{\"id\":\"1176\"},{\"id\":\"1177\"},{\"id\":\"1178\"}]},\"id\":\"1180\",\"type\":\"Toolbar\"},{\"attributes\":{},\"id\":\"1007\",\"type\":\"DataRange1d\"},{\"attributes\":{\"formatter\":{\"id\":\"1392\"},\"ticker\":{\"id\":\"1052\"}},\"id\":\"1051\",\"type\":\"LinearAxis\"},{\"attributes\":{},\"id\":\"1161\",\"type\":\"LinearScale\"},{\"attributes\":{},\"id\":\"1062\",\"type\":\"SaveTool\"},{\"attributes\":{\"formatter\":{\"id\":\"1419\"},\"ticker\":{\"id\":\"1166\"}},\"id\":\"1165\",\"type\":\"LinearAxis\"},{\"attributes\":{\"text\":\"Deaths Arkansas 2\"},\"id\":\"1269\",\"type\":\"Title\"},{\"attributes\":{},\"id\":\"1011\",\"type\":\"LinearScale\"},{\"attributes\":{\"formatter\":{\"id\":\"1394\"},\"ticker\":{\"id\":\"1056\"}},\"id\":\"1055\",\"type\":\"LinearAxis\"},{\"attributes\":{\"axis\":{\"id\":\"1355\"},\"ticker\":null},\"id\":\"1358\",\"type\":\"Grid\"},{\"attributes\":{},\"id\":\"1401\",\"type\":\"BasicTickFormatter\"},{\"attributes\":{},\"id\":\"1063\",\"type\":\"ResetTool\"},{\"attributes\":{\"formatter\":{\"id\":\"1466\"},\"ticker\":{\"id\":\"1360\"}},\"id\":\"1359\",\"type\":\"LinearAxis\"},{\"attributes\":{\"bottom_units\":\"screen\",\"fill_alpha\":0.5,\"fill_color\":\"lightgrey\",\"left_units\":\"screen\",\"level\":\"overlay\",\"line_alpha\":1.0,\"line_color\":\"black\",\"line_dash\":[4,4],\"line_width\":2,\"render_mode\":\"css\",\"right_units\":\"screen\",\"top_units\":\"screen\"},\"id\":\"1103\",\"type\":\"BoxAnnotation\"},{\"attributes\":{},\"id\":\"1056\",\"type\":\"BasicTicker\"},{\"attributes\":{\"data\":{\"left\":{\"__ndarray__\":\"4JM+6ZO+MMArnhWNBDxHQCNDZYepa1tAmNsfZKicZUCfFY0EfINtQNMnfdIntXJA1sSzopGodkDaYepy+5t6QN3+IENlj35A8M2riWdBgUA=\",\"dtype\":\"float64\",\"shape\":[10]},\"right\":{\"__ndarray__\":\"K54VjQQ8R0AjQ2WHqWtbQJjbH2SonGVAnxWNBHyDbUDTJ33SJ7VyQNbEs6KRqHZA2mHqcvubekDd/iBDZY9+QPDNq4lnQYFAchzHcRw7g0A=\",\"dtype\":\"float64\",\"shape\":[10]},\"top\":{\"__ndarray__\":\"iUSmPJD0Kj9+8Ps3wOE4P/NRvDKWjFY/5/0RLsZ5ZD9NybA+y9xrP5MDJkCsgmw/ny5yKzFPYz/naOcsEvVTP3kxfDSkU0c/evD7N8DhKD8=\",\"dtype\":\"float64\",\"shape\":[10]}},\"selected\":{\"id\":\"1416\"},\"selection_policy\":{\"id\":\"1415\"}},\"id\":\"1149\",\"type\":\"ColumnDataSource\"},{\"attributes\":{\"bottom\":{\"value\":0},\"fill_alpha\":{\"value\":0.4},\"fill_color\":{\"value\":\"#1f77b4\"},\"left\":{\"field\":\"left\"},\"line_alpha\":{\"value\":0.4},\"line_color\":{\"value\":\"#1f77b4\"},\"right\":{\"field\":\"right\"},\"top\":{\"field\":\"top\"}},\"id\":\"1264\",\"type\":\"Quad\"},{\"attributes\":{\"bottom\":{\"value\":0},\"fill_alpha\":{\"value\":0.1},\"fill_color\":{\"value\":\"#1f77b4\"},\"left\":{\"field\":\"left\"},\"line_alpha\":{\"value\":0.1},\"line_color\":{\"value\":\"#1f77b4\"},\"right\":{\"field\":\"right\"},\"top\":{\"field\":\"top\"}},\"id\":\"1303\",\"type\":\"Quad\"},{\"attributes\":{},\"id\":\"1064\",\"type\":\"HelpTool\"},{\"attributes\":{\"axis\":{\"id\":\"1131\"},\"dimension\":1,\"ticker\":null},\"id\":\"1134\",\"type\":\"Grid\"},{\"attributes\":{},\"id\":\"1360\",\"type\":\"BasicTicker\"},{\"attributes\":{},\"id\":\"1136\",\"type\":\"WheelZoomTool\"},{\"attributes\":{},\"id\":\"1271\",\"type\":\"DataRange1d\"},{\"attributes\":{\"below\":[{\"id\":\"1317\"}],\"center\":[{\"id\":\"1320\"},{\"id\":\"1324\"}],\"left\":[{\"id\":\"1321\"}],\"plot_height\":250,\"plot_width\":250,\"renderers\":[{\"id\":\"1342\"}],\"title\":{\"id\":\"1307\"},\"toolbar\":{\"id\":\"1332\"},\"toolbar_location\":null,\"x_range\":{\"id\":\"1309\"},\"x_scale\":{\"id\":\"1313\"},\"y_range\":{\"id\":\"1311\"},\"y_scale\":{\"id\":\"1315\"}},\"id\":\"1306\",\"subtype\":\"Figure\",\"type\":\"Plot\"},{\"attributes\":{\"data_source\":{\"id\":\"1111\"},\"glyph\":{\"id\":\"1112\"},\"hover_glyph\":null,\"muted_glyph\":null,\"nonselection_glyph\":{\"id\":\"1113\"},\"selection_glyph\":null,\"view\":{\"id\":\"1115\"}},\"id\":\"1114\",\"type\":\"GlyphRenderer\"},{\"attributes\":{\"axis\":{\"id\":\"1359\"},\"dimension\":1,\"ticker\":null},\"id\":\"1362\",\"type\":\"Grid\"},{\"attributes\":{\"below\":[{\"id\":\"1013\"}],\"center\":[{\"id\":\"1016\"},{\"id\":\"1020\"}],\"left\":[{\"id\":\"1017\"}],\"plot_height\":250,\"plot_width\":250,\"renderers\":[{\"id\":\"1038\"}],\"title\":{\"id\":\"1003\"},\"toolbar\":{\"id\":\"1028\"},\"toolbar_location\":null,\"x_range\":{\"id\":\"1005\"},\"x_scale\":{\"id\":\"1009\"},\"y_range\":{\"id\":\"1007\"},\"y_scale\":{\"id\":\"1011\"}},\"id\":\"1002\",\"subtype\":\"Figure\",\"type\":\"Plot\"},{\"attributes\":{\"active_drag\":\"auto\",\"active_inspect\":\"auto\",\"active_multi\":null,\"active_scroll\":\"auto\",\"active_tap\":\"auto\",\"tools\":[{\"id\":\"1059\"},{\"id\":\"1060\"},{\"id\":\"1061\"},{\"id\":\"1062\"},{\"id\":\"1063\"},{\"id\":\"1064\"}]},\"id\":\"1066\",\"type\":\"Toolbar\"},{\"attributes\":{},\"id\":\"1273\",\"type\":\"DataRange1d\"},{\"attributes\":{\"bottom_units\":\"screen\",\"fill_alpha\":0.5,\"fill_color\":\"lightgrey\",\"left_units\":\"screen\",\"level\":\"overlay\",\"line_alpha\":1.0,\"line_color\":\"black\",\"line_dash\":[4,4],\"line_width\":2,\"render_mode\":\"css\",\"right_units\":\"screen\",\"top_units\":\"screen\"},\"id\":\"1179\",\"type\":\"BoxAnnotation\"},{\"attributes\":{\"axis\":{\"id\":\"1051\"},\"ticker\":null},\"id\":\"1054\",\"type\":\"Grid\"},{\"attributes\":{},\"id\":\"1052\",\"type\":\"BasicTicker\"},{\"attributes\":{\"source\":{\"id\":\"1111\"}},\"id\":\"1115\",\"type\":\"CDSView\"},{\"attributes\":{\"overlay\":{\"id\":\"1141\"}},\"id\":\"1137\",\"type\":\"BoxZoomTool\"},{\"attributes\":{},\"id\":\"1275\",\"type\":\"LinearScale\"},{\"attributes\":{\"source\":{\"id\":\"1187\"}},\"id\":\"1191\",\"type\":\"CDSView\"},{\"attributes\":{\"overlay\":{\"id\":\"1027\"}},\"id\":\"1023\",\"type\":\"BoxZoomTool\"},{\"attributes\":{\"text\":\"Cases Arkansas 1\"},\"id\":\"1307\",\"type\":\"Title\"},{\"attributes\":{\"bottom\":{\"value\":0},\"fill_alpha\":{\"value\":0.1},\"fill_color\":{\"value\":\"#1f77b4\"},\"left\":{\"field\":\"left\"},\"line_alpha\":{\"value\":0.1},\"line_color\":{\"value\":\"#1f77b4\"},\"right\":{\"field\":\"right\"},\"top\":{\"field\":\"top\"}},\"id\":\"1227\",\"type\":\"Quad\"},{\"attributes\":{\"source\":{\"id\":\"1339\"}},\"id\":\"1343\",\"type\":\"CDSView\"},{\"attributes\":{\"active_drag\":\"auto\",\"active_inspect\":\"auto\",\"active_multi\":null,\"active_scroll\":\"auto\",\"active_tap\":\"auto\",\"tools\":[{\"id\":\"1021\"},{\"id\":\"1022\"},{\"id\":\"1023\"},{\"id\":\"1024\"},{\"id\":\"1025\"},{\"id\":\"1026\"}]},\"id\":\"1028\",\"type\":\"Toolbar\"},{\"attributes\":{\"data_source\":{\"id\":\"1187\"},\"glyph\":{\"id\":\"1188\"},\"hover_glyph\":null,\"muted_glyph\":null,\"nonselection_glyph\":{\"id\":\"1189\"},\"selection_glyph\":null,\"view\":{\"id\":\"1191\"}},\"id\":\"1190\",\"type\":\"GlyphRenderer\"},{\"attributes\":{},\"id\":\"1277\",\"type\":\"LinearScale\"},{\"attributes\":{\"below\":[{\"id\":\"1089\"}],\"center\":[{\"id\":\"1092\"},{\"id\":\"1096\"}],\"left\":[{\"id\":\"1093\"}],\"plot_height\":250,\"plot_width\":250,\"renderers\":[{\"id\":\"1114\"}],\"title\":{\"id\":\"1079\"},\"toolbar\":{\"id\":\"1104\"},\"toolbar_location\":null,\"x_range\":{\"id\":\"1081\"},\"x_scale\":{\"id\":\"1085\"},\"y_range\":{\"id\":\"1083\"},\"y_scale\":{\"id\":\"1087\"}},\"id\":\"1078\",\"subtype\":\"Figure\",\"type\":\"Plot\"},{\"attributes\":{},\"id\":\"1138\",\"type\":\"SaveTool\"},{\"attributes\":{},\"id\":\"1309\",\"type\":\"DataRange1d\"},{\"attributes\":{},\"id\":\"1363\",\"type\":\"PanTool\"},{\"attributes\":{\"formatter\":{\"id\":\"1446\"},\"ticker\":{\"id\":\"1280\"}},\"id\":\"1279\",\"type\":\"LinearAxis\"},{\"attributes\":{},\"id\":\"1407\",\"type\":\"Selection\"},{\"attributes\":{},\"id\":\"1139\",\"type\":\"ResetTool\"},{\"attributes\":{},\"id\":\"1311\",\"type\":\"DataRange1d\"},{\"attributes\":{\"bottom\":{\"value\":0},\"fill_alpha\":{\"value\":0.4},\"fill_color\":{\"value\":\"#1f77b4\"},\"left\":{\"field\":\"left\"},\"line_alpha\":{\"value\":0.4},\"line_color\":{\"value\":\"#1f77b4\"},\"right\":{\"field\":\"right\"},\"top\":{\"field\":\"top\"}},\"id\":\"1150\",\"type\":\"Quad\"},{\"attributes\":{},\"id\":\"1364\",\"type\":\"WheelZoomTool\"},{\"attributes\":{\"bottom_units\":\"screen\",\"fill_alpha\":0.5,\"fill_color\":\"lightgrey\",\"left_units\":\"screen\",\"level\":\"overlay\",\"line_alpha\":1.0,\"line_color\":\"black\",\"line_dash\":[4,4],\"line_width\":2,\"render_mode\":\"css\",\"right_units\":\"screen\",\"top_units\":\"screen\"},\"id\":\"1027\",\"type\":\"BoxAnnotation\"},{\"attributes\":{\"bottom\":{\"value\":0},\"fill_alpha\":{\"value\":0.1},\"fill_color\":{\"value\":\"#1f77b4\"},\"left\":{\"field\":\"left\"},\"line_alpha\":{\"value\":0.1},\"line_color\":{\"value\":\"#1f77b4\"},\"right\":{\"field\":\"right\"},\"top\":{\"field\":\"top\"}},\"id\":\"1113\",\"type\":\"Quad\"},{\"attributes\":{},\"id\":\"1170\",\"type\":\"BasicTicker\"},{\"attributes\":{\"below\":[{\"id\":\"1203\"}],\"center\":[{\"id\":\"1206\"},{\"id\":\"1210\"}],\"left\":[{\"id\":\"1207\"}],\"plot_height\":250,\"plot_width\":250,\"renderers\":[{\"id\":\"1228\"}],\"title\":{\"id\":\"1193\"},\"toolbar\":{\"id\":\"1218\"},\"toolbar_location\":null,\"x_range\":{\"id\":\"1195\"},\"x_scale\":{\"id\":\"1199\"},\"y_range\":{\"id\":\"1197\"},\"y_scale\":{\"id\":\"1201\"}},\"id\":\"1192\",\"subtype\":\"Figure\",\"type\":\"Plot\"},{\"attributes\":{},\"id\":\"1140\",\"type\":\"HelpTool\"},{\"attributes\":{\"axis\":{\"id\":\"1165\"},\"ticker\":null},\"id\":\"1168\",\"type\":\"Grid\"},{\"attributes\":{\"overlay\":{\"id\":\"1369\"}},\"id\":\"1365\",\"type\":\"BoxZoomTool\"},{\"attributes\":{\"axis\":{\"id\":\"1279\"},\"ticker\":null},\"id\":\"1282\",\"type\":\"Grid\"},{\"attributes\":{},\"id\":\"1313\",\"type\":\"LinearScale\"},{\"attributes\":{},\"id\":\"1315\",\"type\":\"LinearScale\"},{\"attributes\":{},\"id\":\"1166\",\"type\":\"BasicTicker\"},{\"attributes\":{},\"id\":\"1366\",\"type\":\"SaveTool\"},{\"attributes\":{\"active_drag\":\"auto\",\"active_inspect\":\"auto\",\"active_multi\":null,\"active_scroll\":\"auto\",\"active_tap\":\"auto\",\"tools\":[{\"id\":\"1135\"},{\"id\":\"1136\"},{\"id\":\"1137\"},{\"id\":\"1138\"},{\"id\":\"1139\"},{\"id\":\"1140\"}]},\"id\":\"1142\",\"type\":\"Toolbar\"},{\"attributes\":{\"text\":\"Cases Arizona 1\"},\"id\":\"1193\",\"type\":\"Title\"},{\"attributes\":{\"formatter\":{\"id\":\"1448\"},\"ticker\":{\"id\":\"1284\"}},\"id\":\"1283\",\"type\":\"LinearAxis\"},{\"attributes\":{\"text\":\"Cases Texas 1\"},\"id\":\"1079\",\"type\":\"Title\"},{\"attributes\":{\"formatter\":{\"id\":\"1455\"},\"ticker\":{\"id\":\"1318\"}},\"id\":\"1317\",\"type\":\"LinearAxis\"},{\"attributes\":{},\"id\":\"1367\",\"type\":\"ResetTool\"},{\"attributes\":{},\"id\":\"1195\",\"type\":\"DataRange1d\"},{\"attributes\":{\"bottom_units\":\"screen\",\"fill_alpha\":0.5,\"fill_color\":\"lightgrey\",\"left_units\":\"screen\",\"level\":\"overlay\",\"line_alpha\":1.0,\"line_color\":\"black\",\"line_dash\":[4,4],\"line_width\":2,\"render_mode\":\"css\",\"right_units\":\"screen\",\"top_units\":\"screen\"},\"id\":\"1065\",\"type\":\"BoxAnnotation\"},{\"attributes\":{\"source\":{\"id\":\"1035\"}},\"id\":\"1039\",\"type\":\"CDSView\"},{\"attributes\":{},\"id\":\"1081\",\"type\":\"DataRange1d\"},{\"attributes\":{},\"id\":\"1163\",\"type\":\"LinearScale\"},{\"attributes\":{},\"id\":\"1284\",\"type\":\"BasicTicker\"},{\"attributes\":{},\"id\":\"1325\",\"type\":\"PanTool\"},{\"attributes\":{},\"id\":\"1368\",\"type\":\"HelpTool\"},{\"attributes\":{},\"id\":\"1197\",\"type\":\"DataRange1d\"},{\"attributes\":{\"axis\":{\"id\":\"1283\"},\"dimension\":1,\"ticker\":null},\"id\":\"1286\",\"type\":\"Grid\"},{\"attributes\":{},\"id\":\"1083\",\"type\":\"DataRange1d\"},{\"attributes\":{\"source\":{\"id\":\"1073\"}},\"id\":\"1077\",\"type\":\"CDSView\"},{\"attributes\":{},\"id\":\"1326\",\"type\":\"WheelZoomTool\"},{\"attributes\":{},\"id\":\"1199\",\"type\":\"LinearScale\"},{\"attributes\":{},\"id\":\"1410\",\"type\":\"BasicTickFormatter\"},{\"attributes\":{\"source\":{\"id\":\"1301\"}},\"id\":\"1305\",\"type\":\"CDSView\"},{\"attributes\":{\"active_drag\":\"auto\",\"active_inspect\":\"auto\",\"active_multi\":null,\"active_scroll\":\"auto\",\"active_tap\":\"auto\",\"tools\":[{\"id\":\"1363\"},{\"id\":\"1364\"},{\"id\":\"1365\"},{\"id\":\"1366\"},{\"id\":\"1367\"},{\"id\":\"1368\"}]},\"id\":\"1370\",\"type\":\"Toolbar\"},{\"attributes\":{\"data_source\":{\"id\":\"1035\"},\"glyph\":{\"id\":\"1036\"},\"hover_glyph\":null,\"muted_glyph\":null,\"nonselection_glyph\":{\"id\":\"1037\"},\"selection_glyph\":null,\"view\":{\"id\":\"1039\"}},\"id\":\"1038\",\"type\":\"GlyphRenderer\"},{\"attributes\":{\"data_source\":{\"id\":\"1073\"},\"glyph\":{\"id\":\"1074\"},\"hover_glyph\":null,\"muted_glyph\":null,\"nonselection_glyph\":{\"id\":\"1075\"},\"selection_glyph\":null,\"view\":{\"id\":\"1077\"}},\"id\":\"1076\",\"type\":\"GlyphRenderer\"},{\"attributes\":{\"overlay\":{\"id\":\"1331\"}},\"id\":\"1327\",\"type\":\"BoxZoomTool\"},{\"attributes\":{},\"id\":\"1085\",\"type\":\"LinearScale\"},{\"attributes\":{},\"id\":\"1201\",\"type\":\"LinearScale\"},{\"attributes\":{},\"id\":\"1087\",\"type\":\"LinearScale\"},{\"attributes\":{\"data\":{\"left\":{\"__ndarray__\":\"SZIkSZIkAcCt0Rqt0Rr7v8h+7Md+7PO/yFd8xVd86b/8Yz/2Yz/Wv2Ce53me57k/lJmZmZmZ4T9gP/ZjP/bvP5RyKZdyKfc/esVXfMVX/j8=\",\"dtype\":\"float64\",\"shape\":[10]},\"right\":{\"__ndarray__\":\"rdEardEa+7/IfuzHfuzzv8hXfMVXfOm//GM/9mM/1r9gnud5nue5P5SZmZmZmeE/YD/2Yz/27z+UcimXcin3P3rFV3zFV/4/MAzDMAzDAkA=\",\"dtype\":\"float64\",\"shape\":[10]},\"top\":{\"__ndarray__\":\"Wyxvkwxhmz8S7WiZ8Ia4P3rVvUOiitA/BVAeZHqG2T94+/aLr/HeP/iuJ1ukzd0/2E5ZqKpl0T/MrWKf1KzFP0n6MdDf0KY/WCxvkwxhiz8=\",\"dtype\":\"float64\",\"shape\":[10]}},\"selected\":{\"id\":\"1452\"},\"selection_policy\":{\"id\":\"1451\"}},\"id\":\"1301\",\"type\":\"ColumnDataSource\"},{\"attributes\":{},\"id\":\"1328\",\"type\":\"SaveTool\"},{\"attributes\":{\"formatter\":{\"id\":\"1428\"},\"ticker\":{\"id\":\"1204\"}},\"id\":\"1203\",\"type\":\"LinearAxis\"},{\"attributes\":{\"formatter\":{\"id\":\"1457\"},\"ticker\":{\"id\":\"1322\"}},\"id\":\"1321\",\"type\":\"LinearAxis\"},{\"attributes\":{},\"id\":\"1406\",\"type\":\"UnionRenderers\"},{\"attributes\":{},\"id\":\"1287\",\"type\":\"PanTool\"},{\"attributes\":{\"formatter\":{\"id\":\"1401\"},\"ticker\":{\"id\":\"1090\"}},\"id\":\"1089\",\"type\":\"LinearAxis\"},{\"attributes\":{\"bottom_units\":\"screen\",\"fill_alpha\":0.5,\"fill_color\":\"lightgrey\",\"left_units\":\"screen\",\"level\":\"overlay\",\"line_alpha\":1.0,\"line_color\":\"black\",\"line_dash\":[4,4],\"line_width\":2,\"render_mode\":\"css\",\"right_units\":\"screen\",\"top_units\":\"screen\"},\"id\":\"1141\",\"type\":\"BoxAnnotation\"},{\"attributes\":{},\"id\":\"1329\",\"type\":\"ResetTool\"},{\"attributes\":{},\"id\":\"1403\",\"type\":\"BasicTickFormatter\"},{\"attributes\":{},\"id\":\"1204\",\"type\":\"BasicTicker\"},{\"attributes\":{},\"id\":\"1288\",\"type\":\"WheelZoomTool\"},{\"attributes\":{},\"id\":\"1090\",\"type\":\"BasicTicker\"},{\"attributes\":{},\"id\":\"1330\",\"type\":\"HelpTool\"},{\"attributes\":{},\"id\":\"1047\",\"type\":\"LinearScale\"},{\"attributes\":{\"axis\":{\"id\":\"1203\"},\"ticker\":null},\"id\":\"1206\",\"type\":\"Grid\"},{\"attributes\":{\"bottom_units\":\"screen\",\"fill_alpha\":0.5,\"fill_color\":\"lightgrey\",\"left_units\":\"screen\",\"level\":\"overlay\",\"line_alpha\":1.0,\"line_color\":\"black\",\"line_dash\":[4,4],\"line_width\":2,\"render_mode\":\"css\",\"right_units\":\"screen\",\"top_units\":\"screen\"},\"id\":\"1369\",\"type\":\"BoxAnnotation\"},{\"attributes\":{\"overlay\":{\"id\":\"1293\"}},\"id\":\"1289\",\"type\":\"BoxZoomTool\"},{\"attributes\":{\"axis\":{\"id\":\"1089\"},\"ticker\":null},\"id\":\"1092\",\"type\":\"Grid\"},{\"attributes\":{\"source\":{\"id\":\"1149\"}},\"id\":\"1153\",\"type\":\"CDSView\"},{\"attributes\":{\"data_source\":{\"id\":\"1149\"},\"glyph\":{\"id\":\"1150\"},\"hover_glyph\":null,\"muted_glyph\":null,\"nonselection_glyph\":{\"id\":\"1151\"},\"selection_glyph\":null,\"view\":{\"id\":\"1153\"}},\"id\":\"1152\",\"type\":\"GlyphRenderer\"},{\"attributes\":{\"formatter\":{\"id\":\"1430\"},\"ticker\":{\"id\":\"1208\"}},\"id\":\"1207\",\"type\":\"LinearAxis\"},{\"attributes\":{\"bottom\":{\"value\":0},\"fill_alpha\":{\"value\":0.4},\"fill_color\":{\"value\":\"#1f77b4\"},\"left\":{\"field\":\"left\"},\"line_alpha\":{\"value\":0.4},\"line_color\":{\"value\":\"#1f77b4\"},\"right\":{\"field\":\"right\"},\"top\":{\"field\":\"top\"}},\"id\":\"1378\",\"type\":\"Quad\"},{\"attributes\":{},\"id\":\"1290\",\"type\":\"SaveTool\"},{\"attributes\":{\"active_drag\":\"auto\",\"active_inspect\":\"auto\",\"active_multi\":null,\"active_scroll\":\"auto\",\"active_tap\":\"auto\",\"tools\":[{\"id\":\"1325\"},{\"id\":\"1326\"},{\"id\":\"1327\"},{\"id\":\"1328\"},{\"id\":\"1329\"},{\"id\":\"1330\"}]},\"id\":\"1332\",\"type\":\"Toolbar\"},{\"attributes\":{},\"id\":\"1009\",\"type\":\"LinearScale\"},{\"attributes\":{\"formatter\":{\"id\":\"1403\"},\"ticker\":{\"id\":\"1094\"}},\"id\":\"1093\",\"type\":\"LinearAxis\"},{\"attributes\":{\"data_source\":{\"id\":\"1377\"},\"glyph\":{\"id\":\"1378\"},\"hover_glyph\":null,\"muted_glyph\":null,\"nonselection_glyph\":{\"id\":\"1379\"},\"selection_glyph\":null,\"view\":{\"id\":\"1381\"}},\"id\":\"1380\",\"type\":\"GlyphRenderer\"},{\"attributes\":{},\"id\":\"1208\",\"type\":\"BasicTicker\"},{\"attributes\":{},\"id\":\"1291\",\"type\":\"ResetTool\"},{\"attributes\":{},\"id\":\"1392\",\"type\":\"BasicTickFormatter\"},{\"attributes\":{},\"id\":\"1094\",\"type\":\"BasicTicker\"},{\"attributes\":{\"axis\":{\"id\":\"1207\"},\"dimension\":1,\"ticker\":null},\"id\":\"1210\",\"type\":\"Grid\"},{\"attributes\":{},\"id\":\"1292\",\"type\":\"HelpTool\"},{\"attributes\":{\"text\":\"Deaths Texas 1\"},\"id\":\"1003\",\"type\":\"Title\"},{\"attributes\":{\"axis\":{\"id\":\"1093\"},\"dimension\":1,\"ticker\":null},\"id\":\"1096\",\"type\":\"Grid\"},{\"attributes\":{\"below\":[{\"id\":\"1051\"}],\"center\":[{\"id\":\"1054\"},{\"id\":\"1058\"}],\"left\":[{\"id\":\"1055\"}],\"plot_height\":250,\"plot_width\":250,\"renderers\":[{\"id\":\"1076\"}],\"title\":{\"id\":\"1041\"},\"toolbar\":{\"id\":\"1066\"},\"toolbar_location\":null,\"x_range\":{\"id\":\"1043\"},\"x_scale\":{\"id\":\"1047\"},\"y_range\":{\"id\":\"1045\"},\"y_scale\":{\"id\":\"1049\"}},\"id\":\"1040\",\"subtype\":\"Figure\",\"type\":\"Plot\"},{\"attributes\":{},\"id\":\"1005\",\"type\":\"DataRange1d\"},{\"attributes\":{},\"id\":\"1412\",\"type\":\"BasicTickFormatter\"},{\"attributes\":{},\"id\":\"1389\",\"type\":\"Selection\"},{\"attributes\":{},\"id\":\"1125\",\"type\":\"LinearScale\"},{\"attributes\":{\"bottom\":{\"value\":0},\"fill_alpha\":{\"value\":0.4},\"fill_color\":{\"value\":\"#1f77b4\"},\"left\":{\"field\":\"left\"},\"line_alpha\":{\"value\":0.4},\"line_color\":{\"value\":\"#1f77b4\"},\"right\":{\"field\":\"right\"},\"top\":{\"field\":\"top\"}},\"id\":\"1226\",\"type\":\"Quad\"},{\"attributes\":{},\"id\":\"1322\",\"type\":\"BasicTicker\"},{\"attributes\":{\"active_drag\":\"auto\",\"active_inspect\":\"auto\",\"active_multi\":null,\"active_scroll\":\"auto\",\"active_tap\":\"auto\",\"tools\":[{\"id\":\"1287\"},{\"id\":\"1288\"},{\"id\":\"1289\"},{\"id\":\"1290\"},{\"id\":\"1291\"},{\"id\":\"1292\"}]},\"id\":\"1294\",\"type\":\"Toolbar\"},{\"attributes\":{\"bottom_units\":\"screen\",\"fill_alpha\":0.5,\"fill_color\":\"lightgrey\",\"left_units\":\"screen\",\"level\":\"overlay\",\"line_alpha\":1.0,\"line_color\":\"black\",\"line_dash\":[4,4],\"line_width\":2,\"render_mode\":\"css\",\"right_units\":\"screen\",\"top_units\":\"screen\"},\"id\":\"1331\",\"type\":\"BoxAnnotation\"},{\"attributes\":{\"bottom\":{\"value\":0},\"fill_alpha\":{\"value\":0.4},\"fill_color\":{\"value\":\"#1f77b4\"},\"left\":{\"field\":\"left\"},\"line_alpha\":{\"value\":0.4},\"line_color\":{\"value\":\"#1f77b4\"},\"right\":{\"field\":\"right\"},\"top\":{\"field\":\"top\"}},\"id\":\"1112\",\"type\":\"Quad\"},{\"attributes\":{},\"id\":\"1415\",\"type\":\"UnionRenderers\"},{\"attributes\":{\"formatter\":{\"id\":\"1383\"},\"ticker\":{\"id\":\"1014\"}},\"id\":\"1013\",\"type\":\"LinearAxis\"},{\"attributes\":{\"data\":{\"left\":{\"__ndarray__\":\"JEmSJEmSZsBVkDi89kZhwA2vvadI91fA4HoUrkfBSsCQXrYy+E8mwDCXcimXMj9AaBcQm0pjUkAIicNr7/lcQFJ9Ox5KyGNAIDaVhpwTaUA=\",\"dtype\":\"float64\",\"shape\":[10]},\"right\":{\"__ndarray__\":\"VZA4vPZGYcANr72nSPdXwOB6FK5HwUrAkF62MvhPJsAwl3IplzI/QGgXEJtKY1JACInDa+/5XEBSfTseSshjQCA2lYacE2lA8O7u7u5ebkA=\",\"dtype\":\"float64\",\"shape\":[10]},\"top\":{\"__ndarray__\":\"RN9Z7+3BGD80TMo9HBRLP4b6EiVEP2A/qYICZTM9bD/PKDAZPA1zPxgmyHxDoXY/UKNRj+XAbj80G2JP9sJiP0Ou1F79h0k/e8mNlFMFMT8=\",\"dtype\":\"float64\",\"shape\":[10]}},\"selected\":{\"id\":\"1434\"},\"selection_policy\":{\"id\":\"1433\"}},\"id\":\"1225\",\"type\":\"ColumnDataSource\"},{\"attributes\":{},\"id\":\"1469\",\"type\":\"UnionRenderers\"},{\"attributes\":{\"bottom\":{\"value\":0},\"fill_alpha\":{\"value\":0.1},\"fill_color\":{\"value\":\"#1f77b4\"},\"left\":{\"field\":\"left\"},\"line_alpha\":{\"value\":0.1},\"line_color\":{\"value\":\"#1f77b4\"},\"right\":{\"field\":\"right\"},\"top\":{\"field\":\"top\"}},\"id\":\"1075\",\"type\":\"Quad\"},{\"attributes\":{\"data\":{\"left\":{\"__ndarray__\":\"AKqDOqiD+j/ekHOfXcBMQDaCif5OVlxA/p2sljcmZUDiehSuRyFsQOMrvuIrjnFAVBpy7rMLdUDGCCb6O4l4QDj32QXEBnxAquWNEUyEf0A=\",\"dtype\":\"float64\",\"shape\":[10]},\"right\":{\"__ndarray__\":\"3pBzn13ATEA2gon+TlZcQP6drJY3JmVA4noUrkchbEDjK77iK45xQFQacu6zC3VAxggm+juJeEA499kFxAZ8QKrljRFMhH9ADuqgDuqAgUA=\",\"dtype\":\"float64\",\"shape\":[10]},\"top\":{\"__ndarray__\":\"XSDgQ+RtID9ZB2fu/ks2P/SbG6pqeFc/cyjYVF2JZD/MjojuxctwPxrYQ6qM3nA/POb1h6AOaD9vD1//d2daP75ysjKTH0U/8Zsbqmp4Fz8=\",\"dtype\":\"float64\",\"shape\":[10]}},\"selected\":{\"id\":\"1407\"},\"selection_policy\":{\"id\":\"1406\"}},\"id\":\"1111\",\"type\":\"ColumnDataSource\"},{\"attributes\":{\"bottom\":{\"value\":0},\"fill_alpha\":{\"value\":0.1},\"fill_color\":{\"value\":\"#1f77b4\"},\"left\":{\"field\":\"left\"},\"line_alpha\":{\"value\":0.1},\"line_color\":{\"value\":\"#1f77b4\"},\"right\":{\"field\":\"right\"},\"top\":{\"field\":\"top\"}},\"id\":\"1341\",\"type\":\"Quad\"},{\"attributes\":{},\"id\":\"1416\",\"type\":\"Selection\"},{\"attributes\":{},\"id\":\"1211\",\"type\":\"PanTool\"},{\"attributes\":{\"text\":\"Deaths Texas 2\"},\"id\":\"1041\",\"type\":\"Title\"},{\"attributes\":{\"axis\":{\"id\":\"1317\"},\"ticker\":null},\"id\":\"1320\",\"type\":\"Grid\"},{\"attributes\":{\"below\":[{\"id\":\"1127\"}],\"center\":[{\"id\":\"1130\"},{\"id\":\"1134\"}],\"left\":[{\"id\":\"1131\"}],\"plot_height\":250,\"plot_width\":250,\"renderers\":[{\"id\":\"1152\"}],\"title\":{\"id\":\"1117\"},\"toolbar\":{\"id\":\"1142\"},\"toolbar_location\":null,\"x_range\":{\"id\":\"1119\"},\"x_scale\":{\"id\":\"1123\"},\"y_range\":{\"id\":\"1121\"},\"y_scale\":{\"id\":\"1125\"}},\"id\":\"1116\",\"subtype\":\"Figure\",\"type\":\"Plot\"},{\"attributes\":{},\"id\":\"1097\",\"type\":\"PanTool\"},{\"attributes\":{},\"id\":\"1419\",\"type\":\"BasicTickFormatter\"},{\"attributes\":{},\"id\":\"1025\",\"type\":\"ResetTool\"},{\"attributes\":{},\"id\":\"1212\",\"type\":\"WheelZoomTool\"},{\"attributes\":{},\"id\":\"1318\",\"type\":\"BasicTicker\"},{\"attributes\":{},\"id\":\"1024\",\"type\":\"SaveTool\"},{\"attributes\":{},\"id\":\"1098\",\"type\":\"WheelZoomTool\"},{\"attributes\":{},\"id\":\"1043\",\"type\":\"DataRange1d\"},{\"attributes\":{\"data_source\":{\"id\":\"1339\"},\"glyph\":{\"id\":\"1340\"},\"hover_glyph\":null,\"muted_glyph\":null,\"nonselection_glyph\":{\"id\":\"1341\"},\"selection_glyph\":null,\"view\":{\"id\":\"1343\"}},\"id\":\"1342\",\"type\":\"GlyphRenderer\"},{\"attributes\":{\"overlay\":{\"id\":\"1217\"}},\"id\":\"1213\",\"type\":\"BoxZoomTool\"},{\"attributes\":{},\"id\":\"1045\",\"type\":\"DataRange1d\"},{\"attributes\":{\"bottom_units\":\"screen\",\"fill_alpha\":0.5,\"fill_color\":\"lightgrey\",\"left_units\":\"screen\",\"level\":\"overlay\",\"line_alpha\":1.0,\"line_color\":\"black\",\"line_dash\":[4,4],\"line_width\":2,\"render_mode\":\"css\",\"right_units\":\"screen\",\"top_units\":\"screen\"},\"id\":\"1293\",\"type\":\"BoxAnnotation\"},{\"attributes\":{\"overlay\":{\"id\":\"1103\"}},\"id\":\"1099\",\"type\":\"BoxZoomTool\"},{\"attributes\":{},\"id\":\"1014\",\"type\":\"BasicTicker\"},{\"attributes\":{\"bottom\":{\"value\":0},\"fill_alpha\":{\"value\":0.1},\"fill_color\":{\"value\":\"#1f77b4\"},\"left\":{\"field\":\"left\"},\"line_alpha\":{\"value\":0.1},\"line_color\":{\"value\":\"#1f77b4\"},\"right\":{\"field\":\"right\"},\"top\":{\"field\":\"top\"}},\"id\":\"1151\",\"type\":\"Quad\"},{\"attributes\":{},\"id\":\"1397\",\"type\":\"UnionRenderers\"},{\"attributes\":{\"below\":[{\"id\":\"1355\"}],\"center\":[{\"id\":\"1358\"},{\"id\":\"1362\"}],\"left\":[{\"id\":\"1359\"}],\"plot_height\":250,\"plot_width\":250,\"renderers\":[{\"id\":\"1380\"}],\"title\":{\"id\":\"1345\"},\"toolbar\":{\"id\":\"1370\"},\"toolbar_location\":null,\"x_range\":{\"id\":\"1347\"},\"x_scale\":{\"id\":\"1351\"},\"y_range\":{\"id\":\"1349\"},\"y_scale\":{\"id\":\"1353\"}},\"id\":\"1344\",\"subtype\":\"Figure\",\"type\":\"Plot\"},{\"attributes\":{},\"id\":\"1214\",\"type\":\"SaveTool\"},{\"attributes\":{},\"id\":\"1049\",\"type\":\"LinearScale\"},{\"attributes\":{},\"id\":\"1100\",\"type\":\"SaveTool\"},{\"attributes\":{\"text\":\"Cases Texas 2\"},\"id\":\"1117\",\"type\":\"Title\"},{\"attributes\":{\"bottom\":{\"value\":0},\"fill_alpha\":{\"value\":0.4},\"fill_color\":{\"value\":\"#1f77b4\"},\"left\":{\"field\":\"left\"},\"line_alpha\":{\"value\":0.4},\"line_color\":{\"value\":\"#1f77b4\"},\"right\":{\"field\":\"right\"},\"top\":{\"field\":\"top\"}},\"id\":\"1302\",\"type\":\"Quad\"},{\"attributes\":{},\"id\":\"1425\",\"type\":\"Selection\"},{\"attributes\":{},\"id\":\"1215\",\"type\":\"ResetTool\"},{\"attributes\":{\"axis\":{\"id\":\"1013\"},\"ticker\":null},\"id\":\"1016\",\"type\":\"Grid\"},{\"attributes\":{},\"id\":\"1121\",\"type\":\"DataRange1d\"},{\"attributes\":{},\"id\":\"1101\",\"type\":\"ResetTool\"},{\"attributes\":{},\"id\":\"1119\",\"type\":\"DataRange1d\"},{\"attributes\":{\"data_source\":{\"id\":\"1301\"},\"glyph\":{\"id\":\"1302\"},\"hover_glyph\":null,\"muted_glyph\":null,\"nonselection_glyph\":{\"id\":\"1303\"},\"selection_glyph\":null,\"view\":{\"id\":\"1305\"}},\"id\":\"1304\",\"type\":\"GlyphRenderer\"},{\"attributes\":{},\"id\":\"1018\",\"type\":\"BasicTicker\"},{\"attributes\":{},\"id\":\"1021\",\"type\":\"PanTool\"},{\"attributes\":{},\"id\":\"1216\",\"type\":\"HelpTool\"},{\"attributes\":{},\"id\":\"1421\",\"type\":\"BasicTickFormatter\"},{\"attributes\":{},\"id\":\"1102\",\"type\":\"HelpTool\"},{\"attributes\":{},\"id\":\"1428\",\"type\":\"BasicTickFormatter\"},{\"attributes\":{},\"id\":\"1430\",\"type\":\"BasicTickFormatter\"},{\"attributes\":{\"data\":{\"left\":{\"__ndarray__\":\"WBiGYRgGIcAo1EEd1MEvQCpwAidwIkRApTVaozUqUEA1MzMzM0NWQMUwDMMwXFxAKpdyKZc6YUDyFV/xFUdkQLqUS7mUU2dAghM4gRNgakA=\",\"dtype\":\"float64\",\"shape\":[10]},\"right\":{\"__ndarray__\":\"KNRBHdTBL0AqcAIncCJEQKU1WqM1KlBANTMzMzNDVkDFMAzDMFxcQCqXcimXOmFA8hVf8RVHZEC6lEu5lFNnQIITOIETYGpASpIkSZJsbUA=\",\"dtype\":\"float64\",\"shape\":[10]},\"top\":{\"__ndarray__\":\"L3F15CcfID/GKbDWuy5IP6B7IdrWKmY/UNXTFbWveD9hWd7fA8+CP/s+3B30+4M/H8CnznzifD/RkE0hD/hxPy9xdeQnH1A/k0FH299+BT8=\",\"dtype\":\"float64\",\"shape\":[10]}},\"selected\":{\"id\":\"1470\"},\"selection_policy\":{\"id\":\"1469\"}},\"id\":\"1377\",\"type\":\"ColumnDataSource\"},{\"attributes\":{},\"id\":\"1123\",\"type\":\"LinearScale\"},{\"attributes\":{\"text\":\"Cases Arkansas 2\"},\"id\":\"1345\",\"type\":\"Title\"},{\"attributes\":{\"data\":{\"left\":{\"__ndarray__\":\"LL7iK77iI8B0ZHrZyuAewI9ML1sZ/BXAVGnIuc8uCsAYc2R62crwv3jsx37sx/I/CCb6O1ktC0DoKkgcXnsWQMxCk5oPYB9AWC1vjGAiJEA=\",\"dtype\":\"float64\",\"shape\":[10]},\"right\":{\"__ndarray__\":\"dGR62crgHsCPTC9bGfwVwFRpyLnPLgrAGHNketnK8L947Md+7MfyPwgm+jtZLQtA6CpIHF57FkDMQpOaD2AfQFgtb4xgIiRASrmUS7mUKEA=\",\"dtype\":\"float64\",\"shape\":[10]},\"top\":{\"__ndarray__\":\"KSUEZvl5TT+z+lJBqy+FPw14/OGAx58/vjWcS+HvrT81e610cMG4Px8IOpSjq7w/OpfC3ztssj86mHdGxo+pPyklBGb5eY0/51RiSZyUcD8=\",\"dtype\":\"float64\",\"shape\":[10]}},\"selected\":{\"id\":\"1389\"},\"selection_policy\":{\"id\":\"1388\"}},\"id\":\"1035\",\"type\":\"ColumnDataSource\"},{\"attributes\":{},\"id\":\"1135\",\"type\":\"PanTool\"},{\"attributes\":{\"active_drag\":\"auto\",\"active_inspect\":\"auto\",\"active_multi\":null,\"active_scroll\":\"auto\",\"active_tap\":\"auto\",\"tools\":[{\"id\":\"1211\"},{\"id\":\"1212\"},{\"id\":\"1213\"},{\"id\":\"1214\"},{\"id\":\"1215\"},{\"id\":\"1216\"}]},\"id\":\"1218\",\"type\":\"Toolbar\"},{\"attributes\":{\"axis\":{\"id\":\"1017\"},\"dimension\":1,\"ticker\":null},\"id\":\"1020\",\"type\":\"Grid\"},{\"attributes\":{},\"id\":\"1385\",\"type\":\"BasicTickFormatter\"},{\"attributes\":{\"axis\":{\"id\":\"1055\"},\"dimension\":1,\"ticker\":null},\"id\":\"1058\",\"type\":\"Grid\"},{\"attributes\":{\"formatter\":{\"id\":\"1410\"},\"ticker\":{\"id\":\"1128\"}},\"id\":\"1127\",\"type\":\"LinearAxis\"},{\"attributes\":{},\"id\":\"1347\",\"type\":\"DataRange1d\"},{\"attributes\":{\"active_drag\":\"auto\",\"active_inspect\":\"auto\",\"active_multi\":null,\"active_scroll\":\"auto\",\"active_tap\":\"auto\",\"tools\":[{\"id\":\"1097\"},{\"id\":\"1098\"},{\"id\":\"1099\"},{\"id\":\"1100\"},{\"id\":\"1101\"},{\"id\":\"1102\"}]},\"id\":\"1104\",\"type\":\"Toolbar\"},{\"attributes\":{\"formatter\":{\"id\":\"1412\"},\"ticker\":{\"id\":\"1132\"}},\"id\":\"1131\",\"type\":\"LinearAxis\"},{\"attributes\":{\"bottom\":{\"value\":0},\"fill_alpha\":{\"value\":0.4},\"fill_color\":{\"value\":\"#1f77b4\"},\"left\":{\"field\":\"left\"},\"line_alpha\":{\"value\":0.4},\"line_color\":{\"value\":\"#1f77b4\"},\"right\":{\"field\":\"right\"},\"top\":{\"field\":\"top\"}},\"id\":\"1074\",\"type\":\"Quad\"},{\"attributes\":{},\"id\":\"1246\",\"type\":\"BasicTicker\"},{\"attributes\":{},\"id\":\"1349\",\"type\":\"DataRange1d\"},{\"attributes\":{\"data\":{\"left\":{\"__ndarray__\":\"xnEcx3EcMcAI16NwPQotwIXKDlOX2yfAAr55NfGsIsD8YskvlvwawPRJn/RJnxDAuMPU5fYH+b9goNMGOm3wP0ACvnk18QxAKBoJ+ObVGEA=\",\"dtype\":\"float64\",\"shape\":[10]},\"right\":{\"__ndarray__\":\"CNejcD0KLcCFyg5Tl9snwAK+eTXxrCLA/GLJL5b8GsD0SZ/0SZ8QwLjD1OX2B/m/YKDTBjpt8D9AAr55NfEMQCgaCfjm1RhAmJmZmZmZIUA=\",\"dtype\":\"float64\",\"shape\":[10]},\"top\":{\"__ndarray__\":\"4R+ne4BjcT+Ca2ip3YyEPysLy6jqMKE/97X4UOIFrz/XWUuimNK2P2aiTQSlg7c/X2o3I4Xcqz/6zDYwKZmgP4eoy5tGdHw/TRFJQIwhZj8=\",\"dtype\":\"float64\",\"shape\":[10]}},\"selected\":{\"id\":\"1398\"},\"selection_policy\":{\"id\":\"1397\"}},\"id\":\"1073\",\"type\":\"ColumnDataSource\"},{\"attributes\":{},\"id\":\"1434\",\"type\":\"Selection\"},{\"attributes\":{\"formatter\":{\"id\":\"1439\"},\"ticker\":{\"id\":\"1246\"}},\"id\":\"1245\",\"type\":\"LinearAxis\"},{\"attributes\":{\"bottom\":{\"value\":0},\"fill_alpha\":{\"value\":0.4},\"fill_color\":{\"value\":\"#1f77b4\"},\"left\":{\"field\":\"left\"},\"line_alpha\":{\"value\":0.4},\"line_color\":{\"value\":\"#1f77b4\"},\"right\":{\"field\":\"right\"},\"top\":{\"field\":\"top\"}},\"id\":\"1036\",\"type\":\"Quad\"},{\"attributes\":{},\"id\":\"1437\",\"type\":\"BasicTickFormatter\"},{\"attributes\":{},\"id\":\"1351\",\"type\":\"LinearScale\"},{\"attributes\":{},\"id\":\"1026\",\"type\":\"HelpTool\"},{\"attributes\":{\"axis\":{\"id\":\"1127\"},\"ticker\":null},\"id\":\"1130\",\"type\":\"Grid\"},{\"attributes\":{\"axis\":{\"id\":\"1245\"},\"dimension\":1,\"ticker\":null},\"id\":\"1248\",\"type\":\"Grid\"},{\"attributes\":{},\"id\":\"1439\",\"type\":\"BasicTickFormatter\"},{\"attributes\":{},\"id\":\"1059\",\"type\":\"PanTool\"},{\"attributes\":{},\"id\":\"1353\",\"type\":\"LinearScale\"},{\"attributes\":{\"bottom_units\":\"screen\",\"fill_alpha\":0.5,\"fill_color\":\"lightgrey\",\"left_units\":\"screen\",\"level\":\"overlay\",\"line_alpha\":1.0,\"line_color\":\"black\",\"line_dash\":[4,4],\"line_width\":2,\"render_mode\":\"css\",\"right_units\":\"screen\",\"top_units\":\"screen\"},\"id\":\"1217\",\"type\":\"BoxAnnotation\"},{\"attributes\":{\"formatter\":{\"id\":\"1385\"},\"ticker\":{\"id\":\"1018\"}},\"id\":\"1017\",\"type\":\"LinearAxis\"},{\"attributes\":{},\"id\":\"1128\",\"type\":\"BasicTicker\"},{\"attributes\":{},\"id\":\"1388\",\"type\":\"UnionRenderers\"},{\"attributes\":{},\"id\":\"1424\",\"type\":\"UnionRenderers\"},{\"attributes\":{},\"id\":\"1060\",\"type\":\"WheelZoomTool\"}],\"root_ids\":[\"1475\"]},\"title\":\"Bokeh Application\",\"version\":\"2.0.2\"}};\n",
       "  var render_items = [{\"docid\":\"3f1d972f-5c7b-408e-b371-27c060ba7ef0\",\"root_ids\":[\"1475\"],\"roots\":{\"1475\":\"860d25b5-0551-4390-9f3c-ec2189f576d5\"}}];\n",
       "  root.Bokeh.embed.embed_items_notebook(docs_json, render_items);\n",
       "\n",
       "  }\n",
       "  if (root.Bokeh !== undefined) {\n",
       "    embed_document(root);\n",
       "  } else {\n",
       "    var attempts = 0;\n",
       "    var timer = setInterval(function(root) {\n",
       "      if (root.Bokeh !== undefined) {\n",
       "        clearInterval(timer);\n",
       "        embed_document(root);\n",
       "      } else {\n",
       "        attempts++;\n",
       "        if (attempts > 100) {\n",
       "          clearInterval(timer);\n",
       "          console.log(\"Bokeh: ERROR: Unable to run BokehJS code because BokehJS library is missing\");\n",
       "        }\n",
       "      }\n",
       "    }, 10, root)\n",
       "  }\n",
       "})(window);"
      ],
      "application/vnd.bokehjs_exec.v0+json": ""
     },
     "metadata": {
      "application/vnd.bokehjs_exec.v0+json": {
       "id": "1475"
      }
     },
     "output_type": "display_data"
    }
   ],
   "source": [
    "grid = gridplot(graphs, ncols = 4)\n",
    "show(grid)\n"
   ]
  },
  {
   "cell_type": "code",
   "execution_count": 45,
   "metadata": {},
   "outputs": [],
   "source": [
    "df_second_arizona = DF[(DF['date'] >=datetime.datetime(2020, 5, 26)) \n",
    "            & (DF['state'] == 'Arizona')]\n",
    "\n",
    "df_first_arizona = DF[(DF['date'] < datetime.datetime(2020, 5, 26)) & (DF['date'] > datetime.datetime(2020,5,12))\n",
    "            & (DF['state'] == 'Arizona')]"
   ]
  },
  {
   "cell_type": "code",
   "execution_count": 10,
   "metadata": {},
   "outputs": [
    {
     "data": {
      "text/html": [
       "<div>\n",
       "<style scoped>\n",
       "    .dataframe tbody tr th:only-of-type {\n",
       "        vertical-align: middle;\n",
       "    }\n",
       "\n",
       "    .dataframe tbody tr th {\n",
       "        vertical-align: top;\n",
       "    }\n",
       "\n",
       "    .dataframe thead th {\n",
       "        text-align: right;\n",
       "    }\n",
       "</style>\n",
       "<table border=\"1\" class=\"dataframe\">\n",
       "  <thead>\n",
       "    <tr style=\"text-align: right;\">\n",
       "      <th></th>\n",
       "      <th>date</th>\n",
       "      <th>state</th>\n",
       "      <th>cases</th>\n",
       "      <th>deaths</th>\n",
       "    </tr>\n",
       "  </thead>\n",
       "  <tbody>\n",
       "    <tr>\n",
       "      <th>4977</th>\n",
       "      <td>2020-06-02</td>\n",
       "      <td>Arizona</td>\n",
       "      <td>1127</td>\n",
       "      <td>25</td>\n",
       "    </tr>\n",
       "    <tr>\n",
       "      <th>5032</th>\n",
       "      <td>2020-06-03</td>\n",
       "      <td>Arizona</td>\n",
       "      <td>995</td>\n",
       "      <td>40</td>\n",
       "    </tr>\n",
       "    <tr>\n",
       "      <th>5087</th>\n",
       "      <td>2020-06-04</td>\n",
       "      <td>Arizona</td>\n",
       "      <td>573</td>\n",
       "      <td>17</td>\n",
       "    </tr>\n",
       "    <tr>\n",
       "      <th>5142</th>\n",
       "      <td>2020-06-05</td>\n",
       "      <td>Arizona</td>\n",
       "      <td>1551</td>\n",
       "      <td>16</td>\n",
       "    </tr>\n",
       "    <tr>\n",
       "      <th>5197</th>\n",
       "      <td>2020-06-06</td>\n",
       "      <td>Arizona</td>\n",
       "      <td>1148</td>\n",
       "      <td>30</td>\n",
       "    </tr>\n",
       "  </tbody>\n",
       "</table>\n",
       "</div>"
      ],
      "text/plain": [
       "           date    state  cases  deaths\n",
       "4977 2020-06-02  Arizona   1127      25\n",
       "5032 2020-06-03  Arizona    995      40\n",
       "5087 2020-06-04  Arizona    573      17\n",
       "5142 2020-06-05  Arizona   1551      16\n",
       "5197 2020-06-06  Arizona   1148      30"
      ]
     },
     "execution_count": 10,
     "metadata": {},
     "output_type": "execute_result"
    }
   ],
   "source": [
    "df_first_arizona.head()"
   ]
  },
  {
   "cell_type": "code",
   "execution_count": 46,
   "metadata": {},
   "outputs": [],
   "source": [
    "a,b = resample_two_samples(df_first_arizona['cases'].tolist(), df_second_arizona['cases'].tolist())\n",
    "l = combine_resamples(df_first_arizona['cases'].tolist(),\n",
    "             df_second_arizona['cases'].tolist(),\n",
    "                   b,a\n",
    "                  )\n"
   ]
  },
  {
   "cell_type": "code",
   "execution_count": 21,
   "metadata": {},
   "outputs": [
    {
     "data": {
      "text/html": [
       "\n",
       "    <div class=\"bk-root\">\n",
       "        <a href=\"https://bokeh.org\" target=\"_blank\" class=\"bk-logo bk-logo-small bk-logo-notebook\"></a>\n",
       "        <span id=\"1172\">Loading BokehJS ...</span>\n",
       "    </div>"
      ]
     },
     "metadata": {},
     "output_type": "display_data"
    },
    {
     "data": {
      "application/javascript": [
       "\n",
       "(function(root) {\n",
       "  function now() {\n",
       "    return new Date();\n",
       "  }\n",
       "\n",
       "  var force = true;\n",
       "\n",
       "  if (typeof root._bokeh_onload_callbacks === \"undefined\" || force === true) {\n",
       "    root._bokeh_onload_callbacks = [];\n",
       "    root._bokeh_is_loading = undefined;\n",
       "  }\n",
       "\n",
       "  var JS_MIME_TYPE = 'application/javascript';\n",
       "  var HTML_MIME_TYPE = 'text/html';\n",
       "  var EXEC_MIME_TYPE = 'application/vnd.bokehjs_exec.v0+json';\n",
       "  var CLASS_NAME = 'output_bokeh rendered_html';\n",
       "\n",
       "  /**\n",
       "   * Render data to the DOM node\n",
       "   */\n",
       "  function render(props, node) {\n",
       "    var script = document.createElement(\"script\");\n",
       "    node.appendChild(script);\n",
       "  }\n",
       "\n",
       "  /**\n",
       "   * Handle when an output is cleared or removed\n",
       "   */\n",
       "  function handleClearOutput(event, handle) {\n",
       "    var cell = handle.cell;\n",
       "\n",
       "    var id = cell.output_area._bokeh_element_id;\n",
       "    var server_id = cell.output_area._bokeh_server_id;\n",
       "    // Clean up Bokeh references\n",
       "    if (id != null && id in Bokeh.index) {\n",
       "      Bokeh.index[id].model.document.clear();\n",
       "      delete Bokeh.index[id];\n",
       "    }\n",
       "\n",
       "    if (server_id !== undefined) {\n",
       "      // Clean up Bokeh references\n",
       "      var cmd = \"from bokeh.io.state import curstate; print(curstate().uuid_to_server['\" + server_id + \"'].get_sessions()[0].document.roots[0]._id)\";\n",
       "      cell.notebook.kernel.execute(cmd, {\n",
       "        iopub: {\n",
       "          output: function(msg) {\n",
       "            var id = msg.content.text.trim();\n",
       "            if (id in Bokeh.index) {\n",
       "              Bokeh.index[id].model.document.clear();\n",
       "              delete Bokeh.index[id];\n",
       "            }\n",
       "          }\n",
       "        }\n",
       "      });\n",
       "      // Destroy server and session\n",
       "      var cmd = \"import bokeh.io.notebook as ion; ion.destroy_server('\" + server_id + \"')\";\n",
       "      cell.notebook.kernel.execute(cmd);\n",
       "    }\n",
       "  }\n",
       "\n",
       "  /**\n",
       "   * Handle when a new output is added\n",
       "   */\n",
       "  function handleAddOutput(event, handle) {\n",
       "    var output_area = handle.output_area;\n",
       "    var output = handle.output;\n",
       "\n",
       "    // limit handleAddOutput to display_data with EXEC_MIME_TYPE content only\n",
       "    if ((output.output_type != \"display_data\") || (!output.data.hasOwnProperty(EXEC_MIME_TYPE))) {\n",
       "      return\n",
       "    }\n",
       "\n",
       "    var toinsert = output_area.element.find(\".\" + CLASS_NAME.split(' ')[0]);\n",
       "\n",
       "    if (output.metadata[EXEC_MIME_TYPE][\"id\"] !== undefined) {\n",
       "      toinsert[toinsert.length - 1].firstChild.textContent = output.data[JS_MIME_TYPE];\n",
       "      // store reference to embed id on output_area\n",
       "      output_area._bokeh_element_id = output.metadata[EXEC_MIME_TYPE][\"id\"];\n",
       "    }\n",
       "    if (output.metadata[EXEC_MIME_TYPE][\"server_id\"] !== undefined) {\n",
       "      var bk_div = document.createElement(\"div\");\n",
       "      bk_div.innerHTML = output.data[HTML_MIME_TYPE];\n",
       "      var script_attrs = bk_div.children[0].attributes;\n",
       "      for (var i = 0; i < script_attrs.length; i++) {\n",
       "        toinsert[toinsert.length - 1].firstChild.setAttribute(script_attrs[i].name, script_attrs[i].value);\n",
       "        toinsert[toinsert.length - 1].firstChild.textContent = bk_div.children[0].textContent\n",
       "      }\n",
       "      // store reference to server id on output_area\n",
       "      output_area._bokeh_server_id = output.metadata[EXEC_MIME_TYPE][\"server_id\"];\n",
       "    }\n",
       "  }\n",
       "\n",
       "  function register_renderer(events, OutputArea) {\n",
       "\n",
       "    function append_mime(data, metadata, element) {\n",
       "      // create a DOM node to render to\n",
       "      var toinsert = this.create_output_subarea(\n",
       "        metadata,\n",
       "        CLASS_NAME,\n",
       "        EXEC_MIME_TYPE\n",
       "      );\n",
       "      this.keyboard_manager.register_events(toinsert);\n",
       "      // Render to node\n",
       "      var props = {data: data, metadata: metadata[EXEC_MIME_TYPE]};\n",
       "      render(props, toinsert[toinsert.length - 1]);\n",
       "      element.append(toinsert);\n",
       "      return toinsert\n",
       "    }\n",
       "\n",
       "    /* Handle when an output is cleared or removed */\n",
       "    events.on('clear_output.CodeCell', handleClearOutput);\n",
       "    events.on('delete.Cell', handleClearOutput);\n",
       "\n",
       "    /* Handle when a new output is added */\n",
       "    events.on('output_added.OutputArea', handleAddOutput);\n",
       "\n",
       "    /**\n",
       "     * Register the mime type and append_mime function with output_area\n",
       "     */\n",
       "    OutputArea.prototype.register_mime_type(EXEC_MIME_TYPE, append_mime, {\n",
       "      /* Is output safe? */\n",
       "      safe: true,\n",
       "      /* Index of renderer in `output_area.display_order` */\n",
       "      index: 0\n",
       "    });\n",
       "  }\n",
       "\n",
       "  // register the mime type if in Jupyter Notebook environment and previously unregistered\n",
       "  if (root.Jupyter !== undefined) {\n",
       "    var events = require('base/js/events');\n",
       "    var OutputArea = require('notebook/js/outputarea').OutputArea;\n",
       "\n",
       "    if (OutputArea.prototype.mime_types().indexOf(EXEC_MIME_TYPE) == -1) {\n",
       "      register_renderer(events, OutputArea);\n",
       "    }\n",
       "  }\n",
       "\n",
       "  \n",
       "  if (typeof (root._bokeh_timeout) === \"undefined\" || force === true) {\n",
       "    root._bokeh_timeout = Date.now() + 5000;\n",
       "    root._bokeh_failed_load = false;\n",
       "  }\n",
       "\n",
       "  var NB_LOAD_WARNING = {'data': {'text/html':\n",
       "     \"<div style='background-color: #fdd'>\\n\"+\n",
       "     \"<p>\\n\"+\n",
       "     \"BokehJS does not appear to have successfully loaded. If loading BokehJS from CDN, this \\n\"+\n",
       "     \"may be due to a slow or bad network connection. Possible fixes:\\n\"+\n",
       "     \"</p>\\n\"+\n",
       "     \"<ul>\\n\"+\n",
       "     \"<li>re-rerun `output_notebook()` to attempt to load from CDN again, or</li>\\n\"+\n",
       "     \"<li>use INLINE resources instead, as so:</li>\\n\"+\n",
       "     \"</ul>\\n\"+\n",
       "     \"<code>\\n\"+\n",
       "     \"from bokeh.resources import INLINE\\n\"+\n",
       "     \"output_notebook(resources=INLINE)\\n\"+\n",
       "     \"</code>\\n\"+\n",
       "     \"</div>\"}};\n",
       "\n",
       "  function display_loaded() {\n",
       "    var el = document.getElementById(\"1172\");\n",
       "    if (el != null) {\n",
       "      el.textContent = \"BokehJS is loading...\";\n",
       "    }\n",
       "    if (root.Bokeh !== undefined) {\n",
       "      if (el != null) {\n",
       "        el.textContent = \"BokehJS \" + root.Bokeh.version + \" successfully loaded.\";\n",
       "      }\n",
       "    } else if (Date.now() < root._bokeh_timeout) {\n",
       "      setTimeout(display_loaded, 100)\n",
       "    }\n",
       "  }\n",
       "\n",
       "\n",
       "  function run_callbacks() {\n",
       "    try {\n",
       "      root._bokeh_onload_callbacks.forEach(function(callback) {\n",
       "        if (callback != null)\n",
       "          callback();\n",
       "      });\n",
       "    } finally {\n",
       "      delete root._bokeh_onload_callbacks\n",
       "    }\n",
       "    console.debug(\"Bokeh: all callbacks have finished\");\n",
       "  }\n",
       "\n",
       "  function load_libs(css_urls, js_urls, callback) {\n",
       "    if (css_urls == null) css_urls = [];\n",
       "    if (js_urls == null) js_urls = [];\n",
       "\n",
       "    root._bokeh_onload_callbacks.push(callback);\n",
       "    if (root._bokeh_is_loading > 0) {\n",
       "      console.debug(\"Bokeh: BokehJS is being loaded, scheduling callback at\", now());\n",
       "      return null;\n",
       "    }\n",
       "    if (js_urls == null || js_urls.length === 0) {\n",
       "      run_callbacks();\n",
       "      return null;\n",
       "    }\n",
       "    console.debug(\"Bokeh: BokehJS not loaded, scheduling load and callback at\", now());\n",
       "    root._bokeh_is_loading = css_urls.length + js_urls.length;\n",
       "\n",
       "    function on_load() {\n",
       "      root._bokeh_is_loading--;\n",
       "      if (root._bokeh_is_loading === 0) {\n",
       "        console.debug(\"Bokeh: all BokehJS libraries/stylesheets loaded\");\n",
       "        run_callbacks()\n",
       "      }\n",
       "    }\n",
       "\n",
       "    function on_error() {\n",
       "      console.error(\"failed to load \" + url);\n",
       "    }\n",
       "\n",
       "    for (var i = 0; i < css_urls.length; i++) {\n",
       "      var url = css_urls[i];\n",
       "      const element = document.createElement(\"link\");\n",
       "      element.onload = on_load;\n",
       "      element.onerror = on_error;\n",
       "      element.rel = \"stylesheet\";\n",
       "      element.type = \"text/css\";\n",
       "      element.href = url;\n",
       "      console.debug(\"Bokeh: injecting link tag for BokehJS stylesheet: \", url);\n",
       "      document.body.appendChild(element);\n",
       "    }\n",
       "\n",
       "    const hashes = {\"https://cdn.bokeh.org/bokeh/release/bokeh-2.0.2.min.js\": \"ufR9RFnRs6lniiaFvtJziE0YeidtAgBRH6ux2oUItHw5WTvE1zuk9uzhUU/FJXDp\", \"https://cdn.bokeh.org/bokeh/release/bokeh-widgets-2.0.2.min.js\": \"8QM/PGWBT+IssZuRcDcjzwIh1mkOmJSoNMmyYDZbCfXJg3Ap1lEvdVgFuSAwhb/J\", \"https://cdn.bokeh.org/bokeh/release/bokeh-tables-2.0.2.min.js\": \"Jm8cH3Rg0P6UeZhVY5cLy1WzKajUT9KImCY+76hEqrcJt59/d8GPvFHjCkYgnSIn\", \"https://cdn.bokeh.org/bokeh/release/bokeh-gl-2.0.2.min.js\": \"Ozhzj+SI7ywm74aOI/UajcWz+C0NjsPunEVyVIrxzYkB+jA+2tUw8x5xJCbVtK5I\"};\n",
       "\n",
       "    for (var i = 0; i < js_urls.length; i++) {\n",
       "      var url = js_urls[i];\n",
       "      var element = document.createElement('script');\n",
       "      element.onload = on_load;\n",
       "      element.onerror = on_error;\n",
       "      element.async = false;\n",
       "      element.src = url;\n",
       "      if (url in hashes) {\n",
       "        element.crossOrigin = \"anonymous\";\n",
       "        element.integrity = \"sha384-\" + hashes[url];\n",
       "      }\n",
       "      console.debug(\"Bokeh: injecting script tag for BokehJS library: \", url);\n",
       "      document.head.appendChild(element);\n",
       "    }\n",
       "  };\n",
       "\n",
       "  function inject_raw_css(css) {\n",
       "    const element = document.createElement(\"style\");\n",
       "    element.appendChild(document.createTextNode(css));\n",
       "    document.body.appendChild(element);\n",
       "  }\n",
       "\n",
       "  \n",
       "  var js_urls = [\"https://cdn.bokeh.org/bokeh/release/bokeh-2.0.2.min.js\", \"https://cdn.bokeh.org/bokeh/release/bokeh-widgets-2.0.2.min.js\", \"https://cdn.bokeh.org/bokeh/release/bokeh-tables-2.0.2.min.js\", \"https://cdn.bokeh.org/bokeh/release/bokeh-gl-2.0.2.min.js\"];\n",
       "  var css_urls = [];\n",
       "  \n",
       "\n",
       "  var inline_js = [\n",
       "    function(Bokeh) {\n",
       "      Bokeh.set_log_level(\"info\");\n",
       "    },\n",
       "    function(Bokeh) {\n",
       "    \n",
       "    \n",
       "    }\n",
       "  ];\n",
       "\n",
       "  function run_inline_js() {\n",
       "    \n",
       "    if (root.Bokeh !== undefined || force === true) {\n",
       "      \n",
       "    for (var i = 0; i < inline_js.length; i++) {\n",
       "      inline_js[i].call(root, root.Bokeh);\n",
       "    }\n",
       "    if (force === true) {\n",
       "        display_loaded();\n",
       "      }} else if (Date.now() < root._bokeh_timeout) {\n",
       "      setTimeout(run_inline_js, 100);\n",
       "    } else if (!root._bokeh_failed_load) {\n",
       "      console.log(\"Bokeh: BokehJS failed to load within specified timeout.\");\n",
       "      root._bokeh_failed_load = true;\n",
       "    } else if (force !== true) {\n",
       "      var cell = $(document.getElementById(\"1172\")).parents('.cell').data().cell;\n",
       "      cell.output_area.append_execute_result(NB_LOAD_WARNING)\n",
       "    }\n",
       "\n",
       "  }\n",
       "\n",
       "  if (root._bokeh_is_loading === 0) {\n",
       "    console.debug(\"Bokeh: BokehJS loaded, going straight to plotting\");\n",
       "    run_inline_js();\n",
       "  } else {\n",
       "    load_libs(css_urls, js_urls, function() {\n",
       "      console.debug(\"Bokeh: BokehJS plotting callback run at\", now());\n",
       "      run_inline_js();\n",
       "    });\n",
       "  }\n",
       "}(window));"
      ],
      "application/vnd.bokehjs_load.v0+json": "\n(function(root) {\n  function now() {\n    return new Date();\n  }\n\n  var force = true;\n\n  if (typeof root._bokeh_onload_callbacks === \"undefined\" || force === true) {\n    root._bokeh_onload_callbacks = [];\n    root._bokeh_is_loading = undefined;\n  }\n\n  \n\n  \n  if (typeof (root._bokeh_timeout) === \"undefined\" || force === true) {\n    root._bokeh_timeout = Date.now() + 5000;\n    root._bokeh_failed_load = false;\n  }\n\n  var NB_LOAD_WARNING = {'data': {'text/html':\n     \"<div style='background-color: #fdd'>\\n\"+\n     \"<p>\\n\"+\n     \"BokehJS does not appear to have successfully loaded. If loading BokehJS from CDN, this \\n\"+\n     \"may be due to a slow or bad network connection. Possible fixes:\\n\"+\n     \"</p>\\n\"+\n     \"<ul>\\n\"+\n     \"<li>re-rerun `output_notebook()` to attempt to load from CDN again, or</li>\\n\"+\n     \"<li>use INLINE resources instead, as so:</li>\\n\"+\n     \"</ul>\\n\"+\n     \"<code>\\n\"+\n     \"from bokeh.resources import INLINE\\n\"+\n     \"output_notebook(resources=INLINE)\\n\"+\n     \"</code>\\n\"+\n     \"</div>\"}};\n\n  function display_loaded() {\n    var el = document.getElementById(\"1172\");\n    if (el != null) {\n      el.textContent = \"BokehJS is loading...\";\n    }\n    if (root.Bokeh !== undefined) {\n      if (el != null) {\n        el.textContent = \"BokehJS \" + root.Bokeh.version + \" successfully loaded.\";\n      }\n    } else if (Date.now() < root._bokeh_timeout) {\n      setTimeout(display_loaded, 100)\n    }\n  }\n\n\n  function run_callbacks() {\n    try {\n      root._bokeh_onload_callbacks.forEach(function(callback) {\n        if (callback != null)\n          callback();\n      });\n    } finally {\n      delete root._bokeh_onload_callbacks\n    }\n    console.debug(\"Bokeh: all callbacks have finished\");\n  }\n\n  function load_libs(css_urls, js_urls, callback) {\n    if (css_urls == null) css_urls = [];\n    if (js_urls == null) js_urls = [];\n\n    root._bokeh_onload_callbacks.push(callback);\n    if (root._bokeh_is_loading > 0) {\n      console.debug(\"Bokeh: BokehJS is being loaded, scheduling callback at\", now());\n      return null;\n    }\n    if (js_urls == null || js_urls.length === 0) {\n      run_callbacks();\n      return null;\n    }\n    console.debug(\"Bokeh: BokehJS not loaded, scheduling load and callback at\", now());\n    root._bokeh_is_loading = css_urls.length + js_urls.length;\n\n    function on_load() {\n      root._bokeh_is_loading--;\n      if (root._bokeh_is_loading === 0) {\n        console.debug(\"Bokeh: all BokehJS libraries/stylesheets loaded\");\n        run_callbacks()\n      }\n    }\n\n    function on_error() {\n      console.error(\"failed to load \" + url);\n    }\n\n    for (var i = 0; i < css_urls.length; i++) {\n      var url = css_urls[i];\n      const element = document.createElement(\"link\");\n      element.onload = on_load;\n      element.onerror = on_error;\n      element.rel = \"stylesheet\";\n      element.type = \"text/css\";\n      element.href = url;\n      console.debug(\"Bokeh: injecting link tag for BokehJS stylesheet: \", url);\n      document.body.appendChild(element);\n    }\n\n    const hashes = {\"https://cdn.bokeh.org/bokeh/release/bokeh-2.0.2.min.js\": \"ufR9RFnRs6lniiaFvtJziE0YeidtAgBRH6ux2oUItHw5WTvE1zuk9uzhUU/FJXDp\", \"https://cdn.bokeh.org/bokeh/release/bokeh-widgets-2.0.2.min.js\": \"8QM/PGWBT+IssZuRcDcjzwIh1mkOmJSoNMmyYDZbCfXJg3Ap1lEvdVgFuSAwhb/J\", \"https://cdn.bokeh.org/bokeh/release/bokeh-tables-2.0.2.min.js\": \"Jm8cH3Rg0P6UeZhVY5cLy1WzKajUT9KImCY+76hEqrcJt59/d8GPvFHjCkYgnSIn\", \"https://cdn.bokeh.org/bokeh/release/bokeh-gl-2.0.2.min.js\": \"Ozhzj+SI7ywm74aOI/UajcWz+C0NjsPunEVyVIrxzYkB+jA+2tUw8x5xJCbVtK5I\"};\n\n    for (var i = 0; i < js_urls.length; i++) {\n      var url = js_urls[i];\n      var element = document.createElement('script');\n      element.onload = on_load;\n      element.onerror = on_error;\n      element.async = false;\n      element.src = url;\n      if (url in hashes) {\n        element.crossOrigin = \"anonymous\";\n        element.integrity = \"sha384-\" + hashes[url];\n      }\n      console.debug(\"Bokeh: injecting script tag for BokehJS library: \", url);\n      document.head.appendChild(element);\n    }\n  };\n\n  function inject_raw_css(css) {\n    const element = document.createElement(\"style\");\n    element.appendChild(document.createTextNode(css));\n    document.body.appendChild(element);\n  }\n\n  \n  var js_urls = [\"https://cdn.bokeh.org/bokeh/release/bokeh-2.0.2.min.js\", \"https://cdn.bokeh.org/bokeh/release/bokeh-widgets-2.0.2.min.js\", \"https://cdn.bokeh.org/bokeh/release/bokeh-tables-2.0.2.min.js\", \"https://cdn.bokeh.org/bokeh/release/bokeh-gl-2.0.2.min.js\"];\n  var css_urls = [];\n  \n\n  var inline_js = [\n    function(Bokeh) {\n      Bokeh.set_log_level(\"info\");\n    },\n    function(Bokeh) {\n    \n    \n    }\n  ];\n\n  function run_inline_js() {\n    \n    if (root.Bokeh !== undefined || force === true) {\n      \n    for (var i = 0; i < inline_js.length; i++) {\n      inline_js[i].call(root, root.Bokeh);\n    }\n    if (force === true) {\n        display_loaded();\n      }} else if (Date.now() < root._bokeh_timeout) {\n      setTimeout(run_inline_js, 100);\n    } else if (!root._bokeh_failed_load) {\n      console.log(\"Bokeh: BokehJS failed to load within specified timeout.\");\n      root._bokeh_failed_load = true;\n    } else if (force !== true) {\n      var cell = $(document.getElementById(\"1172\")).parents('.cell').data().cell;\n      cell.output_area.append_execute_result(NB_LOAD_WARNING)\n    }\n\n  }\n\n  if (root._bokeh_is_loading === 0) {\n    console.debug(\"Bokeh: BokehJS loaded, going straight to plotting\");\n    run_inline_js();\n  } else {\n    load_libs(css_urls, js_urls, function() {\n      console.debug(\"Bokeh: BokehJS plotting callback run at\", now());\n      run_inline_js();\n    });\n  }\n}(window));"
     },
     "metadata": {},
     "output_type": "display_data"
    }
   ],
   "source": [
    "output_notebook()"
   ]
  },
  {
   "cell_type": "code",
   "execution_count": 48,
   "metadata": {},
   "outputs": [
    {
     "data": {
      "text/html": [
       "\n",
       "\n",
       "\n",
       "\n",
       "\n",
       "\n",
       "  <div class=\"bk-root\" id=\"56580fb9-c475-41f4-9ad7-24ffb7915817\" data-root-id=\"7865\"></div>\n"
      ]
     },
     "metadata": {},
     "output_type": "display_data"
    },
    {
     "data": {
      "application/javascript": [
       "(function(root) {\n",
       "  function embed_document(root) {\n",
       "    \n",
       "  var docs_json = {\"6d7cb403-dddb-4021-a00e-7974d9949085\":{\"roots\":{\"references\":[{\"attributes\":{\"children\":[{\"id\":\"7864\"},{\"id\":\"7862\"}]},\"id\":\"7865\",\"type\":\"Column\"},{\"attributes\":{},\"id\":\"7735\",\"type\":\"BasicTicker\"},{\"attributes\":{},\"id\":\"7728\",\"type\":\"DataRange1d\"},{\"attributes\":{\"below\":[{\"id\":\"7734\"}],\"center\":[{\"id\":\"7737\"},{\"id\":\"7741\"}],\"left\":[{\"id\":\"7738\"}],\"plot_height\":350,\"plot_width\":350,\"renderers\":[{\"id\":\"7759\"}],\"title\":null,\"toolbar\":{\"id\":\"7749\"},\"toolbar_location\":null,\"x_range\":{\"id\":\"7726\"},\"x_scale\":{\"id\":\"7730\"},\"y_range\":{\"id\":\"7728\"},\"y_scale\":{\"id\":\"7732\"}},\"id\":\"7724\",\"subtype\":\"Figure\",\"type\":\"Plot\"},{\"attributes\":{\"bottom\":{\"value\":0},\"fill_alpha\":{\"value\":0.1},\"fill_color\":{\"value\":\"#1f77b4\"},\"left\":{\"field\":\"left\"},\"line_alpha\":{\"value\":0.1},\"line_color\":{\"value\":\"#1f77b4\"},\"right\":{\"field\":\"right\"},\"top\":{\"field\":\"top\"}},\"id\":\"7758\",\"type\":\"Quad\"},{\"attributes\":{},\"id\":\"7739\",\"type\":\"BasicTicker\"},{\"attributes\":{\"bottom\":{\"value\":0},\"fill_alpha\":{\"value\":0.4},\"fill_color\":{\"value\":\"#1f77b4\"},\"left\":{\"field\":\"left\"},\"line_alpha\":{\"value\":0.4},\"line_color\":{\"value\":\"#1f77b4\"},\"right\":{\"field\":\"right\"},\"top\":{\"field\":\"top\"}},\"id\":\"7757\",\"type\":\"Quad\"},{\"attributes\":{\"data\":{\"left\":{\"__ndarray__\":\"AAAAAADAa0AzMzMzMzNvQDMzMzMzU3FAzczMzMwMc0BmZmZmZsZ0QAAAAAAAgHZAmpmZmZk5eEA0MzMzM/N5QM3MzMzMrHtAZmZmZmZmfUA=\",\"dtype\":\"float64\",\"shape\":[10]},\"right\":{\"__ndarray__\":\"MzMzMzMzb0AzMzMzM1NxQM3MzMzMDHNAZmZmZmbGdEAAAAAAAIB2QJqZmZmZOXhANDMzMzPzeUDNzMzMzKx7QGZmZmZmZn1AAAAAAAAgf0A=\",\"dtype\":\"float64\",\"shape\":[10]},\"top\":{\"__ndarray__\":\"W8bJvefUdj8AAAAAAAAAAFXGyb3n1HY/YcbJvefUdj8AAAAAAAAAAAAAAAAAAAAAVcbJvefUZj/JVFfOrR+BP2HGyb3n1GY/VcbJvefUdj8=\",\"dtype\":\"float64\",\"shape\":[10]}},\"selected\":{\"id\":\"7842\"},\"selection_policy\":{\"id\":\"7841\"}},\"id\":\"7756\",\"type\":\"ColumnDataSource\"},{\"attributes\":{\"axis\":{\"id\":\"7738\"},\"dimension\":1,\"ticker\":null},\"id\":\"7741\",\"type\":\"Grid\"},{\"attributes\":{},\"id\":\"7742\",\"type\":\"PanTool\"},{\"attributes\":{},\"id\":\"7730\",\"type\":\"LinearScale\"},{\"attributes\":{\"overlay\":{\"id\":\"7748\"}},\"id\":\"7744\",\"type\":\"BoxZoomTool\"},{\"attributes\":{},\"id\":\"7743\",\"type\":\"WheelZoomTool\"},{\"attributes\":{},\"id\":\"7846\",\"type\":\"BasicTickFormatter\"},{\"attributes\":{\"axis\":{\"id\":\"7734\"},\"ticker\":null},\"id\":\"7737\",\"type\":\"Grid\"},{\"attributes\":{\"bottom\":{\"value\":0},\"fill_alpha\":{\"value\":0.4},\"fill_color\":{\"value\":\"#1f77b4\"},\"left\":{\"field\":\"left\"},\"line_alpha\":{\"value\":0.4},\"line_color\":{\"value\":\"#1f77b4\"},\"right\":{\"field\":\"right\"},\"top\":{\"field\":\"top\"}},\"id\":\"7794\",\"type\":\"Quad\"},{\"attributes\":{\"formatter\":{\"id\":\"7839\"},\"ticker\":{\"id\":\"7735\"}},\"id\":\"7734\",\"type\":\"LinearAxis\"},{\"attributes\":{},\"id\":\"7745\",\"type\":\"SaveTool\"},{\"attributes\":{},\"id\":\"7726\",\"type\":\"DataRange1d\"},{\"attributes\":{},\"id\":\"7747\",\"type\":\"HelpTool\"},{\"attributes\":{\"formatter\":{\"id\":\"7837\"},\"ticker\":{\"id\":\"7739\"}},\"id\":\"7738\",\"type\":\"LinearAxis\"},{\"attributes\":{},\"id\":\"7746\",\"type\":\"ResetTool\"},{\"attributes\":{\"bottom_units\":\"screen\",\"fill_alpha\":0.5,\"fill_color\":\"lightgrey\",\"left_units\":\"screen\",\"level\":\"overlay\",\"line_alpha\":1.0,\"line_color\":\"black\",\"line_dash\":[4,4],\"line_width\":2,\"render_mode\":\"css\",\"right_units\":\"screen\",\"top_units\":\"screen\"},\"id\":\"7748\",\"type\":\"BoxAnnotation\"},{\"attributes\":{\"data\":{\"left\":{\"__ndarray__\":\"AAAAAABgZ0BmZmZmZjZ0QM3MzMzMvHxAmpmZmZmhgkDNzMzMzOSGQAAAAAAAKItANDMzMzNrj0A0MzMzM9eRQM3MzMzM+JNAZ2ZmZmYalkA=\",\"dtype\":\"float64\",\"shape\":[10]},\"right\":{\"__ndarray__\":\"ZmZmZmY2dEDNzMzMzLx8QJqZmZmZoYJAzczMzMzkhkAAAAAAACiLQDQzMzMza49ANDMzMzPXkUDNzMzMzPiTQGdmZmZmGpZAAAAAAAA8mEA=\",\"dtype\":\"float64\",\"shape\":[10]},\"top\":{\"__ndarray__\":\"c6NEgNwoUT8AAAAAAAAAACn1ZsBKvVk/c6NEgNwoUT9zo0SA3ChRP2+jRIDcKEE/b6NEgNwoQT93o0SA3ChBP2+jRIDcKEE/d6NEgNwoQT8=\",\"dtype\":\"float64\",\"shape\":[10]}},\"selected\":{\"id\":\"7851\"},\"selection_policy\":{\"id\":\"7850\"}},\"id\":\"7793\",\"type\":\"ColumnDataSource\"},{\"attributes\":{\"axis\":{\"id\":\"7775\"},\"dimension\":1,\"ticker\":null},\"id\":\"7778\",\"type\":\"Grid\"},{\"attributes\":{},\"id\":\"7732\",\"type\":\"LinearScale\"},{\"attributes\":{\"active_drag\":\"auto\",\"active_inspect\":\"auto\",\"active_multi\":null,\"active_scroll\":\"auto\",\"active_tap\":\"auto\",\"tools\":[{\"id\":\"7742\"},{\"id\":\"7743\"},{\"id\":\"7744\"},{\"id\":\"7745\"},{\"id\":\"7746\"},{\"id\":\"7747\"}]},\"id\":\"7749\",\"type\":\"Toolbar\"},{\"attributes\":{\"axis\":{\"id\":\"7812\"},\"dimension\":1,\"ticker\":null},\"id\":\"7815\",\"type\":\"Grid\"},{\"attributes\":{\"source\":{\"id\":\"7756\"}},\"id\":\"7760\",\"type\":\"CDSView\"},{\"attributes\":{\"bottom\":{\"value\":0},\"fill_alpha\":{\"value\":0.1},\"fill_color\":{\"value\":\"#1f77b4\"},\"left\":{\"field\":\"left\"},\"line_alpha\":{\"value\":0.1},\"line_color\":{\"value\":\"#1f77b4\"},\"right\":{\"field\":\"right\"},\"top\":{\"field\":\"top\"}},\"id\":\"7832\",\"type\":\"Quad\"},{\"attributes\":{\"below\":[{\"id\":\"7808\"}],\"center\":[{\"id\":\"7811\"},{\"id\":\"7815\"}],\"left\":[{\"id\":\"7812\"}],\"plot_height\":350,\"plot_width\":350,\"renderers\":[{\"id\":\"7833\"}],\"title\":null,\"toolbar\":{\"id\":\"7823\"},\"toolbar_location\":null,\"x_range\":{\"id\":\"7800\"},\"x_scale\":{\"id\":\"7804\"},\"y_range\":{\"id\":\"7802\"},\"y_scale\":{\"id\":\"7806\"}},\"id\":\"7798\",\"subtype\":\"Figure\",\"type\":\"Plot\"},{\"attributes\":{},\"id\":\"7837\",\"type\":\"BasicTickFormatter\"},{\"attributes\":{\"data_source\":{\"id\":\"7756\"},\"glyph\":{\"id\":\"7757\"},\"hover_glyph\":null,\"muted_glyph\":null,\"nonselection_glyph\":{\"id\":\"7758\"},\"selection_glyph\":null,\"view\":{\"id\":\"7760\"}},\"id\":\"7759\",\"type\":\"GlyphRenderer\"},{\"attributes\":{},\"id\":\"7816\",\"type\":\"PanTool\"},{\"attributes\":{},\"id\":\"7763\",\"type\":\"DataRange1d\"},{\"attributes\":{},\"id\":\"7817\",\"type\":\"WheelZoomTool\"},{\"attributes\":{},\"id\":\"7765\",\"type\":\"DataRange1d\"},{\"attributes\":{\"overlay\":{\"id\":\"7822\"}},\"id\":\"7818\",\"type\":\"BoxZoomTool\"},{\"attributes\":{},\"id\":\"7767\",\"type\":\"LinearScale\"},{\"attributes\":{},\"id\":\"7819\",\"type\":\"SaveTool\"},{\"attributes\":{},\"id\":\"7769\",\"type\":\"LinearScale\"},{\"attributes\":{},\"id\":\"7820\",\"type\":\"ResetTool\"},{\"attributes\":{\"formatter\":{\"id\":\"7848\"},\"ticker\":{\"id\":\"7772\"}},\"id\":\"7771\",\"type\":\"LinearAxis\"},{\"attributes\":{},\"id\":\"7821\",\"type\":\"HelpTool\"},{\"attributes\":{},\"id\":\"7772\",\"type\":\"BasicTicker\"},{\"attributes\":{\"active_drag\":\"auto\",\"active_inspect\":\"auto\",\"active_multi\":null,\"active_scroll\":\"auto\",\"active_tap\":\"auto\",\"tools\":[{\"id\":\"7816\"},{\"id\":\"7817\"},{\"id\":\"7818\"},{\"id\":\"7819\"},{\"id\":\"7820\"},{\"id\":\"7821\"}]},\"id\":\"7823\",\"type\":\"Toolbar\"},{\"attributes\":{\"axis\":{\"id\":\"7771\"},\"ticker\":null},\"id\":\"7774\",\"type\":\"Grid\"},{\"attributes\":{\"formatter\":{\"id\":\"7846\"},\"ticker\":{\"id\":\"7776\"}},\"id\":\"7775\",\"type\":\"LinearAxis\"},{\"attributes\":{},\"id\":\"7857\",\"type\":\"BasicTickFormatter\"},{\"attributes\":{},\"id\":\"7776\",\"type\":\"BasicTicker\"},{\"attributes\":{},\"id\":\"7855\",\"type\":\"BasicTickFormatter\"},{\"attributes\":{},\"id\":\"7779\",\"type\":\"PanTool\"},{\"attributes\":{},\"id\":\"7859\",\"type\":\"UnionRenderers\"},{\"attributes\":{\"bottom_units\":\"screen\",\"fill_alpha\":0.5,\"fill_color\":\"lightgrey\",\"left_units\":\"screen\",\"level\":\"overlay\",\"line_alpha\":1.0,\"line_color\":\"black\",\"line_dash\":[4,4],\"line_width\":2,\"render_mode\":\"css\",\"right_units\":\"screen\",\"top_units\":\"screen\"},\"id\":\"7822\",\"type\":\"BoxAnnotation\"},{\"attributes\":{},\"id\":\"7780\",\"type\":\"WheelZoomTool\"},{\"attributes\":{\"bottom\":{\"value\":0},\"fill_alpha\":{\"value\":0.1},\"fill_color\":{\"value\":\"#1f77b4\"},\"left\":{\"field\":\"left\"},\"line_alpha\":{\"value\":0.1},\"line_color\":{\"value\":\"#1f77b4\"},\"right\":{\"field\":\"right\"},\"top\":{\"field\":\"top\"}},\"id\":\"7795\",\"type\":\"Quad\"},{\"attributes\":{\"overlay\":{\"id\":\"7785\"}},\"id\":\"7781\",\"type\":\"BoxZoomTool\"},{\"attributes\":{\"data_source\":{\"id\":\"7830\"},\"glyph\":{\"id\":\"7831\"},\"hover_glyph\":null,\"muted_glyph\":null,\"nonselection_glyph\":{\"id\":\"7832\"},\"selection_glyph\":null,\"view\":{\"id\":\"7834\"}},\"id\":\"7833\",\"type\":\"GlyphRenderer\"},{\"attributes\":{},\"id\":\"7782\",\"type\":\"SaveTool\"},{\"attributes\":{\"bottom\":{\"value\":0},\"fill_alpha\":{\"value\":0.4},\"fill_color\":{\"value\":\"#1f77b4\"},\"left\":{\"field\":\"left\"},\"line_alpha\":{\"value\":0.4},\"line_color\":{\"value\":\"#1f77b4\"},\"right\":{\"field\":\"right\"},\"top\":{\"field\":\"top\"}},\"id\":\"7831\",\"type\":\"Quad\"},{\"attributes\":{},\"id\":\"7783\",\"type\":\"ResetTool\"},{\"attributes\":{\"source\":{\"id\":\"7830\"}},\"id\":\"7834\",\"type\":\"CDSView\"},{\"attributes\":{},\"id\":\"7784\",\"type\":\"HelpTool\"},{\"attributes\":{\"below\":[{\"id\":\"7771\"}],\"center\":[{\"id\":\"7774\"},{\"id\":\"7778\"}],\"left\":[{\"id\":\"7775\"}],\"plot_height\":350,\"plot_width\":350,\"renderers\":[{\"id\":\"7796\"}],\"title\":null,\"toolbar\":{\"id\":\"7786\"},\"toolbar_location\":null,\"x_range\":{\"id\":\"7763\"},\"x_scale\":{\"id\":\"7767\"},\"y_range\":{\"id\":\"7765\"},\"y_scale\":{\"id\":\"7769\"}},\"id\":\"7761\",\"subtype\":\"Figure\",\"type\":\"Plot\"},{\"attributes\":{},\"id\":\"7839\",\"type\":\"BasicTickFormatter\"},{\"attributes\":{},\"id\":\"7851\",\"type\":\"Selection\"},{\"attributes\":{\"data_source\":{\"id\":\"7793\"},\"glyph\":{\"id\":\"7794\"},\"hover_glyph\":null,\"muted_glyph\":null,\"nonselection_glyph\":{\"id\":\"7795\"},\"selection_glyph\":null,\"view\":{\"id\":\"7797\"}},\"id\":\"7796\",\"type\":\"GlyphRenderer\"},{\"attributes\":{},\"id\":\"7841\",\"type\":\"UnionRenderers\"},{\"attributes\":{},\"id\":\"7850\",\"type\":\"UnionRenderers\"},{\"attributes\":{},\"id\":\"7842\",\"type\":\"Selection\"},{\"attributes\":{},\"id\":\"7848\",\"type\":\"BasicTickFormatter\"},{\"attributes\":{},\"id\":\"7860\",\"type\":\"Selection\"},{\"attributes\":{\"toolbars\":[{\"id\":\"7749\"},{\"id\":\"7786\"},{\"id\":\"7823\"}],\"tools\":[{\"id\":\"7742\"},{\"id\":\"7743\"},{\"id\":\"7744\"},{\"id\":\"7745\"},{\"id\":\"7746\"},{\"id\":\"7747\"},{\"id\":\"7779\"},{\"id\":\"7780\"},{\"id\":\"7781\"},{\"id\":\"7782\"},{\"id\":\"7783\"},{\"id\":\"7784\"},{\"id\":\"7816\"},{\"id\":\"7817\"},{\"id\":\"7818\"},{\"id\":\"7819\"},{\"id\":\"7820\"},{\"id\":\"7821\"}]},\"id\":\"7863\",\"type\":\"ProxyToolbar\"},{\"attributes\":{\"bottom_units\":\"screen\",\"fill_alpha\":0.5,\"fill_color\":\"lightgrey\",\"left_units\":\"screen\",\"level\":\"overlay\",\"line_alpha\":1.0,\"line_color\":\"black\",\"line_dash\":[4,4],\"line_width\":2,\"render_mode\":\"css\",\"right_units\":\"screen\",\"top_units\":\"screen\"},\"id\":\"7785\",\"type\":\"BoxAnnotation\"},{\"attributes\":{\"toolbar\":{\"id\":\"7863\"},\"toolbar_location\":\"above\"},\"id\":\"7864\",\"type\":\"ToolbarBox\"},{\"attributes\":{\"active_drag\":\"auto\",\"active_inspect\":\"auto\",\"active_multi\":null,\"active_scroll\":\"auto\",\"active_tap\":\"auto\",\"tools\":[{\"id\":\"7779\"},{\"id\":\"7780\"},{\"id\":\"7781\"},{\"id\":\"7782\"},{\"id\":\"7783\"},{\"id\":\"7784\"}]},\"id\":\"7786\",\"type\":\"Toolbar\"},{\"attributes\":{\"source\":{\"id\":\"7793\"}},\"id\":\"7797\",\"type\":\"CDSView\"},{\"attributes\":{\"children\":[[{\"id\":\"7724\"},0,0],[{\"id\":\"7761\"},0,1],[{\"id\":\"7798\"},0,2]]},\"id\":\"7862\",\"type\":\"GridBox\"},{\"attributes\":{\"data\":{\"left\":{\"__ndarray__\":\"IhzCIRxSisBQ9VRP9cyHwH3O53zOR4XAq6d6qqfCgsDYgA3YgD2AwAy0QAu0cHvAaGZmZmZmdsDCGIzBGFxxwDyWYzmWo2jA6PVd3/UdXcA=\",\"dtype\":\"float64\",\"shape\":[10]},\"right\":{\"__ndarray__\":\"UPVUT/XMh8B9zud8zkeFwKuneqqnwoLA2IAN2IA9gMAMtEALtHB7wGhmZmZmZnbAwhiMwRhcccA8lmM5lqNowOj1Xd/1HV3AoH7pl37pQcA=\",\"dtype\":\"float64\",\"shape\":[10]},\"top\":{\"__ndarray__\":\"t0YcDnZBHT/k0+Uy2hBBP7Cf9jXNDFA/xI4VQHupXT9RRklH8MpiP6oUsMIDUWQ/wefvZ9J0YD+xLWboPMlYP7tD887PQEA/j+VstjdhKD8=\",\"dtype\":\"float64\",\"shape\":[10]}},\"selected\":{\"id\":\"7860\"},\"selection_policy\":{\"id\":\"7859\"}},\"id\":\"7830\",\"type\":\"ColumnDataSource\"},{\"attributes\":{},\"id\":\"7800\",\"type\":\"DataRange1d\"},{\"attributes\":{},\"id\":\"7802\",\"type\":\"DataRange1d\"},{\"attributes\":{},\"id\":\"7804\",\"type\":\"LinearScale\"},{\"attributes\":{},\"id\":\"7806\",\"type\":\"LinearScale\"},{\"attributes\":{\"formatter\":{\"id\":\"7857\"},\"ticker\":{\"id\":\"7809\"}},\"id\":\"7808\",\"type\":\"LinearAxis\"},{\"attributes\":{},\"id\":\"7809\",\"type\":\"BasicTicker\"},{\"attributes\":{\"axis\":{\"id\":\"7808\"},\"ticker\":null},\"id\":\"7811\",\"type\":\"Grid\"},{\"attributes\":{\"formatter\":{\"id\":\"7855\"},\"ticker\":{\"id\":\"7813\"}},\"id\":\"7812\",\"type\":\"LinearAxis\"},{\"attributes\":{},\"id\":\"7813\",\"type\":\"BasicTicker\"}],\"root_ids\":[\"7865\"]},\"title\":\"Bokeh Application\",\"version\":\"2.0.2\"}};\n",
       "  var render_items = [{\"docid\":\"6d7cb403-dddb-4021-a00e-7974d9949085\",\"root_ids\":[\"7865\"],\"roots\":{\"7865\":\"56580fb9-c475-41f4-9ad7-24ffb7915817\"}}];\n",
       "  root.Bokeh.embed.embed_items_notebook(docs_json, render_items);\n",
       "\n",
       "  }\n",
       "  if (root.Bokeh !== undefined) {\n",
       "    embed_document(root);\n",
       "  } else {\n",
       "    var attempts = 0;\n",
       "    var timer = setInterval(function(root) {\n",
       "      if (root.Bokeh !== undefined) {\n",
       "        clearInterval(timer);\n",
       "        embed_document(root);\n",
       "      } else {\n",
       "        attempts++;\n",
       "        if (attempts > 100) {\n",
       "          clearInterval(timer);\n",
       "          console.log(\"Bokeh: ERROR: Unable to run BokehJS code because BokehJS library is missing\");\n",
       "        }\n",
       "      }\n",
       "    }, 10, root)\n",
       "  }\n",
       "})(window);"
      ],
      "application/vnd.bokehjs_exec.v0+json": ""
     },
     "metadata": {
      "application/vnd.bokehjs_exec.v0+json": {
       "id": "7865"
      }
     },
     "output_type": "display_data"
    }
   ],
   "source": [
    "pf = do_hist(df_first_arizona['cases'].tolist(), width = 350, height = 350)\n",
    "ps = do_hist(df_second_arizona['cases'].tolist(), width = 350, height = 350)\n",
    "p = do_hist(l, width = 350, height = 350)\n",
    "grid = gridplot([pf, ps, p], ncols = 3)\n",
    "show(grid)\n"
   ]
  },
  {
   "cell_type": "code",
   "execution_count": 64,
   "metadata": {},
   "outputs": [
    {
     "data": {
      "text/html": [
       "\n",
       "\n",
       "\n",
       "\n",
       "\n",
       "\n",
       "  <div class=\"bk-root\" id=\"ef86f8ed-bf7b-4b41-ac00-df481a80b65d\" data-root-id=\"10284\"></div>\n"
      ]
     },
     "metadata": {},
     "output_type": "display_data"
    },
    {
     "data": {
      "application/javascript": [
       "(function(root) {\n",
       "  function embed_document(root) {\n",
       "    \n",
       "  var docs_json = {\"8ec0d0aa-570e-48be-a20e-b79c469ea208\":{\"roots\":{\"references\":[{\"attributes\":{\"below\":[{\"id\":\"10293\"}],\"center\":[{\"id\":\"10296\"},{\"id\":\"10300\"}],\"left\":[{\"id\":\"10297\"}],\"plot_height\":350,\"plot_width\":350,\"renderers\":[{\"id\":\"10318\"}],\"title\":{\"id\":\"10784\"},\"toolbar\":{\"id\":\"10308\"},\"x_range\":{\"id\":\"10285\"},\"x_scale\":{\"id\":\"10289\"},\"y_range\":{\"id\":\"10287\"},\"y_scale\":{\"id\":\"10291\"}},\"id\":\"10284\",\"subtype\":\"Figure\",\"type\":\"Plot\"},{\"attributes\":{},\"id\":\"10802\",\"type\":\"UnionRenderers\"},{\"attributes\":{},\"id\":\"10291\",\"type\":\"LinearScale\"},{\"attributes\":{},\"id\":\"10803\",\"type\":\"Selection\"},{\"attributes\":{\"base\":60,\"mantissas\":[1,2,5,10,15,20,30],\"max_interval\":1800000.0,\"min_interval\":1000.0,\"num_minor_ticks\":0},\"id\":\"10791\",\"type\":\"AdaptiveTicker\"},{\"attributes\":{\"formatter\":{\"id\":\"10788\"},\"ticker\":{\"id\":\"10294\"}},\"id\":\"10293\",\"type\":\"DatetimeAxis\"},{\"attributes\":{\"mantissas\":[1,2,5],\"max_interval\":500.0,\"num_minor_ticks\":0},\"id\":\"10790\",\"type\":\"AdaptiveTicker\"},{\"attributes\":{\"num_minor_ticks\":5,\"tickers\":[{\"id\":\"10790\"},{\"id\":\"10791\"},{\"id\":\"10792\"},{\"id\":\"10793\"},{\"id\":\"10794\"},{\"id\":\"10795\"},{\"id\":\"10796\"},{\"id\":\"10797\"},{\"id\":\"10798\"},{\"id\":\"10799\"},{\"id\":\"10800\"},{\"id\":\"10801\"}]},\"id\":\"10294\",\"type\":\"DatetimeTicker\"},{\"attributes\":{\"bottom_units\":\"screen\",\"fill_alpha\":0.5,\"fill_color\":\"lightgrey\",\"left_units\":\"screen\",\"level\":\"overlay\",\"line_alpha\":1.0,\"line_color\":\"black\",\"line_dash\":[4,4],\"line_width\":2,\"render_mode\":\"css\",\"right_units\":\"screen\",\"top_units\":\"screen\"},\"id\":\"10307\",\"type\":\"BoxAnnotation\"},{\"attributes\":{\"axis\":{\"id\":\"10293\"},\"ticker\":null},\"id\":\"10296\",\"type\":\"Grid\"},{\"attributes\":{\"formatter\":{\"id\":\"10786\"},\"ticker\":{\"id\":\"10298\"}},\"id\":\"10297\",\"type\":\"LinearAxis\"},{\"attributes\":{\"fill_color\":{\"value\":\"#1f77b4\"},\"line_color\":{\"value\":\"#1f77b4\"},\"top\":{\"field\":\"top\"},\"x\":{\"field\":\"x\"}},\"id\":\"10316\",\"type\":\"VBar\"},{\"attributes\":{},\"id\":\"10298\",\"type\":\"BasicTicker\"},{\"attributes\":{\"fill_alpha\":{\"value\":0.1},\"fill_color\":{\"value\":\"#1f77b4\"},\"line_alpha\":{\"value\":0.1},\"line_color\":{\"value\":\"#1f77b4\"},\"top\":{\"field\":\"top\"},\"x\":{\"field\":\"x\"}},\"id\":\"10317\",\"type\":\"VBar\"},{\"attributes\":{\"axis\":{\"id\":\"10297\"},\"dimension\":1,\"ticker\":null},\"id\":\"10300\",\"type\":\"Grid\"},{\"attributes\":{\"source\":{\"id\":\"10315\"}},\"id\":\"10319\",\"type\":\"CDSView\"},{\"attributes\":{\"data_source\":{\"id\":\"10315\"},\"glyph\":{\"id\":\"10316\"},\"hover_glyph\":null,\"muted_glyph\":null,\"nonselection_glyph\":{\"id\":\"10317\"},\"selection_glyph\":null,\"view\":{\"id\":\"10319\"}},\"id\":\"10318\",\"type\":\"GlyphRenderer\"},{\"attributes\":{\"days\":[1,2,3,4,5,6,7,8,9,10,11,12,13,14,15,16,17,18,19,20,21,22,23,24,25,26,27,28,29,30,31]},\"id\":\"10793\",\"type\":\"DaysTicker\"},{\"attributes\":{},\"id\":\"10788\",\"type\":\"DatetimeTickFormatter\"},{\"attributes\":{},\"id\":\"10786\",\"type\":\"BasicTickFormatter\"},{\"attributes\":{\"days\":[1,4,7,10,13,16,19,22,25,28]},\"id\":\"10794\",\"type\":\"DaysTicker\"},{\"attributes\":{},\"id\":\"10301\",\"type\":\"PanTool\"},{\"attributes\":{},\"id\":\"10285\",\"type\":\"DataRange1d\"},{\"attributes\":{\"days\":[1,8,15,22]},\"id\":\"10795\",\"type\":\"DaysTicker\"},{\"attributes\":{},\"id\":\"10302\",\"type\":\"WheelZoomTool\"},{\"attributes\":{\"days\":[1,15]},\"id\":\"10796\",\"type\":\"DaysTicker\"},{\"attributes\":{\"text\":\"\"},\"id\":\"10784\",\"type\":\"Title\"},{\"attributes\":{\"overlay\":{\"id\":\"10307\"}},\"id\":\"10303\",\"type\":\"BoxZoomTool\"},{\"attributes\":{},\"id\":\"10289\",\"type\":\"LinearScale\"},{\"attributes\":{\"months\":[0,1,2,3,4,5,6,7,8,9,10,11]},\"id\":\"10797\",\"type\":\"MonthsTicker\"},{\"attributes\":{},\"id\":\"10304\",\"type\":\"SaveTool\"},{\"attributes\":{\"data\":{\"top\":{\"__ndarray__\":\"AAAAAAAA+H8AAAAAAAD4fwAAAAAAAPh/AAAAAAAA+H8AAAAAAAD4fwAAAAAAAPh/t23btm3Lc0Dbtm3bth11QLdt27Zt23VAJUmSJEmCeUBJkiRJkrR8QG7btm3bDoBA27Zt27bNf0CSJEmSJPGDQG7btm3bPoZAkiRJkiSRhkC3bdu2bVuKQEmSJEmS9ItAJUmSJEkyj0BJkiRJkgyRQA==\",\"dtype\":\"float64\",\"shape\":[20]},\"x\":[1589932800000.0,1590019200000.0,1590105600000.0,1590192000000.0,1590278400000.0,1590364800000.0,1590451200000.0,1590537600000.0,1590624000000.0,1590710400000.0,1590796800000.0,1590883200000.0,1590969600000.0,1591056000000.0,1591142400000.0,1591228800000.0,1591315200000.0,1591401600000.0,1591488000000.0,1591574400000.0]},\"selected\":{\"id\":\"10803\"},\"selection_policy\":{\"id\":\"10802\"}},\"id\":\"10315\",\"type\":\"ColumnDataSource\"},{\"attributes\":{\"months\":[0,2,4,6,8,10]},\"id\":\"10798\",\"type\":\"MonthsTicker\"},{\"attributes\":{},\"id\":\"10305\",\"type\":\"ResetTool\"},{\"attributes\":{\"months\":[0,4,8]},\"id\":\"10799\",\"type\":\"MonthsTicker\"},{\"attributes\":{},\"id\":\"10306\",\"type\":\"HelpTool\"},{\"attributes\":{\"months\":[0,6]},\"id\":\"10800\",\"type\":\"MonthsTicker\"},{\"attributes\":{\"base\":24,\"mantissas\":[1,2,4,6,8,12],\"max_interval\":43200000.0,\"min_interval\":3600000.0,\"num_minor_ticks\":0},\"id\":\"10792\",\"type\":\"AdaptiveTicker\"},{\"attributes\":{},\"id\":\"10801\",\"type\":\"YearsTicker\"},{\"attributes\":{\"active_drag\":\"auto\",\"active_inspect\":\"auto\",\"active_multi\":null,\"active_scroll\":\"auto\",\"active_tap\":\"auto\",\"tools\":[{\"id\":\"10301\"},{\"id\":\"10302\"},{\"id\":\"10303\"},{\"id\":\"10304\"},{\"id\":\"10305\"},{\"id\":\"10306\"}]},\"id\":\"10308\",\"type\":\"Toolbar\"},{\"attributes\":{},\"id\":\"10287\",\"type\":\"DataRange1d\"}],\"root_ids\":[\"10284\"]},\"title\":\"Bokeh Application\",\"version\":\"2.0.2\"}};\n",
       "  var render_items = [{\"docid\":\"8ec0d0aa-570e-48be-a20e-b79c469ea208\",\"root_ids\":[\"10284\"],\"roots\":{\"10284\":\"ef86f8ed-bf7b-4b41-ac00-df481a80b65d\"}}];\n",
       "  root.Bokeh.embed.embed_items_notebook(docs_json, render_items);\n",
       "\n",
       "  }\n",
       "  if (root.Bokeh !== undefined) {\n",
       "    embed_document(root);\n",
       "  } else {\n",
       "    var attempts = 0;\n",
       "    var timer = setInterval(function(root) {\n",
       "      if (root.Bokeh !== undefined) {\n",
       "        clearInterval(timer);\n",
       "        embed_document(root);\n",
       "      } else {\n",
       "        attempts++;\n",
       "        if (attempts > 100) {\n",
       "          clearInterval(timer);\n",
       "          console.log(\"Bokeh: ERROR: Unable to run BokehJS code because BokehJS library is missing\");\n",
       "        }\n",
       "      }\n",
       "    }, 10, root)\n",
       "  }\n",
       "})(window);"
      ],
      "application/vnd.bokehjs_exec.v0+json": ""
     },
     "metadata": {
      "application/vnd.bokehjs_exec.v0+json": {
       "id": "10284"
      }
     },
     "output_type": "display_data"
    }
   ],
   "source": [
    "df_second_arizona_ = DF[(DF['date'] >=datetime.datetime(2020, 5, 20)) \n",
    "            & (DF['state'] == 'Arizona')]\n",
    "dates = df_second_arizona_['date']\n",
    "dates = [datetime.datetime(x.year, x.month, x.day) for x in dates]\n",
    "nums = df_second_arizona_['cases'].rolling(7).mean()\n",
    "p = figure(x_axis_type = 'datetime', \n",
    "            plot_width = 350 , plot_height = 350)\n",
    "p.vbar(x=dates, top=nums)\n",
    "show(p)"
   ]
  },
  {
   "cell_type": "code",
   "execution_count": 75,
   "metadata": {},
   "outputs": [],
   "source": [
    "len(nums)\n",
    "f = nums[6:13].tolist()\n",
    "s = nums[13:].tolist()\n"
   ]
  },
  {
   "cell_type": "code",
   "execution_count": 77,
   "metadata": {},
   "outputs": [
    {
     "data": {
      "text/html": [
       "\n",
       "\n",
       "\n",
       "\n",
       "\n",
       "\n",
       "  <div class=\"bk-root\" id=\"33731422-7901-4527-aae5-896b0ecc2168\" data-root-id=\"10930\"></div>\n"
      ]
     },
     "metadata": {},
     "output_type": "display_data"
    },
    {
     "data": {
      "application/javascript": [
       "(function(root) {\n",
       "  function embed_document(root) {\n",
       "    \n",
       "  var docs_json = {\"fd7047d0-c500-42b8-be8a-50e27f373199\":{\"roots\":{\"references\":[{\"attributes\":{\"below\":[{\"id\":\"10940\"}],\"center\":[{\"id\":\"10943\"},{\"id\":\"10947\"}],\"left\":[{\"id\":\"10944\"}],\"plot_height\":250,\"plot_width\":250,\"renderers\":[{\"id\":\"10965\"}],\"title\":null,\"toolbar\":{\"id\":\"10955\"},\"x_range\":{\"id\":\"10932\"},\"x_scale\":{\"id\":\"10936\"},\"y_range\":{\"id\":\"10934\"},\"y_scale\":{\"id\":\"10938\"}},\"id\":\"10930\",\"subtype\":\"Figure\",\"type\":\"Plot\"},{\"attributes\":{\"overlay\":{\"id\":\"10954\"}},\"id\":\"10950\",\"type\":\"BoxZoomTool\"},{\"attributes\":{},\"id\":\"10951\",\"type\":\"SaveTool\"},{\"attributes\":{},\"id\":\"10952\",\"type\":\"ResetTool\"},{\"attributes\":{},\"id\":\"10953\",\"type\":\"HelpTool\"},{\"attributes\":{\"bottom\":{\"value\":0},\"fill_alpha\":{\"value\":0.1},\"fill_color\":{\"value\":\"#1f77b4\"},\"left\":{\"field\":\"left\"},\"line_alpha\":{\"value\":0.1},\"line_color\":{\"value\":\"#1f77b4\"},\"right\":{\"field\":\"right\"},\"top\":{\"field\":\"top\"}},\"id\":\"10964\",\"type\":\"Quad\"},{\"attributes\":{},\"id\":\"10934\",\"type\":\"DataRange1d\"},{\"attributes\":{\"active_drag\":\"auto\",\"active_inspect\":\"auto\",\"active_multi\":null,\"active_scroll\":\"auto\",\"active_tap\":\"auto\",\"tools\":[{\"id\":\"10948\"},{\"id\":\"10949\"},{\"id\":\"10950\"},{\"id\":\"10951\"},{\"id\":\"10952\"},{\"id\":\"10953\"}]},\"id\":\"10955\",\"type\":\"Toolbar\"},{\"attributes\":{},\"id\":\"10932\",\"type\":\"DataRange1d\"},{\"attributes\":{},\"id\":\"10936\",\"type\":\"LinearScale\"},{\"attributes\":{},\"id\":\"10938\",\"type\":\"LinearScale\"},{\"attributes\":{\"formatter\":{\"id\":\"11455\"},\"ticker\":{\"id\":\"10941\"}},\"id\":\"10940\",\"type\":\"LinearAxis\"},{\"attributes\":{},\"id\":\"10941\",\"type\":\"BasicTicker\"},{\"attributes\":{\"axis\":{\"id\":\"10940\"},\"ticker\":null},\"id\":\"10943\",\"type\":\"Grid\"},{\"attributes\":{},\"id\":\"11458\",\"type\":\"Selection\"},{\"attributes\":{\"formatter\":{\"id\":\"11453\"},\"ticker\":{\"id\":\"10945\"}},\"id\":\"10944\",\"type\":\"LinearAxis\"},{\"attributes\":{\"bottom_units\":\"screen\",\"fill_alpha\":0.5,\"fill_color\":\"lightgrey\",\"left_units\":\"screen\",\"level\":\"overlay\",\"line_alpha\":1.0,\"line_color\":\"black\",\"line_dash\":[4,4],\"line_width\":2,\"render_mode\":\"css\",\"right_units\":\"screen\",\"top_units\":\"screen\"},\"id\":\"10954\",\"type\":\"BoxAnnotation\"},{\"attributes\":{},\"id\":\"10945\",\"type\":\"BasicTicker\"},{\"attributes\":{\"axis\":{\"id\":\"10944\"},\"dimension\":1,\"ticker\":null},\"id\":\"10947\",\"type\":\"Grid\"},{\"attributes\":{\"data_source\":{\"id\":\"10962\"},\"glyph\":{\"id\":\"10963\"},\"hover_glyph\":null,\"muted_glyph\":null,\"nonselection_glyph\":{\"id\":\"10964\"},\"selection_glyph\":null,\"view\":{\"id\":\"10966\"}},\"id\":\"10965\",\"type\":\"GlyphRenderer\"},{\"attributes\":{},\"id\":\"11453\",\"type\":\"BasicTickFormatter\"},{\"attributes\":{\"bottom\":{\"value\":0},\"fill_alpha\":{\"value\":0.4},\"fill_color\":{\"value\":\"#1f77b4\"},\"left\":{\"field\":\"left\"},\"line_alpha\":{\"value\":0.4},\"line_color\":{\"value\":\"#1f77b4\"},\"right\":{\"field\":\"right\"},\"top\":{\"field\":\"top\"}},\"id\":\"10963\",\"type\":\"Quad\"},{\"attributes\":{\"data\":{\"left\":{\"__ndarray__\":\"BC+n4OUEicDmtxAwSq2GwMhAen+uVYTAqcnjzhL+gcAWpZo87kx/wNq2bdu2nXrAnchAen/udcBg2hMZSD9xwEjYzW8hIGnAoPfnWmWDX8A=\",\"dtype\":\"float64\",\"shape\":[10]},\"right\":{\"__ndarray__\":\"5rcQMEqthsDIQHp/rlWEwKnJ484S/oHAFqWaPO5Mf8Datm3btp16wJ3IQHp/7nXAYNoTGUg/ccBI2M1vISBpwKD351plg1/AWH1orA+NScA=\",\"dtype\":\"float64\",\"shape\":[10]},\"top\":{\"__ndarray__\":\"LviIrjf8FD8763BBHRs7P2FGiaKmlFI/iCLPw7VAYj/0qYi6yGNnPyutzlUP3GU/wiUVX/y4YD+raKAzdKxTPyYkchHZfEE/MMyfS5Z7KD8=\",\"dtype\":\"float64\",\"shape\":[10]}},\"selected\":{\"id\":\"11458\"},\"selection_policy\":{\"id\":\"11457\"}},\"id\":\"10962\",\"type\":\"ColumnDataSource\"},{\"attributes\":{\"source\":{\"id\":\"10962\"}},\"id\":\"10966\",\"type\":\"CDSView\"},{\"attributes\":{},\"id\":\"10948\",\"type\":\"PanTool\"},{\"attributes\":{},\"id\":\"11455\",\"type\":\"BasicTickFormatter\"},{\"attributes\":{},\"id\":\"10949\",\"type\":\"WheelZoomTool\"},{\"attributes\":{},\"id\":\"11457\",\"type\":\"UnionRenderers\"}],\"root_ids\":[\"10930\"]},\"title\":\"Bokeh Application\",\"version\":\"2.0.2\"}};\n",
       "  var render_items = [{\"docid\":\"fd7047d0-c500-42b8-be8a-50e27f373199\",\"root_ids\":[\"10930\"],\"roots\":{\"10930\":\"33731422-7901-4527-aae5-896b0ecc2168\"}}];\n",
       "  root.Bokeh.embed.embed_items_notebook(docs_json, render_items);\n",
       "\n",
       "  }\n",
       "  if (root.Bokeh !== undefined) {\n",
       "    embed_document(root);\n",
       "  } else {\n",
       "    var attempts = 0;\n",
       "    var timer = setInterval(function(root) {\n",
       "      if (root.Bokeh !== undefined) {\n",
       "        clearInterval(timer);\n",
       "        embed_document(root);\n",
       "      } else {\n",
       "        attempts++;\n",
       "        if (attempts > 100) {\n",
       "          clearInterval(timer);\n",
       "          console.log(\"Bokeh: ERROR: Unable to run BokehJS code because BokehJS library is missing\");\n",
       "        }\n",
       "      }\n",
       "    }, 10, root)\n",
       "  }\n",
       "})(window);"
      ],
      "application/vnd.bokehjs_exec.v0+json": ""
     },
     "metadata": {
      "application/vnd.bokehjs_exec.v0+json": {
       "id": "10930"
      }
     },
     "output_type": "display_data"
    }
   ],
   "source": [
    "a,b = resample_two_samples(f, s)\n",
    "l = combine_resamples(f, s,\n",
    "                   a,b\n",
    "                  )\n",
    "p = do_hist(l)\n",
    "show(p)"
   ]
  }
 ],
 "metadata": {
  "kernelspec": {
   "display_name": "Python 3",
   "language": "python",
   "name": "python3"
  },
  "language_info": {
   "codemirror_mode": {
    "name": "ipython",
    "version": 3
   },
   "file_extension": ".py",
   "mimetype": "text/x-python",
   "name": "python",
   "nbconvert_exporter": "python",
   "pygments_lexer": "ipython3",
   "version": "3.6.9"
  }
 },
 "nbformat": 4,
 "nbformat_minor": 4
}
